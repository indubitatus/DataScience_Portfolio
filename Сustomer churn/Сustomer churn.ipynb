{
 "cells": [
  {
   "cell_type": "markdown",
   "metadata": {},
   "source": [
    "# Прогнозирование оттока клиента из банка"
   ]
  },
  {
   "cell_type": "markdown",
   "metadata": {},
   "source": [
    "Нужно спрогнозировать, уйдёт клиент из банка в ближайшее время или нет. Предоставлены исторические данные о поведении клиентов и расторжении договоров с банком. \n",
    "\n",
    "Нужно построить модель с предельно большим значением *F1*-меры. Довести метрику до 0.59.\n",
    "\n",
    "Источник данных: [https://www.kaggle.com/barelydedicated/bank-customer-churn-modeling](https://www.kaggle.com/barelydedicated/bank-customer-churn-modeling)"
   ]
  },
  {
   "cell_type": "markdown",
   "metadata": {},
   "source": [
    "<h1>Содержание<span class=\"tocSkip\"></span></h1>\n",
    "<div class=\"toc\"><ul class=\"toc-item\"><li><span><a href=\"#Подготовка-данных\" data-toc-modified-id=\"Подготовка-данных-1\"><span class=\"toc-item-num\">1&nbsp;&nbsp;</span>Подготовка данных</a></span></li><li><span><a href=\"#Исследование-задачи\" data-toc-modified-id=\"Исследование-задачи-2\"><span class=\"toc-item-num\">2&nbsp;&nbsp;</span>Исследование задачи</a></span><ul class=\"toc-item\"><li><span><a href=\"#Решающее-дерево\" data-toc-modified-id=\"Решающее-дерево-2.1\"><span class=\"toc-item-num\">2.1&nbsp;&nbsp;</span>Решающее дерево</a></span></li><li><span><a href=\"#Случайный-лес\" data-toc-modified-id=\"Случайный-лес-2.2\"><span class=\"toc-item-num\">2.2&nbsp;&nbsp;</span>Случайный лес</a></span></li><li><span><a href=\"#Логистическая-регрессия\" data-toc-modified-id=\"Логистическая-регрессия-2.3\"><span class=\"toc-item-num\">2.3&nbsp;&nbsp;</span>Логистическая регрессия</a></span></li></ul></li><li><span><a href=\"#Борьба-с-дисбалансом\" data-toc-modified-id=\"Борьба-с-дисбалансом-3\"><span class=\"toc-item-num\">3&nbsp;&nbsp;</span>Борьба с дисбалансом</a></span><ul class=\"toc-item\"><li><span><a href=\"#Взвешивание-классов\" data-toc-modified-id=\"Взвешивание-классов-3.1\"><span class=\"toc-item-num\">3.1&nbsp;&nbsp;</span>Взвешивание классов</a></span></li><li><span><a href=\"#Увеличение-выборки\" data-toc-modified-id=\"Увеличение-выборки-3.2\"><span class=\"toc-item-num\">3.2&nbsp;&nbsp;</span>Увеличение выборки</a></span></li><li><span><a href=\"#Уменьшение-выборки\" data-toc-modified-id=\"Уменьшение-выборки-3.3\"><span class=\"toc-item-num\">3.3&nbsp;&nbsp;</span>Уменьшение выборки</a></span></li></ul></div>"
   ]
  },
  {
   "cell_type": "markdown",
   "metadata": {},
   "source": [
    "## Подготовка данных"
   ]
  },
  {
   "cell_type": "markdown",
   "metadata": {},
   "source": [
    "Импортируем нужные нам библиотеки."
   ]
  },
  {
   "cell_type": "code",
   "execution_count": 1,
   "metadata": {},
   "outputs": [],
   "source": [
    "import pandas as pd\n",
    "import matplotlib.pyplot as plt\n",
    "import numpy as np\n",
    "\n",
    "from sklearn.preprocessing import StandardScaler\n",
    "from sklearn.preprocessing import OneHotEncoder\n",
    "from sklearn.tree import DecisionTreeClassifier\n",
    "from sklearn.model_selection import train_test_split\n",
    "from sklearn.metrics import f1_score\n",
    "from sklearn.metrics import accuracy_score\n",
    "from sklearn.ensemble import RandomForestClassifier\n",
    "from sklearn.metrics import confusion_matrix\n",
    "from sklearn.utils import shuffle\n",
    "from sklearn.linear_model import LogisticRegression\n",
    "from sklearn.metrics import roc_auc_score\n",
    "from sklearn.metrics import roc_curve "
   ]
  },
  {
   "cell_type": "markdown",
   "metadata": {},
   "source": [
    "Считаем данные из csv-файла в датафрейм и сохраним в переменную `df`."
   ]
  },
  {
   "cell_type": "code",
   "execution_count": 2,
   "metadata": {},
   "outputs": [],
   "source": [
    "df = pd.read_csv('/datasets/Churn.csv')"
   ]
  },
  {
   "cell_type": "markdown",
   "metadata": {},
   "source": [
    "Выведим первые 10 строчек датафрейма `df` на экран."
   ]
  },
  {
   "cell_type": "code",
   "execution_count": 3,
   "metadata": {},
   "outputs": [
    {
     "data": {
      "text/html": [
       "<div>\n",
       "<style scoped>\n",
       "    .dataframe tbody tr th:only-of-type {\n",
       "        vertical-align: middle;\n",
       "    }\n",
       "\n",
       "    .dataframe tbody tr th {\n",
       "        vertical-align: top;\n",
       "    }\n",
       "\n",
       "    .dataframe thead th {\n",
       "        text-align: right;\n",
       "    }\n",
       "</style>\n",
       "<table border=\"1\" class=\"dataframe\">\n",
       "  <thead>\n",
       "    <tr style=\"text-align: right;\">\n",
       "      <th></th>\n",
       "      <th>RowNumber</th>\n",
       "      <th>CustomerId</th>\n",
       "      <th>Surname</th>\n",
       "      <th>CreditScore</th>\n",
       "      <th>Geography</th>\n",
       "      <th>Gender</th>\n",
       "      <th>Age</th>\n",
       "      <th>Tenure</th>\n",
       "      <th>Balance</th>\n",
       "      <th>NumOfProducts</th>\n",
       "      <th>HasCrCard</th>\n",
       "      <th>IsActiveMember</th>\n",
       "      <th>EstimatedSalary</th>\n",
       "      <th>Exited</th>\n",
       "    </tr>\n",
       "  </thead>\n",
       "  <tbody>\n",
       "    <tr>\n",
       "      <th>0</th>\n",
       "      <td>1</td>\n",
       "      <td>15634602</td>\n",
       "      <td>Hargrave</td>\n",
       "      <td>619</td>\n",
       "      <td>France</td>\n",
       "      <td>Female</td>\n",
       "      <td>42</td>\n",
       "      <td>2.0</td>\n",
       "      <td>0.00</td>\n",
       "      <td>1</td>\n",
       "      <td>1</td>\n",
       "      <td>1</td>\n",
       "      <td>101348.88</td>\n",
       "      <td>1</td>\n",
       "    </tr>\n",
       "    <tr>\n",
       "      <th>1</th>\n",
       "      <td>2</td>\n",
       "      <td>15647311</td>\n",
       "      <td>Hill</td>\n",
       "      <td>608</td>\n",
       "      <td>Spain</td>\n",
       "      <td>Female</td>\n",
       "      <td>41</td>\n",
       "      <td>1.0</td>\n",
       "      <td>83807.86</td>\n",
       "      <td>1</td>\n",
       "      <td>0</td>\n",
       "      <td>1</td>\n",
       "      <td>112542.58</td>\n",
       "      <td>0</td>\n",
       "    </tr>\n",
       "    <tr>\n",
       "      <th>2</th>\n",
       "      <td>3</td>\n",
       "      <td>15619304</td>\n",
       "      <td>Onio</td>\n",
       "      <td>502</td>\n",
       "      <td>France</td>\n",
       "      <td>Female</td>\n",
       "      <td>42</td>\n",
       "      <td>8.0</td>\n",
       "      <td>159660.80</td>\n",
       "      <td>3</td>\n",
       "      <td>1</td>\n",
       "      <td>0</td>\n",
       "      <td>113931.57</td>\n",
       "      <td>1</td>\n",
       "    </tr>\n",
       "    <tr>\n",
       "      <th>3</th>\n",
       "      <td>4</td>\n",
       "      <td>15701354</td>\n",
       "      <td>Boni</td>\n",
       "      <td>699</td>\n",
       "      <td>France</td>\n",
       "      <td>Female</td>\n",
       "      <td>39</td>\n",
       "      <td>1.0</td>\n",
       "      <td>0.00</td>\n",
       "      <td>2</td>\n",
       "      <td>0</td>\n",
       "      <td>0</td>\n",
       "      <td>93826.63</td>\n",
       "      <td>0</td>\n",
       "    </tr>\n",
       "    <tr>\n",
       "      <th>4</th>\n",
       "      <td>5</td>\n",
       "      <td>15737888</td>\n",
       "      <td>Mitchell</td>\n",
       "      <td>850</td>\n",
       "      <td>Spain</td>\n",
       "      <td>Female</td>\n",
       "      <td>43</td>\n",
       "      <td>2.0</td>\n",
       "      <td>125510.82</td>\n",
       "      <td>1</td>\n",
       "      <td>1</td>\n",
       "      <td>1</td>\n",
       "      <td>79084.10</td>\n",
       "      <td>0</td>\n",
       "    </tr>\n",
       "    <tr>\n",
       "      <th>5</th>\n",
       "      <td>6</td>\n",
       "      <td>15574012</td>\n",
       "      <td>Chu</td>\n",
       "      <td>645</td>\n",
       "      <td>Spain</td>\n",
       "      <td>Male</td>\n",
       "      <td>44</td>\n",
       "      <td>8.0</td>\n",
       "      <td>113755.78</td>\n",
       "      <td>2</td>\n",
       "      <td>1</td>\n",
       "      <td>0</td>\n",
       "      <td>149756.71</td>\n",
       "      <td>1</td>\n",
       "    </tr>\n",
       "    <tr>\n",
       "      <th>6</th>\n",
       "      <td>7</td>\n",
       "      <td>15592531</td>\n",
       "      <td>Bartlett</td>\n",
       "      <td>822</td>\n",
       "      <td>France</td>\n",
       "      <td>Male</td>\n",
       "      <td>50</td>\n",
       "      <td>7.0</td>\n",
       "      <td>0.00</td>\n",
       "      <td>2</td>\n",
       "      <td>1</td>\n",
       "      <td>1</td>\n",
       "      <td>10062.80</td>\n",
       "      <td>0</td>\n",
       "    </tr>\n",
       "    <tr>\n",
       "      <th>7</th>\n",
       "      <td>8</td>\n",
       "      <td>15656148</td>\n",
       "      <td>Obinna</td>\n",
       "      <td>376</td>\n",
       "      <td>Germany</td>\n",
       "      <td>Female</td>\n",
       "      <td>29</td>\n",
       "      <td>4.0</td>\n",
       "      <td>115046.74</td>\n",
       "      <td>4</td>\n",
       "      <td>1</td>\n",
       "      <td>0</td>\n",
       "      <td>119346.88</td>\n",
       "      <td>1</td>\n",
       "    </tr>\n",
       "    <tr>\n",
       "      <th>8</th>\n",
       "      <td>9</td>\n",
       "      <td>15792365</td>\n",
       "      <td>He</td>\n",
       "      <td>501</td>\n",
       "      <td>France</td>\n",
       "      <td>Male</td>\n",
       "      <td>44</td>\n",
       "      <td>4.0</td>\n",
       "      <td>142051.07</td>\n",
       "      <td>2</td>\n",
       "      <td>0</td>\n",
       "      <td>1</td>\n",
       "      <td>74940.50</td>\n",
       "      <td>0</td>\n",
       "    </tr>\n",
       "    <tr>\n",
       "      <th>9</th>\n",
       "      <td>10</td>\n",
       "      <td>15592389</td>\n",
       "      <td>H?</td>\n",
       "      <td>684</td>\n",
       "      <td>France</td>\n",
       "      <td>Male</td>\n",
       "      <td>27</td>\n",
       "      <td>2.0</td>\n",
       "      <td>134603.88</td>\n",
       "      <td>1</td>\n",
       "      <td>1</td>\n",
       "      <td>1</td>\n",
       "      <td>71725.73</td>\n",
       "      <td>0</td>\n",
       "    </tr>\n",
       "  </tbody>\n",
       "</table>\n",
       "</div>"
      ],
      "text/plain": [
       "   RowNumber  CustomerId   Surname  CreditScore Geography  Gender  Age  \\\n",
       "0          1    15634602  Hargrave          619    France  Female   42   \n",
       "1          2    15647311      Hill          608     Spain  Female   41   \n",
       "2          3    15619304      Onio          502    France  Female   42   \n",
       "3          4    15701354      Boni          699    France  Female   39   \n",
       "4          5    15737888  Mitchell          850     Spain  Female   43   \n",
       "5          6    15574012       Chu          645     Spain    Male   44   \n",
       "6          7    15592531  Bartlett          822    France    Male   50   \n",
       "7          8    15656148    Obinna          376   Germany  Female   29   \n",
       "8          9    15792365        He          501    France    Male   44   \n",
       "9         10    15592389        H?          684    France    Male   27   \n",
       "\n",
       "   Tenure    Balance  NumOfProducts  HasCrCard  IsActiveMember  \\\n",
       "0     2.0       0.00              1          1               1   \n",
       "1     1.0   83807.86              1          0               1   \n",
       "2     8.0  159660.80              3          1               0   \n",
       "3     1.0       0.00              2          0               0   \n",
       "4     2.0  125510.82              1          1               1   \n",
       "5     8.0  113755.78              2          1               0   \n",
       "6     7.0       0.00              2          1               1   \n",
       "7     4.0  115046.74              4          1               0   \n",
       "8     4.0  142051.07              2          0               1   \n",
       "9     2.0  134603.88              1          1               1   \n",
       "\n",
       "   EstimatedSalary  Exited  \n",
       "0        101348.88       1  \n",
       "1        112542.58       0  \n",
       "2        113931.57       1  \n",
       "3         93826.63       0  \n",
       "4         79084.10       0  \n",
       "5        149756.71       1  \n",
       "6         10062.80       0  \n",
       "7        119346.88       1  \n",
       "8         74940.50       0  \n",
       "9         71725.73       0  "
      ]
     },
     "execution_count": 3,
     "metadata": {},
     "output_type": "execute_result"
    }
   ],
   "source": [
    "df.head(10)"
   ]
  },
  {
   "cell_type": "markdown",
   "metadata": {},
   "source": []
  },
  {
   "cell_type": "code",
   "execution_count": 4,
   "metadata": {},
   "outputs": [
    {
     "name": "stdout",
     "output_type": "stream",
     "text": [
      "<class 'pandas.core.frame.DataFrame'>\n",
      "RangeIndex: 10000 entries, 0 to 9999\n",
      "Data columns (total 14 columns):\n",
      " #   Column           Non-Null Count  Dtype  \n",
      "---  ------           --------------  -----  \n",
      " 0   RowNumber        10000 non-null  int64  \n",
      " 1   CustomerId       10000 non-null  int64  \n",
      " 2   Surname          10000 non-null  object \n",
      " 3   CreditScore      10000 non-null  int64  \n",
      " 4   Geography        10000 non-null  object \n",
      " 5   Gender           10000 non-null  object \n",
      " 6   Age              10000 non-null  int64  \n",
      " 7   Tenure           9091 non-null   float64\n",
      " 8   Balance          10000 non-null  float64\n",
      " 9   NumOfProducts    10000 non-null  int64  \n",
      " 10  HasCrCard        10000 non-null  int64  \n",
      " 11  IsActiveMember   10000 non-null  int64  \n",
      " 12  EstimatedSalary  10000 non-null  float64\n",
      " 13  Exited           10000 non-null  int64  \n",
      "dtypes: float64(3), int64(8), object(3)\n",
      "memory usage: 1.1+ MB\n"
     ]
    }
   ],
   "source": [
    "df.info()"
   ]
  },
  {
   "cell_type": "markdown",
   "metadata": {},
   "source": [
    "Выведим количество пропущенных значений для каждого столбца."
   ]
  },
  {
   "cell_type": "code",
   "execution_count": 5,
   "metadata": {
    "scrolled": true
   },
   "outputs": [
    {
     "data": {
      "text/plain": [
       "RowNumber            0\n",
       "CustomerId           0\n",
       "Surname              0\n",
       "CreditScore          0\n",
       "Geography            0\n",
       "Gender               0\n",
       "Age                  0\n",
       "Tenure             909\n",
       "Balance              0\n",
       "NumOfProducts        0\n",
       "HasCrCard            0\n",
       "IsActiveMember       0\n",
       "EstimatedSalary      0\n",
       "Exited               0\n",
       "dtype: int64"
      ]
     },
     "execution_count": 5,
     "metadata": {},
     "output_type": "execute_result"
    }
   ],
   "source": [
    "df.isna().sum()"
   ]
  },
  {
   "cell_type": "markdown",
   "metadata": {},
   "source": [
    "Пропущенные значения тольько в столбце `Tenure`. Их нужно убрать, иначе модели не будут работать. Заполним их медианными значениями. "
   ]
  },
  {
   "cell_type": "code",
   "execution_count": 6,
   "metadata": {},
   "outputs": [],
   "source": [
    "df['Tenure'] = df['Tenure'].fillna(df['Tenure'].median())"
   ]
  },
  {
   "cell_type": "markdown",
   "metadata": {},
   "source": [
    "Также удалим признаки, которые не влияют на целевой показатель."
   ]
  },
  {
   "cell_type": "code",
   "execution_count": 7,
   "metadata": {
    "scrolled": false
   },
   "outputs": [],
   "source": [
    "df = df.drop(columns=['Surname', 'CustomerId', 'RowNumber'])"
   ]
  },
  {
   "cell_type": "markdown",
   "metadata": {},
   "source": [
    "Разобьём данные на три выборки - обучающую, валидационную и тестовую в соотношениии 3:1:1. Для этого разбиения воспользуемся `np.split` и будем работать с индексами"
   ]
  },
  {
   "cell_type": "code",
   "execution_count": 11,
   "metadata": {},
   "outputs": [],
   "source": [
    "# перемешиваем индексы\n",
    "idx = np.arange(df.shape[0])\n",
    "np.random.shuffle(idx)\n",
    "\n",
    "tr_idx, val_idx, ts_idx = np.split(idx, [round(0.6 * len(idx)), round(0.8 * len(idx))])"
   ]
  },
  {
   "cell_type": "markdown",
   "metadata": {},
   "source": [
    "Проверим коррректно ли разбились данные с помощью метода `shape`"
   ]
  },
  {
   "cell_type": "code",
   "execution_count": 12,
   "metadata": {},
   "outputs": [
    {
     "data": {
      "text/plain": [
       "(6000,)"
      ]
     },
     "execution_count": 12,
     "metadata": {},
     "output_type": "execute_result"
    }
   ],
   "source": [
    "tr_idx.shape"
   ]
  },
  {
   "cell_type": "code",
   "execution_count": 13,
   "metadata": {},
   "outputs": [
    {
     "data": {
      "text/plain": [
       "(2000,)"
      ]
     },
     "execution_count": 13,
     "metadata": {},
     "output_type": "execute_result"
    }
   ],
   "source": [
    "val_idx.shape"
   ]
  },
  {
   "cell_type": "code",
   "execution_count": 14,
   "metadata": {
    "scrolled": true
   },
   "outputs": [
    {
     "data": {
      "text/plain": [
       "(2000,)"
      ]
     },
     "execution_count": 14,
     "metadata": {},
     "output_type": "execute_result"
    }
   ],
   "source": [
    "ts_idx.shape"
   ]
  },
  {
   "cell_type": "markdown",
   "metadata": {},
   "source": [
    "Опрелеим категориальные, числовые колонки, а также целевой признак"
   ]
  },
  {
   "cell_type": "code",
   "execution_count": 15,
   "metadata": {},
   "outputs": [],
   "source": [
    "cat_cols = ['Geography', 'Gender']\n",
    "num_cols = ['CreditScore', 'Age', 'Balance', 'EstimatedSalary', 'Tenure', 'NumOfProducts']\n",
    "target_col = 'Exited'"
   ]
  },
  {
   "cell_type": "markdown",
   "metadata": {},
   "source": [
    "Преобразуем категориальные признаки в численные с помощью One-Hot Encoding"
   ]
  },
  {
   "cell_type": "code",
   "execution_count": 16,
   "metadata": {},
   "outputs": [],
   "source": [
    "ohe = OneHotEncoder(sparse=False, drop='first').fit(df[cat_cols].iloc[tr_idx])\n",
    "\n",
    "# применяем метод OneHotEncoder для каждой выборки\n",
    "ar_tr = ohe.transform(df[cat_cols].iloc[tr_idx])\n",
    "ar_val = ohe.transform(df[cat_cols].iloc[val_idx])\n",
    "ar_ts = ohe.transform(df[cat_cols].iloc[ts_idx])\n",
    "\n",
    "# преобразуем массивы в DataFrame \n",
    "x_tr = pd.DataFrame(ar_tr, columns=ohe.get_feature_names(cat_cols), index=df.iloc[tr_idx].index)\n",
    "x_val = pd.DataFrame(ar_val, columns=ohe.get_feature_names(cat_cols), index=df.iloc[val_idx].index)\n",
    "x_ts = pd.DataFrame(ar_ts, columns=ohe.get_feature_names(cat_cols), index=df.iloc[ts_idx].index)\n",
    "\n",
    "# соединим кодировку с основным датасетом\n",
    "features_train = pd.concat([df[num_cols].iloc[tr_idx], x_tr], axis=1) \n",
    "features_valid = pd.concat([df[num_cols].iloc[val_idx], x_val], axis=1)\n",
    "features_test = pd.concat([df[num_cols].iloc[ts_idx], x_ts], axis=1)\n",
    "\n",
    "target_train = df[target_col].iloc[tr_idx]\n",
    "target_valid = df[target_col].iloc[val_idx]\n",
    "target_test = df[target_col].iloc[ts_idx]"
   ]
  },
  {
   "cell_type": "markdown",
   "metadata": {},
   "source": [
    "Приведём к одному масштабу количественные признаки с разными разбросами значений"
   ]
  },
  {
   "cell_type": "code",
   "execution_count": 17,
   "metadata": {},
   "outputs": [],
   "source": [
    "scaler = StandardScaler()\n",
    "\n",
    "features_train[num_cols] = scaler.fit_transform(features_train[num_cols])\n",
    "features_valid[num_cols] = scaler.transform(features_valid[num_cols])\n",
    "features_test[num_cols] = scaler.transform(features_test[num_cols])"
   ]
  },
  {
   "cell_type": "markdown",
   "metadata": {},
   "source": [
    "## Исследование задачи"
   ]
  },
  {
   "cell_type": "markdown",
   "metadata": {},
   "source": [
    "Исследуем баланс классов для каждой модели. Для этого найдём F1 score для наилучших моделей."
   ]
  },
  {
   "cell_type": "markdown",
   "metadata": {},
   "source": [
    "### Решающее дерево"
   ]
  },
  {
   "cell_type": "code",
   "execution_count": 18,
   "metadata": {},
   "outputs": [
    {
     "name": "stdout",
     "output_type": "stream",
     "text": [
      "Accuracy наилучшей модели решающего дерева на валидационной выборке: 0.814\n",
      "F1-мера наилучшей модели: 0.5303030303030303\n",
      "AUC-ROC: 0.7668270626541864\n",
      "Глубина дерева наилучшей модели: 3\n",
      "CPU times: user 52.8 ms, sys: 407 µs, total: 53.2 ms\n",
      "Wall time: 52.5 ms\n"
     ]
    }
   ],
   "source": [
    "%%time\n",
    "best_tree_accuracy = 0\n",
    "best_depth = 0\n",
    "best_tree_f1score = 0\n",
    "best_tree_roc_auc = 0\n",
    "for depth in range(1, 5):\n",
    "    model = DecisionTreeClassifier(max_depth=depth, random_state=12345)\n",
    "    model.fit(features_train, target_train)\n",
    "    accuracy = model.score(features_valid, target_valid)\n",
    "    predicted_valid = model.predict(features_valid)\n",
    "    probabilities_valid = model.predict_proba(features_valid)\n",
    "    probabilities_one_valid = probabilities_valid[:, 1]\n",
    "    if f1_score(target_valid, predicted_valid) > best_tree_f1score:\n",
    "        best_tree_accuracy = accuracy\n",
    "        best_depth = depth\n",
    "        best_tree_roc_auc = roc_auc_score(target_valid, probabilities_one_valid)\n",
    "        best_tree_f1score = f1_score(target_valid, predicted_valid)\n",
    "\n",
    "print(\"Accuracy наилучшей модели решающего дерева на валидационной выборке:\", best_tree_accuracy)    \n",
    "print('F1-мера наилучшей модели:', best_tree_f1score)\n",
    "print('AUC-ROC:', best_tree_roc_auc)\n",
    "print('Глубина дерева наилучшей модели:', best_depth)"
   ]
  },
  {
   "cell_type": "markdown",
   "metadata": {},
   "source": [
    "### Случайный лес"
   ]
  },
  {
   "cell_type": "code",
   "execution_count": 19,
   "metadata": {},
   "outputs": [
    {
     "name": "stdout",
     "output_type": "stream",
     "text": [
      "Accuracy наилучшей модели случайного леса на валидационной выборке: 0.841\n",
      "F1-мера наилучшей модели: 0.533724340175953\n",
      "AUC-ROC: 0.8043476642582454\n",
      "Количество деревьев наилучшей модели: 9\n",
      "Глубина наилучшей модели: 13\n",
      "CPU times: user 20.7 s, sys: 84 ms, total: 20.8 s\n",
      "Wall time: 20.8 s\n"
     ]
    }
   ],
   "source": [
    "%%time\n",
    "best_forest_accuracy = 0\n",
    "best_forest_f1score = 0\n",
    "best_forest_roc_auc = 0\n",
    "best_est_random_forest = 0\n",
    "best_depth_random_forest = 0\n",
    "for est in range(5, 20):\n",
    "    for depth in range(5, 20):\n",
    "        model = RandomForestClassifier(random_state=12345, n_estimators=est, max_depth=depth) \n",
    "        model.fit(features_train, target_train)\n",
    "        accuracy = model.score(features_valid, target_valid) \n",
    "        predicted_valid = model.predict(features_valid)\n",
    "        probabilities_valid = model.predict_proba(features_valid)\n",
    "        probabilities_one_valid = probabilities_valid[:, 1]\n",
    "        if f1_score(target_valid, predicted_valid) > best_forest_f1score:\n",
    "            best_forest_accuracy = accuracy \n",
    "            best_est_random_forest = est\n",
    "            best_depth_random_forest = depth\n",
    "            best_forest_roc_auc = roc_auc_score(target_valid, probabilities_one_valid)\n",
    "            best_forest_f1score = f1_score(target_valid, predicted_valid)\n",
    "            \n",
    "print(\"Accuracy наилучшей модели случайного леса на валидационной выборке:\", best_forest_accuracy)\n",
    "print('F1-мера наилучшей модели:', best_forest_f1score)\n",
    "print('AUC-ROC:', best_forest_roc_auc)\n",
    "print('Количество деревьев наилучшей модели:', best_est_random_forest)\n",
    "print('Глубина наилучшей модели:', best_depth_random_forest)"
   ]
  },
  {
   "cell_type": "markdown",
   "metadata": {},
   "source": [
    "### Логистическая регрессия"
   ]
  },
  {
   "cell_type": "markdown",
   "metadata": {},
   "source": [
    "Для логистической регрессии выведим соотношение классов. "
   ]
  },
  {
   "cell_type": "code",
   "execution_count": 20,
   "metadata": {},
   "outputs": [
    {
     "name": "stdout",
     "output_type": "stream",
     "text": [
      "Accuracy модели логистической регрессии на валидационной выборке: 0.7815\n",
      "F1-мера модели: 0.2040072859744991\n",
      "AUC-ROC: 0.7402403855458997\n",
      "Соотношение классов:\n",
      "0    0.7865\n",
      "1    0.2135\n",
      "Name: Exited, dtype: float64\n"
     ]
    }
   ],
   "source": [
    "model = LogisticRegression(random_state=12345, solver='lbfgs', max_iter=1000)\n",
    "model.fit(features_train, target_train)\n",
    "accuracy = model.score(features_valid, target_valid)\n",
    "predicted_valid = model.predict(features_valid)\n",
    "probabilities_valid = model.predict_proba(features_valid)\n",
    "probabilities_one_valid = probabilities_valid[:, 1]\n",
    "\n",
    "print(\"Accuracy модели логистической регрессии на валидационной выборке:\", accuracy)\n",
    "print('F1-мера модели:', f1_score(target_valid, predicted_valid))\n",
    "print('AUC-ROC:', roc_auc_score(target_valid, probabilities_one_valid))\n",
    "print('Соотношение классов:')\n",
    "print(target_valid.value_counts(normalize=True))"
   ]
  },
  {
   "cell_type": "markdown",
   "metadata": {},
   "source": [
    "**Вывод:** Наилучшие показатели у модели случайного леса. Поэтому дальнейшее обучение будет проводить на ней. F1-мера - 0.6253602305475505. С помощью балансировки классов попытаемся улучшить этот показатель. "
   ]
  },
  {
   "cell_type": "markdown",
   "metadata": {},
   "source": [
    "## Борьба с дисбалансом"
   ]
  },
  {
   "cell_type": "markdown",
   "metadata": {},
   "source": [
    "Применим некоторые методы по борьбе с дисбалансом "
   ]
  },
  {
   "cell_type": "markdown",
   "metadata": {},
   "source": [
    "### Взвешивание классов"
   ]
  },
  {
   "cell_type": "code",
   "execution_count": 21,
   "metadata": {},
   "outputs": [
    {
     "name": "stdout",
     "output_type": "stream",
     "text": [
      "Accuracy наилучшей модели случайного леса на валидационной выборке с взвешиванием классов: 0.813\n",
      "F1-мера наилучшей модели: 0.5995717344753747\n",
      "AUC-ROC: 0.832417210211547\n",
      "Количество деревьев наилучшей модели: 19\n",
      "Глубина наилучшей модели: 8\n",
      "CPU times: user 20.9 s, sys: 133 ms, total: 21.1 s\n",
      "Wall time: 21.1 s\n"
     ]
    }
   ],
   "source": [
    "%%time\n",
    "best_forest_accuracy = 0\n",
    "best_forest_f1score = 0\n",
    "best_forest_roc_auc = 0\n",
    "best_est_weight = 0\n",
    "best_depth_weight = 0\n",
    "for est in range(5, 20):\n",
    "    for depth in range(5, 20):\n",
    "        model = RandomForestClassifier(random_state=12345, n_estimators=est, max_depth=depth, class_weight='balanced') \n",
    "        model.fit(features_train, target_train)\n",
    "        accuracy = model.score(features_valid, target_valid) \n",
    "        predicted_valid = model.predict(features_valid)\n",
    "        probabilities_valid = model.predict_proba(features_valid)\n",
    "        probabilities_one_valid = probabilities_valid[:, 1]\n",
    "        if f1_score(target_valid, predicted_valid) > best_forest_f1score:\n",
    "            best_forest_accuracy = accuracy \n",
    "            best_est_weight = est\n",
    "            best_depth_weight = depth\n",
    "            best_forest_f1score = f1_score(target_valid, predicted_valid)\n",
    "            best_forest_roc_auc = roc_auc_score(target_valid, probabilities_one_valid)\n",
    "\n",
    "print(\"Accuracy наилучшей модели случайного леса на валидационной выборке с взвешиванием классов:\", best_forest_accuracy)\n",
    "print('F1-мера наилучшей модели:', best_forest_f1score)\n",
    "print('AUC-ROC:', best_forest_roc_auc)\n",
    "print('Количество деревьев наилучшей модели:', best_est_weight)\n",
    "print('Глубина наилучшей модели:', best_depth_weight)"
   ]
  },
  {
   "cell_type": "markdown",
   "metadata": {},
   "source": [
    "### Увеличение выборки"
   ]
  },
  {
   "cell_type": "code",
   "execution_count": 22,
   "metadata": {},
   "outputs": [
    {
     "name": "stdout",
     "output_type": "stream",
     "text": [
      "Accuracy наилучшей модели случайного леса на валидационной выборке с увеличением выборки: 0.818\n",
      "F1-мера наилучшей модели: 0.5964523281596452\n",
      "AUC-ROC: 0.8313541897744579\n",
      "Количество деревьев наилучшей модели: 26\n",
      "Глубина наилучшей модели: 7\n",
      "Repeat наилучшей модели: 3\n",
      "CPU times: user 25.8 s, sys: 188 ms, total: 26 s\n",
      "Wall time: 26 s\n"
     ]
    }
   ],
   "source": [
    "%%time\n",
    "def upsample(features, target, repeat):\n",
    "    features_zeros = features[target == 0]\n",
    "    features_ones = features[target == 1]\n",
    "    target_zeros = target[target == 0]\n",
    "    target_ones = target[target == 1]\n",
    "\n",
    "    features_upsampled = pd.concat([features_zeros] + [features_ones] * repeat)\n",
    "    target_upsampled = pd.concat([target_zeros] + [target_ones] * repeat)\n",
    "    \n",
    "    features_upsampled, target_upsampled = shuffle(\n",
    "        features_upsampled, target_upsampled, random_state=12345)\n",
    "    \n",
    "    return features_upsampled, target_upsampled\n",
    "            \n",
    "best_forest_accuracy = 0\n",
    "best_forest_f1score = 0\n",
    "best_forest_roc_auc = 0\n",
    "best_est_upsample = 0\n",
    "best_depth_upsample = 0\n",
    "best_repeat_upsample = 0\n",
    "\n",
    "for est in range(20, 30):\n",
    "    for depth in range(5, 10):\n",
    "        for repeat in range(2, 5):\n",
    "            features_upsampled, target_upsampled = upsample(features_train, target_train, repeat)\n",
    "            model = RandomForestClassifier(random_state=12345, n_estimators=est, max_depth=depth) \n",
    "            model.fit(features_upsampled, target_upsampled)\n",
    "            accuracy = model.score(features_valid, target_valid) \n",
    "            predicted_valid = model.predict(features_valid)\n",
    "            probabilities_valid = model.predict_proba(features_valid)\n",
    "            probabilities_one_valid = probabilities_valid[:, 1]\n",
    "            if f1_score(target_valid, predicted_valid) > best_forest_f1score:\n",
    "                best_forest_accuracy = accuracy \n",
    "                best_est_upsample = est\n",
    "                best_depth_upsample = depth\n",
    "                best_repeat_upsample = repeat\n",
    "                best_forest_f1score = f1_score(target_valid, predicted_valid)\n",
    "                best_forest_roc_auc = roc_auc_score(target_valid, probabilities_one_valid)\n",
    "\n",
    "            \n",
    "print(\"Accuracy наилучшей модели случайного леса на валидационной выборке с увеличением выборки:\", best_forest_accuracy)\n",
    "print('F1-мера наилучшей модели:', best_forest_f1score)\n",
    "print('AUC-ROC:', best_forest_roc_auc)\n",
    "print('Количество деревьев наилучшей модели:', best_est_upsample)\n",
    "print('Глубина наилучшей модели:', best_depth_upsample)\n",
    "print('Repeat наилучшей модели:', best_repeat_upsample)"
   ]
  },
  {
   "cell_type": "markdown",
   "metadata": {},
   "source": [
    "### Уменьшение выборки"
   ]
  },
  {
   "cell_type": "code",
   "execution_count": 23,
   "metadata": {},
   "outputs": [
    {
     "name": "stdout",
     "output_type": "stream",
     "text": [
      "Accuracy наилучшей модели случайного леса на валидационной выборке с уменьшением выборки: 0.8205\n",
      "F1-мера наилучшей модели: 0.5906499429874573\n",
      "AUC-ROC: 0.8271430506899956\n",
      "Количество деревьев наилучшей модели: 18\n",
      "Глубина наилучшей модели: 9\n",
      "Fraction наилучшей модели: 0.40000000000000013\n",
      "CPU times: user 24.9 s, sys: 188 ms, total: 25.1 s\n",
      "Wall time: 25.2 s\n"
     ]
    }
   ],
   "source": [
    "%%time\n",
    "def downsample(features, target, fraction):\n",
    "    features_zeros = features[target == 0]\n",
    "    features_ones = features[target == 1]\n",
    "    target_zeros = target[target == 0]\n",
    "    target_ones = target[target == 1]\n",
    "\n",
    "    features_downsampled = pd.concat(\n",
    "        [features_zeros.sample(frac=fraction, random_state=12345)] + [features_ones])\n",
    "    target_downsampled = pd.concat(\n",
    "        [target_zeros.sample(frac=fraction, random_state=12345)] + [target_ones])\n",
    "    \n",
    "    features_downsampled, target_downsampled = shuffle(\n",
    "        features_downsampled, target_downsampled, random_state=12345)\n",
    "    \n",
    "    return features_downsampled, target_downsampled\n",
    "\n",
    "best_forest_accuracy = 0\n",
    "best_forest_f1score = 0\n",
    "best_forest_roc_auc = 0\n",
    "best_est = 0\n",
    "best_depth = 0\n",
    "best_frac = 0\n",
    "for est in range(10, 20):\n",
    "    for depth in range(5, 10):\n",
    "        for frac in np.arange(0.1, 0.5, 0.05):\n",
    "            features_downsampled, target_downsampled = downsample(features_train, target_train, frac)\n",
    "            model = RandomForestClassifier(random_state=12345, n_estimators=est, max_depth=depth) \n",
    "            model.fit(features_downsampled, target_downsampled)\n",
    "            accuracy = model.score(features_valid, target_valid) \n",
    "            predicted_valid = model.predict(features_valid)\n",
    "            probabilities_valid = model.predict_proba(features_valid)\n",
    "            probabilities_one_valid = probabilities_valid[:, 1]\n",
    "            if f1_score(target_valid, predicted_valid) > best_forest_f1score:\n",
    "                best_forest_accuracy = accuracy \n",
    "                best_est = est\n",
    "                best_depth = depth\n",
    "                best_frac = frac\n",
    "                best_forest_f1score = f1_score(target_valid, predicted_valid)\n",
    "                best_forest_roc_auc = roc_auc_score(target_valid, probabilities_one_valid)\n",
    "            \n",
    "print(\"Accuracy наилучшей модели случайного леса на валидационной выборке с уменьшением выборки:\", best_forest_accuracy)\n",
    "print('F1-мера наилучшей модели:', best_forest_f1score)\n",
    "print('AUC-ROC:', best_forest_roc_auc)\n",
    "print('Количество деревьев наилучшей модели:', best_est)\n",
    "print('Глубина наилучшей модели:', best_depth)\n",
    "print('Fraction наилучшей модели:', best_frac)"
   ]
  },
  {
   "cell_type": "markdown",
   "metadata": {},
   "source": [
    "**Вывод:** Все методы помогли улучшить показатель F1 Score. Увеличение выборки немного значительнее улучшила этот показатель."
   ]
  },
  {
   "cell_type": "markdown",
   "metadata": {},
   "source": [
    "## Тестирование модели"
   ]
  },
  {
   "cell_type": "markdown",
   "metadata": {},
   "source": [
    "Обучим наилучшую модель случайного леса на тестовой выборке с увеличением выборки."
   ]
  },
  {
   "cell_type": "code",
   "execution_count": 24,
   "metadata": {},
   "outputs": [
    {
     "name": "stdout",
     "output_type": "stream",
     "text": [
      "Accuracy: 0.8215\n",
      "F1-мера: 0.6081229418221735\n"
     ]
    }
   ],
   "source": [
    "features_train_valid = pd.concat([features_train, features_valid])\n",
    "target_train_valid = pd.concat([target_train, target_valid])\n",
    "features_upsampled, target_upsampled = upsample(features_train_valid, target_train_valid, best_repeat_upsample)\n",
    "model = RandomForestClassifier(random_state=12345, n_estimators=best_est_upsample, max_depth=best_depth_upsample) \n",
    "model.fit(features_upsampled, target_upsampled)\n",
    "predicted_test = model.predict(features_test)\n",
    "print('Accuracy:', model.score(features_test, target_test))\n",
    "print('F1-мера:', f1_score(target_test, predicted_test))"
   ]
  },
  {
   "cell_type": "markdown",
   "metadata": {},
   "source": [
    "Нарисуем ROC-кривую и посчитаем площадь под ней - AUC-ROC. "
   ]
  },
  {
   "cell_type": "code",
   "execution_count": 25,
   "metadata": {},
   "outputs": [
    {
     "data": {
      "image/png": "[encoded data removed]",
      "text/plain": [
       "<Figure size 432x288 with 1 Axes>"
      ]
     },
     "metadata": {
      "needs_background": "light"
     },
     "output_type": "display_data"
    }
   ],
   "source": [
    "probabilities_test = model.predict_proba(features_test)\n",
    "probabilities_one_test = probabilities_test[:, 1]\n",
    "\n",
    "fpr, tpr, thresholds = roc_curve(target_test, probabilities_one_test) \n",
    "plt.figure()\n",
    "plt.plot(fpr, tpr)\n",
    "plt.xlim([0.0, 1.0])\n",
    "plt.ylim([0.0, 1.0])\n",
    "plt.xlabel('False Positive Rate')\n",
    "plt.ylabel('True Positive Rate')\n",
    "plt.title('ROC-кривая')\n",
    "plt.show()"
   ]
  },
  {
   "cell_type": "code",
   "execution_count": 26,
   "metadata": {},
   "outputs": [
    {
     "data": {
      "text/plain": [
       "0.8484448974581683"
      ]
     },
     "execution_count": 26,
     "metadata": {},
     "output_type": "execute_result"
    }
   ],
   "source": [
    "roc_auc_score(target_test, probabilities_one_test)"
   ]
  },
  {
   "cell_type": "markdown",
   "metadata": {},
   "source": [
    "**Вывод:** Удалось достичь F1-меры не менее 0.59. AUC-ROC получилось больше 0.5, что говорит нам о том, что наша модель довольно сильно отличается от случайной модели. А график ROC-кривой расположен достаточно высоко, значит качество модели хорошее."
   ]
  },
  {
   "cell_type": "code",
   "execution_count": null,
   "metadata": {},
   "outputs": [],
   "source": []
  }
 ],
 "metadata": {
  "ExecuteTimeLog": [
   {
    "duration": 45,
    "start_time": "2022-11-26T11:54:33.851Z"
   },
   {
    "duration": 396,
    "start_time": "2022-11-26T11:54:37.856Z"
   },
   {
    "duration": 150,
    "start_time": "2022-11-26T11:54:38.888Z"
   },
   {
    "duration": 18,
    "start_time": "2022-11-26T11:54:48.712Z"
   },
   {
    "duration": 53,
    "start_time": "2022-11-27T06:05:34.234Z"
   },
   {
    "duration": 378,
    "start_time": "2022-11-27T06:05:37.492Z"
   },
   {
    "duration": 155,
    "start_time": "2022-11-27T06:05:38.248Z"
   },
   {
    "duration": 29,
    "start_time": "2022-11-27T06:05:38.805Z"
   },
   {
    "duration": 32,
    "start_time": "2022-11-27T06:05:39.295Z"
   },
   {
    "duration": 8,
    "start_time": "2022-11-27T06:05:44.351Z"
   },
   {
    "duration": 42,
    "start_time": "2022-11-27T06:06:06.774Z"
   },
   {
    "duration": 25,
    "start_time": "2022-11-27T06:06:38.788Z"
   },
   {
    "duration": 14,
    "start_time": "2022-11-27T06:06:48.787Z"
   },
   {
    "duration": 1176,
    "start_time": "2022-11-27T06:06:59.424Z"
   },
   {
    "duration": 232,
    "start_time": "2022-11-27T06:07:51.305Z"
   },
   {
    "duration": 19,
    "start_time": "2022-11-27T06:08:00.599Z"
   },
   {
    "duration": 1466,
    "start_time": "2022-11-27T06:08:52.054Z"
   },
   {
    "duration": 767,
    "start_time": "2022-11-27T08:33:16.986Z"
   },
   {
    "duration": 753,
    "start_time": "2022-11-27T08:33:24.840Z"
   },
   {
    "duration": 257,
    "start_time": "2022-11-27T08:34:29.544Z"
   },
   {
    "duration": 14,
    "start_time": "2022-11-27T08:34:32.534Z"
   },
   {
    "duration": 50,
    "start_time": "2022-11-27T08:35:36.125Z"
   },
   {
    "duration": 389,
    "start_time": "2022-11-27T08:36:39.985Z"
   },
   {
    "duration": 40,
    "start_time": "2022-11-27T08:36:40.376Z"
   },
   {
    "duration": 19,
    "start_time": "2022-11-27T08:36:40.418Z"
   },
   {
    "duration": 209,
    "start_time": "2022-11-27T08:36:40.439Z"
   },
   {
    "duration": 22,
    "start_time": "2022-11-27T08:36:40.652Z"
   },
   {
    "duration": 696,
    "start_time": "2022-11-27T08:36:40.676Z"
   },
   {
    "duration": 18,
    "start_time": "2022-11-27T08:36:54.824Z"
   },
   {
    "duration": 145,
    "start_time": "2022-11-27T08:46:57.914Z"
   },
   {
    "duration": 3,
    "start_time": "2022-11-27T08:47:00.643Z"
   },
   {
    "duration": 40,
    "start_time": "2022-11-27T08:47:01.044Z"
   },
   {
    "duration": 13,
    "start_time": "2022-11-27T08:47:01.308Z"
   },
   {
    "duration": 12,
    "start_time": "2022-11-27T08:47:01.754Z"
   },
   {
    "duration": 1263,
    "start_time": "2022-11-27T08:47:39.672Z"
   },
   {
    "duration": 20,
    "start_time": "2022-11-27T08:47:45.344Z"
   },
   {
    "duration": 15,
    "start_time": "2022-11-27T08:47:54.282Z"
   },
   {
    "duration": 18,
    "start_time": "2022-11-27T08:47:56.310Z"
   },
   {
    "duration": 24,
    "start_time": "2022-11-27T08:48:30.972Z"
   },
   {
    "duration": 213,
    "start_time": "2022-11-27T08:48:33.655Z"
   },
   {
    "duration": 18,
    "start_time": "2022-11-27T08:48:34.125Z"
   },
   {
    "duration": 12,
    "start_time": "2022-11-27T08:48:41.138Z"
   },
   {
    "duration": 3,
    "start_time": "2022-11-27T08:48:47.896Z"
   },
   {
    "duration": 46,
    "start_time": "2022-11-27T08:48:47.901Z"
   },
   {
    "duration": 19,
    "start_time": "2022-11-27T08:48:47.949Z"
   },
   {
    "duration": 35,
    "start_time": "2022-11-27T08:48:47.970Z"
   },
   {
    "duration": 5,
    "start_time": "2022-11-27T08:48:48.008Z"
   },
   {
    "duration": 14,
    "start_time": "2022-11-27T08:48:48.015Z"
   },
   {
    "duration": 27,
    "start_time": "2022-11-27T08:48:48.031Z"
   },
   {
    "duration": 21,
    "start_time": "2022-11-27T08:48:48.060Z"
   },
   {
    "duration": 13,
    "start_time": "2022-11-27T08:48:48.083Z"
   },
   {
    "duration": 461,
    "start_time": "2022-11-28T05:54:30.734Z"
   },
   {
    "duration": 93,
    "start_time": "2022-11-28T05:54:31.199Z"
   },
   {
    "duration": 20,
    "start_time": "2022-11-28T05:54:31.294Z"
   },
   {
    "duration": 14,
    "start_time": "2022-11-28T05:54:31.315Z"
   },
   {
    "duration": 18,
    "start_time": "2022-11-28T05:54:31.331Z"
   },
   {
    "duration": 42,
    "start_time": "2022-11-28T05:54:31.350Z"
   },
   {
    "duration": 10,
    "start_time": "2022-11-28T05:54:31.394Z"
   },
   {
    "duration": 730,
    "start_time": "2022-11-28T05:54:31.405Z"
   },
   {
    "duration": 12,
    "start_time": "2022-11-28T05:54:32.137Z"
   },
   {
    "duration": 3,
    "start_time": "2022-11-28T07:33:22.994Z"
   },
   {
    "duration": 42,
    "start_time": "2022-11-28T07:33:23.823Z"
   },
   {
    "duration": 14,
    "start_time": "2022-11-28T07:33:24.839Z"
   },
   {
    "duration": 7,
    "start_time": "2022-11-28T07:33:42.465Z"
   },
   {
    "duration": 18,
    "start_time": "2022-11-28T07:53:01.522Z"
   },
   {
    "duration": 13,
    "start_time": "2022-11-28T07:53:03.022Z"
   },
   {
    "duration": 2803,
    "start_time": "2022-11-28T07:55:41.346Z"
   },
   {
    "duration": 27,
    "start_time": "2022-11-28T07:55:57.444Z"
   },
   {
    "duration": 3,
    "start_time": "2022-11-28T07:56:11.725Z"
   },
   {
    "duration": 43,
    "start_time": "2022-11-28T07:56:11.731Z"
   },
   {
    "duration": 16,
    "start_time": "2022-11-28T07:56:11.777Z"
   },
   {
    "duration": 15,
    "start_time": "2022-11-28T07:56:11.795Z"
   },
   {
    "duration": 18,
    "start_time": "2022-11-28T07:56:11.812Z"
   },
   {
    "duration": 13,
    "start_time": "2022-11-28T07:56:11.854Z"
   },
   {
    "duration": 0,
    "start_time": "2022-11-28T07:56:11.869Z"
   },
   {
    "duration": 0,
    "start_time": "2022-11-28T07:56:11.870Z"
   },
   {
    "duration": 0,
    "start_time": "2022-11-28T07:56:11.872Z"
   },
   {
    "duration": 0,
    "start_time": "2022-11-28T07:56:11.873Z"
   },
   {
    "duration": 13,
    "start_time": "2022-11-28T07:56:34.962Z"
   },
   {
    "duration": 4,
    "start_time": "2022-11-28T07:56:54.520Z"
   },
   {
    "duration": 49,
    "start_time": "2022-11-28T07:56:54.527Z"
   },
   {
    "duration": 21,
    "start_time": "2022-11-28T07:56:54.578Z"
   },
   {
    "duration": 21,
    "start_time": "2022-11-28T07:56:54.601Z"
   },
   {
    "duration": 12,
    "start_time": "2022-11-28T07:56:54.626Z"
   },
   {
    "duration": 6,
    "start_time": "2022-11-28T07:56:54.654Z"
   },
   {
    "duration": 77,
    "start_time": "2022-11-28T07:56:54.662Z"
   },
   {
    "duration": 27,
    "start_time": "2022-11-28T07:56:54.741Z"
   },
   {
    "duration": 0,
    "start_time": "2022-11-28T07:56:54.770Z"
   },
   {
    "duration": 0,
    "start_time": "2022-11-28T07:56:54.771Z"
   },
   {
    "duration": 12,
    "start_time": "2022-11-28T07:57:11.204Z"
   },
   {
    "duration": 27,
    "start_time": "2022-11-28T07:57:12.589Z"
   },
   {
    "duration": 18,
    "start_time": "2022-11-28T07:57:21.117Z"
   },
   {
    "duration": 13,
    "start_time": "2022-11-28T07:57:23.314Z"
   },
   {
    "duration": 23,
    "start_time": "2022-11-28T07:57:26.055Z"
   },
   {
    "duration": 3,
    "start_time": "2022-11-28T07:58:01.442Z"
   },
   {
    "duration": 13,
    "start_time": "2022-11-28T07:58:02.363Z"
   },
   {
    "duration": 3,
    "start_time": "2022-11-28T07:58:09.175Z"
   },
   {
    "duration": 44,
    "start_time": "2022-11-28T07:58:09.179Z"
   },
   {
    "duration": 17,
    "start_time": "2022-11-28T07:58:09.224Z"
   },
   {
    "duration": 30,
    "start_time": "2022-11-28T07:58:09.243Z"
   },
   {
    "duration": 9,
    "start_time": "2022-11-28T07:58:09.275Z"
   },
   {
    "duration": 9,
    "start_time": "2022-11-28T07:58:09.286Z"
   },
   {
    "duration": 6,
    "start_time": "2022-11-28T07:58:09.297Z"
   },
   {
    "duration": 14,
    "start_time": "2022-11-28T07:58:09.305Z"
   },
   {
    "duration": 34,
    "start_time": "2022-11-28T07:58:09.320Z"
   },
   {
    "duration": 12,
    "start_time": "2022-11-28T07:58:09.356Z"
   },
   {
    "duration": 50,
    "start_time": "2022-11-28T07:58:09.370Z"
   },
   {
    "duration": 50,
    "start_time": "2022-11-28T08:00:25.211Z"
   },
   {
    "duration": 50,
    "start_time": "2022-11-28T08:00:28.192Z"
   },
   {
    "duration": 23,
    "start_time": "2022-11-28T08:01:53.629Z"
   },
   {
    "duration": 20,
    "start_time": "2022-11-28T08:02:03.568Z"
   },
   {
    "duration": 64,
    "start_time": "2022-11-28T08:02:11.999Z"
   },
   {
    "duration": 24,
    "start_time": "2022-11-28T08:02:40.222Z"
   },
   {
    "duration": 20,
    "start_time": "2022-11-28T08:07:31.574Z"
   },
   {
    "duration": 81,
    "start_time": "2022-11-28T08:07:36.662Z"
   },
   {
    "duration": 24,
    "start_time": "2022-11-28T08:07:48.091Z"
   },
   {
    "duration": 10,
    "start_time": "2022-11-28T08:11:15.848Z"
   },
   {
    "duration": 11,
    "start_time": "2022-11-28T08:11:28.230Z"
   },
   {
    "duration": 1918,
    "start_time": "2022-11-28T08:11:54.603Z"
   },
   {
    "duration": 1886,
    "start_time": "2022-11-28T08:12:09.116Z"
   },
   {
    "duration": 29,
    "start_time": "2022-11-28T08:17:12.813Z"
   },
   {
    "duration": 21,
    "start_time": "2022-11-28T08:18:19.173Z"
   },
   {
    "duration": 25,
    "start_time": "2022-11-28T08:20:16.465Z"
   },
   {
    "duration": 18,
    "start_time": "2022-11-28T08:20:31.949Z"
   },
   {
    "duration": 2,
    "start_time": "2022-11-28T08:20:37.583Z"
   },
   {
    "duration": 49,
    "start_time": "2022-11-28T08:20:37.588Z"
   },
   {
    "duration": 15,
    "start_time": "2022-11-28T08:20:37.638Z"
   },
   {
    "duration": 21,
    "start_time": "2022-11-28T08:20:37.655Z"
   },
   {
    "duration": 8,
    "start_time": "2022-11-28T08:20:37.678Z"
   },
   {
    "duration": 6,
    "start_time": "2022-11-28T08:20:37.687Z"
   },
   {
    "duration": 9,
    "start_time": "2022-11-28T08:20:37.694Z"
   },
   {
    "duration": 15,
    "start_time": "2022-11-28T08:20:37.705Z"
   },
   {
    "duration": 18,
    "start_time": "2022-11-28T08:20:37.721Z"
   },
   {
    "duration": 26,
    "start_time": "2022-11-28T08:20:37.740Z"
   },
   {
    "duration": 51,
    "start_time": "2022-11-28T08:20:37.769Z"
   },
   {
    "duration": 2096,
    "start_time": "2022-11-28T08:20:37.822Z"
   },
   {
    "duration": 85,
    "start_time": "2022-11-28T08:20:39.920Z"
   },
   {
    "duration": 26,
    "start_time": "2022-11-28T08:20:40.008Z"
   },
   {
    "duration": 2256,
    "start_time": "2022-11-28T08:20:52.977Z"
   },
   {
    "duration": 2006,
    "start_time": "2022-11-28T08:20:56.795Z"
   },
   {
    "duration": 2017,
    "start_time": "2022-11-28T08:21:05.494Z"
   },
   {
    "duration": 1936,
    "start_time": "2022-11-28T08:23:22.419Z"
   },
   {
    "duration": 2272,
    "start_time": "2022-11-28T08:24:40.699Z"
   },
   {
    "duration": 160,
    "start_time": "2022-11-28T08:26:31.224Z"
   },
   {
    "duration": 160,
    "start_time": "2022-11-28T08:26:55.564Z"
   },
   {
    "duration": 188,
    "start_time": "2022-11-28T08:28:01.729Z"
   },
   {
    "duration": 203,
    "start_time": "2022-11-28T08:28:10.176Z"
   },
   {
    "duration": 27393,
    "start_time": "2022-11-28T08:28:27.223Z"
   },
   {
    "duration": 3921,
    "start_time": "2022-11-28T08:28:54.619Z"
   },
   {
    "duration": 2704,
    "start_time": "2022-11-28T08:29:13.966Z"
   },
   {
    "duration": 185,
    "start_time": "2022-11-28T08:29:21.103Z"
   },
   {
    "duration": 3731,
    "start_time": "2022-11-28T08:30:47.930Z"
   },
   {
    "duration": 1061,
    "start_time": "2022-11-28T08:35:53.379Z"
   },
   {
    "duration": 60,
    "start_time": "2022-11-28T08:35:54.443Z"
   },
   {
    "duration": 33,
    "start_time": "2022-11-28T08:35:54.505Z"
   },
   {
    "duration": 18,
    "start_time": "2022-11-28T08:35:54.540Z"
   },
   {
    "duration": 12,
    "start_time": "2022-11-28T08:35:54.561Z"
   },
   {
    "duration": 6,
    "start_time": "2022-11-28T08:35:54.575Z"
   },
   {
    "duration": 10,
    "start_time": "2022-11-28T08:35:54.583Z"
   },
   {
    "duration": 43,
    "start_time": "2022-11-28T08:35:54.595Z"
   },
   {
    "duration": 34,
    "start_time": "2022-11-28T08:35:54.640Z"
   },
   {
    "duration": 14,
    "start_time": "2022-11-28T08:35:54.676Z"
   },
   {
    "duration": 3,
    "start_time": "2022-11-28T08:36:02.962Z"
   },
   {
    "duration": 50,
    "start_time": "2022-11-28T08:36:02.967Z"
   },
   {
    "duration": 14,
    "start_time": "2022-11-28T08:36:03.019Z"
   },
   {
    "duration": 16,
    "start_time": "2022-11-28T08:36:03.034Z"
   },
   {
    "duration": 8,
    "start_time": "2022-11-28T08:36:03.052Z"
   },
   {
    "duration": 6,
    "start_time": "2022-11-28T08:36:03.062Z"
   },
   {
    "duration": 9,
    "start_time": "2022-11-28T08:36:03.069Z"
   },
   {
    "duration": 20,
    "start_time": "2022-11-28T08:36:03.080Z"
   },
   {
    "duration": 17,
    "start_time": "2022-11-28T08:36:03.102Z"
   },
   {
    "duration": 1057,
    "start_time": "2022-11-28T08:36:10.965Z"
   },
   {
    "duration": 42,
    "start_time": "2022-11-28T08:36:12.024Z"
   },
   {
    "duration": 22,
    "start_time": "2022-11-28T08:36:12.068Z"
   },
   {
    "duration": 12,
    "start_time": "2022-11-28T08:36:12.091Z"
   },
   {
    "duration": 22,
    "start_time": "2022-11-28T08:36:12.105Z"
   },
   {
    "duration": 21,
    "start_time": "2022-11-28T08:36:12.129Z"
   },
   {
    "duration": 16,
    "start_time": "2022-11-28T08:36:12.152Z"
   },
   {
    "duration": 33,
    "start_time": "2022-11-28T08:36:12.170Z"
   },
   {
    "duration": 43,
    "start_time": "2022-11-28T08:36:12.205Z"
   },
   {
    "duration": 12,
    "start_time": "2022-11-28T08:36:12.250Z"
   },
   {
    "duration": 106,
    "start_time": "2022-11-28T08:36:12.263Z"
   },
   {
    "duration": 3847,
    "start_time": "2022-11-28T08:36:12.371Z"
   },
   {
    "duration": 4375,
    "start_time": "2022-11-28T08:36:16.220Z"
   },
   {
    "duration": 93,
    "start_time": "2022-11-28T08:36:20.598Z"
   },
   {
    "duration": 26,
    "start_time": "2022-11-28T08:36:20.693Z"
   },
   {
    "duration": 149,
    "start_time": "2022-11-28T08:38:28.066Z"
   },
   {
    "duration": 49,
    "start_time": "2022-11-28T08:39:02.476Z"
   },
   {
    "duration": 47,
    "start_time": "2022-11-28T08:40:31.937Z"
   },
   {
    "duration": 10,
    "start_time": "2022-11-28T08:43:02.091Z"
   },
   {
    "duration": 13,
    "start_time": "2022-11-28T08:43:19.079Z"
   },
   {
    "duration": 4,
    "start_time": "2022-11-28T08:43:19.495Z"
   },
   {
    "duration": 9,
    "start_time": "2022-11-28T08:43:19.935Z"
   },
   {
    "duration": 16,
    "start_time": "2022-11-28T08:44:32.298Z"
   },
   {
    "duration": 4,
    "start_time": "2022-11-28T08:44:34.316Z"
   },
   {
    "duration": 5,
    "start_time": "2022-11-28T08:44:35.741Z"
   },
   {
    "duration": 5,
    "start_time": "2022-11-28T08:44:50.402Z"
   },
   {
    "duration": 4,
    "start_time": "2022-11-28T08:47:26.595Z"
   },
   {
    "duration": 46,
    "start_time": "2022-11-28T08:47:26.602Z"
   },
   {
    "duration": 15,
    "start_time": "2022-11-28T08:47:26.649Z"
   },
   {
    "duration": 23,
    "start_time": "2022-11-28T08:47:26.667Z"
   },
   {
    "duration": 11,
    "start_time": "2022-11-28T08:47:26.693Z"
   },
   {
    "duration": 10,
    "start_time": "2022-11-28T08:47:26.706Z"
   },
   {
    "duration": 11,
    "start_time": "2022-11-28T08:47:26.717Z"
   },
   {
    "duration": 18,
    "start_time": "2022-11-28T08:47:26.730Z"
   },
   {
    "duration": 21,
    "start_time": "2022-11-28T08:47:26.755Z"
   },
   {
    "duration": 13,
    "start_time": "2022-11-28T08:47:26.778Z"
   },
   {
    "duration": 26,
    "start_time": "2022-11-28T08:47:26.793Z"
   },
   {
    "duration": 10,
    "start_time": "2022-11-28T08:47:26.822Z"
   },
   {
    "duration": 12,
    "start_time": "2022-11-28T08:47:26.833Z"
   },
   {
    "duration": 21,
    "start_time": "2022-11-28T08:47:26.847Z"
   },
   {
    "duration": 48,
    "start_time": "2022-11-28T08:47:26.870Z"
   },
   {
    "duration": 3152,
    "start_time": "2022-11-28T08:47:26.919Z"
   },
   {
    "duration": 3681,
    "start_time": "2022-11-28T08:47:30.072Z"
   },
   {
    "duration": 73,
    "start_time": "2022-11-28T08:47:33.755Z"
   },
   {
    "duration": 40,
    "start_time": "2022-11-28T08:47:33.830Z"
   },
   {
    "duration": 260,
    "start_time": "2022-11-28T08:52:42.368Z"
   },
   {
    "duration": 6568,
    "start_time": "2022-11-28T08:54:05.612Z"
   },
   {
    "duration": 3651,
    "start_time": "2022-11-28T08:55:22.160Z"
   },
   {
    "duration": 3741,
    "start_time": "2022-11-28T09:03:09.000Z"
   },
   {
    "duration": 3114,
    "start_time": "2022-11-28T09:03:21.447Z"
   },
   {
    "duration": 67,
    "start_time": "2022-11-28T09:03:51.215Z"
   },
   {
    "duration": 53440,
    "start_time": "2022-11-28T09:04:00.423Z"
   },
   {
    "duration": 248,
    "start_time": "2022-11-28T09:08:15.912Z"
   },
   {
    "duration": 209,
    "start_time": "2022-11-28T09:08:42.747Z"
   },
   {
    "duration": 9,
    "start_time": "2022-11-28T09:13:39.239Z"
   },
   {
    "duration": 39,
    "start_time": "2022-11-28T09:13:41.054Z"
   },
   {
    "duration": 19,
    "start_time": "2022-11-28T09:13:44.720Z"
   },
   {
    "duration": 8,
    "start_time": "2022-11-28T09:14:32.283Z"
   },
   {
    "duration": 53552,
    "start_time": "2022-11-28T09:15:54.260Z"
   },
   {
    "duration": 13,
    "start_time": "2022-11-28T09:20:20.331Z"
   },
   {
    "duration": 119,
    "start_time": "2022-11-28T09:20:32.381Z"
   },
   {
    "duration": 116,
    "start_time": "2022-11-28T09:21:00.197Z"
   },
   {
    "duration": 128,
    "start_time": "2022-11-28T09:21:13.112Z"
   },
   {
    "duration": 121,
    "start_time": "2022-11-28T09:21:18.480Z"
   },
   {
    "duration": 128,
    "start_time": "2022-11-28T09:21:34.823Z"
   },
   {
    "duration": 116,
    "start_time": "2022-11-28T09:21:40.231Z"
   },
   {
    "duration": 115,
    "start_time": "2022-11-28T09:21:42.041Z"
   },
   {
    "duration": 714,
    "start_time": "2022-11-28T09:21:53.216Z"
   },
   {
    "duration": 746,
    "start_time": "2022-11-28T09:22:00.156Z"
   },
   {
    "duration": 716,
    "start_time": "2022-11-28T09:22:06.968Z"
   },
   {
    "duration": 126,
    "start_time": "2022-11-28T09:22:10.859Z"
   },
   {
    "duration": 25326,
    "start_time": "2022-11-28T09:23:26.705Z"
   },
   {
    "duration": 24672,
    "start_time": "2022-11-28T09:23:58.440Z"
   },
   {
    "duration": 46664,
    "start_time": "2022-11-28T09:27:11.033Z"
   },
   {
    "duration": 12,
    "start_time": "2022-11-28T09:28:41.402Z"
   },
   {
    "duration": 13,
    "start_time": "2022-11-28T09:28:43.917Z"
   },
   {
    "duration": 4,
    "start_time": "2022-11-28T09:28:49.067Z"
   },
   {
    "duration": 49,
    "start_time": "2022-11-28T09:28:49.074Z"
   },
   {
    "duration": 17,
    "start_time": "2022-11-28T09:28:49.126Z"
   },
   {
    "duration": 16,
    "start_time": "2022-11-28T09:28:49.145Z"
   },
   {
    "duration": 12,
    "start_time": "2022-11-28T09:28:49.164Z"
   },
   {
    "duration": 12,
    "start_time": "2022-11-28T09:28:49.178Z"
   },
   {
    "duration": 9,
    "start_time": "2022-11-28T09:28:49.192Z"
   },
   {
    "duration": 15,
    "start_time": "2022-11-28T09:28:49.203Z"
   },
   {
    "duration": 20,
    "start_time": "2022-11-28T09:28:49.220Z"
   },
   {
    "duration": 12,
    "start_time": "2022-11-28T09:28:49.254Z"
   },
   {
    "duration": 17,
    "start_time": "2022-11-28T09:28:49.268Z"
   },
   {
    "duration": 7,
    "start_time": "2022-11-28T09:28:49.287Z"
   },
   {
    "duration": 7,
    "start_time": "2022-11-28T09:28:49.295Z"
   },
   {
    "duration": 6,
    "start_time": "2022-11-28T09:28:49.305Z"
   },
   {
    "duration": 70,
    "start_time": "2022-11-28T09:28:49.312Z"
   },
   {
    "duration": 6,
    "start_time": "2022-11-28T09:28:49.384Z"
   },
   {
    "duration": 3141,
    "start_time": "2022-11-28T09:28:49.392Z"
   },
   {
    "duration": 24645,
    "start_time": "2022-11-28T09:28:52.534Z"
   },
   {
    "duration": 129,
    "start_time": "2022-11-28T09:29:17.181Z"
   },
   {
    "duration": 455,
    "start_time": "2022-11-28T09:29:17.312Z"
   },
   {
    "duration": 46171,
    "start_time": "2022-11-28T09:29:17.771Z"
   },
   {
    "duration": 30,
    "start_time": "2022-11-28T09:30:03.944Z"
   },
   {
    "duration": 5,
    "start_time": "2022-11-28T09:35:14.586Z"
   },
   {
    "duration": 16,
    "start_time": "2022-11-28T09:35:15.533Z"
   },
   {
    "duration": 4,
    "start_time": "2022-11-28T09:35:29.463Z"
   },
   {
    "duration": 46,
    "start_time": "2022-11-28T09:35:29.469Z"
   },
   {
    "duration": 16,
    "start_time": "2022-11-28T09:35:29.517Z"
   },
   {
    "duration": 16,
    "start_time": "2022-11-28T09:35:29.535Z"
   },
   {
    "duration": 7,
    "start_time": "2022-11-28T09:35:29.553Z"
   },
   {
    "duration": 5,
    "start_time": "2022-11-28T09:35:29.562Z"
   },
   {
    "duration": 6,
    "start_time": "2022-11-28T09:35:32.093Z"
   },
   {
    "duration": 5,
    "start_time": "2022-11-28T09:35:32.729Z"
   },
   {
    "duration": 11,
    "start_time": "2022-11-28T09:35:34.011Z"
   },
   {
    "duration": 25,
    "start_time": "2022-11-28T09:35:34.509Z"
   },
   {
    "duration": 12,
    "start_time": "2022-11-28T09:35:34.907Z"
   },
   {
    "duration": 13,
    "start_time": "2022-11-28T09:36:59.773Z"
   },
   {
    "duration": 19,
    "start_time": "2022-11-28T09:40:17.819Z"
   },
   {
    "duration": 8,
    "start_time": "2022-11-28T09:41:47.196Z"
   },
   {
    "duration": 4,
    "start_time": "2022-11-28T09:59:29.539Z"
   },
   {
    "duration": 55,
    "start_time": "2022-11-28T09:59:29.546Z"
   },
   {
    "duration": 14,
    "start_time": "2022-11-28T09:59:29.603Z"
   },
   {
    "duration": 16,
    "start_time": "2022-11-28T09:59:29.619Z"
   },
   {
    "duration": 10,
    "start_time": "2022-11-28T09:59:29.637Z"
   },
   {
    "duration": 5,
    "start_time": "2022-11-28T09:59:29.649Z"
   },
   {
    "duration": 7,
    "start_time": "2022-11-28T09:59:29.656Z"
   },
   {
    "duration": 13,
    "start_time": "2022-11-28T09:59:29.664Z"
   },
   {
    "duration": 19,
    "start_time": "2022-11-28T09:59:29.678Z"
   },
   {
    "duration": 14,
    "start_time": "2022-11-28T09:59:29.700Z"
   },
   {
    "duration": 3,
    "start_time": "2022-11-28T09:59:29.716Z"
   },
   {
    "duration": 7,
    "start_time": "2022-11-28T09:59:29.721Z"
   },
   {
    "duration": 4,
    "start_time": "2022-11-28T09:59:29.755Z"
   },
   {
    "duration": 3320,
    "start_time": "2022-11-28T09:59:29.761Z"
   },
   {
    "duration": 24817,
    "start_time": "2022-11-28T09:59:33.083Z"
   },
   {
    "duration": 258,
    "start_time": "2022-11-28T09:59:57.902Z"
   },
   {
    "duration": 293,
    "start_time": "2022-11-28T10:00:22.163Z"
   },
   {
    "duration": 24414,
    "start_time": "2022-11-28T10:04:31.517Z"
   },
   {
    "duration": 44420,
    "start_time": "2022-11-28T10:04:55.934Z"
   },
   {
    "duration": 19,
    "start_time": "2022-11-28T10:05:40.356Z"
   },
   {
    "duration": 15141,
    "start_time": "2022-11-28T10:07:55.675Z"
   },
   {
    "duration": 121,
    "start_time": "2022-11-28T10:14:03.145Z"
   },
   {
    "duration": 117,
    "start_time": "2022-11-28T10:14:11.544Z"
   },
   {
    "duration": 117,
    "start_time": "2022-11-28T10:15:10.421Z"
   },
   {
    "duration": 143,
    "start_time": "2022-11-28T10:15:12.903Z"
   },
   {
    "duration": 157,
    "start_time": "2022-11-28T10:15:16.296Z"
   },
   {
    "duration": 796,
    "start_time": "2022-11-28T10:15:18.433Z"
   },
   {
    "duration": 377,
    "start_time": "2022-11-28T10:15:23.652Z"
   },
   {
    "duration": 313,
    "start_time": "2022-11-28T10:15:28.961Z"
   },
   {
    "duration": 361,
    "start_time": "2022-11-28T10:15:31.105Z"
   },
   {
    "duration": 318,
    "start_time": "2022-11-28T10:15:32.972Z"
   },
   {
    "duration": 341,
    "start_time": "2022-11-28T10:16:36.392Z"
   },
   {
    "duration": 108,
    "start_time": "2022-11-28T10:16:57.811Z"
   },
   {
    "duration": 111,
    "start_time": "2022-11-28T10:17:00.900Z"
   },
   {
    "duration": 113,
    "start_time": "2022-11-28T10:17:02.681Z"
   },
   {
    "duration": 14,
    "start_time": "2022-11-28T10:18:29.833Z"
   },
   {
    "duration": 17,
    "start_time": "2022-11-28T10:18:35.016Z"
   },
   {
    "duration": 108,
    "start_time": "2022-11-28T10:18:37.875Z"
   },
   {
    "duration": 16,
    "start_time": "2022-11-28T10:18:45.843Z"
   },
   {
    "duration": 15,
    "start_time": "2022-11-28T10:18:47.273Z"
   },
   {
    "duration": 13,
    "start_time": "2022-11-28T10:20:10.113Z"
   },
   {
    "duration": 118,
    "start_time": "2022-11-28T10:20:12.855Z"
   },
   {
    "duration": 9,
    "start_time": "2022-11-28T10:20:28.427Z"
   },
   {
    "duration": 116,
    "start_time": "2022-11-28T10:20:32.538Z"
   },
   {
    "duration": 14,
    "start_time": "2022-11-28T10:20:39.800Z"
   },
   {
    "duration": 109,
    "start_time": "2022-11-28T10:21:57.287Z"
   },
   {
    "duration": 689,
    "start_time": "2022-11-28T10:25:22.123Z"
   },
   {
    "duration": 110,
    "start_time": "2022-11-28T10:25:24.287Z"
   },
   {
    "duration": 280,
    "start_time": "2022-11-28T10:26:55.375Z"
   },
   {
    "duration": 311,
    "start_time": "2022-11-28T10:26:58.798Z"
   },
   {
    "duration": 230,
    "start_time": "2022-11-28T10:27:03.378Z"
   },
   {
    "duration": 181,
    "start_time": "2022-11-28T10:27:05.668Z"
   },
   {
    "duration": 561,
    "start_time": "2022-11-28T10:27:08.691Z"
   },
   {
    "duration": 606,
    "start_time": "2022-11-28T10:27:12.155Z"
   },
   {
    "duration": 808,
    "start_time": "2022-11-28T10:27:15.444Z"
   },
   {
    "duration": 798,
    "start_time": "2022-11-28T10:27:19.728Z"
   },
   {
    "duration": 829,
    "start_time": "2022-11-28T10:27:22.675Z"
   },
   {
    "duration": 257,
    "start_time": "2022-11-28T10:27:27.467Z"
   },
   {
    "duration": 321,
    "start_time": "2022-11-28T10:27:33.669Z"
   },
   {
    "duration": 709,
    "start_time": "2022-11-28T10:27:39.120Z"
   },
   {
    "duration": 738,
    "start_time": "2022-11-28T10:27:42.802Z"
   },
   {
    "duration": 593,
    "start_time": "2022-11-28T10:27:46.403Z"
   },
   {
    "duration": 108863,
    "start_time": "2022-11-28T10:28:08.039Z"
   },
   {
    "duration": 402,
    "start_time": "2022-11-28T10:30:18.064Z"
   },
   {
    "duration": 24539,
    "start_time": "2022-11-28T10:30:27.068Z"
   },
   {
    "duration": 130,
    "start_time": "2022-11-28T10:30:51.609Z"
   },
   {
    "duration": 561,
    "start_time": "2022-11-28T10:34:37.452Z"
   },
   {
    "duration": 126,
    "start_time": "2022-11-28T10:40:08.506Z"
   },
   {
    "duration": 17,
    "start_time": "2022-11-28T10:41:10.440Z"
   },
   {
    "duration": 7,
    "start_time": "2022-11-28T10:41:21.561Z"
   },
   {
    "duration": 6,
    "start_time": "2022-11-28T10:42:09.070Z"
   },
   {
    "duration": 8,
    "start_time": "2022-11-28T10:46:01.980Z"
   },
   {
    "duration": 4,
    "start_time": "2022-11-28T10:46:20.352Z"
   },
   {
    "duration": 4,
    "start_time": "2022-11-28T10:46:35.635Z"
   },
   {
    "duration": 113,
    "start_time": "2022-11-28T10:46:40.994Z"
   },
   {
    "duration": 128,
    "start_time": "2022-11-28T10:46:42.271Z"
   },
   {
    "duration": 7,
    "start_time": "2022-11-28T10:46:42.991Z"
   },
   {
    "duration": 118,
    "start_time": "2022-11-28T10:49:31.121Z"
   },
   {
    "duration": 123,
    "start_time": "2022-11-28T10:49:36.409Z"
   },
   {
    "duration": 1388,
    "start_time": "2022-11-28T11:03:49.822Z"
   },
   {
    "duration": 43,
    "start_time": "2022-11-28T11:03:51.211Z"
   },
   {
    "duration": 18,
    "start_time": "2022-11-28T11:03:51.256Z"
   },
   {
    "duration": 12,
    "start_time": "2022-11-28T11:03:51.275Z"
   },
   {
    "duration": 8,
    "start_time": "2022-11-28T11:03:51.289Z"
   },
   {
    "duration": 9,
    "start_time": "2022-11-28T11:03:51.298Z"
   },
   {
    "duration": 10,
    "start_time": "2022-11-28T11:03:51.309Z"
   },
   {
    "duration": 16,
    "start_time": "2022-11-28T11:03:51.320Z"
   },
   {
    "duration": 19,
    "start_time": "2022-11-28T11:03:51.357Z"
   },
   {
    "duration": 13,
    "start_time": "2022-11-28T11:03:51.378Z"
   },
   {
    "duration": 4,
    "start_time": "2022-11-28T11:03:51.392Z"
   },
   {
    "duration": 8,
    "start_time": "2022-11-28T11:03:51.397Z"
   },
   {
    "duration": 10,
    "start_time": "2022-11-28T11:03:51.406Z"
   },
   {
    "duration": 3195,
    "start_time": "2022-11-28T11:03:51.418Z"
   },
   {
    "duration": 24090,
    "start_time": "2022-11-28T11:03:54.615Z"
   },
   {
    "duration": 447,
    "start_time": "2022-11-28T11:04:18.707Z"
   },
   {
    "duration": 24559,
    "start_time": "2022-11-28T11:04:19.157Z"
   },
   {
    "duration": 43823,
    "start_time": "2022-11-28T11:04:43.718Z"
   },
   {
    "duration": 15213,
    "start_time": "2022-11-28T11:05:27.543Z"
   },
   {
    "duration": 122,
    "start_time": "2022-11-28T11:05:42.757Z"
   },
   {
    "duration": 154,
    "start_time": "2022-11-28T11:05:42.881Z"
   },
   {
    "duration": 125,
    "start_time": "2022-11-28T11:05:43.037Z"
   },
   {
    "duration": 7,
    "start_time": "2022-11-28T11:06:19.303Z"
   },
   {
    "duration": 119,
    "start_time": "2022-11-28T11:08:43.219Z"
   },
   {
    "duration": 126,
    "start_time": "2022-11-28T11:08:52.971Z"
   },
   {
    "duration": 1527,
    "start_time": "2022-11-28T11:09:07.844Z"
   },
   {
    "duration": 43,
    "start_time": "2022-11-28T11:09:09.373Z"
   },
   {
    "duration": 22,
    "start_time": "2022-11-28T11:09:09.418Z"
   },
   {
    "duration": 16,
    "start_time": "2022-11-28T11:09:09.442Z"
   },
   {
    "duration": 21,
    "start_time": "2022-11-28T11:09:09.461Z"
   },
   {
    "duration": 16,
    "start_time": "2022-11-28T11:09:09.484Z"
   },
   {
    "duration": 29,
    "start_time": "2022-11-28T11:09:09.502Z"
   },
   {
    "duration": 34,
    "start_time": "2022-11-28T11:09:09.533Z"
   },
   {
    "duration": 43,
    "start_time": "2022-11-28T11:09:09.569Z"
   },
   {
    "duration": 26,
    "start_time": "2022-11-28T11:09:09.616Z"
   },
   {
    "duration": 4,
    "start_time": "2022-11-28T11:09:09.645Z"
   },
   {
    "duration": 15,
    "start_time": "2022-11-28T11:09:09.651Z"
   },
   {
    "duration": 13,
    "start_time": "2022-11-28T11:09:09.668Z"
   },
   {
    "duration": 3167,
    "start_time": "2022-11-28T11:09:09.685Z"
   },
   {
    "duration": 24818,
    "start_time": "2022-11-28T11:09:12.855Z"
   },
   {
    "duration": 381,
    "start_time": "2022-11-28T11:09:37.674Z"
   },
   {
    "duration": 24545,
    "start_time": "2022-11-28T11:09:38.057Z"
   },
   {
    "duration": 45692,
    "start_time": "2022-11-28T11:10:02.604Z"
   },
   {
    "duration": 16595,
    "start_time": "2022-11-28T11:10:48.298Z"
   },
   {
    "duration": 142,
    "start_time": "2022-11-28T11:11:04.895Z"
   },
   {
    "duration": 153,
    "start_time": "2022-11-28T11:11:05.039Z"
   },
   {
    "duration": 6,
    "start_time": "2022-11-28T11:11:05.194Z"
   },
   {
    "duration": 3330,
    "start_time": "2022-11-28T13:25:56.921Z"
   },
   {
    "duration": 178,
    "start_time": "2022-11-28T13:33:12.443Z"
   },
   {
    "duration": 18,
    "start_time": "2022-11-28T13:33:13.430Z"
   },
   {
    "duration": 13,
    "start_time": "2022-11-28T13:33:15.263Z"
   },
   {
    "duration": 11,
    "start_time": "2022-11-28T13:33:18.988Z"
   },
   {
    "duration": 5,
    "start_time": "2022-11-28T13:33:45.210Z"
   },
   {
    "duration": 20,
    "start_time": "2022-11-28T13:34:26.558Z"
   },
   {
    "duration": 6,
    "start_time": "2022-11-28T13:34:29.013Z"
   },
   {
    "duration": 20,
    "start_time": "2022-11-28T13:34:30.121Z"
   },
   {
    "duration": 11,
    "start_time": "2022-11-28T13:34:37.501Z"
   },
   {
    "duration": 19,
    "start_time": "2022-11-28T13:42:17.881Z"
   },
   {
    "duration": 5,
    "start_time": "2022-11-28T13:42:33.969Z"
   },
   {
    "duration": 5,
    "start_time": "2022-11-28T13:43:06.832Z"
   },
   {
    "duration": 19,
    "start_time": "2022-11-28T13:43:12.241Z"
   },
   {
    "duration": 5,
    "start_time": "2022-11-28T13:44:15.096Z"
   },
   {
    "duration": 45,
    "start_time": "2022-11-28T13:44:15.103Z"
   },
   {
    "duration": 14,
    "start_time": "2022-11-28T13:44:15.150Z"
   },
   {
    "duration": 18,
    "start_time": "2022-11-28T13:44:15.166Z"
   },
   {
    "duration": 8,
    "start_time": "2022-11-28T13:44:15.186Z"
   },
   {
    "duration": 7,
    "start_time": "2022-11-28T13:44:15.195Z"
   },
   {
    "duration": 8,
    "start_time": "2022-11-28T13:44:15.204Z"
   },
   {
    "duration": 29,
    "start_time": "2022-11-28T13:44:15.214Z"
   },
   {
    "duration": 17,
    "start_time": "2022-11-28T13:44:15.245Z"
   },
   {
    "duration": 17,
    "start_time": "2022-11-28T13:46:51.111Z"
   },
   {
    "duration": 13,
    "start_time": "2022-11-28T13:47:25.556Z"
   },
   {
    "duration": 5,
    "start_time": "2022-11-28T13:48:16.927Z"
   },
   {
    "duration": 5,
    "start_time": "2022-11-28T13:48:17.510Z"
   },
   {
    "duration": 5,
    "start_time": "2022-11-28T13:48:17.872Z"
   },
   {
    "duration": 3019,
    "start_time": "2022-11-28T13:49:05.020Z"
   },
   {
    "duration": 22767,
    "start_time": "2022-11-28T13:58:13.796Z"
   },
   {
    "duration": 160,
    "start_time": "2022-11-28T13:58:49.883Z"
   },
   {
    "duration": 2096,
    "start_time": "2022-11-29T03:14:05.075Z"
   },
   {
    "duration": 81,
    "start_time": "2022-11-29T03:14:07.174Z"
   },
   {
    "duration": 20,
    "start_time": "2022-11-29T03:14:07.257Z"
   },
   {
    "duration": 15,
    "start_time": "2022-11-29T03:14:07.279Z"
   },
   {
    "duration": 8,
    "start_time": "2022-11-29T03:14:07.296Z"
   },
   {
    "duration": 17,
    "start_time": "2022-11-29T03:14:07.305Z"
   },
   {
    "duration": 12,
    "start_time": "2022-11-29T03:14:07.324Z"
   },
   {
    "duration": 35,
    "start_time": "2022-11-29T03:14:07.338Z"
   },
   {
    "duration": 21,
    "start_time": "2022-11-29T03:14:07.375Z"
   },
   {
    "duration": 13,
    "start_time": "2022-11-29T03:14:07.399Z"
   },
   {
    "duration": 5,
    "start_time": "2022-11-29T03:14:07.414Z"
   },
   {
    "duration": 9,
    "start_time": "2022-11-29T03:14:07.420Z"
   },
   {
    "duration": 6,
    "start_time": "2022-11-29T03:14:07.435Z"
   },
   {
    "duration": 117,
    "start_time": "2022-11-29T10:57:39.180Z"
   },
   {
    "duration": 1461,
    "start_time": "2022-11-29T10:57:42.677Z"
   },
   {
    "duration": 149,
    "start_time": "2022-11-29T10:57:44.140Z"
   },
   {
    "duration": 18,
    "start_time": "2022-11-29T10:57:44.290Z"
   },
   {
    "duration": 13,
    "start_time": "2022-11-29T10:57:44.309Z"
   },
   {
    "duration": 7,
    "start_time": "2022-11-29T10:57:44.324Z"
   },
   {
    "duration": 5,
    "start_time": "2022-11-29T10:57:44.332Z"
   },
   {
    "duration": 4,
    "start_time": "2022-11-29T10:57:44.339Z"
   },
   {
    "duration": 14,
    "start_time": "2022-11-29T10:57:44.345Z"
   },
   {
    "duration": 16,
    "start_time": "2022-11-29T10:57:44.360Z"
   },
   {
    "duration": 12,
    "start_time": "2022-11-29T10:57:44.377Z"
   },
   {
    "duration": 4,
    "start_time": "2022-11-29T10:57:44.390Z"
   },
   {
    "duration": 7,
    "start_time": "2022-11-29T10:57:44.395Z"
   },
   {
    "duration": 5,
    "start_time": "2022-11-29T10:57:44.403Z"
   },
   {
    "duration": 3098,
    "start_time": "2022-11-29T10:57:44.411Z"
   },
   {
    "duration": 21961,
    "start_time": "2022-11-29T10:57:47.510Z"
   },
   {
    "duration": 367,
    "start_time": "2022-11-29T10:58:09.473Z"
   },
   {
    "duration": 23596,
    "start_time": "2022-11-29T10:58:09.843Z"
   },
   {
    "duration": 42433,
    "start_time": "2022-11-29T10:58:33.441Z"
   },
   {
    "duration": 14630,
    "start_time": "2022-11-29T10:59:15.876Z"
   },
   {
    "duration": 130,
    "start_time": "2022-11-29T10:59:30.507Z"
   },
   {
    "duration": 140,
    "start_time": "2022-11-29T10:59:30.639Z"
   },
   {
    "duration": 7,
    "start_time": "2022-11-29T10:59:30.781Z"
   },
   {
    "duration": 3179,
    "start_time": "2022-11-29T10:59:30.791Z"
   },
   {
    "duration": 305,
    "start_time": "2022-11-29T11:02:00.841Z"
   },
   {
    "duration": 25275,
    "start_time": "2022-11-29T11:03:16.907Z"
   },
   {
    "duration": 44800,
    "start_time": "2022-11-29T11:04:03.962Z"
   },
   {
    "duration": 16296,
    "start_time": "2022-11-29T11:04:49.162Z"
   },
   {
    "duration": 13,
    "start_time": "2022-11-29T11:51:39.518Z"
   },
   {
    "duration": 14,
    "start_time": "2022-11-29T11:53:41.290Z"
   },
   {
    "duration": 8,
    "start_time": "2022-11-29T12:00:31.676Z"
   },
   {
    "duration": 17,
    "start_time": "2022-11-29T12:00:32.645Z"
   },
   {
    "duration": 4,
    "start_time": "2022-11-29T12:00:37.795Z"
   },
   {
    "duration": 44,
    "start_time": "2022-11-29T12:00:37.801Z"
   },
   {
    "duration": 15,
    "start_time": "2022-11-29T12:00:37.846Z"
   },
   {
    "duration": 17,
    "start_time": "2022-11-29T12:00:37.862Z"
   },
   {
    "duration": 7,
    "start_time": "2022-11-29T12:00:37.881Z"
   },
   {
    "duration": 4,
    "start_time": "2022-11-29T12:00:37.890Z"
   },
   {
    "duration": 7,
    "start_time": "2022-11-29T12:00:37.895Z"
   },
   {
    "duration": 5,
    "start_time": "2022-11-29T12:00:37.903Z"
   },
   {
    "duration": 28,
    "start_time": "2022-11-29T12:00:37.910Z"
   },
   {
    "duration": 32,
    "start_time": "2022-11-29T12:00:37.940Z"
   },
   {
    "duration": 16,
    "start_time": "2022-11-29T12:00:37.974Z"
   },
   {
    "duration": 11,
    "start_time": "2022-11-29T12:00:37.992Z"
   },
   {
    "duration": 26,
    "start_time": "2022-11-29T12:00:38.004Z"
   },
   {
    "duration": 22,
    "start_time": "2022-11-29T12:00:38.033Z"
   },
   {
    "duration": 15,
    "start_time": "2022-11-29T12:00:38.057Z"
   },
   {
    "duration": 158,
    "start_time": "2022-11-29T12:00:38.074Z"
   },
   {
    "duration": 97,
    "start_time": "2022-11-29T12:00:38.233Z"
   },
   {
    "duration": 310,
    "start_time": "2022-11-29T12:00:38.331Z"
   },
   {
    "duration": 0,
    "start_time": "2022-11-29T12:00:38.643Z"
   },
   {
    "duration": 0,
    "start_time": "2022-11-29T12:00:38.644Z"
   },
   {
    "duration": 0,
    "start_time": "2022-11-29T12:00:38.646Z"
   },
   {
    "duration": 0,
    "start_time": "2022-11-29T12:00:38.647Z"
   },
   {
    "duration": 0,
    "start_time": "2022-11-29T12:00:38.648Z"
   },
   {
    "duration": 0,
    "start_time": "2022-11-29T12:00:38.650Z"
   },
   {
    "duration": 18,
    "start_time": "2022-11-29T12:02:30.627Z"
   },
   {
    "duration": 16,
    "start_time": "2022-11-29T12:02:31.676Z"
   },
   {
    "duration": 3168,
    "start_time": "2022-11-29T12:02:33.694Z"
   },
   {
    "duration": 4,
    "start_time": "2022-11-29T12:02:46.207Z"
   },
   {
    "duration": 43,
    "start_time": "2022-11-29T12:02:46.213Z"
   },
   {
    "duration": 14,
    "start_time": "2022-11-29T12:02:46.257Z"
   },
   {
    "duration": 16,
    "start_time": "2022-11-29T12:02:46.273Z"
   },
   {
    "duration": 7,
    "start_time": "2022-11-29T12:02:46.291Z"
   },
   {
    "duration": 4,
    "start_time": "2022-11-29T12:02:46.299Z"
   },
   {
    "duration": 5,
    "start_time": "2022-11-29T12:02:46.305Z"
   },
   {
    "duration": 5,
    "start_time": "2022-11-29T12:02:46.312Z"
   },
   {
    "duration": 3,
    "start_time": "2022-11-29T12:02:46.337Z"
   },
   {
    "duration": 16,
    "start_time": "2022-11-29T12:02:46.341Z"
   },
   {
    "duration": 4,
    "start_time": "2022-11-29T12:02:46.358Z"
   },
   {
    "duration": 5,
    "start_time": "2022-11-29T12:02:46.363Z"
   },
   {
    "duration": 5,
    "start_time": "2022-11-29T12:02:46.370Z"
   },
   {
    "duration": 21,
    "start_time": "2022-11-29T12:02:46.378Z"
   },
   {
    "duration": 49,
    "start_time": "2022-11-29T12:02:46.401Z"
   },
   {
    "duration": 4055,
    "start_time": "2022-11-29T12:02:46.452Z"
   },
   {
    "duration": 23945,
    "start_time": "2022-11-29T12:02:50.508Z"
   },
   {
    "duration": 290,
    "start_time": "2022-11-29T12:03:14.455Z"
   },
   {
    "duration": 25152,
    "start_time": "2022-11-29T12:03:14.747Z"
   },
   {
    "duration": 45030,
    "start_time": "2022-11-29T12:03:39.900Z"
   },
   {
    "duration": 15416,
    "start_time": "2022-11-29T12:04:24.931Z"
   },
   {
    "duration": 128,
    "start_time": "2022-11-29T12:04:40.348Z"
   },
   {
    "duration": 129,
    "start_time": "2022-11-29T12:04:40.477Z"
   },
   {
    "duration": 5,
    "start_time": "2022-11-29T12:04:40.609Z"
   },
   {
    "duration": 14,
    "start_time": "2022-11-29T12:05:08.011Z"
   },
   {
    "duration": 37,
    "start_time": "2022-11-29T12:05:08.900Z"
   },
   {
    "duration": 3156,
    "start_time": "2022-11-29T12:05:12.723Z"
   },
   {
    "duration": 25219,
    "start_time": "2022-11-29T12:05:29.354Z"
   },
   {
    "duration": 134,
    "start_time": "2022-11-29T12:06:43.035Z"
   },
   {
    "duration": 8,
    "start_time": "2022-11-29T12:06:50.873Z"
   },
   {
    "duration": 121,
    "start_time": "2022-11-29T12:06:53.187Z"
   },
   {
    "duration": 7,
    "start_time": "2022-11-29T12:06:53.819Z"
   },
   {
    "duration": 139,
    "start_time": "2022-11-29T12:07:48.193Z"
   },
   {
    "duration": 13,
    "start_time": "2022-11-29T12:10:41.082Z"
   },
   {
    "duration": 28,
    "start_time": "2022-11-29T12:10:41.867Z"
   },
   {
    "duration": 14,
    "start_time": "2022-11-29T13:13:36.268Z"
   },
   {
    "duration": 7,
    "start_time": "2022-11-29T13:13:41.524Z"
   },
   {
    "duration": 182,
    "start_time": "2022-11-29T13:13:46.132Z"
   },
   {
    "duration": 1548,
    "start_time": "2022-11-29T13:13:49.700Z"
   },
   {
    "duration": 0,
    "start_time": "2022-11-29T13:14:31.599Z"
   },
   {
    "duration": 49,
    "start_time": "2022-11-29T13:14:34.882Z"
   },
   {
    "duration": 1495,
    "start_time": "2022-11-29T13:14:41.669Z"
   },
   {
    "duration": 81,
    "start_time": "2022-11-29T13:14:43.166Z"
   },
   {
    "duration": 19,
    "start_time": "2022-11-29T13:14:43.249Z"
   },
   {
    "duration": 67,
    "start_time": "2022-11-29T13:14:43.270Z"
   },
   {
    "duration": 11,
    "start_time": "2022-11-29T13:14:43.340Z"
   },
   {
    "duration": 20,
    "start_time": "2022-11-29T13:14:43.353Z"
   },
   {
    "duration": 73,
    "start_time": "2022-11-29T13:14:43.375Z"
   },
   {
    "duration": 3,
    "start_time": "2022-11-29T13:14:43.454Z"
   },
   {
    "duration": 19,
    "start_time": "2022-11-29T13:14:43.459Z"
   },
   {
    "duration": 57,
    "start_time": "2022-11-29T13:14:43.480Z"
   },
   {
    "duration": 5,
    "start_time": "2022-11-29T13:14:43.539Z"
   },
   {
    "duration": 42,
    "start_time": "2022-11-29T13:14:43.546Z"
   },
   {
    "duration": 49,
    "start_time": "2022-11-29T13:14:43.589Z"
   },
   {
    "duration": 511,
    "start_time": "2022-11-29T13:14:43.641Z"
   },
   {
    "duration": 217,
    "start_time": "2022-11-29T13:14:44.154Z"
   },
   {
    "duration": 0,
    "start_time": "2022-11-29T13:14:44.373Z"
   },
   {
    "duration": 0,
    "start_time": "2022-11-29T13:14:44.374Z"
   },
   {
    "duration": 0,
    "start_time": "2022-11-29T13:14:44.375Z"
   },
   {
    "duration": 0,
    "start_time": "2022-11-29T13:14:44.376Z"
   },
   {
    "duration": 0,
    "start_time": "2022-11-29T13:14:44.378Z"
   },
   {
    "duration": 0,
    "start_time": "2022-11-29T13:14:44.379Z"
   },
   {
    "duration": 0,
    "start_time": "2022-11-29T13:14:44.380Z"
   },
   {
    "duration": 0,
    "start_time": "2022-11-29T13:14:44.438Z"
   },
   {
    "duration": 0,
    "start_time": "2022-11-29T13:14:44.439Z"
   },
   {
    "duration": 11,
    "start_time": "2022-11-29T13:15:25.178Z"
   },
   {
    "duration": 12,
    "start_time": "2022-11-29T13:15:31.242Z"
   },
   {
    "duration": 15,
    "start_time": "2022-11-29T13:16:29.417Z"
   },
   {
    "duration": 13,
    "start_time": "2022-11-29T13:25:05.324Z"
   },
   {
    "duration": 17961,
    "start_time": "2022-11-29T13:25:18.091Z"
   },
   {
    "duration": 11,
    "start_time": "2022-11-29T13:25:36.054Z"
   },
   {
    "duration": 11,
    "start_time": "2022-11-29T13:31:22.819Z"
   },
   {
    "duration": 11,
    "start_time": "2022-11-29T13:31:45.642Z"
   },
   {
    "duration": 11,
    "start_time": "2022-11-29T13:31:46.426Z"
   },
   {
    "duration": 5,
    "start_time": "2022-11-29T13:31:56.081Z"
   },
   {
    "duration": 40,
    "start_time": "2022-11-29T13:31:56.088Z"
   },
   {
    "duration": 15,
    "start_time": "2022-11-29T13:31:56.130Z"
   },
   {
    "duration": 22,
    "start_time": "2022-11-29T13:31:56.147Z"
   },
   {
    "duration": 8,
    "start_time": "2022-11-29T13:31:56.171Z"
   },
   {
    "duration": 4,
    "start_time": "2022-11-29T13:31:56.181Z"
   },
   {
    "duration": 4,
    "start_time": "2022-11-29T13:31:56.187Z"
   },
   {
    "duration": 4,
    "start_time": "2022-11-29T13:31:56.193Z"
   },
   {
    "duration": 4,
    "start_time": "2022-11-29T13:31:56.199Z"
   },
   {
    "duration": 67,
    "start_time": "2022-11-29T13:31:56.237Z"
   },
   {
    "duration": 4,
    "start_time": "2022-11-29T13:31:56.306Z"
   },
   {
    "duration": 6,
    "start_time": "2022-11-29T13:31:56.312Z"
   },
   {
    "duration": 5,
    "start_time": "2022-11-29T13:31:56.338Z"
   },
   {
    "duration": 9,
    "start_time": "2022-11-29T13:31:56.345Z"
   },
   {
    "duration": 13,
    "start_time": "2022-11-29T13:31:56.356Z"
   },
   {
    "duration": 0,
    "start_time": "2022-11-29T13:31:56.370Z"
   },
   {
    "duration": 0,
    "start_time": "2022-11-29T13:31:56.372Z"
   },
   {
    "duration": 0,
    "start_time": "2022-11-29T13:31:56.373Z"
   },
   {
    "duration": 0,
    "start_time": "2022-11-29T13:31:56.374Z"
   },
   {
    "duration": 0,
    "start_time": "2022-11-29T13:31:56.376Z"
   },
   {
    "duration": 0,
    "start_time": "2022-11-29T13:31:56.378Z"
   },
   {
    "duration": 0,
    "start_time": "2022-11-29T13:31:56.379Z"
   },
   {
    "duration": 0,
    "start_time": "2022-11-29T13:31:56.381Z"
   },
   {
    "duration": 0,
    "start_time": "2022-11-29T13:31:56.382Z"
   },
   {
    "duration": 30,
    "start_time": "2022-11-29T13:32:24.387Z"
   },
   {
    "duration": 26,
    "start_time": "2022-11-29T13:32:42.252Z"
   },
   {
    "duration": 8,
    "start_time": "2022-11-29T13:32:47.308Z"
   },
   {
    "duration": 25,
    "start_time": "2022-11-29T13:32:48.234Z"
   },
   {
    "duration": 4,
    "start_time": "2022-11-29T13:33:06.467Z"
   },
   {
    "duration": 40,
    "start_time": "2022-11-29T13:33:06.473Z"
   },
   {
    "duration": 16,
    "start_time": "2022-11-29T13:33:06.515Z"
   },
   {
    "duration": 18,
    "start_time": "2022-11-29T13:33:06.533Z"
   },
   {
    "duration": 7,
    "start_time": "2022-11-29T13:33:06.553Z"
   },
   {
    "duration": 5,
    "start_time": "2022-11-29T13:33:06.562Z"
   },
   {
    "duration": 4,
    "start_time": "2022-11-29T13:33:06.569Z"
   },
   {
    "duration": 5,
    "start_time": "2022-11-29T13:33:06.575Z"
   },
   {
    "duration": 4,
    "start_time": "2022-11-29T13:33:06.582Z"
   },
   {
    "duration": 15,
    "start_time": "2022-11-29T13:33:06.589Z"
   },
   {
    "duration": 4,
    "start_time": "2022-11-29T13:33:06.606Z"
   },
   {
    "duration": 28,
    "start_time": "2022-11-29T13:33:06.611Z"
   },
   {
    "duration": 4,
    "start_time": "2022-11-29T13:33:06.641Z"
   },
   {
    "duration": 11,
    "start_time": "2022-11-29T13:33:06.646Z"
   },
   {
    "duration": 27,
    "start_time": "2022-11-29T13:33:06.659Z"
   },
   {
    "duration": 150,
    "start_time": "2022-11-29T13:33:06.688Z"
   },
   {
    "duration": 90,
    "start_time": "2022-11-29T13:33:06.840Z"
   },
   {
    "duration": 20,
    "start_time": "2022-11-29T13:33:06.931Z"
   },
   {
    "duration": 0,
    "start_time": "2022-11-29T13:33:06.953Z"
   },
   {
    "duration": 0,
    "start_time": "2022-11-29T13:33:06.955Z"
   },
   {
    "duration": 0,
    "start_time": "2022-11-29T13:33:06.956Z"
   },
   {
    "duration": 0,
    "start_time": "2022-11-29T13:33:06.958Z"
   },
   {
    "duration": 0,
    "start_time": "2022-11-29T13:33:06.959Z"
   },
   {
    "duration": 0,
    "start_time": "2022-11-29T13:33:06.961Z"
   },
   {
    "duration": 3,
    "start_time": "2022-11-29T13:33:53.811Z"
   },
   {
    "duration": 28,
    "start_time": "2022-11-29T13:33:54.578Z"
   },
   {
    "duration": 17,
    "start_time": "2022-11-29T13:34:13.595Z"
   },
   {
    "duration": 4,
    "start_time": "2022-11-29T13:34:14.603Z"
   },
   {
    "duration": 5,
    "start_time": "2022-11-29T13:34:14.866Z"
   },
   {
    "duration": 4,
    "start_time": "2022-11-29T13:34:15.187Z"
   },
   {
    "duration": 3,
    "start_time": "2022-11-29T13:34:15.891Z"
   },
   {
    "duration": 28,
    "start_time": "2022-11-29T13:34:16.874Z"
   },
   {
    "duration": 10,
    "start_time": "2022-11-29T13:34:49.883Z"
   },
   {
    "duration": 17,
    "start_time": "2022-11-29T13:34:53.587Z"
   },
   {
    "duration": 19,
    "start_time": "2022-11-29T13:35:54.514Z"
   },
   {
    "duration": 7,
    "start_time": "2022-11-29T13:36:38.946Z"
   },
   {
    "duration": 22,
    "start_time": "2022-11-29T13:36:40.194Z"
   },
   {
    "duration": 3,
    "start_time": "2022-11-29T13:36:41.330Z"
   },
   {
    "duration": 4,
    "start_time": "2022-11-29T13:36:41.625Z"
   },
   {
    "duration": 4,
    "start_time": "2022-11-29T13:36:42.010Z"
   },
   {
    "duration": 2,
    "start_time": "2022-11-29T13:36:43.827Z"
   },
   {
    "duration": 16,
    "start_time": "2022-11-29T13:36:44.507Z"
   },
   {
    "duration": 18,
    "start_time": "2022-11-29T13:37:45.514Z"
   },
   {
    "duration": 15,
    "start_time": "2022-11-29T13:37:52.179Z"
   },
   {
    "duration": 15,
    "start_time": "2022-11-29T13:39:18.075Z"
   },
   {
    "duration": 16,
    "start_time": "2022-11-29T13:39:20.914Z"
   },
   {
    "duration": 28,
    "start_time": "2022-11-29T13:40:54.482Z"
   },
   {
    "duration": 14,
    "start_time": "2022-11-29T13:41:27.035Z"
   },
   {
    "duration": 30,
    "start_time": "2022-11-29T13:41:29.138Z"
   },
   {
    "duration": 18,
    "start_time": "2022-11-29T13:41:38.540Z"
   },
   {
    "duration": 3,
    "start_time": "2022-11-29T13:41:39.299Z"
   },
   {
    "duration": 4,
    "start_time": "2022-11-29T13:41:39.466Z"
   },
   {
    "duration": 4,
    "start_time": "2022-11-29T13:41:39.627Z"
   },
   {
    "duration": 3,
    "start_time": "2022-11-29T13:41:43.026Z"
   },
   {
    "duration": 30,
    "start_time": "2022-11-29T13:41:43.754Z"
   },
   {
    "duration": 19,
    "start_time": "2022-11-29T13:41:51.891Z"
   },
   {
    "duration": 29,
    "start_time": "2022-11-29T13:42:05.426Z"
   },
   {
    "duration": 15,
    "start_time": "2022-11-29T13:42:10.603Z"
   },
   {
    "duration": 16,
    "start_time": "2022-11-29T13:42:45.987Z"
   },
   {
    "duration": 3,
    "start_time": "2022-11-29T13:42:46.580Z"
   },
   {
    "duration": 4,
    "start_time": "2022-11-29T13:42:46.740Z"
   },
   {
    "duration": 4,
    "start_time": "2022-11-29T13:42:47.081Z"
   },
   {
    "duration": 16,
    "start_time": "2022-11-29T13:42:48.002Z"
   },
   {
    "duration": 3,
    "start_time": "2022-11-29T13:42:51.066Z"
   },
   {
    "duration": 40,
    "start_time": "2022-11-29T13:42:51.072Z"
   },
   {
    "duration": 13,
    "start_time": "2022-11-29T13:42:51.114Z"
   },
   {
    "duration": 29,
    "start_time": "2022-11-29T13:42:51.129Z"
   },
   {
    "duration": 18,
    "start_time": "2022-11-29T13:42:51.161Z"
   },
   {
    "duration": 9,
    "start_time": "2022-11-29T13:42:51.181Z"
   },
   {
    "duration": 10,
    "start_time": "2022-11-29T13:42:51.191Z"
   },
   {
    "duration": 30,
    "start_time": "2022-11-29T13:42:51.203Z"
   },
   {
    "duration": 19,
    "start_time": "2022-11-29T13:42:51.235Z"
   },
   {
    "duration": 23,
    "start_time": "2022-11-29T13:42:51.256Z"
   },
   {
    "duration": 7,
    "start_time": "2022-11-29T13:42:51.281Z"
   },
   {
    "duration": 16,
    "start_time": "2022-11-29T13:42:51.290Z"
   },
   {
    "duration": 27,
    "start_time": "2022-11-29T13:42:51.307Z"
   },
   {
    "duration": 24,
    "start_time": "2022-11-29T13:42:51.336Z"
   },
   {
    "duration": 46,
    "start_time": "2022-11-29T13:42:51.361Z"
   },
   {
    "duration": 3993,
    "start_time": "2022-11-29T13:42:51.409Z"
   },
   {
    "duration": 24511,
    "start_time": "2022-11-29T13:42:55.403Z"
   },
   {
    "duration": 322,
    "start_time": "2022-11-29T13:43:19.916Z"
   },
   {
    "duration": 43822,
    "start_time": "2022-11-29T13:43:20.241Z"
   },
   {
    "duration": 1322,
    "start_time": "2022-11-29T13:44:20.479Z"
   },
   {
    "duration": 41,
    "start_time": "2022-11-29T13:44:21.803Z"
   },
   {
    "duration": 21,
    "start_time": "2022-11-29T13:44:21.848Z"
   },
   {
    "duration": 12,
    "start_time": "2022-11-29T13:44:21.871Z"
   },
   {
    "duration": 7,
    "start_time": "2022-11-29T13:44:21.885Z"
   },
   {
    "duration": 5,
    "start_time": "2022-11-29T13:44:21.894Z"
   },
   {
    "duration": 38,
    "start_time": "2022-11-29T13:44:21.901Z"
   },
   {
    "duration": 7,
    "start_time": "2022-11-29T13:44:21.940Z"
   },
   {
    "duration": 6,
    "start_time": "2022-11-29T13:44:21.949Z"
   },
   {
    "duration": 22,
    "start_time": "2022-11-29T13:44:21.957Z"
   },
   {
    "duration": 3,
    "start_time": "2022-11-29T13:44:21.981Z"
   },
   {
    "duration": 5,
    "start_time": "2022-11-29T13:44:21.986Z"
   },
   {
    "duration": 5,
    "start_time": "2022-11-29T13:44:21.994Z"
   },
   {
    "duration": 47,
    "start_time": "2022-11-29T13:44:22.000Z"
   },
   {
    "duration": 36,
    "start_time": "2022-11-29T13:44:22.048Z"
   },
   {
    "duration": 4177,
    "start_time": "2022-11-29T13:44:22.086Z"
   },
   {
    "duration": 23446,
    "start_time": "2022-11-29T13:44:26.265Z"
   },
   {
    "duration": 425,
    "start_time": "2022-11-29T13:44:49.713Z"
   },
   {
    "duration": 23531,
    "start_time": "2022-11-29T13:44:50.140Z"
   },
   {
    "duration": 1358,
    "start_time": "2022-11-29T13:45:28.098Z"
   },
   {
    "duration": 40,
    "start_time": "2022-11-29T13:45:29.458Z"
   },
   {
    "duration": 19,
    "start_time": "2022-11-29T13:45:29.500Z"
   },
   {
    "duration": 14,
    "start_time": "2022-11-29T13:45:29.521Z"
   },
   {
    "duration": 7,
    "start_time": "2022-11-29T13:45:29.538Z"
   },
   {
    "duration": 6,
    "start_time": "2022-11-29T13:45:29.547Z"
   },
   {
    "duration": 4,
    "start_time": "2022-11-29T13:45:29.555Z"
   },
   {
    "duration": 5,
    "start_time": "2022-11-29T13:45:29.560Z"
   },
   {
    "duration": 5,
    "start_time": "2022-11-29T13:45:29.566Z"
   },
   {
    "duration": 23,
    "start_time": "2022-11-29T13:45:29.573Z"
   },
   {
    "duration": 4,
    "start_time": "2022-11-29T13:45:29.597Z"
   },
   {
    "duration": 9,
    "start_time": "2022-11-29T13:45:29.602Z"
   },
   {
    "duration": 4,
    "start_time": "2022-11-29T13:45:29.637Z"
   },
   {
    "duration": 228,
    "start_time": "2022-11-29T13:45:29.644Z"
   },
   {
    "duration": 109,
    "start_time": "2022-11-29T13:45:29.873Z"
   },
   {
    "duration": 0,
    "start_time": "2022-11-29T13:45:29.984Z"
   },
   {
    "duration": 0,
    "start_time": "2022-11-29T13:45:29.985Z"
   },
   {
    "duration": 0,
    "start_time": "2022-11-29T13:45:29.986Z"
   },
   {
    "duration": 0,
    "start_time": "2022-11-29T13:45:29.987Z"
   },
   {
    "duration": 0,
    "start_time": "2022-11-29T13:45:29.988Z"
   },
   {
    "duration": 0,
    "start_time": "2022-11-29T13:45:29.989Z"
   },
   {
    "duration": 0,
    "start_time": "2022-11-29T13:45:29.990Z"
   },
   {
    "duration": 0,
    "start_time": "2022-11-29T13:45:29.991Z"
   },
   {
    "duration": 0,
    "start_time": "2022-11-29T13:45:29.992Z"
   },
   {
    "duration": 9,
    "start_time": "2022-11-29T15:41:46.868Z"
   },
   {
    "duration": 1358,
    "start_time": "2022-11-29T15:45:54.363Z"
   },
   {
    "duration": 39,
    "start_time": "2022-11-29T15:45:55.723Z"
   },
   {
    "duration": 294,
    "start_time": "2022-11-29T15:45:55.764Z"
   },
   {
    "duration": 15,
    "start_time": "2022-11-29T15:45:56.060Z"
   },
   {
    "duration": 7,
    "start_time": "2022-11-29T15:45:56.077Z"
   },
   {
    "duration": 51,
    "start_time": "2022-11-29T15:45:56.086Z"
   },
   {
    "duration": 4,
    "start_time": "2022-11-29T15:45:56.139Z"
   },
   {
    "duration": 4,
    "start_time": "2022-11-29T15:45:56.145Z"
   },
   {
    "duration": 5,
    "start_time": "2022-11-29T15:45:56.151Z"
   },
   {
    "duration": 23,
    "start_time": "2022-11-29T15:45:56.158Z"
   },
   {
    "duration": 55,
    "start_time": "2022-11-29T15:45:56.183Z"
   },
   {
    "duration": 6,
    "start_time": "2022-11-29T15:45:56.240Z"
   },
   {
    "duration": 6,
    "start_time": "2022-11-29T15:45:56.247Z"
   },
   {
    "duration": 619,
    "start_time": "2022-11-29T15:45:56.255Z"
   },
   {
    "duration": 0,
    "start_time": "2022-11-29T15:45:56.876Z"
   },
   {
    "duration": 0,
    "start_time": "2022-11-29T15:45:56.877Z"
   },
   {
    "duration": 0,
    "start_time": "2022-11-29T15:45:56.877Z"
   },
   {
    "duration": 0,
    "start_time": "2022-11-29T15:45:56.878Z"
   },
   {
    "duration": 0,
    "start_time": "2022-11-29T15:45:56.880Z"
   },
   {
    "duration": 0,
    "start_time": "2022-11-29T15:45:56.881Z"
   },
   {
    "duration": 0,
    "start_time": "2022-11-29T15:45:56.882Z"
   },
   {
    "duration": 0,
    "start_time": "2022-11-29T15:45:56.883Z"
   },
   {
    "duration": 0,
    "start_time": "2022-11-29T15:45:56.884Z"
   },
   {
    "duration": 0,
    "start_time": "2022-11-29T15:45:56.938Z"
   },
   {
    "duration": 222,
    "start_time": "2022-11-29T15:46:15.395Z"
   },
   {
    "duration": 213,
    "start_time": "2022-11-29T15:46:38.245Z"
   },
   {
    "duration": 226,
    "start_time": "2022-11-29T15:46:42.012Z"
   },
   {
    "duration": 162,
    "start_time": "2022-11-29T15:50:01.739Z"
   },
   {
    "duration": 167,
    "start_time": "2022-11-29T15:50:17.811Z"
   },
   {
    "duration": 17,
    "start_time": "2022-11-29T16:47:54.145Z"
   },
   {
    "duration": 14,
    "start_time": "2022-11-29T16:48:31.314Z"
   },
   {
    "duration": 12,
    "start_time": "2022-11-29T16:48:34.045Z"
   },
   {
    "duration": 12,
    "start_time": "2022-11-29T16:48:36.107Z"
   },
   {
    "duration": 13,
    "start_time": "2022-11-29T16:48:56.465Z"
   },
   {
    "duration": 50,
    "start_time": "2022-11-29T16:49:07.032Z"
   },
   {
    "duration": 26,
    "start_time": "2022-11-29T16:49:24.660Z"
   },
   {
    "duration": 4,
    "start_time": "2022-11-29T16:49:30.657Z"
   },
   {
    "duration": 68,
    "start_time": "2022-11-29T16:49:30.663Z"
   },
   {
    "duration": 14,
    "start_time": "2022-11-29T16:49:30.733Z"
   },
   {
    "duration": 26,
    "start_time": "2022-11-29T16:49:30.749Z"
   },
   {
    "duration": 9,
    "start_time": "2022-11-29T16:49:30.778Z"
   },
   {
    "duration": 14,
    "start_time": "2022-11-29T16:49:30.789Z"
   },
   {
    "duration": 30,
    "start_time": "2022-11-29T16:49:30.805Z"
   },
   {
    "duration": 44,
    "start_time": "2022-11-29T16:49:30.837Z"
   },
   {
    "duration": 23,
    "start_time": "2022-11-29T16:49:30.882Z"
   },
   {
    "duration": 44,
    "start_time": "2022-11-29T16:49:30.907Z"
   },
   {
    "duration": 4,
    "start_time": "2022-11-29T16:49:30.954Z"
   },
   {
    "duration": 7,
    "start_time": "2022-11-29T16:49:30.960Z"
   },
   {
    "duration": 11,
    "start_time": "2022-11-29T16:49:30.969Z"
   },
   {
    "duration": 19,
    "start_time": "2022-11-29T16:49:30.982Z"
   },
   {
    "duration": 0,
    "start_time": "2022-11-29T16:49:31.002Z"
   },
   {
    "duration": 0,
    "start_time": "2022-11-29T16:49:31.004Z"
   },
   {
    "duration": 0,
    "start_time": "2022-11-29T16:49:31.005Z"
   },
   {
    "duration": 0,
    "start_time": "2022-11-29T16:49:31.006Z"
   },
   {
    "duration": 0,
    "start_time": "2022-11-29T16:49:31.007Z"
   },
   {
    "duration": 0,
    "start_time": "2022-11-29T16:49:31.008Z"
   },
   {
    "duration": 0,
    "start_time": "2022-11-29T16:49:31.037Z"
   },
   {
    "duration": 0,
    "start_time": "2022-11-29T16:49:31.038Z"
   },
   {
    "duration": 0,
    "start_time": "2022-11-29T16:49:31.040Z"
   },
   {
    "duration": 0,
    "start_time": "2022-11-29T16:49:31.041Z"
   },
   {
    "duration": 13,
    "start_time": "2022-11-29T16:50:21.219Z"
   },
   {
    "duration": 13,
    "start_time": "2022-11-29T16:50:40.329Z"
   },
   {
    "duration": 13,
    "start_time": "2022-11-29T16:50:43.414Z"
   },
   {
    "duration": 20,
    "start_time": "2022-11-29T16:51:01.232Z"
   },
   {
    "duration": 6,
    "start_time": "2022-11-29T16:51:07.825Z"
   },
   {
    "duration": 68,
    "start_time": "2022-11-29T16:51:07.833Z"
   },
   {
    "duration": 15,
    "start_time": "2022-11-29T16:51:07.903Z"
   },
   {
    "duration": 24,
    "start_time": "2022-11-29T16:51:07.921Z"
   },
   {
    "duration": 29,
    "start_time": "2022-11-29T16:51:07.947Z"
   },
   {
    "duration": 26,
    "start_time": "2022-11-29T16:51:07.978Z"
   },
   {
    "duration": 27,
    "start_time": "2022-11-29T16:51:08.005Z"
   },
   {
    "duration": 22,
    "start_time": "2022-11-29T16:51:08.034Z"
   },
   {
    "duration": 15,
    "start_time": "2022-11-29T16:51:08.059Z"
   },
   {
    "duration": 26,
    "start_time": "2022-11-29T16:51:08.076Z"
   },
   {
    "duration": 16,
    "start_time": "2022-11-29T16:51:08.103Z"
   },
   {
    "duration": 26,
    "start_time": "2022-11-29T16:51:08.121Z"
   },
   {
    "duration": 10,
    "start_time": "2022-11-29T16:51:08.149Z"
   },
   {
    "duration": 44,
    "start_time": "2022-11-29T16:51:08.160Z"
   },
   {
    "duration": 17,
    "start_time": "2022-11-29T16:51:08.205Z"
   },
   {
    "duration": 0,
    "start_time": "2022-11-29T16:51:08.223Z"
   },
   {
    "duration": 0,
    "start_time": "2022-11-29T16:51:08.224Z"
   },
   {
    "duration": 0,
    "start_time": "2022-11-29T16:51:08.225Z"
   },
   {
    "duration": 0,
    "start_time": "2022-11-29T16:51:08.226Z"
   },
   {
    "duration": 0,
    "start_time": "2022-11-29T16:51:08.227Z"
   },
   {
    "duration": 0,
    "start_time": "2022-11-29T16:51:08.228Z"
   },
   {
    "duration": 1,
    "start_time": "2022-11-29T16:51:08.229Z"
   },
   {
    "duration": 0,
    "start_time": "2022-11-29T16:51:08.230Z"
   },
   {
    "duration": 0,
    "start_time": "2022-11-29T16:51:08.231Z"
   },
   {
    "duration": 0,
    "start_time": "2022-11-29T16:51:08.232Z"
   },
   {
    "duration": 13,
    "start_time": "2022-11-29T16:51:36.566Z"
   },
   {
    "duration": 3,
    "start_time": "2022-11-29T16:51:38.684Z"
   },
   {
    "duration": 4,
    "start_time": "2022-11-29T16:51:39.077Z"
   },
   {
    "duration": 5,
    "start_time": "2022-11-29T16:51:39.402Z"
   },
   {
    "duration": 17,
    "start_time": "2022-11-29T16:51:39.965Z"
   },
   {
    "duration": 13,
    "start_time": "2022-11-29T16:51:43.366Z"
   },
   {
    "duration": 4,
    "start_time": "2022-11-29T16:51:58.706Z"
   },
   {
    "duration": 43,
    "start_time": "2022-11-29T16:51:58.712Z"
   },
   {
    "duration": 13,
    "start_time": "2022-11-29T16:51:58.757Z"
   },
   {
    "duration": 12,
    "start_time": "2022-11-29T16:51:58.772Z"
   },
   {
    "duration": 6,
    "start_time": "2022-11-29T16:51:58.786Z"
   },
   {
    "duration": 4,
    "start_time": "2022-11-29T16:51:58.794Z"
   },
   {
    "duration": 5,
    "start_time": "2022-11-29T16:51:58.800Z"
   },
   {
    "duration": 3,
    "start_time": "2022-11-29T16:51:58.837Z"
   },
   {
    "duration": 6,
    "start_time": "2022-11-29T16:51:58.843Z"
   },
   {
    "duration": 20,
    "start_time": "2022-11-29T16:51:58.851Z"
   },
   {
    "duration": 5,
    "start_time": "2022-11-29T16:51:58.874Z"
   },
   {
    "duration": 15,
    "start_time": "2022-11-29T16:51:58.881Z"
   },
   {
    "duration": 5,
    "start_time": "2022-11-29T16:51:58.901Z"
   },
   {
    "duration": 43,
    "start_time": "2022-11-29T16:51:58.908Z"
   },
   {
    "duration": 18,
    "start_time": "2022-11-29T16:51:58.954Z"
   },
   {
    "duration": 0,
    "start_time": "2022-11-29T16:51:58.974Z"
   },
   {
    "duration": 0,
    "start_time": "2022-11-29T16:51:58.976Z"
   },
   {
    "duration": 0,
    "start_time": "2022-11-29T16:51:58.977Z"
   },
   {
    "duration": 0,
    "start_time": "2022-11-29T16:51:58.980Z"
   },
   {
    "duration": 0,
    "start_time": "2022-11-29T16:51:58.981Z"
   },
   {
    "duration": 0,
    "start_time": "2022-11-29T16:51:58.983Z"
   },
   {
    "duration": 0,
    "start_time": "2022-11-29T16:51:58.985Z"
   },
   {
    "duration": 0,
    "start_time": "2022-11-29T16:51:58.986Z"
   },
   {
    "duration": 0,
    "start_time": "2022-11-29T16:51:58.987Z"
   },
   {
    "duration": 0,
    "start_time": "2022-11-29T16:51:58.988Z"
   },
   {
    "duration": 26,
    "start_time": "2022-11-29T16:52:13.295Z"
   },
   {
    "duration": 25,
    "start_time": "2022-11-29T16:52:30.305Z"
   },
   {
    "duration": 14,
    "start_time": "2022-11-29T16:52:45.672Z"
   },
   {
    "duration": 18,
    "start_time": "2022-11-29T16:52:54.122Z"
   },
   {
    "duration": 15,
    "start_time": "2022-11-29T16:53:50.877Z"
   },
   {
    "duration": 13,
    "start_time": "2022-11-29T16:54:13.190Z"
   },
   {
    "duration": 4,
    "start_time": "2022-11-29T16:58:32.183Z"
   },
   {
    "duration": 4,
    "start_time": "2022-11-29T16:58:49.834Z"
   },
   {
    "duration": 11,
    "start_time": "2022-11-29T16:59:05.450Z"
   },
   {
    "duration": 4,
    "start_time": "2022-11-29T16:59:21.307Z"
   },
   {
    "duration": 3,
    "start_time": "2022-11-29T16:59:28.190Z"
   },
   {
    "duration": 4,
    "start_time": "2022-11-29T16:59:31.595Z"
   },
   {
    "duration": 4,
    "start_time": "2022-11-29T16:59:35.400Z"
   },
   {
    "duration": 4,
    "start_time": "2022-11-29T16:59:57.649Z"
   },
   {
    "duration": 4,
    "start_time": "2022-11-29T16:59:59.789Z"
   },
   {
    "duration": 4,
    "start_time": "2022-11-29T17:00:00.219Z"
   },
   {
    "duration": 4,
    "start_time": "2022-11-29T17:00:00.718Z"
   },
   {
    "duration": 4,
    "start_time": "2022-11-29T17:00:04.657Z"
   },
   {
    "duration": 4,
    "start_time": "2022-11-29T17:00:05.928Z"
   },
   {
    "duration": 4,
    "start_time": "2022-11-29T17:00:06.456Z"
   },
   {
    "duration": 3,
    "start_time": "2022-11-29T17:00:06.887Z"
   },
   {
    "duration": 3,
    "start_time": "2022-11-29T17:00:13.635Z"
   },
   {
    "duration": 4,
    "start_time": "2022-11-29T17:00:14.693Z"
   },
   {
    "duration": 3,
    "start_time": "2022-11-29T17:00:15.222Z"
   },
   {
    "duration": 4,
    "start_time": "2022-11-29T17:00:15.865Z"
   },
   {
    "duration": 3,
    "start_time": "2022-11-29T17:00:28.117Z"
   },
   {
    "duration": 4,
    "start_time": "2022-11-29T17:00:29.065Z"
   },
   {
    "duration": 4,
    "start_time": "2022-11-29T17:00:29.617Z"
   },
   {
    "duration": 4,
    "start_time": "2022-11-29T17:00:30.084Z"
   },
   {
    "duration": 4,
    "start_time": "2022-11-29T17:00:34.859Z"
   },
   {
    "duration": 4,
    "start_time": "2022-11-29T17:00:35.912Z"
   },
   {
    "duration": 4,
    "start_time": "2022-11-29T17:00:36.379Z"
   },
   {
    "duration": 4,
    "start_time": "2022-11-29T17:00:36.990Z"
   },
   {
    "duration": 19,
    "start_time": "2022-11-29T17:02:27.718Z"
   },
   {
    "duration": 16,
    "start_time": "2022-11-29T17:04:03.405Z"
   },
   {
    "duration": 3,
    "start_time": "2022-11-29T17:04:21.219Z"
   },
   {
    "duration": 4,
    "start_time": "2022-11-29T17:04:21.959Z"
   },
   {
    "duration": 4,
    "start_time": "2022-11-29T17:04:22.114Z"
   },
   {
    "duration": 3,
    "start_time": "2022-11-29T17:04:22.317Z"
   },
   {
    "duration": 18,
    "start_time": "2022-11-29T17:04:23.246Z"
   },
   {
    "duration": 15,
    "start_time": "2022-11-29T17:04:25.954Z"
   },
   {
    "duration": 5,
    "start_time": "2022-11-29T17:04:58.151Z"
   },
   {
    "duration": 4,
    "start_time": "2022-11-29T17:04:58.697Z"
   },
   {
    "duration": 6,
    "start_time": "2022-11-29T17:04:59.091Z"
   },
   {
    "duration": 5,
    "start_time": "2022-11-29T17:04:59.417Z"
   },
   {
    "duration": 18,
    "start_time": "2022-11-29T17:05:00.100Z"
   },
   {
    "duration": 16,
    "start_time": "2022-11-29T17:05:01.981Z"
   },
   {
    "duration": 13,
    "start_time": "2022-11-29T17:08:57.031Z"
   },
   {
    "duration": 11,
    "start_time": "2022-11-29T17:09:54.598Z"
   },
   {
    "duration": 15,
    "start_time": "2022-11-29T17:10:05.347Z"
   },
   {
    "duration": 12,
    "start_time": "2022-11-29T17:10:38.938Z"
   },
   {
    "duration": 10,
    "start_time": "2022-11-29T17:11:57.907Z"
   },
   {
    "duration": 4,
    "start_time": "2022-11-29T17:12:04.437Z"
   },
   {
    "duration": 41,
    "start_time": "2022-11-29T17:12:04.446Z"
   },
   {
    "duration": 13,
    "start_time": "2022-11-29T17:12:04.489Z"
   },
   {
    "duration": 13,
    "start_time": "2022-11-29T17:12:04.504Z"
   },
   {
    "duration": 6,
    "start_time": "2022-11-29T17:12:04.518Z"
   },
   {
    "duration": 14,
    "start_time": "2022-11-29T17:12:04.526Z"
   },
   {
    "duration": 6,
    "start_time": "2022-11-29T17:12:04.541Z"
   },
   {
    "duration": 7,
    "start_time": "2022-11-29T17:12:04.548Z"
   },
   {
    "duration": 5,
    "start_time": "2022-11-29T17:12:04.556Z"
   },
   {
    "duration": 15,
    "start_time": "2022-11-29T17:12:04.562Z"
   },
   {
    "duration": 4,
    "start_time": "2022-11-29T17:12:04.578Z"
   },
   {
    "duration": 8,
    "start_time": "2022-11-29T17:12:04.583Z"
   },
   {
    "duration": 5,
    "start_time": "2022-11-29T17:12:04.593Z"
   },
   {
    "duration": 39,
    "start_time": "2022-11-29T17:12:04.599Z"
   },
   {
    "duration": 9,
    "start_time": "2022-11-29T17:12:04.641Z"
   },
   {
    "duration": 29,
    "start_time": "2022-11-29T17:12:04.651Z"
   },
   {
    "duration": 109,
    "start_time": "2022-11-29T17:12:04.682Z"
   },
   {
    "duration": 95,
    "start_time": "2022-11-29T17:12:04.793Z"
   },
   {
    "duration": 19,
    "start_time": "2022-11-29T17:12:04.890Z"
   },
   {
    "duration": 0,
    "start_time": "2022-11-29T17:12:04.911Z"
   },
   {
    "duration": 0,
    "start_time": "2022-11-29T17:12:04.912Z"
   },
   {
    "duration": 0,
    "start_time": "2022-11-29T17:12:04.913Z"
   },
   {
    "duration": 0,
    "start_time": "2022-11-29T17:12:04.914Z"
   },
   {
    "duration": 0,
    "start_time": "2022-11-29T17:12:04.915Z"
   },
   {
    "duration": 0,
    "start_time": "2022-11-29T17:12:04.917Z"
   },
   {
    "duration": 12,
    "start_time": "2022-11-29T17:12:20.981Z"
   },
   {
    "duration": 9,
    "start_time": "2022-11-29T17:13:27.141Z"
   },
   {
    "duration": 9,
    "start_time": "2022-11-29T17:13:36.223Z"
   },
   {
    "duration": 9,
    "start_time": "2022-11-29T17:13:55.403Z"
   },
   {
    "duration": 9,
    "start_time": "2022-11-29T17:15:24.564Z"
   },
   {
    "duration": 11,
    "start_time": "2022-11-29T17:15:31.629Z"
   },
   {
    "duration": 10,
    "start_time": "2022-11-29T17:15:54.626Z"
   },
   {
    "duration": 15,
    "start_time": "2022-11-29T17:16:26.959Z"
   },
   {
    "duration": 11,
    "start_time": "2022-11-29T17:16:54.652Z"
   },
   {
    "duration": 12,
    "start_time": "2022-11-29T17:17:19.487Z"
   },
   {
    "duration": 26,
    "start_time": "2022-11-29T17:18:05.932Z"
   },
   {
    "duration": 29,
    "start_time": "2022-11-29T17:20:09.490Z"
   },
   {
    "duration": 11,
    "start_time": "2022-11-29T17:20:49.816Z"
   },
   {
    "duration": 11,
    "start_time": "2022-11-29T17:21:11.906Z"
   },
   {
    "duration": 10,
    "start_time": "2022-11-29T17:21:36.698Z"
   },
   {
    "duration": 10,
    "start_time": "2022-11-29T17:21:39.658Z"
   },
   {
    "duration": 11,
    "start_time": "2022-11-29T17:22:07.267Z"
   },
   {
    "duration": 12,
    "start_time": "2022-11-29T17:22:18.529Z"
   },
   {
    "duration": 16,
    "start_time": "2022-11-29T17:22:23.497Z"
   },
   {
    "duration": 11,
    "start_time": "2022-11-29T17:22:28.685Z"
   },
   {
    "duration": 10,
    "start_time": "2022-11-29T17:22:39.697Z"
   },
   {
    "duration": 12,
    "start_time": "2022-11-29T17:23:30.923Z"
   },
   {
    "duration": 11,
    "start_time": "2022-11-29T17:23:35.746Z"
   },
   {
    "duration": 12,
    "start_time": "2022-11-29T17:23:39.931Z"
   },
   {
    "duration": 21,
    "start_time": "2022-11-29T17:24:21.914Z"
   },
   {
    "duration": 27,
    "start_time": "2022-11-29T17:24:32.672Z"
   },
   {
    "duration": 24,
    "start_time": "2022-11-29T17:25:00.651Z"
   },
   {
    "duration": 20,
    "start_time": "2022-11-29T17:25:32.815Z"
   },
   {
    "duration": 11,
    "start_time": "2022-11-29T17:25:37.804Z"
   },
   {
    "duration": 11,
    "start_time": "2022-11-29T17:25:41.882Z"
   },
   {
    "duration": 18,
    "start_time": "2022-11-29T17:26:37.461Z"
   },
   {
    "duration": 20,
    "start_time": "2022-11-29T17:27:15.467Z"
   },
   {
    "duration": 6,
    "start_time": "2022-11-29T17:27:49.009Z"
   },
   {
    "duration": 1164,
    "start_time": "2022-11-29T17:27:53.448Z"
   },
   {
    "duration": 20,
    "start_time": "2022-11-29T17:28:02.280Z"
   },
   {
    "duration": 12,
    "start_time": "2022-11-29T17:29:30.420Z"
   },
   {
    "duration": 11,
    "start_time": "2022-11-29T17:29:45.313Z"
   },
   {
    "duration": 24,
    "start_time": "2022-11-29T17:29:57.851Z"
   },
   {
    "duration": 10,
    "start_time": "2022-11-29T17:30:22.142Z"
   },
   {
    "duration": 17,
    "start_time": "2022-11-29T17:31:04.213Z"
   },
   {
    "duration": 33,
    "start_time": "2022-11-29T17:31:12.195Z"
   },
   {
    "duration": 4,
    "start_time": "2022-11-29T17:34:22.788Z"
   },
   {
    "duration": 5,
    "start_time": "2022-11-29T17:34:28.654Z"
   },
   {
    "duration": 4,
    "start_time": "2022-11-29T17:34:33.228Z"
   },
   {
    "duration": 4,
    "start_time": "2022-11-29T17:34:38.836Z"
   },
   {
    "duration": 3,
    "start_time": "2022-11-29T17:34:46.611Z"
   },
   {
    "duration": 4,
    "start_time": "2022-11-29T17:34:47.249Z"
   },
   {
    "duration": 5,
    "start_time": "2022-11-29T17:34:47.698Z"
   },
   {
    "duration": 5,
    "start_time": "2022-11-29T17:34:48.185Z"
   },
   {
    "duration": 23,
    "start_time": "2022-11-29T17:34:49.239Z"
   },
   {
    "duration": 22,
    "start_time": "2022-11-29T17:41:21.037Z"
   },
   {
    "duration": 22,
    "start_time": "2022-11-29T17:42:51.231Z"
   },
   {
    "duration": 26,
    "start_time": "2022-11-29T17:43:02.620Z"
   },
   {
    "duration": 24,
    "start_time": "2022-11-29T17:45:35.110Z"
   },
   {
    "duration": 613,
    "start_time": "2022-11-29T17:46:04.430Z"
   },
   {
    "duration": 24,
    "start_time": "2022-11-29T17:46:33.166Z"
   },
   {
    "duration": 42,
    "start_time": "2022-11-29T17:46:40.908Z"
   },
   {
    "duration": 33,
    "start_time": "2022-11-29T17:47:16.645Z"
   },
   {
    "duration": 22,
    "start_time": "2022-11-29T17:47:32.019Z"
   },
   {
    "duration": 33,
    "start_time": "2022-11-29T17:48:24.313Z"
   },
   {
    "duration": 25,
    "start_time": "2022-11-29T17:48:50.796Z"
   },
   {
    "duration": 25,
    "start_time": "2022-11-29T17:49:26.108Z"
   },
   {
    "duration": 36,
    "start_time": "2022-11-29T17:49:48.449Z"
   },
   {
    "duration": 33,
    "start_time": "2022-11-29T17:50:08.941Z"
   },
   {
    "duration": 28,
    "start_time": "2022-11-29T17:50:35.201Z"
   },
   {
    "duration": 25,
    "start_time": "2022-11-29T17:50:37.564Z"
   },
   {
    "duration": 2,
    "start_time": "2022-11-29T17:50:59.110Z"
   },
   {
    "duration": 4,
    "start_time": "2022-11-29T17:51:06.966Z"
   },
   {
    "duration": 48,
    "start_time": "2022-11-29T17:51:06.971Z"
   },
   {
    "duration": 14,
    "start_time": "2022-11-29T17:51:07.020Z"
   },
   {
    "duration": 15,
    "start_time": "2022-11-29T17:51:07.036Z"
   },
   {
    "duration": 7,
    "start_time": "2022-11-29T17:51:07.053Z"
   },
   {
    "duration": 8,
    "start_time": "2022-11-29T17:51:07.061Z"
   },
   {
    "duration": 5,
    "start_time": "2022-11-29T17:51:07.070Z"
   },
   {
    "duration": 4,
    "start_time": "2022-11-29T17:51:07.077Z"
   },
   {
    "duration": 3,
    "start_time": "2022-11-29T17:51:07.084Z"
   },
   {
    "duration": 15,
    "start_time": "2022-11-29T17:51:07.089Z"
   },
   {
    "duration": 3,
    "start_time": "2022-11-29T17:51:07.105Z"
   },
   {
    "duration": 4,
    "start_time": "2022-11-29T17:51:07.138Z"
   },
   {
    "duration": 13,
    "start_time": "2022-11-29T17:51:07.144Z"
   },
   {
    "duration": 9,
    "start_time": "2022-11-29T17:51:07.159Z"
   },
   {
    "duration": 22,
    "start_time": "2022-11-29T17:51:07.170Z"
   },
   {
    "duration": 45,
    "start_time": "2022-11-29T17:51:07.194Z"
   },
   {
    "duration": 3,
    "start_time": "2022-11-29T17:51:07.240Z"
   },
   {
    "duration": 4137,
    "start_time": "2022-11-29T17:51:07.244Z"
   },
   {
    "duration": 24893,
    "start_time": "2022-11-29T17:51:11.383Z"
   },
   {
    "duration": 960,
    "start_time": "2022-11-29T17:51:36.278Z"
   },
   {
    "duration": 25483,
    "start_time": "2022-11-29T17:51:37.241Z"
   },
   {
    "duration": 195,
    "start_time": "2022-11-29T17:52:02.726Z"
   },
   {
    "duration": 153,
    "start_time": "2022-11-29T17:52:02.923Z"
   },
   {
    "duration": 136,
    "start_time": "2022-11-29T17:52:03.078Z"
   },
   {
    "duration": 133,
    "start_time": "2022-11-29T17:52:03.215Z"
   },
   {
    "duration": 7,
    "start_time": "2022-11-29T17:52:03.350Z"
   },
   {
    "duration": 36,
    "start_time": "2022-11-29T17:53:01.499Z"
   },
   {
    "duration": 27,
    "start_time": "2022-11-29T17:54:12.721Z"
   },
   {
    "duration": 27,
    "start_time": "2022-11-29T17:56:00.858Z"
   },
   {
    "duration": 30,
    "start_time": "2022-11-29T17:56:14.073Z"
   },
   {
    "duration": 5,
    "start_time": "2022-11-29T17:56:15.832Z"
   },
   {
    "duration": 85,
    "start_time": "2022-11-29T17:56:22.580Z"
   },
   {
    "duration": 36,
    "start_time": "2022-11-29T17:57:04.750Z"
   },
   {
    "duration": 3,
    "start_time": "2022-11-29T17:57:05.507Z"
   },
   {
    "duration": 3356,
    "start_time": "2022-11-29T17:57:08.410Z"
   },
   {
    "duration": 24603,
    "start_time": "2022-11-29T17:57:17.561Z"
   },
   {
    "duration": 4,
    "start_time": "2022-11-29T17:57:53.206Z"
   },
   {
    "duration": 300,
    "start_time": "2022-11-29T17:57:53.212Z"
   },
   {
    "duration": 13,
    "start_time": "2022-11-29T17:57:53.513Z"
   },
   {
    "duration": 14,
    "start_time": "2022-11-29T17:57:53.529Z"
   },
   {
    "duration": 7,
    "start_time": "2022-11-29T17:57:53.545Z"
   },
   {
    "duration": 4,
    "start_time": "2022-11-29T17:57:53.553Z"
   },
   {
    "duration": 4,
    "start_time": "2022-11-29T17:57:53.559Z"
   },
   {
    "duration": 5,
    "start_time": "2022-11-29T17:57:53.564Z"
   },
   {
    "duration": 4,
    "start_time": "2022-11-29T17:57:53.571Z"
   },
   {
    "duration": 15,
    "start_time": "2022-11-29T17:57:53.577Z"
   },
   {
    "duration": 3,
    "start_time": "2022-11-29T17:57:53.593Z"
   },
   {
    "duration": 5,
    "start_time": "2022-11-29T17:57:53.598Z"
   },
   {
    "duration": 33,
    "start_time": "2022-11-29T17:57:53.605Z"
   },
   {
    "duration": 4,
    "start_time": "2022-11-29T17:57:53.640Z"
   },
   {
    "duration": 18,
    "start_time": "2022-11-29T17:57:53.645Z"
   },
   {
    "duration": 29,
    "start_time": "2022-11-29T17:57:53.665Z"
   },
   {
    "duration": 2,
    "start_time": "2022-11-29T17:57:53.695Z"
   },
   {
    "duration": 3774,
    "start_time": "2022-11-29T17:57:53.699Z"
   },
   {
    "duration": 24788,
    "start_time": "2022-11-29T17:57:57.475Z"
   },
   {
    "duration": 676,
    "start_time": "2022-11-29T17:58:22.265Z"
   },
   {
    "duration": 24723,
    "start_time": "2022-11-29T17:58:22.944Z"
   },
   {
    "duration": 202,
    "start_time": "2022-11-29T17:58:47.669Z"
   },
   {
    "duration": 181,
    "start_time": "2022-11-29T17:58:47.872Z"
   },
   {
    "duration": 15,
    "start_time": "2022-11-29T17:58:48.056Z"
   },
   {
    "duration": 1,
    "start_time": "2022-11-29T17:58:48.072Z"
   },
   {
    "duration": 0,
    "start_time": "2022-11-29T17:58:48.074Z"
   },
   {
    "duration": 22,
    "start_time": "2022-11-29T17:59:50.376Z"
   },
   {
    "duration": 27,
    "start_time": "2022-11-29T17:59:51.198Z"
   },
   {
    "duration": 8,
    "start_time": "2022-11-29T17:59:52.599Z"
   },
   {
    "duration": 210,
    "start_time": "2022-11-29T18:03:06.330Z"
   },
   {
    "duration": 15,
    "start_time": "2022-11-29T18:05:43.328Z"
   },
   {
    "duration": 13,
    "start_time": "2022-11-29T18:05:46.214Z"
   },
   {
    "duration": 7,
    "start_time": "2022-11-29T18:05:51.903Z"
   },
   {
    "duration": 28,
    "start_time": "2022-11-29T18:06:02.373Z"
   },
   {
    "duration": 8,
    "start_time": "2022-11-29T18:07:29.941Z"
   },
   {
    "duration": 25,
    "start_time": "2022-11-29T18:07:34.649Z"
   },
   {
    "duration": 24,
    "start_time": "2022-11-29T18:07:52.553Z"
   },
   {
    "duration": 29,
    "start_time": "2022-11-29T18:08:05.426Z"
   },
   {
    "duration": 28,
    "start_time": "2022-11-29T18:08:10.704Z"
   },
   {
    "duration": 22,
    "start_time": "2022-11-29T18:09:33.578Z"
   },
   {
    "duration": 24,
    "start_time": "2022-11-29T18:09:40.607Z"
   },
   {
    "duration": 15,
    "start_time": "2022-11-29T18:09:45.919Z"
   },
   {
    "duration": 24,
    "start_time": "2022-11-29T18:10:08.438Z"
   },
   {
    "duration": 10,
    "start_time": "2022-11-29T18:11:19.773Z"
   },
   {
    "duration": 8,
    "start_time": "2022-11-29T18:12:23.430Z"
   },
   {
    "duration": 13,
    "start_time": "2022-11-29T18:12:26.557Z"
   },
   {
    "duration": 15,
    "start_time": "2022-11-29T18:13:33.748Z"
   },
   {
    "duration": 8,
    "start_time": "2022-11-29T18:14:10.839Z"
   },
   {
    "duration": 16,
    "start_time": "2022-11-29T18:14:13.824Z"
   },
   {
    "duration": 15,
    "start_time": "2022-11-29T18:14:21.249Z"
   },
   {
    "duration": 134,
    "start_time": "2022-11-29T18:14:26.414Z"
   },
   {
    "duration": 14,
    "start_time": "2022-11-29T18:14:48.074Z"
   },
   {
    "duration": 15,
    "start_time": "2022-11-29T18:15:03.901Z"
   },
   {
    "duration": 11,
    "start_time": "2022-11-29T18:15:24.073Z"
   },
   {
    "duration": 136,
    "start_time": "2022-11-29T18:15:31.719Z"
   },
   {
    "duration": 10,
    "start_time": "2022-11-29T18:16:13.359Z"
   },
   {
    "duration": 9,
    "start_time": "2022-11-29T18:16:22.073Z"
   },
   {
    "duration": 15,
    "start_time": "2022-11-29T18:16:25.517Z"
   },
   {
    "duration": 10,
    "start_time": "2022-11-29T18:16:31.145Z"
   },
   {
    "duration": 135,
    "start_time": "2022-11-29T18:16:34.032Z"
   },
   {
    "duration": 129,
    "start_time": "2022-11-29T18:16:36.710Z"
   },
   {
    "duration": 8,
    "start_time": "2022-11-29T18:17:09.166Z"
   },
   {
    "duration": 12,
    "start_time": "2022-11-29T18:17:14.107Z"
   },
   {
    "duration": 9,
    "start_time": "2022-11-29T18:17:59.214Z"
   },
   {
    "duration": 138,
    "start_time": "2022-11-29T18:18:01.827Z"
   },
   {
    "duration": 12,
    "start_time": "2022-11-29T18:18:58.843Z"
   },
   {
    "duration": 13,
    "start_time": "2022-11-29T18:19:01.708Z"
   },
   {
    "duration": 135,
    "start_time": "2022-11-29T18:20:06.571Z"
   },
   {
    "duration": 12,
    "start_time": "2022-11-29T18:20:26.656Z"
   },
   {
    "duration": 31,
    "start_time": "2022-11-29T18:23:07.134Z"
   },
   {
    "duration": 22,
    "start_time": "2022-11-29T18:23:11.884Z"
   },
   {
    "duration": 23,
    "start_time": "2022-11-29T18:26:27.687Z"
   },
   {
    "duration": 23,
    "start_time": "2022-11-29T18:28:42.841Z"
   },
   {
    "duration": 35,
    "start_time": "2022-11-29T18:28:47.389Z"
   },
   {
    "duration": 29,
    "start_time": "2022-11-29T18:29:07.595Z"
   },
   {
    "duration": 26,
    "start_time": "2022-11-29T18:29:53.788Z"
   },
   {
    "duration": 29,
    "start_time": "2022-11-29T18:30:02.925Z"
   },
   {
    "duration": 25,
    "start_time": "2022-11-29T18:30:03.597Z"
   },
   {
    "duration": 133,
    "start_time": "2022-11-29T18:30:06.173Z"
   },
   {
    "duration": 44,
    "start_time": "2022-11-29T18:30:39.114Z"
   },
   {
    "duration": 25,
    "start_time": "2022-11-29T18:30:44.950Z"
   },
   {
    "duration": 136,
    "start_time": "2022-11-29T18:31:13.187Z"
   },
   {
    "duration": 3137,
    "start_time": "2022-11-29T18:32:01.107Z"
   },
   {
    "duration": 1497,
    "start_time": "2022-11-29T18:32:34.518Z"
   },
   {
    "duration": 40,
    "start_time": "2022-11-29T18:32:36.018Z"
   },
   {
    "duration": 20,
    "start_time": "2022-11-29T18:32:36.060Z"
   },
   {
    "duration": 12,
    "start_time": "2022-11-29T18:32:36.082Z"
   },
   {
    "duration": 7,
    "start_time": "2022-11-29T18:32:36.096Z"
   },
   {
    "duration": 4,
    "start_time": "2022-11-29T18:32:36.105Z"
   },
   {
    "duration": 27,
    "start_time": "2022-11-29T18:32:36.111Z"
   },
   {
    "duration": 3,
    "start_time": "2022-11-29T18:32:36.141Z"
   },
   {
    "duration": 6,
    "start_time": "2022-11-29T18:32:36.146Z"
   },
   {
    "duration": 17,
    "start_time": "2022-11-29T18:32:36.155Z"
   },
   {
    "duration": 3,
    "start_time": "2022-11-29T18:32:36.173Z"
   },
   {
    "duration": 9,
    "start_time": "2022-11-29T18:32:36.178Z"
   },
   {
    "duration": 5,
    "start_time": "2022-11-29T18:32:36.189Z"
   },
   {
    "duration": 7,
    "start_time": "2022-11-29T18:32:36.196Z"
   },
   {
    "duration": 43,
    "start_time": "2022-11-29T18:32:36.205Z"
   },
   {
    "duration": 136,
    "start_time": "2022-11-29T18:32:36.250Z"
   },
   {
    "duration": 0,
    "start_time": "2022-11-29T18:32:36.387Z"
   },
   {
    "duration": 0,
    "start_time": "2022-11-29T18:32:36.388Z"
   },
   {
    "duration": 0,
    "start_time": "2022-11-29T18:32:36.389Z"
   },
   {
    "duration": 0,
    "start_time": "2022-11-29T18:32:36.391Z"
   },
   {
    "duration": 0,
    "start_time": "2022-11-29T18:32:36.392Z"
   },
   {
    "duration": 0,
    "start_time": "2022-11-29T18:32:36.393Z"
   },
   {
    "duration": 0,
    "start_time": "2022-11-29T18:32:36.394Z"
   },
   {
    "duration": 0,
    "start_time": "2022-11-29T18:32:36.395Z"
   },
   {
    "duration": 0,
    "start_time": "2022-11-29T18:32:36.396Z"
   },
   {
    "duration": 0,
    "start_time": "2022-11-29T18:32:36.397Z"
   },
   {
    "duration": 49,
    "start_time": "2022-11-29T18:32:59.755Z"
   },
   {
    "duration": 1340,
    "start_time": "2022-11-29T18:33:08.662Z"
   },
   {
    "duration": 38,
    "start_time": "2022-11-29T18:33:10.004Z"
   },
   {
    "duration": 19,
    "start_time": "2022-11-29T18:33:10.044Z"
   },
   {
    "duration": 13,
    "start_time": "2022-11-29T18:33:10.065Z"
   },
   {
    "duration": 7,
    "start_time": "2022-11-29T18:33:10.080Z"
   },
   {
    "duration": 5,
    "start_time": "2022-11-29T18:33:10.089Z"
   },
   {
    "duration": 4,
    "start_time": "2022-11-29T18:33:10.096Z"
   },
   {
    "duration": 2,
    "start_time": "2022-11-29T18:33:10.138Z"
   },
   {
    "duration": 5,
    "start_time": "2022-11-29T18:33:10.142Z"
   },
   {
    "duration": 17,
    "start_time": "2022-11-29T18:33:10.149Z"
   },
   {
    "duration": 3,
    "start_time": "2022-11-29T18:33:10.168Z"
   },
   {
    "duration": 7,
    "start_time": "2022-11-29T18:33:10.172Z"
   },
   {
    "duration": 11,
    "start_time": "2022-11-29T18:33:10.180Z"
   },
   {
    "duration": 6,
    "start_time": "2022-11-29T18:33:10.192Z"
   },
   {
    "duration": 16,
    "start_time": "2022-11-29T18:33:10.200Z"
   },
   {
    "duration": 42,
    "start_time": "2022-11-29T18:33:10.218Z"
   },
   {
    "duration": 23,
    "start_time": "2022-11-29T18:33:10.261Z"
   },
   {
    "duration": 3932,
    "start_time": "2022-11-29T18:33:10.286Z"
   },
   {
    "duration": 23948,
    "start_time": "2022-11-29T18:33:14.220Z"
   },
   {
    "duration": 371,
    "start_time": "2022-11-29T18:33:38.169Z"
   },
   {
    "duration": 24505,
    "start_time": "2022-11-29T18:33:38.543Z"
   },
   {
    "duration": 279,
    "start_time": "2022-11-29T18:34:03.050Z"
   },
   {
    "duration": 158,
    "start_time": "2022-11-29T18:34:03.330Z"
   },
   {
    "duration": 134,
    "start_time": "2022-11-29T18:34:03.490Z"
   },
   {
    "duration": 138,
    "start_time": "2022-11-29T18:34:03.625Z"
   },
   {
    "duration": 9,
    "start_time": "2022-11-29T18:34:03.764Z"
   },
   {
    "duration": 332,
    "start_time": "2022-11-29T18:35:22.222Z"
   },
   {
    "duration": 230,
    "start_time": "2022-11-29T18:35:31.672Z"
   },
   {
    "duration": 165,
    "start_time": "2022-11-29T18:36:01.719Z"
   },
   {
    "duration": 180,
    "start_time": "2022-11-29T18:36:18.683Z"
   },
   {
    "duration": 166,
    "start_time": "2022-11-29T18:36:32.653Z"
   },
   {
    "duration": 47175,
    "start_time": "2022-11-29T18:37:45.364Z"
   },
   {
    "duration": 122,
    "start_time": "2022-11-29T18:39:12.585Z"
   },
   {
    "duration": 132,
    "start_time": "2022-11-29T18:39:20.266Z"
   },
   {
    "duration": 1153,
    "start_time": "2022-11-29T18:39:24.271Z"
   },
   {
    "duration": 853,
    "start_time": "2022-11-29T18:39:29.784Z"
   },
   {
    "duration": 741,
    "start_time": "2022-11-29T18:39:34.065Z"
   },
   {
    "duration": 610,
    "start_time": "2022-11-29T18:39:38.375Z"
   },
   {
    "duration": 115,
    "start_time": "2022-11-29T18:39:42.914Z"
   },
   {
    "duration": 1471,
    "start_time": "2022-11-29T18:40:46.879Z"
   },
   {
    "duration": 31692,
    "start_time": "2022-11-29T18:40:54.181Z"
   },
   {
    "duration": 65866,
    "start_time": "2022-11-29T18:42:00.231Z"
   },
   {
    "duration": 60,
    "start_time": "2022-11-29T18:43:29.997Z"
   },
   {
    "duration": 199768,
    "start_time": "2022-11-29T18:43:38.343Z"
   },
   {
    "duration": 1291,
    "start_time": "2022-11-29T18:48:08.978Z"
   },
   {
    "duration": 78,
    "start_time": "2022-11-29T18:48:10.271Z"
   },
   {
    "duration": 18,
    "start_time": "2022-11-29T18:48:10.351Z"
   },
   {
    "duration": 11,
    "start_time": "2022-11-29T18:48:10.370Z"
   },
   {
    "duration": 7,
    "start_time": "2022-11-29T18:48:10.437Z"
   },
   {
    "duration": 4,
    "start_time": "2022-11-29T18:48:10.446Z"
   },
   {
    "duration": 6,
    "start_time": "2022-11-29T18:48:10.451Z"
   },
   {
    "duration": 9,
    "start_time": "2022-11-29T18:48:10.458Z"
   },
   {
    "duration": 13,
    "start_time": "2022-11-29T18:48:10.468Z"
   },
   {
    "duration": 65,
    "start_time": "2022-11-29T18:48:10.482Z"
   },
   {
    "duration": 2,
    "start_time": "2022-11-29T18:48:10.549Z"
   },
   {
    "duration": 6,
    "start_time": "2022-11-29T18:48:10.553Z"
   },
   {
    "duration": 5,
    "start_time": "2022-11-29T18:48:10.561Z"
   },
   {
    "duration": 8,
    "start_time": "2022-11-29T18:48:10.568Z"
   },
   {
    "duration": 65,
    "start_time": "2022-11-29T18:48:10.578Z"
   },
   {
    "duration": 26,
    "start_time": "2022-11-29T18:48:10.645Z"
   },
   {
    "duration": 79,
    "start_time": "2022-11-29T18:48:10.673Z"
   },
   {
    "duration": 3812,
    "start_time": "2022-11-29T18:48:10.753Z"
   },
   {
    "duration": 24729,
    "start_time": "2022-11-29T18:48:14.567Z"
   },
   {
    "duration": 341,
    "start_time": "2022-11-29T18:48:39.297Z"
   },
   {
    "duration": 42718,
    "start_time": "2022-11-29T18:48:39.641Z"
   },
   {
    "duration": 48549,
    "start_time": "2022-11-29T18:49:22.361Z"
   },
   {
    "duration": 244,
    "start_time": "2022-11-29T18:50:10.912Z"
   },
   {
    "duration": 105,
    "start_time": "2022-11-29T18:50:11.157Z"
   },
   {
    "duration": 136,
    "start_time": "2022-11-29T18:50:11.264Z"
   },
   {
    "duration": 7,
    "start_time": "2022-11-29T18:50:11.402Z"
   },
   {
    "duration": 138,
    "start_time": "2022-11-29T18:50:18.799Z"
   },
   {
    "duration": 184,
    "start_time": "2022-11-29T18:50:28.996Z"
   },
   {
    "duration": 154,
    "start_time": "2022-11-29T18:50:31.486Z"
   },
   {
    "duration": 149,
    "start_time": "2022-11-29T18:50:43.703Z"
   },
   {
    "duration": 141,
    "start_time": "2022-11-29T18:50:48.470Z"
   },
   {
    "duration": 19,
    "start_time": "2022-11-29T18:51:21.833Z"
   },
   {
    "duration": 128,
    "start_time": "2022-11-29T18:51:35.216Z"
   },
   {
    "duration": 142,
    "start_time": "2022-11-29T18:51:40.543Z"
   },
   {
    "duration": 2,
    "start_time": "2022-11-29T18:53:47.630Z"
   },
   {
    "duration": 4,
    "start_time": "2022-11-29T18:53:48.465Z"
   },
   {
    "duration": 4,
    "start_time": "2022-11-29T18:53:49.107Z"
   },
   {
    "duration": 3,
    "start_time": "2022-11-29T18:53:49.353Z"
   },
   {
    "duration": 4,
    "start_time": "2022-11-29T18:53:49.512Z"
   },
   {
    "duration": 18,
    "start_time": "2022-11-29T18:53:49.745Z"
   },
   {
    "duration": 25,
    "start_time": "2022-11-29T18:53:50.606Z"
   },
   {
    "duration": 24,
    "start_time": "2022-11-29T18:53:51.720Z"
   },
   {
    "duration": 3121,
    "start_time": "2022-11-29T18:53:53.465Z"
   },
   {
    "duration": 37,
    "start_time": "2022-11-29T18:54:12.705Z"
   },
   {
    "duration": 4,
    "start_time": "2022-11-29T18:54:20.817Z"
   },
   {
    "duration": 46,
    "start_time": "2022-11-29T18:54:20.826Z"
   },
   {
    "duration": 15,
    "start_time": "2022-11-29T18:54:20.874Z"
   },
   {
    "duration": 13,
    "start_time": "2022-11-29T18:54:20.891Z"
   },
   {
    "duration": 7,
    "start_time": "2022-11-29T18:54:20.906Z"
   },
   {
    "duration": 4,
    "start_time": "2022-11-29T18:54:20.915Z"
   },
   {
    "duration": 11,
    "start_time": "2022-11-29T18:54:20.920Z"
   },
   {
    "duration": 3,
    "start_time": "2022-11-29T18:54:20.938Z"
   },
   {
    "duration": 5,
    "start_time": "2022-11-29T18:54:20.943Z"
   },
   {
    "duration": 7,
    "start_time": "2022-11-29T18:54:20.950Z"
   },
   {
    "duration": 4,
    "start_time": "2022-11-29T18:54:20.959Z"
   },
   {
    "duration": 7,
    "start_time": "2022-11-29T18:54:20.965Z"
   },
   {
    "duration": 7,
    "start_time": "2022-11-29T18:54:20.973Z"
   },
   {
    "duration": 7,
    "start_time": "2022-11-29T18:54:20.981Z"
   },
   {
    "duration": 20,
    "start_time": "2022-11-29T18:54:20.991Z"
   },
   {
    "duration": 27,
    "start_time": "2022-11-29T18:54:21.038Z"
   },
   {
    "duration": 26,
    "start_time": "2022-11-29T18:54:21.066Z"
   },
   {
    "duration": 3933,
    "start_time": "2022-11-29T18:54:21.094Z"
   },
   {
    "duration": 52,
    "start_time": "2022-11-29T18:54:25.029Z"
   },
   {
    "duration": 0,
    "start_time": "2022-11-29T18:54:25.082Z"
   },
   {
    "duration": 0,
    "start_time": "2022-11-29T18:54:25.083Z"
   },
   {
    "duration": 0,
    "start_time": "2022-11-29T18:54:25.084Z"
   },
   {
    "duration": 0,
    "start_time": "2022-11-29T18:54:25.086Z"
   },
   {
    "duration": 0,
    "start_time": "2022-11-29T18:54:25.086Z"
   },
   {
    "duration": 0,
    "start_time": "2022-11-29T18:54:25.087Z"
   },
   {
    "duration": 0,
    "start_time": "2022-11-29T18:54:25.088Z"
   },
   {
    "duration": 23463,
    "start_time": "2022-11-29T18:54:51.109Z"
   },
   {
    "duration": 23250,
    "start_time": "2022-11-29T18:55:54.891Z"
   },
   {
    "duration": 42779,
    "start_time": "2022-11-29T18:56:39.890Z"
   },
   {
    "duration": 144,
    "start_time": "2022-11-29T18:58:29.048Z"
   },
   {
    "duration": 147,
    "start_time": "2022-11-29T18:58:39.313Z"
   },
   {
    "duration": 153,
    "start_time": "2022-11-29T18:58:44.287Z"
   },
   {
    "duration": 186,
    "start_time": "2022-11-29T18:58:48.628Z"
   },
   {
    "duration": 177,
    "start_time": "2022-11-29T18:58:51.682Z"
   },
   {
    "duration": 165,
    "start_time": "2022-11-29T18:58:54.978Z"
   },
   {
    "duration": 162,
    "start_time": "2022-11-29T18:58:58.347Z"
   },
   {
    "duration": 159,
    "start_time": "2022-11-29T18:59:00.350Z"
   },
   {
    "duration": 110679,
    "start_time": "2022-11-29T18:59:13.090Z"
   },
   {
    "duration": 44,
    "start_time": "2022-11-29T19:02:23.745Z"
   },
   {
    "duration": 27,
    "start_time": "2022-11-29T19:02:39.637Z"
   },
   {
    "duration": 40,
    "start_time": "2022-11-29T19:02:43.460Z"
   },
   {
    "duration": 19,
    "start_time": "2022-11-29T19:03:13.397Z"
   },
   {
    "duration": 34,
    "start_time": "2022-11-29T19:03:20.699Z"
   },
   {
    "duration": 32,
    "start_time": "2022-11-29T19:03:27.779Z"
   },
   {
    "duration": 21,
    "start_time": "2022-11-29T19:03:34.215Z"
   },
   {
    "duration": 18,
    "start_time": "2022-11-29T19:03:41.777Z"
   },
   {
    "duration": 3282,
    "start_time": "2022-11-29T19:03:44.576Z"
   },
   {
    "duration": 176,
    "start_time": "2022-11-29T19:03:56.216Z"
   },
   {
    "duration": 25203,
    "start_time": "2022-11-29T19:04:15.536Z"
   },
   {
    "duration": 7772,
    "start_time": "2022-11-29T19:05:20.254Z"
   },
   {
    "duration": 138,
    "start_time": "2022-11-29T19:06:11.761Z"
   },
   {
    "duration": 44889,
    "start_time": "2022-11-29T19:06:29.450Z"
   },
   {
    "duration": 159,
    "start_time": "2022-11-29T19:07:39.135Z"
   },
   {
    "duration": 27,
    "start_time": "2022-11-29T19:14:25.148Z"
   },
   {
    "duration": 24,
    "start_time": "2022-11-29T19:14:28.669Z"
   },
   {
    "duration": 4,
    "start_time": "2022-11-29T19:18:25.062Z"
   },
   {
    "duration": 4,
    "start_time": "2022-11-29T19:18:25.846Z"
   },
   {
    "duration": 4,
    "start_time": "2022-11-29T19:18:26.195Z"
   },
   {
    "duration": 4,
    "start_time": "2022-11-29T19:18:26.498Z"
   },
   {
    "duration": 25,
    "start_time": "2022-11-29T19:18:28.674Z"
   },
   {
    "duration": 25,
    "start_time": "2022-11-29T19:18:31.633Z"
   },
   {
    "duration": 8,
    "start_time": "2022-11-29T19:18:32.854Z"
   },
   {
    "duration": 3160,
    "start_time": "2022-11-29T19:18:35.647Z"
   },
   {
    "duration": 24621,
    "start_time": "2022-11-29T19:18:38.809Z"
   },
   {
    "duration": 511,
    "start_time": "2022-11-29T19:19:03.437Z"
   },
   {
    "duration": 43531,
    "start_time": "2022-11-29T19:19:03.951Z"
   },
   {
    "duration": 159,
    "start_time": "2022-11-29T19:20:17.981Z"
   },
   {
    "duration": 138,
    "start_time": "2022-11-29T19:20:21.370Z"
   },
   {
    "duration": 1411,
    "start_time": "2022-11-29T19:20:39.321Z"
   },
   {
    "duration": 40,
    "start_time": "2022-11-29T19:20:40.734Z"
   },
   {
    "duration": 30,
    "start_time": "2022-11-29T19:20:40.776Z"
   },
   {
    "duration": 18,
    "start_time": "2022-11-29T19:20:40.809Z"
   },
   {
    "duration": 9,
    "start_time": "2022-11-29T19:20:40.829Z"
   },
   {
    "duration": 6,
    "start_time": "2022-11-29T19:20:40.841Z"
   },
   {
    "duration": 5,
    "start_time": "2022-11-29T19:20:40.849Z"
   },
   {
    "duration": 4,
    "start_time": "2022-11-29T19:20:40.856Z"
   },
   {
    "duration": 4,
    "start_time": "2022-11-29T19:20:40.862Z"
   },
   {
    "duration": 3,
    "start_time": "2022-11-29T19:20:40.870Z"
   },
   {
    "duration": 8,
    "start_time": "2022-11-29T19:20:40.875Z"
   },
   {
    "duration": 7,
    "start_time": "2022-11-29T19:20:40.884Z"
   },
   {
    "duration": 4,
    "start_time": "2022-11-29T19:20:40.893Z"
   },
   {
    "duration": 40,
    "start_time": "2022-11-29T19:20:40.899Z"
   },
   {
    "duration": 27,
    "start_time": "2022-11-29T19:20:40.941Z"
   },
   {
    "duration": 27,
    "start_time": "2022-11-29T19:20:40.970Z"
   },
   {
    "duration": 8,
    "start_time": "2022-11-29T19:20:40.999Z"
   },
   {
    "duration": 6330,
    "start_time": "2022-11-29T19:20:41.009Z"
   },
   {
    "duration": 24858,
    "start_time": "2022-11-29T19:20:47.341Z"
   },
   {
    "duration": 151,
    "start_time": "2022-11-29T19:21:12.200Z"
   },
   {
    "duration": 43137,
    "start_time": "2022-11-29T19:21:12.439Z"
   },
   {
    "duration": 49813,
    "start_time": "2022-11-29T19:21:55.578Z"
   },
   {
    "duration": 253,
    "start_time": "2022-11-29T19:22:45.394Z"
   },
   {
    "duration": 143,
    "start_time": "2022-11-29T19:22:45.649Z"
   },
   {
    "duration": 137,
    "start_time": "2022-11-29T19:22:45.794Z"
   },
   {
    "duration": 8,
    "start_time": "2022-11-29T19:22:45.936Z"
   },
   {
    "duration": 593,
    "start_time": "2022-11-29T19:22:45.946Z"
   },
   {
    "duration": 77,
    "start_time": "2022-11-29T19:23:20.545Z"
   },
   {
    "duration": 253,
    "start_time": "2022-11-29T19:23:27.394Z"
   },
   {
    "duration": 5,
    "start_time": "2022-11-29T19:23:39.460Z"
   },
   {
    "duration": 347,
    "start_time": "2022-11-29T19:23:43.692Z"
   },
   {
    "duration": 28,
    "start_time": "2022-11-29T19:24:44.968Z"
   },
   {
    "duration": 24,
    "start_time": "2022-11-29T19:24:45.885Z"
   },
   {
    "duration": 138,
    "start_time": "2022-11-29T19:24:48.679Z"
   },
   {
    "duration": 7,
    "start_time": "2022-11-29T19:25:04.863Z"
   },
   {
    "duration": 143,
    "start_time": "2022-11-29T19:25:09.034Z"
   },
   {
    "duration": 157,
    "start_time": "2022-11-29T19:25:14.829Z"
   },
   {
    "duration": 178,
    "start_time": "2022-11-29T19:25:18.594Z"
   },
   {
    "duration": 211,
    "start_time": "2022-11-29T19:25:22.187Z"
   },
   {
    "duration": 167,
    "start_time": "2022-11-29T19:25:27.054Z"
   },
   {
    "duration": 165,
    "start_time": "2022-11-29T19:25:30.535Z"
   },
   {
    "duration": 162,
    "start_time": "2022-11-29T19:25:33.179Z"
   },
   {
    "duration": 151,
    "start_time": "2022-11-29T19:25:36.837Z"
   },
   {
    "duration": 151,
    "start_time": "2022-11-29T19:25:39.806Z"
   },
   {
    "duration": 142,
    "start_time": "2022-11-29T19:25:42.475Z"
   },
   {
    "duration": 131,
    "start_time": "2022-11-29T19:25:45.614Z"
   },
   {
    "duration": 155,
    "start_time": "2022-11-29T19:25:48.906Z"
   },
   {
    "duration": 138,
    "start_time": "2022-11-29T19:26:07.628Z"
   },
   {
    "duration": 147,
    "start_time": "2022-11-29T19:26:10.947Z"
   },
   {
    "duration": 148,
    "start_time": "2022-11-29T19:26:14.357Z"
   },
   {
    "duration": 168,
    "start_time": "2022-11-29T19:26:17.436Z"
   },
   {
    "duration": 140,
    "start_time": "2022-11-29T19:26:20.087Z"
   },
   {
    "duration": 68,
    "start_time": "2022-11-29T19:29:32.085Z"
   },
   {
    "duration": 86,
    "start_time": "2022-11-29T19:29:48.564Z"
   },
   {
    "duration": 88,
    "start_time": "2022-11-29T19:30:13.718Z"
   },
   {
    "duration": 89,
    "start_time": "2022-11-29T19:30:26.994Z"
   },
   {
    "duration": 85,
    "start_time": "2022-11-29T19:30:32.381Z"
   },
   {
    "duration": 85,
    "start_time": "2022-11-29T19:31:11.206Z"
   },
   {
    "duration": 82,
    "start_time": "2022-11-29T19:31:36.379Z"
   },
   {
    "duration": 75,
    "start_time": "2022-11-29T19:31:40.083Z"
   },
   {
    "duration": 84,
    "start_time": "2022-11-29T19:31:45.258Z"
   },
   {
    "duration": 85,
    "start_time": "2022-11-29T19:32:31.119Z"
   },
   {
    "duration": 117,
    "start_time": "2022-11-29T19:32:44.811Z"
   },
   {
    "duration": 128,
    "start_time": "2022-11-29T19:32:47.864Z"
   },
   {
    "duration": 111,
    "start_time": "2022-11-29T19:33:06.248Z"
   },
   {
    "duration": 78,
    "start_time": "2022-11-29T19:35:01.142Z"
   },
   {
    "duration": 137,
    "start_time": "2022-11-29T19:35:25.017Z"
   },
   {
    "duration": 113,
    "start_time": "2022-11-29T19:35:41.303Z"
   },
   {
    "duration": 89,
    "start_time": "2022-11-29T19:35:50.433Z"
   },
   {
    "duration": 113,
    "start_time": "2022-11-29T19:37:12.506Z"
   },
   {
    "duration": 117,
    "start_time": "2022-11-29T19:37:17.212Z"
   },
   {
    "duration": 115,
    "start_time": "2022-11-29T19:37:30.149Z"
   },
   {
    "duration": 78,
    "start_time": "2022-11-29T19:40:56.193Z"
   },
   {
    "duration": 86,
    "start_time": "2022-11-29T19:41:15.494Z"
   },
   {
    "duration": 15593,
    "start_time": "2022-11-29T19:41:54.700Z"
   },
   {
    "duration": 188,
    "start_time": "2022-11-29T19:43:02.560Z"
   },
   {
    "duration": 147,
    "start_time": "2022-11-29T19:43:13.142Z"
   },
   {
    "duration": 194,
    "start_time": "2022-11-29T19:43:22.027Z"
   },
   {
    "duration": 25301,
    "start_time": "2022-11-29T19:43:51.644Z"
   },
   {
    "duration": 14062,
    "start_time": "2022-11-29T19:44:47.691Z"
   },
   {
    "duration": 137,
    "start_time": "2022-11-29T19:45:40.548Z"
   },
   {
    "duration": 137,
    "start_time": "2022-11-29T19:45:45.252Z"
   },
   {
    "duration": 24021,
    "start_time": "2022-11-29T19:46:19.305Z"
   },
   {
    "duration": 171,
    "start_time": "2022-11-29T19:46:59.321Z"
   },
   {
    "duration": 232,
    "start_time": "2022-11-29T19:47:10.533Z"
   },
   {
    "duration": 174,
    "start_time": "2022-11-29T19:47:13.442Z"
   },
   {
    "duration": 22286,
    "start_time": "2022-11-29T19:47:34.966Z"
   },
   {
    "duration": 35977,
    "start_time": "2022-11-29T19:48:24.118Z"
   },
   {
    "duration": 55579,
    "start_time": "2022-11-29T19:50:54.603Z"
   },
   {
    "duration": 188,
    "start_time": "2022-11-29T19:52:06.866Z"
   },
   {
    "duration": 146,
    "start_time": "2022-11-29T19:52:18.175Z"
   },
   {
    "duration": 6625,
    "start_time": "2022-11-29T19:52:51.563Z"
   },
   {
    "duration": 123,
    "start_time": "2022-11-29T19:54:16.310Z"
   },
   {
    "duration": 118,
    "start_time": "2022-11-29T19:54:21.192Z"
   },
   {
    "duration": 121,
    "start_time": "2022-11-29T19:54:26.685Z"
   },
   {
    "duration": 153,
    "start_time": "2022-11-29T19:54:31.794Z"
   },
   {
    "duration": 124,
    "start_time": "2022-11-29T19:54:34.350Z"
   },
   {
    "duration": 18915,
    "start_time": "2022-11-29T19:54:50.601Z"
   },
   {
    "duration": 175,
    "start_time": "2022-11-29T19:55:27.885Z"
   },
   {
    "duration": 18693,
    "start_time": "2022-11-29T19:55:52.066Z"
   },
   {
    "duration": 8862,
    "start_time": "2022-11-29T19:56:44.012Z"
   },
   {
    "duration": 115,
    "start_time": "2022-11-29T19:57:09.651Z"
   },
   {
    "duration": 24423,
    "start_time": "2022-11-29T19:57:34.239Z"
   },
   {
    "duration": 49680,
    "start_time": "2022-11-29T19:58:11.843Z"
   },
   {
    "duration": 158,
    "start_time": "2022-11-29T19:59:10.866Z"
   },
   {
    "duration": 177,
    "start_time": "2022-11-29T19:59:17.855Z"
   },
   {
    "duration": 175,
    "start_time": "2022-11-29T19:59:27.454Z"
   },
   {
    "duration": 29833,
    "start_time": "2022-11-29T20:00:33.882Z"
   },
   {
    "duration": 134,
    "start_time": "2022-11-29T20:02:15.478Z"
   },
   {
    "duration": 158,
    "start_time": "2022-11-29T20:03:14.340Z"
   },
   {
    "duration": 1331,
    "start_time": "2022-11-29T20:03:40.442Z"
   },
   {
    "duration": 41,
    "start_time": "2022-11-29T20:03:41.775Z"
   },
   {
    "duration": 18,
    "start_time": "2022-11-29T20:03:41.817Z"
   },
   {
    "duration": 14,
    "start_time": "2022-11-29T20:03:41.837Z"
   },
   {
    "duration": 14,
    "start_time": "2022-11-29T20:03:41.853Z"
   },
   {
    "duration": 9,
    "start_time": "2022-11-29T20:03:41.868Z"
   },
   {
    "duration": 6,
    "start_time": "2022-11-29T20:03:41.878Z"
   },
   {
    "duration": 4,
    "start_time": "2022-11-29T20:03:41.886Z"
   },
   {
    "duration": 9,
    "start_time": "2022-11-29T20:03:41.891Z"
   },
   {
    "duration": 6,
    "start_time": "2022-11-29T20:03:41.902Z"
   },
   {
    "duration": 13,
    "start_time": "2022-11-29T20:03:41.909Z"
   },
   {
    "duration": 14,
    "start_time": "2022-11-29T20:03:41.924Z"
   },
   {
    "duration": 8,
    "start_time": "2022-11-29T20:03:41.940Z"
   },
   {
    "duration": 11,
    "start_time": "2022-11-29T20:03:41.950Z"
   },
   {
    "duration": 26,
    "start_time": "2022-11-29T20:03:41.962Z"
   },
   {
    "duration": 23,
    "start_time": "2022-11-29T20:03:41.990Z"
   },
   {
    "duration": 7,
    "start_time": "2022-11-29T20:03:42.015Z"
   },
   {
    "duration": 3118,
    "start_time": "2022-11-29T20:03:42.023Z"
   },
   {
    "duration": 24387,
    "start_time": "2022-11-29T20:03:45.143Z"
   },
   {
    "duration": 308,
    "start_time": "2022-11-29T20:04:09.538Z"
   },
   {
    "duration": 24013,
    "start_time": "2022-11-29T20:04:09.938Z"
   },
   {
    "duration": 26894,
    "start_time": "2022-11-29T20:04:33.952Z"
   },
   {
    "duration": 16820,
    "start_time": "2022-11-29T20:05:00.848Z"
   },
   {
    "duration": 170,
    "start_time": "2022-11-29T20:05:17.670Z"
   },
   {
    "duration": 137,
    "start_time": "2022-11-29T20:05:17.842Z"
   },
   {
    "duration": 7,
    "start_time": "2022-11-29T20:05:17.981Z"
   },
   {
    "duration": 42629,
    "start_time": "2022-11-29T20:05:58.728Z"
   },
   {
    "duration": 294,
    "start_time": "2022-11-29T20:06:51.815Z"
   },
   {
    "duration": 193,
    "start_time": "2022-11-29T20:07:01.425Z"
   },
   {
    "duration": 154,
    "start_time": "2022-11-29T20:07:18.431Z"
   },
   {
    "duration": 170,
    "start_time": "2022-11-29T20:07:26.463Z"
   },
   {
    "duration": 48,
    "start_time": "2022-11-29T20:08:17.151Z"
   },
   {
    "duration": 1385,
    "start_time": "2022-11-29T20:09:42.902Z"
   },
   {
    "duration": 40,
    "start_time": "2022-11-29T20:09:44.289Z"
   },
   {
    "duration": 18,
    "start_time": "2022-11-29T20:09:44.331Z"
   },
   {
    "duration": 18,
    "start_time": "2022-11-29T20:09:44.351Z"
   },
   {
    "duration": 24,
    "start_time": "2022-11-29T20:09:44.371Z"
   },
   {
    "duration": 23,
    "start_time": "2022-11-29T20:09:44.397Z"
   },
   {
    "duration": 24,
    "start_time": "2022-11-29T20:09:44.422Z"
   },
   {
    "duration": 20,
    "start_time": "2022-11-29T20:09:44.448Z"
   },
   {
    "duration": 23,
    "start_time": "2022-11-29T20:09:44.470Z"
   },
   {
    "duration": 34,
    "start_time": "2022-11-29T20:09:44.495Z"
   },
   {
    "duration": 40,
    "start_time": "2022-11-29T20:09:44.531Z"
   },
   {
    "duration": 28,
    "start_time": "2022-11-29T20:09:44.573Z"
   },
   {
    "duration": 38,
    "start_time": "2022-11-29T20:09:44.603Z"
   },
   {
    "duration": 35,
    "start_time": "2022-11-29T20:09:44.643Z"
   },
   {
    "duration": 70,
    "start_time": "2022-11-29T20:09:44.680Z"
   },
   {
    "duration": 91,
    "start_time": "2022-11-29T20:09:44.752Z"
   },
   {
    "duration": 7,
    "start_time": "2022-11-29T20:09:44.845Z"
   },
   {
    "duration": 5499,
    "start_time": "2022-11-29T20:09:44.854Z"
   },
   {
    "duration": 25513,
    "start_time": "2022-11-29T20:09:50.355Z"
   },
   {
    "duration": 375,
    "start_time": "2022-11-29T20:10:15.870Z"
   },
   {
    "duration": 25551,
    "start_time": "2022-11-29T20:10:16.247Z"
   },
   {
    "duration": 45346,
    "start_time": "2022-11-29T20:10:41.800Z"
   },
   {
    "duration": 16052,
    "start_time": "2022-11-29T20:11:27.148Z"
   },
   {
    "duration": 173,
    "start_time": "2022-11-29T20:11:43.202Z"
   },
   {
    "duration": 136,
    "start_time": "2022-11-29T20:11:43.377Z"
   },
   {
    "duration": 7,
    "start_time": "2022-11-29T20:11:43.515Z"
   },
   {
    "duration": 122,
    "start_time": "2022-11-29T20:12:18.017Z"
   },
   {
    "duration": 174,
    "start_time": "2022-11-29T20:12:21.817Z"
   },
   {
    "duration": 159,
    "start_time": "2022-11-29T20:12:29.394Z"
   },
   {
    "duration": 122,
    "start_time": "2022-11-29T20:12:34.540Z"
   },
   {
    "duration": 27,
    "start_time": "2022-11-29T20:14:26.715Z"
   },
   {
    "duration": 25,
    "start_time": "2022-11-29T20:14:27.408Z"
   },
   {
    "duration": 119,
    "start_time": "2022-11-29T20:14:30.347Z"
   },
   {
    "duration": 48,
    "start_time": "2022-11-30T08:30:56.545Z"
   },
   {
    "duration": 1513,
    "start_time": "2022-11-30T08:31:01.097Z"
   },
   {
    "duration": 1354,
    "start_time": "2022-11-30T08:32:37.402Z"
   },
   {
    "duration": 174,
    "start_time": "2022-11-30T08:32:38.758Z"
   },
   {
    "duration": 18,
    "start_time": "2022-11-30T08:32:38.934Z"
   },
   {
    "duration": 60,
    "start_time": "2022-11-30T08:32:38.954Z"
   },
   {
    "duration": 6,
    "start_time": "2022-11-30T08:32:39.016Z"
   },
   {
    "duration": 6,
    "start_time": "2022-11-30T08:32:39.024Z"
   },
   {
    "duration": 4,
    "start_time": "2022-11-30T08:32:39.032Z"
   },
   {
    "duration": 10,
    "start_time": "2022-11-30T08:32:39.037Z"
   },
   {
    "duration": 5,
    "start_time": "2022-11-30T08:32:39.048Z"
   },
   {
    "duration": 7,
    "start_time": "2022-11-30T08:32:39.055Z"
   },
   {
    "duration": 51,
    "start_time": "2022-11-30T08:32:39.063Z"
   },
   {
    "duration": 8,
    "start_time": "2022-11-30T08:32:39.116Z"
   },
   {
    "duration": 6,
    "start_time": "2022-11-30T08:32:39.126Z"
   },
   {
    "duration": 5,
    "start_time": "2022-11-30T08:32:39.134Z"
   },
   {
    "duration": 72,
    "start_time": "2022-11-30T08:32:39.141Z"
   },
   {
    "duration": 25,
    "start_time": "2022-11-30T08:32:39.215Z"
   },
   {
    "duration": 3,
    "start_time": "2022-11-30T08:32:39.241Z"
   },
   {
    "duration": 4180,
    "start_time": "2022-11-30T08:32:39.245Z"
   },
   {
    "duration": 24557,
    "start_time": "2022-11-30T08:32:43.427Z"
   },
   {
    "duration": 331,
    "start_time": "2022-11-30T08:33:07.986Z"
   },
   {
    "duration": 23310,
    "start_time": "2022-11-30T08:33:08.318Z"
   },
   {
    "duration": 41950,
    "start_time": "2022-11-30T08:33:31.629Z"
   },
   {
    "duration": 14985,
    "start_time": "2022-11-30T08:34:13.581Z"
   },
   {
    "duration": 121,
    "start_time": "2022-11-30T08:34:28.568Z"
   },
   {
    "duration": 133,
    "start_time": "2022-11-30T08:34:28.690Z"
   },
   {
    "duration": 7,
    "start_time": "2022-11-30T08:34:28.824Z"
   },
   {
    "duration": 1307,
    "start_time": "2022-11-30T08:40:13.296Z"
   },
   {
    "duration": 1283,
    "start_time": "2022-11-30T08:40:40.550Z"
   },
   {
    "duration": 113,
    "start_time": "2022-11-30T08:40:51.628Z"
   },
   {
    "duration": 118,
    "start_time": "2022-11-30T08:41:18.914Z"
   },
   {
    "duration": 126,
    "start_time": "2022-11-30T08:41:28.213Z"
   },
   {
    "duration": 123,
    "start_time": "2022-11-30T08:41:30.689Z"
   },
   {
    "duration": 132,
    "start_time": "2022-11-30T08:41:32.526Z"
   },
   {
    "duration": 145,
    "start_time": "2022-11-30T08:41:34.774Z"
   },
   {
    "duration": 151,
    "start_time": "2022-11-30T08:41:36.989Z"
   },
   {
    "duration": 150,
    "start_time": "2022-11-30T08:41:40.022Z"
   },
   {
    "duration": 147,
    "start_time": "2022-11-30T08:41:42.632Z"
   },
   {
    "duration": 80,
    "start_time": "2022-11-30T08:41:45.764Z"
   },
   {
    "duration": 927,
    "start_time": "2022-11-30T08:41:48.372Z"
   },
   {
    "duration": 77,
    "start_time": "2022-11-30T08:41:51.381Z"
   },
   {
    "duration": 121,
    "start_time": "2022-11-30T08:43:23.034Z"
   },
   {
    "duration": 19,
    "start_time": "2022-11-30T08:43:36.856Z"
   },
   {
    "duration": 4,
    "start_time": "2022-11-30T08:43:58.112Z"
   },
   {
    "duration": 40,
    "start_time": "2022-11-30T08:43:58.969Z"
   },
   {
    "duration": 23,
    "start_time": "2022-11-30T08:44:00.251Z"
   },
   {
    "duration": 13,
    "start_time": "2022-11-30T08:44:01.408Z"
   },
   {
    "duration": 8,
    "start_time": "2022-11-30T08:44:02.691Z"
   },
   {
    "duration": 4,
    "start_time": "2022-11-30T08:44:04.180Z"
   },
   {
    "duration": 4,
    "start_time": "2022-11-30T08:44:05.025Z"
   },
   {
    "duration": 3,
    "start_time": "2022-11-30T08:44:07.002Z"
   },
   {
    "duration": 72,
    "start_time": "2022-11-30T08:44:20.964Z"
   },
   {
    "duration": 12,
    "start_time": "2022-11-30T08:44:28.278Z"
   },
   {
    "duration": 16,
    "start_time": "2022-11-30T08:44:33.130Z"
   },
   {
    "duration": 25,
    "start_time": "2022-11-30T08:51:38.028Z"
   },
   {
    "duration": 43,
    "start_time": "2022-11-30T08:51:42.453Z"
   },
   {
    "duration": 10,
    "start_time": "2022-11-30T08:52:07.215Z"
   },
   {
    "duration": 19,
    "start_time": "2022-11-30T08:52:12.043Z"
   },
   {
    "duration": 13,
    "start_time": "2022-11-30T08:52:17.942Z"
   },
   {
    "duration": 23,
    "start_time": "2022-11-30T08:52:26.137Z"
   },
   {
    "duration": 19,
    "start_time": "2022-11-30T08:52:40.144Z"
   },
   {
    "duration": 4,
    "start_time": "2022-11-30T08:52:44.324Z"
   },
   {
    "duration": 3,
    "start_time": "2022-11-30T08:52:44.803Z"
   },
   {
    "duration": 4,
    "start_time": "2022-11-30T08:52:44.957Z"
   },
   {
    "duration": 3,
    "start_time": "2022-11-30T08:52:45.067Z"
   },
   {
    "duration": 17,
    "start_time": "2022-11-30T08:52:46.080Z"
   },
   {
    "duration": 4,
    "start_time": "2022-11-30T08:53:08.881Z"
   },
   {
    "duration": 39,
    "start_time": "2022-11-30T08:53:09.580Z"
   },
   {
    "duration": 15,
    "start_time": "2022-11-30T08:53:09.852Z"
   },
   {
    "duration": 12,
    "start_time": "2022-11-30T08:53:10.558Z"
   },
   {
    "duration": 7,
    "start_time": "2022-11-30T08:53:11.089Z"
   },
   {
    "duration": 5,
    "start_time": "2022-11-30T08:53:12.297Z"
   },
   {
    "duration": 4,
    "start_time": "2022-11-30T08:53:13.448Z"
   },
   {
    "duration": 3,
    "start_time": "2022-11-30T08:53:18.417Z"
   },
   {
    "duration": 4,
    "start_time": "2022-11-30T08:53:19.148Z"
   },
   {
    "duration": 5,
    "start_time": "2022-11-30T08:53:20.268Z"
   },
   {
    "duration": 4,
    "start_time": "2022-11-30T08:53:20.668Z"
   },
   {
    "duration": 43,
    "start_time": "2022-11-30T08:53:22.458Z"
   },
   {
    "duration": 10,
    "start_time": "2022-11-30T08:54:59.417Z"
   },
   {
    "duration": 3,
    "start_time": "2022-11-30T08:55:02.267Z"
   },
   {
    "duration": 21,
    "start_time": "2022-11-30T08:55:19.721Z"
   },
   {
    "duration": 44,
    "start_time": "2022-11-30T08:55:22.346Z"
   },
   {
    "duration": 40,
    "start_time": "2022-11-30T08:55:28.078Z"
   },
   {
    "duration": 44,
    "start_time": "2022-11-30T08:55:34.928Z"
   },
   {
    "duration": 45,
    "start_time": "2022-11-30T08:55:37.926Z"
   },
   {
    "duration": 86,
    "start_time": "2022-11-30T08:55:46.884Z"
   },
   {
    "duration": 27,
    "start_time": "2022-11-30T08:55:54.534Z"
   },
   {
    "duration": 43,
    "start_time": "2022-11-30T08:56:00.574Z"
   },
   {
    "duration": 25,
    "start_time": "2022-11-30T08:56:14.240Z"
   },
   {
    "duration": 32,
    "start_time": "2022-11-30T08:56:19.146Z"
   },
   {
    "duration": 14,
    "start_time": "2022-11-30T08:56:37.806Z"
   },
   {
    "duration": 5,
    "start_time": "2022-11-30T08:56:39.669Z"
   },
   {
    "duration": 20,
    "start_time": "2022-11-30T08:56:44.627Z"
   },
   {
    "duration": 22,
    "start_time": "2022-11-30T08:56:51.547Z"
   },
   {
    "duration": 2945,
    "start_time": "2022-11-30T08:56:54.970Z"
   },
   {
    "duration": 116,
    "start_time": "2022-11-30T08:57:18.526Z"
   },
   {
    "duration": 5,
    "start_time": "2022-11-30T08:57:37.887Z"
   },
   {
    "duration": 1354,
    "start_time": "2022-11-30T08:57:41.619Z"
   },
   {
    "duration": 41,
    "start_time": "2022-11-30T08:57:44.573Z"
   },
   {
    "duration": 19,
    "start_time": "2022-11-30T08:57:44.892Z"
   },
   {
    "duration": 14,
    "start_time": "2022-11-30T08:57:45.885Z"
   },
   {
    "duration": 7,
    "start_time": "2022-11-30T08:57:46.735Z"
   },
   {
    "duration": 4,
    "start_time": "2022-11-30T08:57:49.897Z"
   },
   {
    "duration": 4,
    "start_time": "2022-11-30T08:57:50.974Z"
   },
   {
    "duration": 2,
    "start_time": "2022-11-30T08:57:51.652Z"
   },
   {
    "duration": 2,
    "start_time": "2022-11-30T08:57:52.975Z"
   },
   {
    "duration": 3,
    "start_time": "2022-11-30T08:57:54.895Z"
   },
   {
    "duration": 4,
    "start_time": "2022-11-30T08:57:56.869Z"
   },
   {
    "duration": 4,
    "start_time": "2022-11-30T08:57:57.508Z"
   },
   {
    "duration": 3,
    "start_time": "2022-11-30T08:57:57.966Z"
   },
   {
    "duration": 4,
    "start_time": "2022-11-30T08:57:58.228Z"
   },
   {
    "duration": 42,
    "start_time": "2022-11-30T08:58:03.392Z"
   },
   {
    "duration": 26,
    "start_time": "2022-11-30T08:58:06.008Z"
   },
   {
    "duration": 23,
    "start_time": "2022-11-30T08:58:08.323Z"
   },
   {
    "duration": 2965,
    "start_time": "2022-11-30T08:58:13.494Z"
   },
   {
    "duration": 23104,
    "start_time": "2022-11-30T08:58:26.221Z"
   },
   {
    "duration": 74,
    "start_time": "2022-11-30T08:59:01.230Z"
   },
   {
    "duration": 25099,
    "start_time": "2022-11-30T08:59:14.202Z"
   },
   {
    "duration": 98,
    "start_time": "2022-11-30T08:59:50.008Z"
   },
   {
    "duration": 11,
    "start_time": "2022-11-30T09:00:08.499Z"
   },
   {
    "duration": 21,
    "start_time": "2022-11-30T09:00:21.424Z"
   },
   {
    "duration": 98,
    "start_time": "2022-11-30T09:03:54.493Z"
   },
   {
    "duration": 96,
    "start_time": "2022-11-30T09:04:14.606Z"
   },
   {
    "duration": 83,
    "start_time": "2022-11-30T09:04:50.506Z"
   },
   {
    "duration": 117,
    "start_time": "2022-11-30T09:05:09.046Z"
   },
   {
    "duration": 3,
    "start_time": "2022-11-30T09:05:14.218Z"
   },
   {
    "duration": 5,
    "start_time": "2022-11-30T09:05:15.569Z"
   },
   {
    "duration": 4,
    "start_time": "2022-11-30T09:05:15.999Z"
   },
   {
    "duration": 5,
    "start_time": "2022-11-30T09:05:16.537Z"
   },
   {
    "duration": 42,
    "start_time": "2022-11-30T09:05:18.413Z"
   },
   {
    "duration": 22,
    "start_time": "2022-11-30T09:07:30.285Z"
   },
   {
    "duration": 43,
    "start_time": "2022-11-30T09:07:49.549Z"
   },
   {
    "duration": 44,
    "start_time": "2022-11-30T09:08:04.158Z"
   },
   {
    "duration": 21,
    "start_time": "2022-11-30T09:08:06.226Z"
   },
   {
    "duration": 108,
    "start_time": "2022-11-30T09:08:11.927Z"
   },
   {
    "duration": 4,
    "start_time": "2022-11-30T09:08:27.155Z"
   },
   {
    "duration": 4,
    "start_time": "2022-11-30T09:08:27.569Z"
   },
   {
    "duration": 4,
    "start_time": "2022-11-30T09:08:27.720Z"
   },
   {
    "duration": 5,
    "start_time": "2022-11-30T09:08:27.878Z"
   },
   {
    "duration": 50,
    "start_time": "2022-11-30T09:08:28.153Z"
   },
   {
    "duration": 21,
    "start_time": "2022-11-30T09:08:28.693Z"
   },
   {
    "duration": 108,
    "start_time": "2022-11-30T09:08:30.150Z"
   },
   {
    "duration": 41,
    "start_time": "2022-11-30T09:08:52.289Z"
   },
   {
    "duration": 41,
    "start_time": "2022-11-30T09:08:52.896Z"
   },
   {
    "duration": 3035,
    "start_time": "2022-11-30T09:08:54.776Z"
   },
   {
    "duration": 4,
    "start_time": "2022-11-30T10:10:07.481Z"
   },
   {
    "duration": 39,
    "start_time": "2022-11-30T10:10:07.878Z"
   },
   {
    "duration": 15,
    "start_time": "2022-11-30T10:10:08.184Z"
   },
   {
    "duration": 13,
    "start_time": "2022-11-30T10:10:08.887Z"
   },
   {
    "duration": 8,
    "start_time": "2022-11-30T10:10:10.014Z"
   },
   {
    "duration": 4,
    "start_time": "2022-11-30T10:10:12.630Z"
   },
   {
    "duration": 5,
    "start_time": "2022-11-30T10:10:15.534Z"
   },
   {
    "duration": 2,
    "start_time": "2022-11-30T10:10:16.384Z"
   },
   {
    "duration": 3,
    "start_time": "2022-11-30T10:10:17.166Z"
   },
   {
    "duration": 72,
    "start_time": "2022-11-30T10:10:32.695Z"
   },
   {
    "duration": 72,
    "start_time": "2022-11-30T10:10:36.598Z"
   },
   {
    "duration": 72,
    "start_time": "2022-11-30T10:10:40.047Z"
   },
   {
    "duration": 69,
    "start_time": "2022-11-30T10:10:46.654Z"
   },
   {
    "duration": 90,
    "start_time": "2022-11-30T10:10:51.503Z"
   },
   {
    "duration": 107,
    "start_time": "2022-11-30T10:10:54.023Z"
   },
   {
    "duration": 16,
    "start_time": "2022-11-30T10:11:10.175Z"
   },
   {
    "duration": 18,
    "start_time": "2022-11-30T10:11:19.103Z"
   },
   {
    "duration": 14,
    "start_time": "2022-11-30T10:11:23.190Z"
   },
   {
    "duration": 20,
    "start_time": "2022-11-30T10:11:30.224Z"
   },
   {
    "duration": 34,
    "start_time": "2022-11-30T10:12:32.367Z"
   },
   {
    "duration": 29,
    "start_time": "2022-11-30T10:14:10.127Z"
   },
   {
    "duration": 680,
    "start_time": "2022-11-30T10:16:25.848Z"
   },
   {
    "duration": 32,
    "start_time": "2022-11-30T10:16:50.688Z"
   },
   {
    "duration": 31,
    "start_time": "2022-11-30T10:17:18.127Z"
   },
   {
    "duration": 642,
    "start_time": "2022-11-30T10:17:22.982Z"
   },
   {
    "duration": 28,
    "start_time": "2022-11-30T10:20:33.888Z"
   },
   {
    "duration": 39,
    "start_time": "2022-11-30T10:20:56.911Z"
   },
   {
    "duration": 27,
    "start_time": "2022-11-30T10:21:21.639Z"
   },
   {
    "duration": 26,
    "start_time": "2022-11-30T10:21:25.567Z"
   },
   {
    "duration": 3021,
    "start_time": "2022-11-30T10:21:27.848Z"
   },
   {
    "duration": 108,
    "start_time": "2022-11-30T10:21:43.937Z"
   },
   {
    "duration": 23174,
    "start_time": "2022-11-30T10:21:53.495Z"
   },
   {
    "duration": 117,
    "start_time": "2022-11-30T10:22:28.679Z"
   },
   {
    "duration": 23690,
    "start_time": "2022-11-30T10:22:38.432Z"
   },
   {
    "duration": 97,
    "start_time": "2022-11-30T10:23:14.950Z"
   },
   {
    "duration": 118,
    "start_time": "2022-11-30T10:23:29.854Z"
   },
   {
    "duration": 116,
    "start_time": "2022-11-30T10:23:34.207Z"
   },
   {
    "duration": 15027,
    "start_time": "2022-11-30T10:23:53.175Z"
   },
   {
    "duration": 119,
    "start_time": "2022-11-30T10:24:31.328Z"
   },
   {
    "duration": 119,
    "start_time": "2022-11-30T10:24:36.287Z"
   },
   {
    "duration": 125,
    "start_time": "2022-11-30T10:24:39.973Z"
   },
   {
    "duration": 174,
    "start_time": "2022-11-30T10:24:42.767Z"
   },
   {
    "duration": 165,
    "start_time": "2022-11-30T10:24:45.470Z"
   },
   {
    "duration": 180,
    "start_time": "2022-11-30T10:24:48.287Z"
   },
   {
    "duration": 179,
    "start_time": "2022-11-30T10:24:50.727Z"
   },
   {
    "duration": 166,
    "start_time": "2022-11-30T10:24:52.454Z"
   },
   {
    "duration": 183,
    "start_time": "2022-11-30T10:24:54.919Z"
   },
   {
    "duration": 183,
    "start_time": "2022-11-30T10:24:58.200Z"
   },
   {
    "duration": 223,
    "start_time": "2022-11-30T10:25:00.150Z"
   },
   {
    "duration": 211,
    "start_time": "2022-11-30T10:25:02.431Z"
   },
   {
    "duration": 234,
    "start_time": "2022-11-30T10:25:04.806Z"
   },
   {
    "duration": 362,
    "start_time": "2022-11-30T10:25:07.693Z"
   },
   {
    "duration": 1083,
    "start_time": "2022-11-30T10:25:11.230Z"
   },
   {
    "duration": 4,
    "start_time": "2022-11-30T10:25:57.506Z"
   },
   {
    "duration": 42,
    "start_time": "2022-11-30T10:25:57.512Z"
   },
   {
    "duration": 14,
    "start_time": "2022-11-30T10:25:57.556Z"
   },
   {
    "duration": 14,
    "start_time": "2022-11-30T10:25:57.572Z"
   },
   {
    "duration": 7,
    "start_time": "2022-11-30T10:25:57.588Z"
   },
   {
    "duration": 4,
    "start_time": "2022-11-30T10:25:57.597Z"
   },
   {
    "duration": 12,
    "start_time": "2022-11-30T10:25:57.602Z"
   },
   {
    "duration": 3,
    "start_time": "2022-11-30T10:25:57.615Z"
   },
   {
    "duration": 5,
    "start_time": "2022-11-30T10:25:57.620Z"
   },
   {
    "duration": 4,
    "start_time": "2022-11-30T10:25:57.627Z"
   },
   {
    "duration": 7,
    "start_time": "2022-11-30T10:25:57.633Z"
   },
   {
    "duration": 6,
    "start_time": "2022-11-30T10:25:57.642Z"
   },
   {
    "duration": 6,
    "start_time": "2022-11-30T10:25:57.649Z"
   },
   {
    "duration": 8,
    "start_time": "2022-11-30T10:25:57.657Z"
   },
   {
    "duration": 53,
    "start_time": "2022-11-30T10:25:57.666Z"
   },
   {
    "duration": 29,
    "start_time": "2022-11-30T10:25:57.721Z"
   },
   {
    "duration": 3899,
    "start_time": "2022-11-30T10:25:57.752Z"
   },
   {
    "duration": 22896,
    "start_time": "2022-11-30T10:26:01.653Z"
   },
   {
    "duration": 272,
    "start_time": "2022-11-30T10:26:24.550Z"
   },
   {
    "duration": 23376,
    "start_time": "2022-11-30T10:26:24.914Z"
   },
   {
    "duration": 41423,
    "start_time": "2022-11-30T10:26:48.292Z"
   },
   {
    "duration": 15429,
    "start_time": "2022-11-30T10:27:29.717Z"
   },
   {
    "duration": 1167,
    "start_time": "2022-11-30T10:27:45.148Z"
   },
   {
    "duration": 218,
    "start_time": "2022-11-30T10:27:46.317Z"
   },
   {
    "duration": 7,
    "start_time": "2022-11-30T10:27:46.537Z"
   },
   {
    "duration": 4,
    "start_time": "2022-11-30T10:28:25.527Z"
   },
   {
    "duration": 4,
    "start_time": "2022-11-30T10:28:26.678Z"
   },
   {
    "duration": 4,
    "start_time": "2022-11-30T10:28:27.103Z"
   },
   {
    "duration": 4,
    "start_time": "2022-11-30T10:28:27.358Z"
   },
   {
    "duration": 26,
    "start_time": "2022-11-30T10:28:28.210Z"
   },
   {
    "duration": 4,
    "start_time": "2022-11-30T10:29:51.350Z"
   },
   {
    "duration": 4,
    "start_time": "2022-11-30T10:29:52.598Z"
   },
   {
    "duration": 4,
    "start_time": "2022-11-30T10:29:53.126Z"
   },
   {
    "duration": 3,
    "start_time": "2022-11-30T10:29:53.487Z"
   },
   {
    "duration": 28,
    "start_time": "2022-11-30T10:29:54.711Z"
   },
   {
    "duration": 28,
    "start_time": "2022-11-30T10:29:56.966Z"
   },
   {
    "duration": 2918,
    "start_time": "2022-11-30T10:30:00.855Z"
   },
   {
    "duration": 2952,
    "start_time": "2022-11-30T10:30:16.104Z"
   },
   {
    "duration": 23017,
    "start_time": "2022-11-30T10:30:24.702Z"
   },
   {
    "duration": 23091,
    "start_time": "2022-11-30T10:30:55.863Z"
   },
   {
    "duration": 113,
    "start_time": "2022-11-30T10:31:30.639Z"
   },
   {
    "duration": 3,
    "start_time": "2022-11-30T10:36:15.367Z"
   },
   {
    "duration": 26,
    "start_time": "2022-11-30T10:36:16.415Z"
   },
   {
    "duration": 25,
    "start_time": "2022-11-30T10:36:18.575Z"
   },
   {
    "duration": 1650,
    "start_time": "2022-11-30T10:37:14.592Z"
   },
   {
    "duration": 79,
    "start_time": "2022-11-30T10:37:16.244Z"
   },
   {
    "duration": 21,
    "start_time": "2022-11-30T10:37:16.324Z"
   },
   {
    "duration": 67,
    "start_time": "2022-11-30T10:37:16.346Z"
   },
   {
    "duration": 8,
    "start_time": "2022-11-30T10:37:16.417Z"
   },
   {
    "duration": 6,
    "start_time": "2022-11-30T10:37:16.427Z"
   },
   {
    "duration": 5,
    "start_time": "2022-11-30T10:37:16.435Z"
   },
   {
    "duration": 5,
    "start_time": "2022-11-30T10:37:16.442Z"
   },
   {
    "duration": 6,
    "start_time": "2022-11-30T10:37:16.449Z"
   },
   {
    "duration": 6,
    "start_time": "2022-11-30T10:37:16.456Z"
   },
   {
    "duration": 5,
    "start_time": "2022-11-30T10:37:16.512Z"
   },
   {
    "duration": 10,
    "start_time": "2022-11-30T10:37:16.518Z"
   },
   {
    "duration": 12,
    "start_time": "2022-11-30T10:37:16.530Z"
   },
   {
    "duration": 5,
    "start_time": "2022-11-30T10:37:16.544Z"
   },
   {
    "duration": 4,
    "start_time": "2022-11-30T10:37:16.550Z"
   },
   {
    "duration": 75,
    "start_time": "2022-11-30T10:37:16.556Z"
   },
   {
    "duration": 83,
    "start_time": "2022-11-30T10:37:16.633Z"
   },
   {
    "duration": 326,
    "start_time": "2022-11-30T10:37:16.718Z"
   },
   {
    "duration": 85781,
    "start_time": "2022-11-30T10:37:17.045Z"
   },
   {
    "duration": 291,
    "start_time": "2022-11-30T10:38:42.828Z"
   },
   {
    "duration": 87594,
    "start_time": "2022-11-30T10:38:43.120Z"
   },
   {
    "duration": 44509,
    "start_time": "2022-11-30T10:40:10.716Z"
   },
   {
    "duration": 18532,
    "start_time": "2022-11-30T10:40:55.227Z"
   },
   {
    "duration": 123,
    "start_time": "2022-11-30T10:41:13.761Z"
   },
   {
    "duration": 140,
    "start_time": "2022-11-30T10:41:13.886Z"
   },
   {
    "duration": 7,
    "start_time": "2022-11-30T10:41:14.028Z"
   },
   {
    "duration": 151,
    "start_time": "2022-11-30T10:41:37.390Z"
   },
   {
    "duration": 112,
    "start_time": "2022-11-30T10:41:39.927Z"
   },
   {
    "duration": 4,
    "start_time": "2022-11-30T10:42:46.518Z"
   },
   {
    "duration": 4,
    "start_time": "2022-11-30T10:42:46.862Z"
   },
   {
    "duration": 4,
    "start_time": "2022-11-30T10:42:46.997Z"
   },
   {
    "duration": 4,
    "start_time": "2022-11-30T10:42:47.142Z"
   },
   {
    "duration": 2,
    "start_time": "2022-11-30T10:42:47.911Z"
   },
   {
    "duration": 24,
    "start_time": "2022-11-30T10:42:48.694Z"
   },
   {
    "duration": 24,
    "start_time": "2022-11-30T10:42:51.550Z"
   },
   {
    "duration": 30,
    "start_time": "2022-11-30T10:42:56.166Z"
   },
   {
    "duration": 17,
    "start_time": "2022-11-30T10:43:23.045Z"
   },
   {
    "duration": 32,
    "start_time": "2022-11-30T10:43:28.382Z"
   },
   {
    "duration": 22,
    "start_time": "2022-11-30T10:43:32.224Z"
   },
   {
    "duration": 16,
    "start_time": "2022-11-30T10:43:35.527Z"
   },
   {
    "duration": 113,
    "start_time": "2022-11-30T10:43:43.006Z"
   },
   {
    "duration": 148,
    "start_time": "2022-11-30T10:44:45.574Z"
   },
   {
    "duration": 1384,
    "start_time": "2022-11-30T10:45:14.022Z"
   },
   {
    "duration": 42,
    "start_time": "2022-11-30T10:45:15.408Z"
   },
   {
    "duration": 18,
    "start_time": "2022-11-30T10:45:15.452Z"
   },
   {
    "duration": 12,
    "start_time": "2022-11-30T10:45:15.472Z"
   },
   {
    "duration": 7,
    "start_time": "2022-11-30T10:45:15.486Z"
   },
   {
    "duration": 7,
    "start_time": "2022-11-30T10:45:15.495Z"
   },
   {
    "duration": 10,
    "start_time": "2022-11-30T10:45:15.503Z"
   },
   {
    "duration": 7,
    "start_time": "2022-11-30T10:45:15.515Z"
   },
   {
    "duration": 8,
    "start_time": "2022-11-30T10:45:15.523Z"
   },
   {
    "duration": 7,
    "start_time": "2022-11-30T10:45:15.532Z"
   },
   {
    "duration": 6,
    "start_time": "2022-11-30T10:45:15.540Z"
   },
   {
    "duration": 5,
    "start_time": "2022-11-30T10:45:15.548Z"
   },
   {
    "duration": 10,
    "start_time": "2022-11-30T10:45:15.555Z"
   },
   {
    "duration": 5,
    "start_time": "2022-11-30T10:45:15.568Z"
   },
   {
    "duration": 4,
    "start_time": "2022-11-30T10:45:15.575Z"
   },
   {
    "duration": 35,
    "start_time": "2022-11-30T10:45:15.581Z"
   },
   {
    "duration": 24,
    "start_time": "2022-11-30T10:45:15.617Z"
   },
   {
    "duration": 179,
    "start_time": "2022-11-30T10:45:15.642Z"
   },
   {
    "duration": 85081,
    "start_time": "2022-11-30T10:45:15.823Z"
   },
   {
    "duration": 315,
    "start_time": "2022-11-30T10:46:40.905Z"
   },
   {
    "duration": 91928,
    "start_time": "2022-11-30T10:46:41.221Z"
   },
   {
    "duration": 41590,
    "start_time": "2022-11-30T10:48:13.151Z"
   },
   {
    "duration": 15260,
    "start_time": "2022-11-30T10:48:54.743Z"
   },
   {
    "duration": 146,
    "start_time": "2022-11-30T10:49:10.005Z"
   },
   {
    "duration": 149,
    "start_time": "2022-11-30T10:49:10.153Z"
   },
   {
    "duration": 15,
    "start_time": "2022-11-30T10:49:10.304Z"
   },
   {
    "duration": 68,
    "start_time": "2022-11-30T10:49:23.383Z"
   },
   {
    "duration": 63,
    "start_time": "2022-11-30T10:49:28.418Z"
   },
   {
    "duration": 23,
    "start_time": "2022-11-30T10:49:41.047Z"
   },
   {
    "duration": 26,
    "start_time": "2022-11-30T10:49:42.135Z"
   },
   {
    "duration": 65,
    "start_time": "2022-11-30T10:49:45.623Z"
   },
   {
    "duration": 4,
    "start_time": "2022-11-30T10:49:51.079Z"
   },
   {
    "duration": 4,
    "start_time": "2022-11-30T10:49:51.782Z"
   },
   {
    "duration": 3,
    "start_time": "2022-11-30T10:49:52.143Z"
   },
   {
    "duration": 4,
    "start_time": "2022-11-30T10:49:52.551Z"
   },
   {
    "duration": 3,
    "start_time": "2022-11-30T10:49:53.351Z"
   },
   {
    "duration": 22,
    "start_time": "2022-11-30T10:49:54.145Z"
   },
   {
    "duration": 26,
    "start_time": "2022-11-30T10:49:56.375Z"
   },
   {
    "duration": 67,
    "start_time": "2022-11-30T10:49:59.576Z"
   },
   {
    "duration": 1335,
    "start_time": "2022-11-30T10:54:11.822Z"
   },
   {
    "duration": 52,
    "start_time": "2022-11-30T10:54:13.159Z"
   },
   {
    "duration": 18,
    "start_time": "2022-11-30T10:54:13.212Z"
   },
   {
    "duration": 13,
    "start_time": "2022-11-30T10:54:13.232Z"
   },
   {
    "duration": 7,
    "start_time": "2022-11-30T10:54:13.246Z"
   },
   {
    "duration": 5,
    "start_time": "2022-11-30T10:54:13.254Z"
   },
   {
    "duration": 6,
    "start_time": "2022-11-30T10:54:13.260Z"
   },
   {
    "duration": 6,
    "start_time": "2022-11-30T10:54:13.268Z"
   },
   {
    "duration": 8,
    "start_time": "2022-11-30T10:54:13.275Z"
   },
   {
    "duration": 3,
    "start_time": "2022-11-30T10:54:13.314Z"
   },
   {
    "duration": 8,
    "start_time": "2022-11-30T10:54:13.318Z"
   },
   {
    "duration": 6,
    "start_time": "2022-11-30T10:54:13.328Z"
   },
   {
    "duration": 5,
    "start_time": "2022-11-30T10:54:13.336Z"
   },
   {
    "duration": 7,
    "start_time": "2022-11-30T10:54:13.342Z"
   },
   {
    "duration": 6,
    "start_time": "2022-11-30T10:54:13.350Z"
   },
   {
    "duration": 56,
    "start_time": "2022-11-30T10:54:13.357Z"
   },
   {
    "duration": 26,
    "start_time": "2022-11-30T10:54:13.415Z"
   },
   {
    "duration": 197,
    "start_time": "2022-11-30T10:54:13.443Z"
   },
   {
    "duration": 3315,
    "start_time": "2022-11-30T10:54:13.642Z"
   },
   {
    "duration": 903,
    "start_time": "2022-11-30T10:54:17.014Z"
   },
   {
    "duration": 3287,
    "start_time": "2022-11-30T10:54:17.919Z"
   },
   {
    "duration": 5343,
    "start_time": "2022-11-30T10:54:21.208Z"
   },
   {
    "duration": 2903,
    "start_time": "2022-11-30T10:54:26.553Z"
   },
   {
    "duration": 112,
    "start_time": "2022-11-30T10:54:29.458Z"
   },
   {
    "duration": 0,
    "start_time": "2022-11-30T10:54:29.572Z"
   },
   {
    "duration": 0,
    "start_time": "2022-11-30T10:54:29.573Z"
   },
   {
    "duration": 1416,
    "start_time": "2022-11-30T10:55:31.184Z"
   },
   {
    "duration": 42,
    "start_time": "2022-11-30T10:55:32.602Z"
   },
   {
    "duration": 19,
    "start_time": "2022-11-30T10:55:32.646Z"
   },
   {
    "duration": 24,
    "start_time": "2022-11-30T10:55:32.667Z"
   },
   {
    "duration": 9,
    "start_time": "2022-11-30T10:55:32.692Z"
   },
   {
    "duration": 23,
    "start_time": "2022-11-30T10:55:32.702Z"
   },
   {
    "duration": 14,
    "start_time": "2022-11-30T10:55:32.727Z"
   },
   {
    "duration": 11,
    "start_time": "2022-11-30T10:55:32.743Z"
   },
   {
    "duration": 14,
    "start_time": "2022-11-30T10:55:32.757Z"
   },
   {
    "duration": 16,
    "start_time": "2022-11-30T10:55:32.773Z"
   },
   {
    "duration": 25,
    "start_time": "2022-11-30T10:55:32.790Z"
   },
   {
    "duration": 19,
    "start_time": "2022-11-30T10:55:32.817Z"
   },
   {
    "duration": 14,
    "start_time": "2022-11-30T10:55:32.838Z"
   },
   {
    "duration": 19,
    "start_time": "2022-11-30T10:55:32.854Z"
   },
   {
    "duration": 10,
    "start_time": "2022-11-30T10:55:32.875Z"
   },
   {
    "duration": 41,
    "start_time": "2022-11-30T10:55:32.887Z"
   },
   {
    "duration": 28,
    "start_time": "2022-11-30T10:55:32.930Z"
   },
   {
    "duration": 183,
    "start_time": "2022-11-30T10:55:32.959Z"
   },
   {
    "duration": 3234,
    "start_time": "2022-11-30T10:55:33.143Z"
   },
   {
    "duration": 335,
    "start_time": "2022-11-30T10:55:36.379Z"
   },
   {
    "duration": 2580,
    "start_time": "2022-11-30T10:55:36.716Z"
   },
   {
    "duration": 4258,
    "start_time": "2022-11-30T10:55:39.298Z"
   },
   {
    "duration": 2106,
    "start_time": "2022-11-30T10:55:43.557Z"
   },
   {
    "duration": 50,
    "start_time": "2022-11-30T10:55:45.665Z"
   },
   {
    "duration": 129,
    "start_time": "2022-11-30T10:55:45.717Z"
   },
   {
    "duration": 6,
    "start_time": "2022-11-30T10:55:45.847Z"
   },
   {
    "duration": 567,
    "start_time": "2022-11-30T10:56:46.528Z"
   },
   {
    "duration": 1165,
    "start_time": "2022-11-30T10:56:49.729Z"
   },
   {
    "duration": 1443,
    "start_time": "2022-11-30T10:59:06.753Z"
   },
   {
    "duration": 1372,
    "start_time": "2022-11-30T10:59:37.484Z"
   },
   {
    "duration": 40,
    "start_time": "2022-11-30T10:59:38.857Z"
   },
   {
    "duration": 20,
    "start_time": "2022-11-30T10:59:38.899Z"
   },
   {
    "duration": 15,
    "start_time": "2022-11-30T10:59:38.922Z"
   },
   {
    "duration": 7,
    "start_time": "2022-11-30T10:59:38.939Z"
   },
   {
    "duration": 6,
    "start_time": "2022-11-30T10:59:38.947Z"
   },
   {
    "duration": 7,
    "start_time": "2022-11-30T10:59:38.954Z"
   },
   {
    "duration": 6,
    "start_time": "2022-11-30T10:59:38.962Z"
   },
   {
    "duration": 6,
    "start_time": "2022-11-30T10:59:38.969Z"
   },
   {
    "duration": 5,
    "start_time": "2022-11-30T10:59:38.977Z"
   },
   {
    "duration": 29,
    "start_time": "2022-11-30T10:59:38.984Z"
   },
   {
    "duration": 3,
    "start_time": "2022-11-30T10:59:39.015Z"
   },
   {
    "duration": 6,
    "start_time": "2022-11-30T10:59:39.020Z"
   },
   {
    "duration": 6,
    "start_time": "2022-11-30T10:59:39.027Z"
   },
   {
    "duration": 4,
    "start_time": "2022-11-30T10:59:39.035Z"
   },
   {
    "duration": 25,
    "start_time": "2022-11-30T10:59:39.040Z"
   },
   {
    "duration": 47,
    "start_time": "2022-11-30T10:59:39.066Z"
   },
   {
    "duration": 299,
    "start_time": "2022-11-30T10:59:39.115Z"
   },
   {
    "duration": 3193,
    "start_time": "2022-11-30T10:59:39.416Z"
   },
   {
    "duration": 406,
    "start_time": "2022-11-30T10:59:42.613Z"
   },
   {
    "duration": 87012,
    "start_time": "2022-11-30T10:59:43.021Z"
   },
   {
    "duration": 4275,
    "start_time": "2022-11-30T11:01:10.035Z"
   },
   {
    "duration": 2038,
    "start_time": "2022-11-30T11:01:14.313Z"
   },
   {
    "duration": 136,
    "start_time": "2022-11-30T11:01:16.352Z"
   },
   {
    "duration": 132,
    "start_time": "2022-11-30T11:01:16.489Z"
   },
   {
    "duration": 6,
    "start_time": "2022-11-30T11:01:16.622Z"
   },
   {
    "duration": 163,
    "start_time": "2022-11-30T11:07:42.041Z"
   },
   {
    "duration": 1377,
    "start_time": "2022-11-30T11:09:59.124Z"
   },
   {
    "duration": 48,
    "start_time": "2022-11-30T11:10:00.503Z"
   },
   {
    "duration": 22,
    "start_time": "2022-11-30T11:10:00.553Z"
   },
   {
    "duration": 24,
    "start_time": "2022-11-30T11:10:00.577Z"
   },
   {
    "duration": 7,
    "start_time": "2022-11-30T11:10:00.604Z"
   },
   {
    "duration": 8,
    "start_time": "2022-11-30T11:10:00.612Z"
   },
   {
    "duration": 31,
    "start_time": "2022-11-30T11:10:00.622Z"
   },
   {
    "duration": 13,
    "start_time": "2022-11-30T11:10:00.654Z"
   },
   {
    "duration": 20,
    "start_time": "2022-11-30T11:10:00.669Z"
   },
   {
    "duration": 18,
    "start_time": "2022-11-30T11:10:00.691Z"
   },
   {
    "duration": 8,
    "start_time": "2022-11-30T11:10:00.710Z"
   },
   {
    "duration": 14,
    "start_time": "2022-11-30T11:10:00.720Z"
   },
   {
    "duration": 10,
    "start_time": "2022-11-30T11:10:00.735Z"
   },
   {
    "duration": 13,
    "start_time": "2022-11-30T11:10:00.747Z"
   },
   {
    "duration": 28,
    "start_time": "2022-11-30T11:10:00.762Z"
   },
   {
    "duration": 41,
    "start_time": "2022-11-30T11:10:00.792Z"
   },
   {
    "duration": 40,
    "start_time": "2022-11-30T11:10:00.835Z"
   },
   {
    "duration": 173,
    "start_time": "2022-11-30T11:10:00.877Z"
   },
   {
    "duration": 3289,
    "start_time": "2022-11-30T11:10:01.052Z"
   },
   {
    "duration": 277,
    "start_time": "2022-11-30T11:10:04.343Z"
   },
   {
    "duration": 2552,
    "start_time": "2022-11-30T11:10:04.621Z"
   },
   {
    "duration": 4147,
    "start_time": "2022-11-30T11:10:07.174Z"
   },
   {
    "duration": 2039,
    "start_time": "2022-11-30T11:10:11.323Z"
   },
   {
    "duration": 73,
    "start_time": "2022-11-30T11:10:13.363Z"
   },
   {
    "duration": 149,
    "start_time": "2022-11-30T11:10:13.438Z"
   },
   {
    "duration": 6,
    "start_time": "2022-11-30T11:10:13.589Z"
   },
   {
    "duration": 1474,
    "start_time": "2022-11-30T11:11:04.679Z"
   },
   {
    "duration": 73,
    "start_time": "2022-11-30T11:11:06.155Z"
   },
   {
    "duration": 18,
    "start_time": "2022-11-30T11:11:06.230Z"
   },
   {
    "duration": 63,
    "start_time": "2022-11-30T11:11:06.250Z"
   },
   {
    "duration": 9,
    "start_time": "2022-11-30T11:11:06.315Z"
   },
   {
    "duration": 7,
    "start_time": "2022-11-30T11:11:06.326Z"
   },
   {
    "duration": 10,
    "start_time": "2022-11-30T11:11:06.334Z"
   },
   {
    "duration": 13,
    "start_time": "2022-11-30T11:11:06.346Z"
   },
   {
    "duration": 7,
    "start_time": "2022-11-30T11:11:06.361Z"
   },
   {
    "duration": 3,
    "start_time": "2022-11-30T11:11:06.415Z"
   },
   {
    "duration": 25,
    "start_time": "2022-11-30T11:11:06.419Z"
   },
   {
    "duration": 23,
    "start_time": "2022-11-30T11:11:06.445Z"
   },
   {
    "duration": 44,
    "start_time": "2022-11-30T11:11:06.470Z"
   },
   {
    "duration": 21,
    "start_time": "2022-11-30T11:11:06.516Z"
   },
   {
    "duration": 21,
    "start_time": "2022-11-30T11:11:06.539Z"
   },
   {
    "duration": 67,
    "start_time": "2022-11-30T11:11:06.561Z"
   },
   {
    "duration": 24,
    "start_time": "2022-11-30T11:11:06.630Z"
   },
   {
    "duration": 386,
    "start_time": "2022-11-30T11:11:06.656Z"
   },
   {
    "duration": 2752,
    "start_time": "2022-11-30T11:11:07.043Z"
   },
   {
    "duration": 219,
    "start_time": "2022-11-30T11:11:09.797Z"
   },
   {
    "duration": 2630,
    "start_time": "2022-11-30T11:11:10.018Z"
   },
   {
    "duration": 6949,
    "start_time": "2022-11-30T11:11:12.650Z"
   },
   {
    "duration": 4152,
    "start_time": "2022-11-30T11:11:19.601Z"
   },
   {
    "duration": 181,
    "start_time": "2022-11-30T11:11:23.754Z"
   },
   {
    "duration": 297,
    "start_time": "2022-11-30T11:11:23.936Z"
   },
   {
    "duration": 8,
    "start_time": "2022-11-30T11:11:24.234Z"
   },
   {
    "duration": 17050,
    "start_time": "2022-11-30T11:12:37.913Z"
   },
   {
    "duration": 143,
    "start_time": "2022-11-30T11:14:08.434Z"
   },
   {
    "duration": 61183,
    "start_time": "2022-11-30T11:14:26.401Z"
   },
   {
    "duration": 1364,
    "start_time": "2022-11-30T11:15:48.687Z"
   },
   {
    "duration": 40,
    "start_time": "2022-11-30T11:15:50.053Z"
   },
   {
    "duration": 18,
    "start_time": "2022-11-30T11:15:50.094Z"
   },
   {
    "duration": 12,
    "start_time": "2022-11-30T11:15:50.115Z"
   },
   {
    "duration": 7,
    "start_time": "2022-11-30T11:15:50.128Z"
   },
   {
    "duration": 4,
    "start_time": "2022-11-30T11:15:50.137Z"
   },
   {
    "duration": 5,
    "start_time": "2022-11-30T11:15:50.143Z"
   },
   {
    "duration": 6,
    "start_time": "2022-11-30T11:15:50.149Z"
   },
   {
    "duration": 5,
    "start_time": "2022-11-30T11:15:50.156Z"
   },
   {
    "duration": 4,
    "start_time": "2022-11-30T11:15:50.163Z"
   },
   {
    "duration": 7,
    "start_time": "2022-11-30T11:15:50.169Z"
   },
   {
    "duration": 5,
    "start_time": "2022-11-30T11:15:50.178Z"
   },
   {
    "duration": 30,
    "start_time": "2022-11-30T11:15:50.184Z"
   },
   {
    "duration": 10,
    "start_time": "2022-11-30T11:15:50.216Z"
   },
   {
    "duration": 9,
    "start_time": "2022-11-30T11:15:50.227Z"
   },
   {
    "duration": 37,
    "start_time": "2022-11-30T11:15:50.238Z"
   },
   {
    "duration": 42,
    "start_time": "2022-11-30T11:15:50.277Z"
   },
   {
    "duration": 220,
    "start_time": "2022-11-30T11:15:50.321Z"
   },
   {
    "duration": 4250,
    "start_time": "2022-11-30T11:15:50.542Z"
   },
   {
    "duration": 230,
    "start_time": "2022-11-30T11:15:54.793Z"
   },
   {
    "duration": 62855,
    "start_time": "2022-11-30T11:15:55.114Z"
   },
   {
    "duration": 5239,
    "start_time": "2022-11-30T11:16:57.970Z"
   },
   {
    "duration": 2084,
    "start_time": "2022-11-30T11:17:03.213Z"
   },
   {
    "duration": 263,
    "start_time": "2022-11-30T11:17:05.299Z"
   },
   {
    "duration": 139,
    "start_time": "2022-11-30T11:17:05.564Z"
   },
   {
    "duration": 11,
    "start_time": "2022-11-30T11:17:05.705Z"
   },
   {
    "duration": 266,
    "start_time": "2022-11-30T11:20:05.098Z"
   },
   {
    "duration": 17434,
    "start_time": "2022-11-30T11:20:10.593Z"
   },
   {
    "duration": 124,
    "start_time": "2022-11-30T11:20:42.313Z"
   },
   {
    "duration": 95,
    "start_time": "2022-11-30T11:21:07.700Z"
   },
   {
    "duration": 116,
    "start_time": "2022-11-30T11:21:19.890Z"
   },
   {
    "duration": 1555,
    "start_time": "2022-11-30T11:22:32.676Z"
   },
   {
    "duration": 80,
    "start_time": "2022-11-30T11:22:34.233Z"
   },
   {
    "duration": 19,
    "start_time": "2022-11-30T11:22:34.315Z"
   },
   {
    "duration": 12,
    "start_time": "2022-11-30T11:22:34.335Z"
   },
   {
    "duration": 7,
    "start_time": "2022-11-30T11:22:34.349Z"
   },
   {
    "duration": 60,
    "start_time": "2022-11-30T11:22:34.357Z"
   },
   {
    "duration": 7,
    "start_time": "2022-11-30T11:22:34.418Z"
   },
   {
    "duration": 7,
    "start_time": "2022-11-30T11:22:34.426Z"
   },
   {
    "duration": 5,
    "start_time": "2022-11-30T11:22:34.435Z"
   },
   {
    "duration": 9,
    "start_time": "2022-11-30T11:22:34.441Z"
   },
   {
    "duration": 7,
    "start_time": "2022-11-30T11:22:34.451Z"
   },
   {
    "duration": 55,
    "start_time": "2022-11-30T11:22:34.459Z"
   },
   {
    "duration": 4,
    "start_time": "2022-11-30T11:22:34.515Z"
   },
   {
    "duration": 5,
    "start_time": "2022-11-30T11:22:34.522Z"
   },
   {
    "duration": 6,
    "start_time": "2022-11-30T11:22:34.529Z"
   },
   {
    "duration": 76,
    "start_time": "2022-11-30T11:22:34.537Z"
   },
   {
    "duration": 29,
    "start_time": "2022-11-30T11:22:34.614Z"
   },
   {
    "duration": 400,
    "start_time": "2022-11-30T11:22:34.645Z"
   },
   {
    "duration": 2678,
    "start_time": "2022-11-30T11:22:35.047Z"
   },
   {
    "duration": 288,
    "start_time": "2022-11-30T11:22:37.726Z"
   },
   {
    "duration": 19689,
    "start_time": "2022-11-30T11:22:38.015Z"
   },
   {
    "duration": 4252,
    "start_time": "2022-11-30T11:22:57.706Z"
   },
   {
    "duration": 2012,
    "start_time": "2022-11-30T11:23:01.959Z"
   },
   {
    "duration": 83,
    "start_time": "2022-11-30T11:23:03.972Z"
   },
   {
    "duration": 129,
    "start_time": "2022-11-30T11:23:04.058Z"
   },
   {
    "duration": 7,
    "start_time": "2022-11-30T11:23:04.189Z"
   },
   {
    "duration": 1305,
    "start_time": "2022-11-30T11:24:14.260Z"
   },
   {
    "duration": 42,
    "start_time": "2022-11-30T11:24:15.566Z"
   },
   {
    "duration": 17,
    "start_time": "2022-11-30T11:24:15.609Z"
   },
   {
    "duration": 11,
    "start_time": "2022-11-30T11:24:15.628Z"
   },
   {
    "duration": 7,
    "start_time": "2022-11-30T11:24:15.641Z"
   },
   {
    "duration": 5,
    "start_time": "2022-11-30T11:24:15.649Z"
   },
   {
    "duration": 5,
    "start_time": "2022-11-30T11:24:15.656Z"
   },
   {
    "duration": 4,
    "start_time": "2022-11-30T11:24:15.662Z"
   },
   {
    "duration": 5,
    "start_time": "2022-11-30T11:24:15.668Z"
   },
   {
    "duration": 4,
    "start_time": "2022-11-30T11:24:15.675Z"
   },
   {
    "duration": 32,
    "start_time": "2022-11-30T11:24:15.681Z"
   },
   {
    "duration": 7,
    "start_time": "2022-11-30T11:24:15.715Z"
   },
   {
    "duration": 7,
    "start_time": "2022-11-30T11:24:15.724Z"
   },
   {
    "duration": 4,
    "start_time": "2022-11-30T11:24:15.735Z"
   },
   {
    "duration": 5,
    "start_time": "2022-11-30T11:24:15.740Z"
   },
   {
    "duration": 26,
    "start_time": "2022-11-30T11:24:15.746Z"
   },
   {
    "duration": 50,
    "start_time": "2022-11-30T11:24:15.774Z"
   },
   {
    "duration": 163,
    "start_time": "2022-11-30T11:24:15.826Z"
   },
   {
    "duration": 16812,
    "start_time": "2022-11-30T11:24:15.991Z"
   },
   {
    "duration": 410,
    "start_time": "2022-11-30T11:24:32.805Z"
   },
   {
    "duration": 25009,
    "start_time": "2022-11-30T11:24:33.217Z"
   },
   {
    "duration": 32513,
    "start_time": "2022-11-30T11:24:58.228Z"
   },
   {
    "duration": 13462,
    "start_time": "2022-11-30T11:25:30.742Z"
   },
   {
    "duration": 147,
    "start_time": "2022-11-30T11:25:44.206Z"
   },
   {
    "duration": 133,
    "start_time": "2022-11-30T11:25:44.355Z"
   },
   {
    "duration": 7,
    "start_time": "2022-11-30T11:25:44.490Z"
   },
   {
    "duration": 1424,
    "start_time": "2022-11-30T11:26:43.503Z"
   },
   {
    "duration": 44,
    "start_time": "2022-11-30T11:26:44.930Z"
   },
   {
    "duration": 22,
    "start_time": "2022-11-30T11:26:44.976Z"
   },
   {
    "duration": 14,
    "start_time": "2022-11-30T11:26:45.000Z"
   },
   {
    "duration": 8,
    "start_time": "2022-11-30T11:26:45.016Z"
   },
   {
    "duration": 7,
    "start_time": "2022-11-30T11:26:45.026Z"
   },
   {
    "duration": 6,
    "start_time": "2022-11-30T11:26:45.035Z"
   },
   {
    "duration": 5,
    "start_time": "2022-11-30T11:26:45.043Z"
   },
   {
    "duration": 7,
    "start_time": "2022-11-30T11:26:45.050Z"
   },
   {
    "duration": 5,
    "start_time": "2022-11-30T11:26:45.059Z"
   },
   {
    "duration": 8,
    "start_time": "2022-11-30T11:26:45.065Z"
   },
   {
    "duration": 6,
    "start_time": "2022-11-30T11:26:45.075Z"
   },
   {
    "duration": 5,
    "start_time": "2022-11-30T11:26:45.083Z"
   },
   {
    "duration": 25,
    "start_time": "2022-11-30T11:26:45.090Z"
   },
   {
    "duration": 4,
    "start_time": "2022-11-30T11:26:45.117Z"
   },
   {
    "duration": 24,
    "start_time": "2022-11-30T11:26:45.123Z"
   },
   {
    "duration": 24,
    "start_time": "2022-11-30T11:26:45.148Z"
   },
   {
    "duration": 183,
    "start_time": "2022-11-30T11:26:45.173Z"
   },
   {
    "duration": 17719,
    "start_time": "2022-11-30T11:26:45.358Z"
   },
   {
    "duration": 334,
    "start_time": "2022-11-30T11:27:03.079Z"
   },
   {
    "duration": 17288,
    "start_time": "2022-11-30T11:27:03.415Z"
   },
   {
    "duration": 31189,
    "start_time": "2022-11-30T11:27:20.705Z"
   },
   {
    "duration": 12024,
    "start_time": "2022-11-30T11:27:51.896Z"
   },
   {
    "duration": 131,
    "start_time": "2022-11-30T11:28:03.922Z"
   },
   {
    "duration": 129,
    "start_time": "2022-11-30T11:28:04.054Z"
   },
   {
    "duration": 6,
    "start_time": "2022-11-30T11:28:04.185Z"
   },
   {
    "duration": 136,
    "start_time": "2022-11-30T11:28:30.881Z"
   },
   {
    "duration": 120,
    "start_time": "2022-11-30T11:28:33.034Z"
   },
   {
    "duration": 1357,
    "start_time": "2022-11-30T11:30:42.279Z"
   },
   {
    "duration": 42,
    "start_time": "2022-11-30T11:30:43.638Z"
   },
   {
    "duration": 19,
    "start_time": "2022-11-30T11:30:43.682Z"
   },
   {
    "duration": 12,
    "start_time": "2022-11-30T11:30:43.703Z"
   },
   {
    "duration": 8,
    "start_time": "2022-11-30T11:30:43.718Z"
   },
   {
    "duration": 4,
    "start_time": "2022-11-30T11:30:43.728Z"
   },
   {
    "duration": 4,
    "start_time": "2022-11-30T11:30:43.734Z"
   },
   {
    "duration": 5,
    "start_time": "2022-11-30T11:30:43.740Z"
   },
   {
    "duration": 5,
    "start_time": "2022-11-30T11:30:43.746Z"
   },
   {
    "duration": 5,
    "start_time": "2022-11-30T11:30:43.753Z"
   },
   {
    "duration": 6,
    "start_time": "2022-11-30T11:30:43.760Z"
   },
   {
    "duration": 19,
    "start_time": "2022-11-30T11:30:43.767Z"
   },
   {
    "duration": 6,
    "start_time": "2022-11-30T11:30:43.788Z"
   },
   {
    "duration": 17,
    "start_time": "2022-11-30T11:30:43.797Z"
   },
   {
    "duration": 15,
    "start_time": "2022-11-30T11:30:43.815Z"
   },
   {
    "duration": 32,
    "start_time": "2022-11-30T11:30:43.833Z"
   },
   {
    "duration": 30,
    "start_time": "2022-11-30T11:30:43.867Z"
   },
   {
    "duration": 179,
    "start_time": "2022-11-30T11:30:43.899Z"
   },
   {
    "duration": 22731,
    "start_time": "2022-11-30T11:30:44.079Z"
   },
   {
    "duration": 402,
    "start_time": "2022-11-30T11:31:06.812Z"
   },
   {
    "duration": 23357,
    "start_time": "2022-11-30T11:31:07.216Z"
   },
   {
    "duration": 41051,
    "start_time": "2022-11-30T11:31:30.575Z"
   },
   {
    "duration": 14801,
    "start_time": "2022-11-30T11:32:11.628Z"
   },
   {
    "duration": 121,
    "start_time": "2022-11-30T11:32:26.430Z"
   },
   {
    "duration": 138,
    "start_time": "2022-11-30T11:32:26.552Z"
   },
   {
    "duration": 7,
    "start_time": "2022-11-30T11:32:26.693Z"
   },
   {
    "duration": 1283,
    "start_time": "2022-12-01T05:31:23.109Z"
   },
   {
    "duration": 39,
    "start_time": "2022-12-01T05:31:24.394Z"
   },
   {
    "duration": 18,
    "start_time": "2022-12-01T05:31:24.435Z"
   },
   {
    "duration": 19,
    "start_time": "2022-12-01T05:31:24.454Z"
   },
   {
    "duration": 10,
    "start_time": "2022-12-01T05:31:24.475Z"
   },
   {
    "duration": 18,
    "start_time": "2022-12-01T05:31:24.487Z"
   },
   {
    "duration": 7,
    "start_time": "2022-12-01T05:31:24.506Z"
   },
   {
    "duration": 9,
    "start_time": "2022-12-01T05:31:24.515Z"
   },
   {
    "duration": 9,
    "start_time": "2022-12-01T05:31:24.525Z"
   },
   {
    "duration": 7,
    "start_time": "2022-12-01T05:31:24.536Z"
   },
   {
    "duration": 16,
    "start_time": "2022-12-01T05:31:24.544Z"
   },
   {
    "duration": 48,
    "start_time": "2022-12-01T05:31:24.562Z"
   },
   {
    "duration": 14,
    "start_time": "2022-12-01T05:31:24.612Z"
   },
   {
    "duration": 26,
    "start_time": "2022-12-01T05:31:24.628Z"
   },
   {
    "duration": 25,
    "start_time": "2022-12-01T05:31:24.657Z"
   },
   {
    "duration": 51,
    "start_time": "2022-12-01T05:31:24.684Z"
   },
   {
    "duration": 17,
    "start_time": "2022-12-01T05:31:32.861Z"
   },
   {
    "duration": 22,
    "start_time": "2022-12-01T05:31:43.572Z"
   },
   {
    "duration": 17,
    "start_time": "2022-12-01T05:31:49.611Z"
   },
   {
    "duration": 5,
    "start_time": "2022-12-01T05:33:30.150Z"
   },
   {
    "duration": 153,
    "start_time": "2022-12-01T05:33:30.159Z"
   },
   {
    "duration": 38,
    "start_time": "2022-12-01T05:33:30.314Z"
   },
   {
    "duration": 33,
    "start_time": "2022-12-01T05:33:30.353Z"
   },
   {
    "duration": 34,
    "start_time": "2022-12-01T05:33:30.388Z"
   },
   {
    "duration": 9,
    "start_time": "2022-12-01T05:33:30.424Z"
   },
   {
    "duration": 62,
    "start_time": "2022-12-01T05:33:30.434Z"
   },
   {
    "duration": 42,
    "start_time": "2022-12-01T05:33:30.497Z"
   },
   {
    "duration": 56,
    "start_time": "2022-12-01T05:33:30.542Z"
   },
   {
    "duration": 185,
    "start_time": "2022-12-01T05:33:30.599Z"
   },
   {
    "duration": 51,
    "start_time": "2022-12-01T05:33:30.786Z"
   },
   {
    "duration": 40,
    "start_time": "2022-12-01T05:33:30.838Z"
   },
   {
    "duration": 44,
    "start_time": "2022-12-01T05:33:30.880Z"
   },
   {
    "duration": 28,
    "start_time": "2022-12-01T05:33:30.926Z"
   },
   {
    "duration": 39,
    "start_time": "2022-12-01T05:33:30.957Z"
   },
   {
    "duration": 45,
    "start_time": "2022-12-01T05:33:30.998Z"
   },
   {
    "duration": 57,
    "start_time": "2022-12-01T05:33:31.045Z"
   },
   {
    "duration": 182,
    "start_time": "2022-12-01T05:33:47.990Z"
   },
   {
    "duration": 18,
    "start_time": "2022-12-01T05:33:55.780Z"
   },
   {
    "duration": 1410,
    "start_time": "2022-12-01T07:32:30.586Z"
   },
   {
    "duration": 89,
    "start_time": "2022-12-01T07:32:32.936Z"
   },
   {
    "duration": 18,
    "start_time": "2022-12-01T07:32:33.384Z"
   },
   {
    "duration": 14,
    "start_time": "2022-12-01T07:32:33.991Z"
   },
   {
    "duration": 8,
    "start_time": "2022-12-01T07:32:34.320Z"
   },
   {
    "duration": 6,
    "start_time": "2022-12-01T07:32:35.660Z"
   },
   {
    "duration": 5,
    "start_time": "2022-12-01T07:32:36.485Z"
   },
   {
    "duration": 3,
    "start_time": "2022-12-01T07:32:37.099Z"
   },
   {
    "duration": 2,
    "start_time": "2022-12-01T07:32:37.773Z"
   },
   {
    "duration": 3,
    "start_time": "2022-12-01T07:32:41.215Z"
   },
   {
    "duration": 4,
    "start_time": "2022-12-01T07:32:42.174Z"
   },
   {
    "duration": 4,
    "start_time": "2022-12-01T07:32:43.478Z"
   },
   {
    "duration": 4,
    "start_time": "2022-12-01T07:32:43.826Z"
   },
   {
    "duration": 4,
    "start_time": "2022-12-01T07:32:44.143Z"
   },
   {
    "duration": 3,
    "start_time": "2022-12-01T07:32:44.719Z"
   },
   {
    "duration": 117,
    "start_time": "2022-12-01T07:32:45.527Z"
   },
   {
    "duration": 12,
    "start_time": "2022-12-01T07:35:20.348Z"
   },
   {
    "duration": 51,
    "start_time": "2022-12-01T07:35:58.822Z"
   },
   {
    "duration": 13,
    "start_time": "2022-12-01T07:36:01.748Z"
   },
   {
    "duration": 26,
    "start_time": "2022-12-01T07:36:45.710Z"
   },
   {
    "duration": 15,
    "start_time": "2022-12-01T07:37:03.054Z"
   },
   {
    "duration": 13,
    "start_time": "2022-12-01T07:38:41.066Z"
   },
   {
    "duration": 13,
    "start_time": "2022-12-01T07:39:13.274Z"
   },
   {
    "duration": 16,
    "start_time": "2022-12-01T07:39:37.320Z"
   },
   {
    "duration": 27,
    "start_time": "2022-12-01T07:39:44.340Z"
   },
   {
    "duration": 26,
    "start_time": "2022-12-01T07:39:47.846Z"
   },
   {
    "duration": 24,
    "start_time": "2022-12-01T07:39:50.189Z"
   },
   {
    "duration": 180,
    "start_time": "2022-12-01T07:39:53.408Z"
   },
   {
    "duration": 25678,
    "start_time": "2022-12-01T07:39:56.048Z"
   },
   {
    "duration": 371,
    "start_time": "2022-12-01T07:40:28.607Z"
   },
   {
    "duration": 26179,
    "start_time": "2022-12-01T07:40:36.754Z"
   },
   {
    "duration": 148,
    "start_time": "2022-12-01T07:41:35.846Z"
   },
   {
    "duration": 131,
    "start_time": "2022-12-01T07:41:38.048Z"
   },
   {
    "duration": 24,
    "start_time": "2022-12-01T07:41:58.842Z"
   },
   {
    "duration": 30,
    "start_time": "2022-12-01T07:42:00.695Z"
   },
   {
    "duration": 171,
    "start_time": "2022-12-01T07:42:04.202Z"
   },
   {
    "duration": 24,
    "start_time": "2022-12-01T07:42:24.167Z"
   },
   {
    "duration": 36,
    "start_time": "2022-12-01T07:42:26.107Z"
   },
   {
    "duration": 168,
    "start_time": "2022-12-01T07:42:30.009Z"
   },
   {
    "duration": 78,
    "start_time": "2022-12-01T07:43:42.666Z"
   },
   {
    "duration": 35,
    "start_time": "2022-12-01T07:43:48.236Z"
   },
   {
    "duration": 23,
    "start_time": "2022-12-01T07:43:50.251Z"
   },
   {
    "duration": 4,
    "start_time": "2022-12-01T07:43:54.048Z"
   },
   {
    "duration": 4,
    "start_time": "2022-12-01T07:43:54.535Z"
   },
   {
    "duration": 14,
    "start_time": "2022-12-01T07:43:54.723Z"
   },
   {
    "duration": 6,
    "start_time": "2022-12-01T07:43:54.902Z"
   },
   {
    "duration": 3,
    "start_time": "2022-12-01T07:43:55.630Z"
   },
   {
    "duration": 25,
    "start_time": "2022-12-01T07:43:56.520Z"
   },
   {
    "duration": 36,
    "start_time": "2022-12-01T07:43:58.449Z"
   },
   {
    "duration": 177,
    "start_time": "2022-12-01T07:44:01.783Z"
   },
   {
    "duration": 4,
    "start_time": "2022-12-01T07:44:07.893Z"
   },
   {
    "duration": 4,
    "start_time": "2022-12-01T07:44:08.426Z"
   },
   {
    "duration": 4,
    "start_time": "2022-12-01T07:44:08.478Z"
   },
   {
    "duration": 4,
    "start_time": "2022-12-01T07:44:08.503Z"
   },
   {
    "duration": 4,
    "start_time": "2022-12-01T07:44:08.580Z"
   },
   {
    "duration": 26,
    "start_time": "2022-12-01T07:44:08.647Z"
   },
   {
    "duration": 27,
    "start_time": "2022-12-01T07:44:09.554Z"
   },
   {
    "duration": 171,
    "start_time": "2022-12-01T07:44:11.873Z"
   },
   {
    "duration": 4,
    "start_time": "2022-12-01T07:47:27.117Z"
   },
   {
    "duration": 4,
    "start_time": "2022-12-01T07:47:27.649Z"
   },
   {
    "duration": 4,
    "start_time": "2022-12-01T07:47:27.679Z"
   },
   {
    "duration": 4,
    "start_time": "2022-12-01T07:47:27.709Z"
   },
   {
    "duration": 4,
    "start_time": "2022-12-01T07:47:27.778Z"
   },
   {
    "duration": 26,
    "start_time": "2022-12-01T07:47:27.853Z"
   },
   {
    "duration": 29,
    "start_time": "2022-12-01T07:47:27.966Z"
   },
   {
    "duration": 163,
    "start_time": "2022-12-01T07:47:28.693Z"
   },
   {
    "duration": 189,
    "start_time": "2022-12-01T07:47:34.413Z"
   },
   {
    "duration": 27078,
    "start_time": "2022-12-01T07:47:41.113Z"
   },
   {
    "duration": 126,
    "start_time": "2022-12-01T07:49:00.931Z"
   },
   {
    "duration": 25452,
    "start_time": "2022-12-01T07:49:04.024Z"
   },
   {
    "duration": 111,
    "start_time": "2022-12-01T07:49:36.727Z"
   },
   {
    "duration": 4,
    "start_time": "2022-12-01T07:50:00.379Z"
   },
   {
    "duration": 119,
    "start_time": "2022-12-01T07:50:00.384Z"
   },
   {
    "duration": 13,
    "start_time": "2022-12-01T07:50:00.505Z"
   },
   {
    "duration": 75,
    "start_time": "2022-12-01T07:50:00.520Z"
   },
   {
    "duration": 25,
    "start_time": "2022-12-01T07:50:00.597Z"
   },
   {
    "duration": 37,
    "start_time": "2022-12-01T07:50:00.624Z"
   },
   {
    "duration": 31,
    "start_time": "2022-12-01T07:50:00.662Z"
   },
   {
    "duration": 47,
    "start_time": "2022-12-01T07:50:00.694Z"
   },
   {
    "duration": 16,
    "start_time": "2022-12-01T07:50:00.743Z"
   },
   {
    "duration": 18,
    "start_time": "2022-12-01T07:50:00.760Z"
   },
   {
    "duration": 33,
    "start_time": "2022-12-01T07:50:00.781Z"
   },
   {
    "duration": 28,
    "start_time": "2022-12-01T07:50:00.815Z"
   },
   {
    "duration": 18,
    "start_time": "2022-12-01T07:50:00.844Z"
   },
   {
    "duration": 45,
    "start_time": "2022-12-01T07:50:00.864Z"
   },
   {
    "duration": 30,
    "start_time": "2022-12-01T07:50:00.911Z"
   },
   {
    "duration": 101,
    "start_time": "2022-12-01T07:50:00.943Z"
   },
   {
    "duration": 41,
    "start_time": "2022-12-01T07:50:01.046Z"
   },
   {
    "duration": 290,
    "start_time": "2022-12-01T07:50:01.088Z"
   },
   {
    "duration": 26329,
    "start_time": "2022-12-01T07:50:01.379Z"
   },
   {
    "duration": 269,
    "start_time": "2022-12-01T07:50:27.709Z"
   },
   {
    "duration": 25393,
    "start_time": "2022-12-01T07:50:27.980Z"
   },
   {
    "duration": 46323,
    "start_time": "2022-12-01T07:50:53.377Z"
   },
   {
    "duration": 15690,
    "start_time": "2022-12-01T07:51:39.701Z"
   },
   {
    "duration": 151,
    "start_time": "2022-12-01T07:51:55.393Z"
   },
   {
    "duration": 160,
    "start_time": "2022-12-01T07:51:55.546Z"
   },
   {
    "duration": 7,
    "start_time": "2022-12-01T07:51:55.708Z"
   },
   {
    "duration": 1562,
    "start_time": "2022-12-01T08:07:16.654Z"
   },
   {
    "duration": 1572,
    "start_time": "2022-12-01T08:07:31.326Z"
   },
   {
    "duration": 2160,
    "start_time": "2022-12-01T08:08:09.618Z"
   },
   {
    "duration": 1232,
    "start_time": "2022-12-01T08:08:16.925Z"
   },
   {
    "duration": 1049,
    "start_time": "2022-12-01T08:08:23.618Z"
   },
   {
    "duration": 123,
    "start_time": "2022-12-01T14:40:23.682Z"
   },
   {
    "duration": 1419,
    "start_time": "2022-12-01T14:40:26.924Z"
   },
   {
    "duration": 160,
    "start_time": "2022-12-01T14:40:28.345Z"
   },
   {
    "duration": 16,
    "start_time": "2022-12-01T14:40:28.506Z"
   },
   {
    "duration": 11,
    "start_time": "2022-12-01T14:40:28.524Z"
   },
   {
    "duration": 5,
    "start_time": "2022-12-01T14:40:28.537Z"
   },
   {
    "duration": 5,
    "start_time": "2022-12-01T14:40:28.544Z"
   },
   {
    "duration": 7,
    "start_time": "2022-12-01T14:40:28.550Z"
   },
   {
    "duration": 5,
    "start_time": "2022-12-01T14:40:28.558Z"
   },
   {
    "duration": 6,
    "start_time": "2022-12-01T14:40:28.564Z"
   },
   {
    "duration": 4,
    "start_time": "2022-12-01T14:40:28.572Z"
   },
   {
    "duration": 6,
    "start_time": "2022-12-01T14:40:28.577Z"
   },
   {
    "duration": 6,
    "start_time": "2022-12-01T14:40:28.584Z"
   },
   {
    "duration": 6,
    "start_time": "2022-12-01T14:40:28.591Z"
   },
   {
    "duration": 5,
    "start_time": "2022-12-01T14:40:28.599Z"
   },
   {
    "duration": 21,
    "start_time": "2022-12-01T14:40:28.605Z"
   },
   {
    "duration": 26,
    "start_time": "2022-12-01T14:40:28.628Z"
   },
   {
    "duration": 22,
    "start_time": "2022-12-01T14:40:28.655Z"
   },
   {
    "duration": 167,
    "start_time": "2022-12-01T14:40:28.678Z"
   },
   {
    "duration": 22739,
    "start_time": "2022-12-01T14:40:28.847Z"
   },
   {
    "duration": 237,
    "start_time": "2022-12-01T14:40:51.589Z"
   },
   {
    "duration": 27853,
    "start_time": "2022-12-01T14:40:51.829Z"
   },
   {
    "duration": 9473,
    "start_time": "2022-12-01T14:41:19.684Z"
   },
   {
    "duration": 14576,
    "start_time": "2022-12-01T14:41:29.159Z"
   },
   {
    "duration": 64,
    "start_time": "2022-12-01T14:41:43.737Z"
   },
   {
    "duration": 126,
    "start_time": "2022-12-01T14:41:43.802Z"
   },
   {
    "duration": 6,
    "start_time": "2022-12-01T14:41:43.929Z"
   },
   {
    "duration": 26545,
    "start_time": "2022-12-01T14:42:14.744Z"
   },
   {
    "duration": 26885,
    "start_time": "2022-12-01T14:43:01.638Z"
   },
   {
    "duration": 26191,
    "start_time": "2022-12-01T14:44:28.571Z"
   },
   {
    "duration": 4728,
    "start_time": "2022-12-01T14:45:05.730Z"
   },
   {
    "duration": 4218,
    "start_time": "2022-12-01T14:45:23.009Z"
   },
   {
    "duration": 10568,
    "start_time": "2022-12-01T14:45:43.490Z"
   },
   {
    "duration": 785,
    "start_time": "2022-12-01T14:46:19.154Z"
   },
   {
    "duration": 17183,
    "start_time": "2022-12-01T14:47:09.818Z"
   },
   {
    "duration": 13605,
    "start_time": "2022-12-01T14:47:33.025Z"
   },
   {
    "duration": 42789,
    "start_time": "2022-12-01T14:48:27.706Z"
   },
   {
    "duration": 54402,
    "start_time": "2022-12-01T14:49:39.384Z"
   },
   {
    "duration": 16535,
    "start_time": "2022-12-01T14:51:21.330Z"
   },
   {
    "duration": 45245,
    "start_time": "2022-12-01T14:52:31.155Z"
   },
   {
    "duration": 13292,
    "start_time": "2022-12-01T14:53:35.818Z"
   },
   {
    "duration": 60066,
    "start_time": "2022-12-01T14:55:03.928Z"
   },
   {
    "duration": 197,
    "start_time": "2022-12-01T14:56:40.290Z"
   },
   {
    "duration": 186,
    "start_time": "2022-12-01T14:56:46.714Z"
   },
   {
    "duration": 237,
    "start_time": "2022-12-01T14:56:57.714Z"
   },
   {
    "duration": 22525,
    "start_time": "2022-12-01T14:58:03.664Z"
   },
   {
    "duration": 37,
    "start_time": "2022-12-01T15:01:35.970Z"
   },
   {
    "duration": 196,
    "start_time": "2022-12-01T15:01:55.218Z"
   },
   {
    "duration": 166,
    "start_time": "2022-12-01T15:02:11.754Z"
   },
   {
    "duration": 323,
    "start_time": "2022-12-01T15:02:17.914Z"
   },
   {
    "duration": 388,
    "start_time": "2022-12-01T15:02:24.801Z"
   },
   {
    "duration": 773,
    "start_time": "2022-12-01T15:02:29.897Z"
   },
   {
    "duration": 15537,
    "start_time": "2022-12-01T15:02:37.953Z"
   },
   {
    "duration": 15185,
    "start_time": "2022-12-01T15:03:29.410Z"
   },
   {
    "duration": 3052,
    "start_time": "2022-12-01T15:04:22.170Z"
   },
   {
    "duration": 4525,
    "start_time": "2022-12-01T15:04:30.265Z"
   },
   {
    "duration": 15111,
    "start_time": "2022-12-01T15:04:49.234Z"
   },
   {
    "duration": 60726,
    "start_time": "2022-12-01T15:05:29.569Z"
   },
   {
    "duration": 3108,
    "start_time": "2022-12-01T15:06:58.257Z"
   },
   {
    "duration": 4859,
    "start_time": "2022-12-01T15:07:13.905Z"
   },
   {
    "duration": 5601,
    "start_time": "2022-12-01T15:07:24.298Z"
   },
   {
    "duration": 10903,
    "start_time": "2022-12-01T15:07:42.849Z"
   },
   {
    "duration": 4920,
    "start_time": "2022-12-01T15:08:13.082Z"
   },
   {
    "duration": 12532,
    "start_time": "2022-12-01T15:08:23.498Z"
   },
   {
    "duration": 9937,
    "start_time": "2022-12-01T15:09:10.716Z"
   },
   {
    "duration": 1721,
    "start_time": "2022-12-01T15:12:15.440Z"
   },
   {
    "duration": 76,
    "start_time": "2022-12-01T15:12:17.163Z"
   },
   {
    "duration": 17,
    "start_time": "2022-12-01T15:12:17.241Z"
   },
   {
    "duration": 66,
    "start_time": "2022-12-01T15:12:17.260Z"
   },
   {
    "duration": 7,
    "start_time": "2022-12-01T15:12:17.328Z"
   },
   {
    "duration": 10,
    "start_time": "2022-12-01T15:12:17.336Z"
   },
   {
    "duration": 10,
    "start_time": "2022-12-01T15:12:17.348Z"
   },
   {
    "duration": 5,
    "start_time": "2022-12-01T15:12:17.360Z"
   },
   {
    "duration": 4,
    "start_time": "2022-12-01T15:12:17.367Z"
   },
   {
    "duration": 52,
    "start_time": "2022-12-01T15:12:17.374Z"
   },
   {
    "duration": 9,
    "start_time": "2022-12-01T15:12:17.428Z"
   },
   {
    "duration": 7,
    "start_time": "2022-12-01T15:12:17.439Z"
   },
   {
    "duration": 7,
    "start_time": "2022-12-01T15:12:17.447Z"
   },
   {
    "duration": 10,
    "start_time": "2022-12-01T15:12:17.456Z"
   },
   {
    "duration": 11,
    "start_time": "2022-12-01T15:12:17.469Z"
   },
   {
    "duration": 27,
    "start_time": "2022-12-01T15:12:17.525Z"
   },
   {
    "duration": 78,
    "start_time": "2022-12-01T15:12:17.554Z"
   },
   {
    "duration": 112,
    "start_time": "2022-12-01T15:12:17.634Z"
   },
   {
    "duration": 20652,
    "start_time": "2022-12-01T15:12:17.748Z"
   },
   {
    "duration": 430,
    "start_time": "2022-12-01T15:12:38.402Z"
   },
   {
    "duration": 19528,
    "start_time": "2022-12-01T15:12:38.834Z"
   },
   {
    "duration": 22973,
    "start_time": "2022-12-01T15:12:58.364Z"
   },
   {
    "duration": 9644,
    "start_time": "2022-12-01T15:13:21.339Z"
   },
   {
    "duration": 102,
    "start_time": "2022-12-01T15:13:30.986Z"
   },
   {
    "duration": 223,
    "start_time": "2022-12-01T15:13:31.090Z"
   },
   {
    "duration": 139,
    "start_time": "2022-12-01T15:13:31.315Z"
   },
   {
    "duration": 7,
    "start_time": "2022-12-01T15:13:31.455Z"
   },
   {
    "duration": 20197,
    "start_time": "2022-12-01T15:14:58.769Z"
   },
   {
    "duration": 134003,
    "start_time": "2022-12-01T15:15:18.969Z"
   },
   {
    "duration": 126338,
    "start_time": "2022-12-01T15:17:32.973Z"
   },
   {
    "duration": 80,
    "start_time": "2022-12-01T15:19:50.851Z"
   },
   {
    "duration": 149,
    "start_time": "2022-12-01T15:19:53.280Z"
   },
   {
    "duration": 10464,
    "start_time": "2022-12-01T15:21:36.619Z"
   },
   {
    "duration": 152,
    "start_time": "2022-12-01T15:41:15.237Z"
   },
   {
    "duration": 2076,
    "start_time": "2022-12-01T15:42:10.175Z"
   },
   {
    "duration": 403,
    "start_time": "2022-12-01T15:42:12.253Z"
   },
   {
    "duration": 54,
    "start_time": "2022-12-01T15:42:12.658Z"
   },
   {
    "duration": 13,
    "start_time": "2022-12-01T15:42:12.714Z"
   },
   {
    "duration": 7,
    "start_time": "2022-12-01T15:42:12.729Z"
   },
   {
    "duration": 8,
    "start_time": "2022-12-01T15:42:12.737Z"
   },
   {
    "duration": 8,
    "start_time": "2022-12-01T15:42:12.746Z"
   },
   {
    "duration": 5,
    "start_time": "2022-12-01T15:42:12.755Z"
   },
   {
    "duration": 44,
    "start_time": "2022-12-01T15:42:12.762Z"
   },
   {
    "duration": 9,
    "start_time": "2022-12-01T15:42:12.808Z"
   },
   {
    "duration": 6,
    "start_time": "2022-12-01T15:42:12.819Z"
   },
   {
    "duration": 13,
    "start_time": "2022-12-01T15:42:12.827Z"
   },
   {
    "duration": 11,
    "start_time": "2022-12-01T15:42:12.842Z"
   },
   {
    "duration": 8,
    "start_time": "2022-12-01T15:42:12.857Z"
   },
   {
    "duration": 8,
    "start_time": "2022-12-01T15:42:12.866Z"
   },
   {
    "duration": 48,
    "start_time": "2022-12-01T15:42:12.876Z"
   },
   {
    "duration": 37,
    "start_time": "2022-12-01T15:42:12.927Z"
   },
   {
    "duration": 82,
    "start_time": "2022-12-01T15:42:12.966Z"
   },
   {
    "duration": 21622,
    "start_time": "2022-12-01T15:42:13.050Z"
   },
   {
    "duration": 232,
    "start_time": "2022-12-01T15:42:34.674Z"
   },
   {
    "duration": 22152,
    "start_time": "2022-12-01T15:42:34.910Z"
   },
   {
    "duration": 11676,
    "start_time": "2022-12-01T15:42:57.064Z"
   },
   {
    "duration": 149377,
    "start_time": "2022-12-01T15:43:08.742Z"
   },
   {
    "duration": 123,
    "start_time": "2022-12-01T15:45:38.121Z"
   },
   {
    "duration": 72,
    "start_time": "2022-12-01T15:45:38.245Z"
   },
   {
    "duration": 133,
    "start_time": "2022-12-01T15:45:38.319Z"
   },
   {
    "duration": 5,
    "start_time": "2022-12-01T15:45:38.454Z"
   },
   {
    "duration": 26205,
    "start_time": "2022-12-01T15:47:57.302Z"
   },
   {
    "duration": 135253,
    "start_time": "2022-12-01T15:48:44.747Z"
   },
   {
    "duration": 543,
    "start_time": "2022-12-01T15:52:03.931Z"
   },
   {
    "duration": 3116,
    "start_time": "2022-12-01T15:52:12.548Z"
   },
   {
    "duration": 4823,
    "start_time": "2022-12-01T15:52:20.883Z"
   },
   {
    "duration": 13564,
    "start_time": "2022-12-01T15:52:35.279Z"
   },
   {
    "duration": 6460,
    "start_time": "2022-12-01T15:53:00.560Z"
   },
   {
    "duration": 149,
    "start_time": "2022-12-01T15:54:55.633Z"
   },
   {
    "duration": 1568,
    "start_time": "2022-12-01T15:55:58.977Z"
   },
   {
    "duration": 73,
    "start_time": "2022-12-01T15:56:00.546Z"
   },
   {
    "duration": 18,
    "start_time": "2022-12-01T15:56:00.621Z"
   },
   {
    "duration": 69,
    "start_time": "2022-12-01T15:56:00.641Z"
   },
   {
    "duration": 7,
    "start_time": "2022-12-01T15:56:00.712Z"
   },
   {
    "duration": 20,
    "start_time": "2022-12-01T15:56:00.721Z"
   },
   {
    "duration": 20,
    "start_time": "2022-12-01T15:56:00.743Z"
   },
   {
    "duration": 40,
    "start_time": "2022-12-01T15:56:00.765Z"
   },
   {
    "duration": 13,
    "start_time": "2022-12-01T15:56:00.807Z"
   },
   {
    "duration": 14,
    "start_time": "2022-12-01T15:56:00.823Z"
   },
   {
    "duration": 9,
    "start_time": "2022-12-01T15:56:00.838Z"
   },
   {
    "duration": 57,
    "start_time": "2022-12-01T15:56:00.848Z"
   },
   {
    "duration": 4,
    "start_time": "2022-12-01T15:56:00.906Z"
   },
   {
    "duration": 10,
    "start_time": "2022-12-01T15:56:00.911Z"
   },
   {
    "duration": 6,
    "start_time": "2022-12-01T15:56:00.922Z"
   },
   {
    "duration": 81,
    "start_time": "2022-12-01T15:56:00.930Z"
   },
   {
    "duration": 26,
    "start_time": "2022-12-01T15:56:01.013Z"
   },
   {
    "duration": 167,
    "start_time": "2022-12-01T15:56:01.041Z"
   },
   {
    "duration": 21837,
    "start_time": "2022-12-01T15:56:01.209Z"
   },
   {
    "duration": 267,
    "start_time": "2022-12-01T15:56:23.048Z"
   },
   {
    "duration": 21487,
    "start_time": "2022-12-01T15:56:23.405Z"
   },
   {
    "duration": 261467,
    "start_time": "2022-12-01T15:56:44.894Z"
   },
   {
    "duration": 365071,
    "start_time": "2022-12-01T16:01:06.363Z"
   },
   {
    "duration": 144,
    "start_time": "2022-12-01T16:07:11.435Z"
   },
   {
    "duration": 172,
    "start_time": "2022-12-01T16:07:11.580Z"
   },
   {
    "duration": 136,
    "start_time": "2022-12-01T16:07:11.753Z"
   },
   {
    "duration": 13,
    "start_time": "2022-12-01T16:07:11.891Z"
   },
   {
    "duration": 181,
    "start_time": "2022-12-01T16:07:29.522Z"
   },
   {
    "duration": 20470,
    "start_time": "2022-12-01T16:07:34.389Z"
   },
   {
    "duration": 384,
    "start_time": "2022-12-01T16:08:02.028Z"
   },
   {
    "duration": 257,
    "start_time": "2022-12-01T16:08:22.868Z"
   },
   {
    "duration": 138,
    "start_time": "2022-12-01T16:08:34.972Z"
   },
   {
    "duration": 24582,
    "start_time": "2022-12-01T16:09:28.885Z"
   },
   {
    "duration": 16926,
    "start_time": "2022-12-01T16:10:33.661Z"
   },
   {
    "duration": 139,
    "start_time": "2022-12-01T16:10:50.589Z"
   },
   {
    "duration": 118,
    "start_time": "2022-12-01T16:10:55.532Z"
   },
   {
    "duration": 48,
    "start_time": "2022-12-01T16:12:16.580Z"
   },
   {
    "duration": 1313,
    "start_time": "2022-12-01T16:12:24.060Z"
   },
   {
    "duration": 41,
    "start_time": "2022-12-01T16:12:25.374Z"
   },
   {
    "duration": 23,
    "start_time": "2022-12-01T16:12:25.416Z"
   },
   {
    "duration": 17,
    "start_time": "2022-12-01T16:12:25.441Z"
   },
   {
    "duration": 10,
    "start_time": "2022-12-01T16:12:25.460Z"
   },
   {
    "duration": 6,
    "start_time": "2022-12-01T16:12:25.908Z"
   },
   {
    "duration": 5,
    "start_time": "2022-12-01T16:12:26.452Z"
   },
   {
    "duration": 3,
    "start_time": "2022-12-01T16:12:27.156Z"
   },
   {
    "duration": 3,
    "start_time": "2022-12-01T16:12:27.501Z"
   },
   {
    "duration": 3,
    "start_time": "2022-12-01T16:12:28.324Z"
   },
   {
    "duration": 5,
    "start_time": "2022-12-01T16:12:28.972Z"
   },
   {
    "duration": 5,
    "start_time": "2022-12-01T16:12:29.316Z"
   },
   {
    "duration": 5,
    "start_time": "2022-12-01T16:12:29.475Z"
   },
   {
    "duration": 4,
    "start_time": "2022-12-01T16:12:29.652Z"
   },
   {
    "duration": 3,
    "start_time": "2022-12-01T16:12:30.077Z"
   },
   {
    "duration": 41,
    "start_time": "2022-12-01T16:12:30.485Z"
   },
   {
    "duration": 25,
    "start_time": "2022-12-01T16:12:32.355Z"
   },
   {
    "duration": 307,
    "start_time": "2022-12-01T16:12:35.699Z"
   },
   {
    "duration": 328,
    "start_time": "2022-12-01T16:12:41.235Z"
   },
   {
    "duration": 225,
    "start_time": "2022-12-01T16:12:47.484Z"
   },
   {
    "duration": 1338,
    "start_time": "2022-12-01T16:14:13.859Z"
   },
   {
    "duration": 44,
    "start_time": "2022-12-01T16:14:15.199Z"
   },
   {
    "duration": 18,
    "start_time": "2022-12-01T16:14:15.245Z"
   },
   {
    "duration": 24,
    "start_time": "2022-12-01T16:14:15.266Z"
   },
   {
    "duration": 28,
    "start_time": "2022-12-01T16:14:15.292Z"
   },
   {
    "duration": 17,
    "start_time": "2022-12-01T16:14:15.321Z"
   },
   {
    "duration": 20,
    "start_time": "2022-12-01T16:14:15.340Z"
   },
   {
    "duration": 7,
    "start_time": "2022-12-01T16:14:15.362Z"
   },
   {
    "duration": 5,
    "start_time": "2022-12-01T16:14:15.371Z"
   },
   {
    "duration": 5,
    "start_time": "2022-12-01T16:14:15.379Z"
   },
   {
    "duration": 12,
    "start_time": "2022-12-01T16:14:15.386Z"
   },
   {
    "duration": 8,
    "start_time": "2022-12-01T16:14:15.399Z"
   },
   {
    "duration": 7,
    "start_time": "2022-12-01T16:14:15.409Z"
   },
   {
    "duration": 16,
    "start_time": "2022-12-01T16:14:15.417Z"
   },
   {
    "duration": 7,
    "start_time": "2022-12-01T16:14:15.434Z"
   },
   {
    "duration": 32,
    "start_time": "2022-12-01T16:14:15.442Z"
   },
   {
    "duration": 39,
    "start_time": "2022-12-01T16:14:15.476Z"
   },
   {
    "duration": 60,
    "start_time": "2022-12-01T16:14:15.517Z"
   },
   {
    "duration": 20446,
    "start_time": "2022-12-01T16:14:15.579Z"
   },
   {
    "duration": 286,
    "start_time": "2022-12-01T16:14:36.026Z"
   },
   {
    "duration": 20486,
    "start_time": "2022-12-01T16:14:36.314Z"
   },
   {
    "duration": 17867,
    "start_time": "2022-12-01T16:14:56.805Z"
   },
   {
    "duration": 24666,
    "start_time": "2022-12-01T16:15:14.673Z"
   },
   {
    "duration": 379,
    "start_time": "2022-12-01T16:15:39.340Z"
   },
   {
    "duration": 387,
    "start_time": "2022-12-01T16:15:39.721Z"
   },
   {
    "duration": 240,
    "start_time": "2022-12-01T16:15:40.109Z"
   },
   {
    "duration": 57,
    "start_time": "2022-12-01T16:15:40.351Z"
   },
   {
    "duration": 171,
    "start_time": "2022-12-01T16:16:23.629Z"
   },
   {
    "duration": 168,
    "start_time": "2022-12-01T16:16:29.212Z"
   },
   {
    "duration": 25868,
    "start_time": "2022-12-01T16:17:21.485Z"
   },
   {
    "duration": 229,
    "start_time": "2022-12-01T16:17:59.460Z"
   },
   {
    "duration": 3,
    "start_time": "2022-12-01T16:18:17.180Z"
   },
   {
    "duration": 5,
    "start_time": "2022-12-01T16:18:17.468Z"
   },
   {
    "duration": 3,
    "start_time": "2022-12-01T16:18:17.627Z"
   },
   {
    "duration": 3,
    "start_time": "2022-12-01T16:18:17.764Z"
   },
   {
    "duration": 3,
    "start_time": "2022-12-01T16:18:18.067Z"
   },
   {
    "duration": 30,
    "start_time": "2022-12-01T16:18:18.428Z"
   },
   {
    "duration": 25,
    "start_time": "2022-12-01T16:18:19.556Z"
   },
   {
    "duration": 212,
    "start_time": "2022-12-01T16:18:27.676Z"
   },
   {
    "duration": 25772,
    "start_time": "2022-12-01T16:19:00.143Z"
   },
   {
    "duration": 231,
    "start_time": "2022-12-01T16:19:35.092Z"
   },
   {
    "duration": 21143,
    "start_time": "2022-12-01T16:20:46.227Z"
   },
   {
    "duration": 1323,
    "start_time": "2022-12-01T16:26:14.446Z"
   },
   {
    "duration": 42,
    "start_time": "2022-12-01T16:26:15.771Z"
   },
   {
    "duration": 17,
    "start_time": "2022-12-01T16:26:15.814Z"
   },
   {
    "duration": 13,
    "start_time": "2022-12-01T16:26:15.833Z"
   },
   {
    "duration": 17,
    "start_time": "2022-12-01T16:26:15.848Z"
   },
   {
    "duration": 4,
    "start_time": "2022-12-01T16:26:15.867Z"
   },
   {
    "duration": 6,
    "start_time": "2022-12-01T16:26:15.873Z"
   },
   {
    "duration": 6,
    "start_time": "2022-12-01T16:26:15.880Z"
   },
   {
    "duration": 2,
    "start_time": "2022-12-01T16:26:15.905Z"
   },
   {
    "duration": 33,
    "start_time": "2022-12-01T16:26:15.910Z"
   },
   {
    "duration": 12,
    "start_time": "2022-12-01T16:26:15.944Z"
   },
   {
    "duration": 23,
    "start_time": "2022-12-01T16:26:15.957Z"
   },
   {
    "duration": 10,
    "start_time": "2022-12-01T16:26:15.981Z"
   },
   {
    "duration": 6,
    "start_time": "2022-12-01T16:26:15.992Z"
   },
   {
    "duration": 6,
    "start_time": "2022-12-01T16:26:16.000Z"
   },
   {
    "duration": 35,
    "start_time": "2022-12-01T16:26:16.008Z"
   },
   {
    "duration": 23,
    "start_time": "2022-12-01T16:26:16.045Z"
   },
   {
    "duration": 67,
    "start_time": "2022-12-01T16:26:16.070Z"
   },
   {
    "duration": 20747,
    "start_time": "2022-12-01T16:26:16.139Z"
   },
   {
    "duration": 322,
    "start_time": "2022-12-01T16:26:36.887Z"
   },
   {
    "duration": 26032,
    "start_time": "2022-12-01T16:26:37.211Z"
   },
   {
    "duration": 26649,
    "start_time": "2022-12-01T16:27:03.244Z"
   },
   {
    "duration": 24439,
    "start_time": "2022-12-01T16:27:29.895Z"
   },
   {
    "duration": 126,
    "start_time": "2022-12-01T16:27:54.337Z"
   },
   {
    "duration": 0,
    "start_time": "2022-12-01T16:27:54.465Z"
   },
   {
    "duration": 0,
    "start_time": "2022-12-01T16:27:54.467Z"
   },
   {
    "duration": 263,
    "start_time": "2022-12-01T16:28:23.166Z"
   },
   {
    "duration": 239,
    "start_time": "2022-12-01T16:28:50.251Z"
   },
   {
    "duration": 251,
    "start_time": "2022-12-01T16:29:06.046Z"
   },
   {
    "duration": 195,
    "start_time": "2022-12-01T16:29:09.549Z"
   },
   {
    "duration": 372,
    "start_time": "2022-12-01T16:29:12.749Z"
   },
   {
    "duration": 483,
    "start_time": "2022-12-01T16:29:16.117Z"
   },
   {
    "duration": 1362,
    "start_time": "2022-12-01T16:29:29.382Z"
   },
   {
    "duration": 40,
    "start_time": "2022-12-01T16:29:30.746Z"
   },
   {
    "duration": 16,
    "start_time": "2022-12-01T16:29:30.788Z"
   },
   {
    "duration": 28,
    "start_time": "2022-12-01T16:29:30.806Z"
   },
   {
    "duration": 22,
    "start_time": "2022-12-01T16:29:30.835Z"
   },
   {
    "duration": 24,
    "start_time": "2022-12-01T16:29:30.858Z"
   },
   {
    "duration": 25,
    "start_time": "2022-12-01T16:29:30.883Z"
   },
   {
    "duration": 14,
    "start_time": "2022-12-01T16:29:30.910Z"
   },
   {
    "duration": 8,
    "start_time": "2022-12-01T16:29:30.925Z"
   },
   {
    "duration": 8,
    "start_time": "2022-12-01T16:29:30.936Z"
   },
   {
    "duration": 17,
    "start_time": "2022-12-01T16:29:30.946Z"
   },
   {
    "duration": 13,
    "start_time": "2022-12-01T16:29:30.965Z"
   },
   {
    "duration": 13,
    "start_time": "2022-12-01T16:29:30.980Z"
   },
   {
    "duration": 19,
    "start_time": "2022-12-01T16:29:30.995Z"
   },
   {
    "duration": 19,
    "start_time": "2022-12-01T16:29:31.016Z"
   },
   {
    "duration": 45,
    "start_time": "2022-12-01T16:29:31.038Z"
   },
   {
    "duration": 67,
    "start_time": "2022-12-01T16:29:31.085Z"
   },
   {
    "duration": 61,
    "start_time": "2022-12-01T16:29:31.154Z"
   },
   {
    "duration": 20806,
    "start_time": "2022-12-01T16:29:31.217Z"
   },
   {
    "duration": 286,
    "start_time": "2022-12-01T16:29:52.024Z"
   },
   {
    "duration": 21185,
    "start_time": "2022-12-01T16:29:52.312Z"
   },
   {
    "duration": 26048,
    "start_time": "2022-12-01T16:30:13.499Z"
   },
   {
    "duration": 25217,
    "start_time": "2022-12-01T16:30:39.549Z"
   },
   {
    "duration": 236,
    "start_time": "2022-12-01T16:31:04.768Z"
   },
   {
    "duration": 144,
    "start_time": "2022-12-01T16:31:05.006Z"
   },
   {
    "duration": 6,
    "start_time": "2022-12-01T16:31:05.152Z"
   }
  ],
  "kernelspec": {
   "display_name": "Python 3 (ipykernel)",
   "language": "python",
   "name": "python3"
  },
  "language_info": {
   "codemirror_mode": {
    "name": "ipython",
    "version": 3
   },
   "file_extension": ".py",
   "mimetype": "text/x-python",
   "name": "python",
   "nbconvert_exporter": "python",
   "pygments_lexer": "ipython3",
   "version": "3.11.5"
  },
  "toc": {
   "base_numbering": 1,
   "nav_menu": {},
   "number_sections": true,
   "sideBar": true,
   "skip_h1_title": true,
   "title_cell": "Содержание",
   "title_sidebar": "Contents",
   "toc_cell": true,
   "toc_position": {
    "height": "calc(100% - 180px)",
    "left": "10px",
    "top": "150px",
    "width": "165px"
   },
   "toc_section_display": true,
   "toc_window_display": true
  }
 },
 "nbformat": 4,
 "nbformat_minor": 2
}
