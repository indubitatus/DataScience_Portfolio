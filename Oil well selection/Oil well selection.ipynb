{
 "cells": [
  {
   "cell_type": "markdown",
   "metadata": {},
   "source": [
    "# Выбор наиболее выгодного региона нефтедобычи"
   ]
  },
  {
   "cell_type": "markdown",
   "metadata": {},
   "source": [
    "Предоставлены пробы нефти в трёх регионах: в каждом 10 000 месторождений, где измерили качество нефти и объём её запасов. Нужно построить модель машинного обучения, которая поможет определить регион, где добыча принесёт наибольшую прибыль. "
   ]
  },
  {
   "cell_type": "markdown",
   "metadata": {},
   "source": [
    "<h1>Содержание<span class=\"tocSkip\"></span></h1>\n",
    "<div class=\"toc\"><ul class=\"toc-item\"><li><span><a href=\"#Загрузка-и-подготовка-данных\" data-toc-modified-id=\"Загрузка-и-подготовка-данных-1\"><span class=\"toc-item-num\">1&nbsp;&nbsp;</span>Загрузка и подготовка данных</a></span></li><li><span><a href=\"#Обучение-и-проверка-модели\" data-toc-modified-id=\"Обучение-и-проверка-модели-2\"><span class=\"toc-item-num\">2&nbsp;&nbsp;</span>Обучение и проверка модели</a></span></li><li><span><a href=\"#Подготовка-к-расчёту-прибыли\" data-toc-modified-id=\"Подготовка-к-расчёту-прибыли-3\"><span class=\"toc-item-num\">3&nbsp;&nbsp;</span>Подготовка к расчёту прибыли</a></span></li><li><span><a href=\"#Расчёт-прибыли-и-рисков\" data-toc-modified-id=\"Расчёт-прибыли-и-рисков-4\"><span class=\"toc-item-num\">4&nbsp;&nbsp;</span>Расчёт прибыли и рисков</a></span></li></ul></div>"
   ]
  },
  {
   "cell_type": "markdown",
   "metadata": {},
   "source": [
    "## Загрузка и подготовка данных"
   ]
  },
  {
   "cell_type": "markdown",
   "metadata": {},
   "source": [
    "Импортируем нужные нам библиотеки."
   ]
  },
  {
   "cell_type": "code",
   "execution_count": 1,
   "metadata": {},
   "outputs": [],
   "source": [
    "import pandas as pd \n",
    "import numpy as np\n",
    "from sklearn.model_selection import train_test_split\n",
    "from sklearn.linear_model import LinearRegression\n",
    "from sklearn.metrics import mean_squared_error"
   ]
  },
  {
   "cell_type": "markdown",
   "metadata": {},
   "source": [
    "Считаем данные из csv-файлов в датафреймы и сохраним в переменные `df1`, `df2`, `df3`."
   ]
  },
  {
   "cell_type": "code",
   "execution_count": 2,
   "metadata": {},
   "outputs": [],
   "source": [
    "df1 = pd.read_csv('/datasets/geo_data_0.csv')\n",
    "df2 = pd.read_csv('/datasets/geo_data_1.csv')\n",
    "df3 = pd.read_csv('/datasets/geo_data_2.csv')"
   ]
  },
  {
   "cell_type": "markdown",
   "metadata": {},
   "source": [
    "Выведим первые 10 строчек датафреймов на экран."
   ]
  },
  {
   "cell_type": "code",
   "execution_count": 3,
   "metadata": {},
   "outputs": [
    {
     "data": {
      "text/html": [
       "<div>\n",
       "<style scoped>\n",
       "    .dataframe tbody tr th:only-of-type {\n",
       "        vertical-align: middle;\n",
       "    }\n",
       "\n",
       "    .dataframe tbody tr th {\n",
       "        vertical-align: top;\n",
       "    }\n",
       "\n",
       "    .dataframe thead th {\n",
       "        text-align: right;\n",
       "    }\n",
       "</style>\n",
       "<table border=\"1\" class=\"dataframe\">\n",
       "  <thead>\n",
       "    <tr style=\"text-align: right;\">\n",
       "      <th></th>\n",
       "      <th>id</th>\n",
       "      <th>f0</th>\n",
       "      <th>f1</th>\n",
       "      <th>f2</th>\n",
       "      <th>product</th>\n",
       "    </tr>\n",
       "  </thead>\n",
       "  <tbody>\n",
       "    <tr>\n",
       "      <th>0</th>\n",
       "      <td>txEyH</td>\n",
       "      <td>0.705745</td>\n",
       "      <td>-0.497823</td>\n",
       "      <td>1.221170</td>\n",
       "      <td>105.280062</td>\n",
       "    </tr>\n",
       "    <tr>\n",
       "      <th>1</th>\n",
       "      <td>2acmU</td>\n",
       "      <td>1.334711</td>\n",
       "      <td>-0.340164</td>\n",
       "      <td>4.365080</td>\n",
       "      <td>73.037750</td>\n",
       "    </tr>\n",
       "    <tr>\n",
       "      <th>2</th>\n",
       "      <td>409Wp</td>\n",
       "      <td>1.022732</td>\n",
       "      <td>0.151990</td>\n",
       "      <td>1.419926</td>\n",
       "      <td>85.265647</td>\n",
       "    </tr>\n",
       "    <tr>\n",
       "      <th>3</th>\n",
       "      <td>iJLyR</td>\n",
       "      <td>-0.032172</td>\n",
       "      <td>0.139033</td>\n",
       "      <td>2.978566</td>\n",
       "      <td>168.620776</td>\n",
       "    </tr>\n",
       "    <tr>\n",
       "      <th>4</th>\n",
       "      <td>Xdl7t</td>\n",
       "      <td>1.988431</td>\n",
       "      <td>0.155413</td>\n",
       "      <td>4.751769</td>\n",
       "      <td>154.036647</td>\n",
       "    </tr>\n",
       "    <tr>\n",
       "      <th>5</th>\n",
       "      <td>wX4Hy</td>\n",
       "      <td>0.969570</td>\n",
       "      <td>0.489775</td>\n",
       "      <td>-0.735383</td>\n",
       "      <td>64.741541</td>\n",
       "    </tr>\n",
       "    <tr>\n",
       "      <th>6</th>\n",
       "      <td>tL6pL</td>\n",
       "      <td>0.645075</td>\n",
       "      <td>0.530656</td>\n",
       "      <td>1.780266</td>\n",
       "      <td>49.055285</td>\n",
       "    </tr>\n",
       "    <tr>\n",
       "      <th>7</th>\n",
       "      <td>BYPU6</td>\n",
       "      <td>-0.400648</td>\n",
       "      <td>0.808337</td>\n",
       "      <td>-5.624670</td>\n",
       "      <td>72.943292</td>\n",
       "    </tr>\n",
       "    <tr>\n",
       "      <th>8</th>\n",
       "      <td>j9Oui</td>\n",
       "      <td>0.643105</td>\n",
       "      <td>-0.551583</td>\n",
       "      <td>2.372141</td>\n",
       "      <td>113.356160</td>\n",
       "    </tr>\n",
       "    <tr>\n",
       "      <th>9</th>\n",
       "      <td>OLuZU</td>\n",
       "      <td>2.173381</td>\n",
       "      <td>0.563698</td>\n",
       "      <td>9.441852</td>\n",
       "      <td>127.910945</td>\n",
       "    </tr>\n",
       "  </tbody>\n",
       "</table>\n",
       "</div>"
      ],
      "text/plain": [
       "      id        f0        f1        f2     product\n",
       "0  txEyH  0.705745 -0.497823  1.221170  105.280062\n",
       "1  2acmU  1.334711 -0.340164  4.365080   73.037750\n",
       "2  409Wp  1.022732  0.151990  1.419926   85.265647\n",
       "3  iJLyR -0.032172  0.139033  2.978566  168.620776\n",
       "4  Xdl7t  1.988431  0.155413  4.751769  154.036647\n",
       "5  wX4Hy  0.969570  0.489775 -0.735383   64.741541\n",
       "6  tL6pL  0.645075  0.530656  1.780266   49.055285\n",
       "7  BYPU6 -0.400648  0.808337 -5.624670   72.943292\n",
       "8  j9Oui  0.643105 -0.551583  2.372141  113.356160\n",
       "9  OLuZU  2.173381  0.563698  9.441852  127.910945"
      ]
     },
     "execution_count": 3,
     "metadata": {},
     "output_type": "execute_result"
    }
   ],
   "source": [
    "df1.head(10)"
   ]
  },
  {
   "cell_type": "code",
   "execution_count": 4,
   "metadata": {},
   "outputs": [
    {
     "data": {
      "text/html": [
       "<div>\n",
       "<style scoped>\n",
       "    .dataframe tbody tr th:only-of-type {\n",
       "        vertical-align: middle;\n",
       "    }\n",
       "\n",
       "    .dataframe tbody tr th {\n",
       "        vertical-align: top;\n",
       "    }\n",
       "\n",
       "    .dataframe thead th {\n",
       "        text-align: right;\n",
       "    }\n",
       "</style>\n",
       "<table border=\"1\" class=\"dataframe\">\n",
       "  <thead>\n",
       "    <tr style=\"text-align: right;\">\n",
       "      <th></th>\n",
       "      <th>id</th>\n",
       "      <th>f0</th>\n",
       "      <th>f1</th>\n",
       "      <th>f2</th>\n",
       "      <th>product</th>\n",
       "    </tr>\n",
       "  </thead>\n",
       "  <tbody>\n",
       "    <tr>\n",
       "      <th>0</th>\n",
       "      <td>kBEdx</td>\n",
       "      <td>-15.001348</td>\n",
       "      <td>-8.276000</td>\n",
       "      <td>-0.005876</td>\n",
       "      <td>3.179103</td>\n",
       "    </tr>\n",
       "    <tr>\n",
       "      <th>1</th>\n",
       "      <td>62mP7</td>\n",
       "      <td>14.272088</td>\n",
       "      <td>-3.475083</td>\n",
       "      <td>0.999183</td>\n",
       "      <td>26.953261</td>\n",
       "    </tr>\n",
       "    <tr>\n",
       "      <th>2</th>\n",
       "      <td>vyE1P</td>\n",
       "      <td>6.263187</td>\n",
       "      <td>-5.948386</td>\n",
       "      <td>5.001160</td>\n",
       "      <td>134.766305</td>\n",
       "    </tr>\n",
       "    <tr>\n",
       "      <th>3</th>\n",
       "      <td>KcrkZ</td>\n",
       "      <td>-13.081196</td>\n",
       "      <td>-11.506057</td>\n",
       "      <td>4.999415</td>\n",
       "      <td>137.945408</td>\n",
       "    </tr>\n",
       "    <tr>\n",
       "      <th>4</th>\n",
       "      <td>AHL4O</td>\n",
       "      <td>12.702195</td>\n",
       "      <td>-8.147433</td>\n",
       "      <td>5.004363</td>\n",
       "      <td>134.766305</td>\n",
       "    </tr>\n",
       "    <tr>\n",
       "      <th>5</th>\n",
       "      <td>HHckp</td>\n",
       "      <td>-3.327590</td>\n",
       "      <td>-2.205276</td>\n",
       "      <td>3.003647</td>\n",
       "      <td>84.038886</td>\n",
       "    </tr>\n",
       "    <tr>\n",
       "      <th>6</th>\n",
       "      <td>h5Ujo</td>\n",
       "      <td>-11.142655</td>\n",
       "      <td>-10.133399</td>\n",
       "      <td>4.002382</td>\n",
       "      <td>110.992147</td>\n",
       "    </tr>\n",
       "    <tr>\n",
       "      <th>7</th>\n",
       "      <td>muH9x</td>\n",
       "      <td>4.234715</td>\n",
       "      <td>-0.001354</td>\n",
       "      <td>2.004588</td>\n",
       "      <td>53.906522</td>\n",
       "    </tr>\n",
       "    <tr>\n",
       "      <th>8</th>\n",
       "      <td>YiRkx</td>\n",
       "      <td>13.355129</td>\n",
       "      <td>-0.332068</td>\n",
       "      <td>4.998647</td>\n",
       "      <td>134.766305</td>\n",
       "    </tr>\n",
       "    <tr>\n",
       "      <th>9</th>\n",
       "      <td>jG6Gi</td>\n",
       "      <td>1.069227</td>\n",
       "      <td>-11.025667</td>\n",
       "      <td>4.997844</td>\n",
       "      <td>137.945408</td>\n",
       "    </tr>\n",
       "  </tbody>\n",
       "</table>\n",
       "</div>"
      ],
      "text/plain": [
       "      id         f0         f1        f2     product\n",
       "0  kBEdx -15.001348  -8.276000 -0.005876    3.179103\n",
       "1  62mP7  14.272088  -3.475083  0.999183   26.953261\n",
       "2  vyE1P   6.263187  -5.948386  5.001160  134.766305\n",
       "3  KcrkZ -13.081196 -11.506057  4.999415  137.945408\n",
       "4  AHL4O  12.702195  -8.147433  5.004363  134.766305\n",
       "5  HHckp  -3.327590  -2.205276  3.003647   84.038886\n",
       "6  h5Ujo -11.142655 -10.133399  4.002382  110.992147\n",
       "7  muH9x   4.234715  -0.001354  2.004588   53.906522\n",
       "8  YiRkx  13.355129  -0.332068  4.998647  134.766305\n",
       "9  jG6Gi   1.069227 -11.025667  4.997844  137.945408"
      ]
     },
     "execution_count": 4,
     "metadata": {},
     "output_type": "execute_result"
    }
   ],
   "source": [
    "df2.head(10)"
   ]
  },
  {
   "cell_type": "code",
   "execution_count": 5,
   "metadata": {},
   "outputs": [
    {
     "data": {
      "text/html": [
       "<div>\n",
       "<style scoped>\n",
       "    .dataframe tbody tr th:only-of-type {\n",
       "        vertical-align: middle;\n",
       "    }\n",
       "\n",
       "    .dataframe tbody tr th {\n",
       "        vertical-align: top;\n",
       "    }\n",
       "\n",
       "    .dataframe thead th {\n",
       "        text-align: right;\n",
       "    }\n",
       "</style>\n",
       "<table border=\"1\" class=\"dataframe\">\n",
       "  <thead>\n",
       "    <tr style=\"text-align: right;\">\n",
       "      <th></th>\n",
       "      <th>id</th>\n",
       "      <th>f0</th>\n",
       "      <th>f1</th>\n",
       "      <th>f2</th>\n",
       "      <th>product</th>\n",
       "    </tr>\n",
       "  </thead>\n",
       "  <tbody>\n",
       "    <tr>\n",
       "      <th>0</th>\n",
       "      <td>fwXo0</td>\n",
       "      <td>-1.146987</td>\n",
       "      <td>0.963328</td>\n",
       "      <td>-0.828965</td>\n",
       "      <td>27.758673</td>\n",
       "    </tr>\n",
       "    <tr>\n",
       "      <th>1</th>\n",
       "      <td>WJtFt</td>\n",
       "      <td>0.262778</td>\n",
       "      <td>0.269839</td>\n",
       "      <td>-2.530187</td>\n",
       "      <td>56.069697</td>\n",
       "    </tr>\n",
       "    <tr>\n",
       "      <th>2</th>\n",
       "      <td>ovLUW</td>\n",
       "      <td>0.194587</td>\n",
       "      <td>0.289035</td>\n",
       "      <td>-5.586433</td>\n",
       "      <td>62.871910</td>\n",
       "    </tr>\n",
       "    <tr>\n",
       "      <th>3</th>\n",
       "      <td>q6cA6</td>\n",
       "      <td>2.236060</td>\n",
       "      <td>-0.553760</td>\n",
       "      <td>0.930038</td>\n",
       "      <td>114.572842</td>\n",
       "    </tr>\n",
       "    <tr>\n",
       "      <th>4</th>\n",
       "      <td>WPMUX</td>\n",
       "      <td>-0.515993</td>\n",
       "      <td>1.716266</td>\n",
       "      <td>5.899011</td>\n",
       "      <td>149.600746</td>\n",
       "    </tr>\n",
       "    <tr>\n",
       "      <th>5</th>\n",
       "      <td>LzZXx</td>\n",
       "      <td>-0.758092</td>\n",
       "      <td>0.710691</td>\n",
       "      <td>2.585887</td>\n",
       "      <td>90.222465</td>\n",
       "    </tr>\n",
       "    <tr>\n",
       "      <th>6</th>\n",
       "      <td>WBHRv</td>\n",
       "      <td>-0.574891</td>\n",
       "      <td>0.317727</td>\n",
       "      <td>1.773745</td>\n",
       "      <td>45.641478</td>\n",
       "    </tr>\n",
       "    <tr>\n",
       "      <th>7</th>\n",
       "      <td>XO8fn</td>\n",
       "      <td>-1.906649</td>\n",
       "      <td>-2.458350</td>\n",
       "      <td>-0.177097</td>\n",
       "      <td>72.480640</td>\n",
       "    </tr>\n",
       "    <tr>\n",
       "      <th>8</th>\n",
       "      <td>ybmQ5</td>\n",
       "      <td>1.776292</td>\n",
       "      <td>-0.279356</td>\n",
       "      <td>3.004156</td>\n",
       "      <td>106.616832</td>\n",
       "    </tr>\n",
       "    <tr>\n",
       "      <th>9</th>\n",
       "      <td>OilcN</td>\n",
       "      <td>-1.214452</td>\n",
       "      <td>-0.439314</td>\n",
       "      <td>5.922514</td>\n",
       "      <td>52.954532</td>\n",
       "    </tr>\n",
       "  </tbody>\n",
       "</table>\n",
       "</div>"
      ],
      "text/plain": [
       "      id        f0        f1        f2     product\n",
       "0  fwXo0 -1.146987  0.963328 -0.828965   27.758673\n",
       "1  WJtFt  0.262778  0.269839 -2.530187   56.069697\n",
       "2  ovLUW  0.194587  0.289035 -5.586433   62.871910\n",
       "3  q6cA6  2.236060 -0.553760  0.930038  114.572842\n",
       "4  WPMUX -0.515993  1.716266  5.899011  149.600746\n",
       "5  LzZXx -0.758092  0.710691  2.585887   90.222465\n",
       "6  WBHRv -0.574891  0.317727  1.773745   45.641478\n",
       "7  XO8fn -1.906649 -2.458350 -0.177097   72.480640\n",
       "8  ybmQ5  1.776292 -0.279356  3.004156  106.616832\n",
       "9  OilcN -1.214452 -0.439314  5.922514   52.954532"
      ]
     },
     "execution_count": 5,
     "metadata": {},
     "output_type": "execute_result"
    }
   ],
   "source": [
    "df3.head(10)"
   ]
  },
  {
   "cell_type": "markdown",
   "metadata": {},
   "source": [
    "Выведим основную информацию о датафреймах с помощью метода `info()`."
   ]
  },
  {
   "cell_type": "code",
   "execution_count": 6,
   "metadata": {},
   "outputs": [
    {
     "name": "stdout",
     "output_type": "stream",
     "text": [
      "<class 'pandas.core.frame.DataFrame'>\n",
      "RangeIndex: 100000 entries, 0 to 99999\n",
      "Data columns (total 5 columns):\n",
      " #   Column   Non-Null Count   Dtype  \n",
      "---  ------   --------------   -----  \n",
      " 0   id       100000 non-null  object \n",
      " 1   f0       100000 non-null  float64\n",
      " 2   f1       100000 non-null  float64\n",
      " 3   f2       100000 non-null  float64\n",
      " 4   product  100000 non-null  float64\n",
      "dtypes: float64(4), object(1)\n",
      "memory usage: 3.8+ MB\n"
     ]
    }
   ],
   "source": [
    "df1.info()"
   ]
  },
  {
   "cell_type": "code",
   "execution_count": 7,
   "metadata": {},
   "outputs": [
    {
     "name": "stdout",
     "output_type": "stream",
     "text": [
      "<class 'pandas.core.frame.DataFrame'>\n",
      "RangeIndex: 100000 entries, 0 to 99999\n",
      "Data columns (total 5 columns):\n",
      " #   Column   Non-Null Count   Dtype  \n",
      "---  ------   --------------   -----  \n",
      " 0   id       100000 non-null  object \n",
      " 1   f0       100000 non-null  float64\n",
      " 2   f1       100000 non-null  float64\n",
      " 3   f2       100000 non-null  float64\n",
      " 4   product  100000 non-null  float64\n",
      "dtypes: float64(4), object(1)\n",
      "memory usage: 3.8+ MB\n"
     ]
    }
   ],
   "source": [
    "df2.info()"
   ]
  },
  {
   "cell_type": "code",
   "execution_count": 8,
   "metadata": {},
   "outputs": [
    {
     "name": "stdout",
     "output_type": "stream",
     "text": [
      "<class 'pandas.core.frame.DataFrame'>\n",
      "RangeIndex: 100000 entries, 0 to 99999\n",
      "Data columns (total 5 columns):\n",
      " #   Column   Non-Null Count   Dtype  \n",
      "---  ------   --------------   -----  \n",
      " 0   id       100000 non-null  object \n",
      " 1   f0       100000 non-null  float64\n",
      " 2   f1       100000 non-null  float64\n",
      " 3   f2       100000 non-null  float64\n",
      " 4   product  100000 non-null  float64\n",
      "dtypes: float64(4), object(1)\n",
      "memory usage: 3.8+ MB\n"
     ]
    }
   ],
   "source": [
    "df3.info()"
   ]
  },
  {
   "cell_type": "markdown",
   "metadata": {},
   "source": [
    "Выведим количество пропущенных значений в каждом датафрейме."
   ]
  },
  {
   "cell_type": "code",
   "execution_count": 9,
   "metadata": {},
   "outputs": [
    {
     "data": {
      "text/plain": [
       "id         0\n",
       "f0         0\n",
       "f1         0\n",
       "f2         0\n",
       "product    0\n",
       "dtype: int64"
      ]
     },
     "execution_count": 9,
     "metadata": {},
     "output_type": "execute_result"
    }
   ],
   "source": [
    "df1.isna().sum()"
   ]
  },
  {
   "cell_type": "code",
   "execution_count": 10,
   "metadata": {},
   "outputs": [
    {
     "data": {
      "text/plain": [
       "id         0\n",
       "f0         0\n",
       "f1         0\n",
       "f2         0\n",
       "product    0\n",
       "dtype: int64"
      ]
     },
     "execution_count": 10,
     "metadata": {},
     "output_type": "execute_result"
    }
   ],
   "source": [
    "df2.isna().sum()"
   ]
  },
  {
   "cell_type": "code",
   "execution_count": 11,
   "metadata": {},
   "outputs": [
    {
     "data": {
      "text/plain": [
       "id         0\n",
       "f0         0\n",
       "f1         0\n",
       "f2         0\n",
       "product    0\n",
       "dtype: int64"
      ]
     },
     "execution_count": 11,
     "metadata": {},
     "output_type": "execute_result"
    }
   ],
   "source": [
    "df3.isna().sum()"
   ]
  },
  {
   "cell_type": "markdown",
   "metadata": {},
   "source": [
    "Удалим признак `id`, который не влияет на целевой показатель."
   ]
  },
  {
   "cell_type": "code",
   "execution_count": 12,
   "metadata": {},
   "outputs": [],
   "source": [
    "df1 = df1.drop(columns=['id'])\n",
    "df2 = df2.drop(columns=['id'])\n",
    "df3 = df3.drop(columns=['id'])"
   ]
  },
  {
   "cell_type": "markdown",
   "metadata": {},
   "source": [
    "**Вывод:** Загрузили и проанализировали данные. Пропусков в данных нет. Удалили ненужные показатели. "
   ]
  },
  {
   "cell_type": "markdown",
   "metadata": {},
   "source": [
    "## Обучение и проверка модели"
   ]
  },
  {
   "cell_type": "markdown",
   "metadata": {},
   "source": [
    "Напишем функцию, которая разбивает данные на обучающую и валидационную выборку в соотношении 75:25"
   ]
  },
  {
   "cell_type": "code",
   "execution_count": 13,
   "metadata": {},
   "outputs": [],
   "source": [
    "def df_split(df):\n",
    "    target = df['product']\n",
    "    features = df.drop('product', axis=1)\n",
    "    return train_test_split(features, target, random_state=12345, test_size=0.25)"
   ]
  },
  {
   "cell_type": "markdown",
   "metadata": {},
   "source": [
    "Разобьём данные в каждом датафрейме "
   ]
  },
  {
   "cell_type": "code",
   "execution_count": 14,
   "metadata": {},
   "outputs": [],
   "source": [
    "features_train1, features_valid1, target_train1, target_valid1 = df_split(df1)"
   ]
  },
  {
   "cell_type": "markdown",
   "metadata": {},
   "source": [
    "Проверим корректность разбиения "
   ]
  },
  {
   "cell_type": "code",
   "execution_count": 15,
   "metadata": {},
   "outputs": [
    {
     "data": {
      "text/plain": [
       "75000"
      ]
     },
     "execution_count": 15,
     "metadata": {},
     "output_type": "execute_result"
    }
   ],
   "source": [
    "features_train1.shape[0]"
   ]
  },
  {
   "cell_type": "code",
   "execution_count": 16,
   "metadata": {},
   "outputs": [
    {
     "data": {
      "text/plain": [
       "25000"
      ]
     },
     "execution_count": 16,
     "metadata": {},
     "output_type": "execute_result"
    }
   ],
   "source": [
    "features_valid1.shape[0]"
   ]
  },
  {
   "cell_type": "markdown",
   "metadata": {},
   "source": [
    "Проделаем тоже самое для остальных датафреймов."
   ]
  },
  {
   "cell_type": "code",
   "execution_count": 17,
   "metadata": {},
   "outputs": [],
   "source": [
    "features_train2, features_valid2, target_train2, target_valid2 = df_split(df2)"
   ]
  },
  {
   "cell_type": "code",
   "execution_count": 18,
   "metadata": {},
   "outputs": [
    {
     "data": {
      "text/plain": [
       "75000"
      ]
     },
     "execution_count": 18,
     "metadata": {},
     "output_type": "execute_result"
    }
   ],
   "source": [
    "features_train2.shape[0]"
   ]
  },
  {
   "cell_type": "code",
   "execution_count": 19,
   "metadata": {},
   "outputs": [
    {
     "data": {
      "text/plain": [
       "25000"
      ]
     },
     "execution_count": 19,
     "metadata": {},
     "output_type": "execute_result"
    }
   ],
   "source": [
    "features_valid2.shape[0]"
   ]
  },
  {
   "cell_type": "code",
   "execution_count": 20,
   "metadata": {},
   "outputs": [],
   "source": [
    "features_train3, features_valid3, target_train3, target_valid3 = df_split(df3)"
   ]
  },
  {
   "cell_type": "code",
   "execution_count": 21,
   "metadata": {},
   "outputs": [
    {
     "data": {
      "text/plain": [
       "75000"
      ]
     },
     "execution_count": 21,
     "metadata": {},
     "output_type": "execute_result"
    }
   ],
   "source": [
    "features_train3.shape[0]"
   ]
  },
  {
   "cell_type": "code",
   "execution_count": 22,
   "metadata": {},
   "outputs": [
    {
     "data": {
      "text/plain": [
       "25000"
      ]
     },
     "execution_count": 22,
     "metadata": {},
     "output_type": "execute_result"
    }
   ],
   "source": [
    "features_valid3.shape[0]"
   ]
  },
  {
   "cell_type": "markdown",
   "metadata": {},
   "source": [
    "Напишем функцию, которая обучает модель линейной регресии, а также выводит средений запас предсказанного сырья и RMSE модели. Сохраним предсказанные значения. "
   ]
  },
  {
   "cell_type": "code",
   "execution_count": 23,
   "metadata": {},
   "outputs": [],
   "source": [
    "def res(features_train, features_valid, target_train, target_valid):\n",
    "    model = LinearRegression() \n",
    "    model.fit(features_train, target_train)\n",
    "    predictions_valid = model.predict(features_valid) \n",
    "    avg_pred = predictions_valid.mean()\n",
    "    result = mean_squared_error(target_valid, predictions_valid)**0.5 \n",
    "    print('Средний запас предсказанного сырья', avg_pred)\n",
    "    print('RMSE модели', result)\n",
    "    return predictions_valid"
   ]
  },
  {
   "cell_type": "markdown",
   "metadata": {},
   "source": [
    "1 регион"
   ]
  },
  {
   "cell_type": "code",
   "execution_count": 24,
   "metadata": {},
   "outputs": [
    {
     "name": "stdout",
     "output_type": "stream",
     "text": [
      "Средний запас предсказанного сырья 92.59256778438035\n",
      "RMSE модели 37.5794217150813\n"
     ]
    }
   ],
   "source": [
    "predictions_valid1 = res(features_train1, features_valid1, target_train1, target_valid1)"
   ]
  },
  {
   "cell_type": "markdown",
   "metadata": {},
   "source": [
    "2 регион"
   ]
  },
  {
   "cell_type": "code",
   "execution_count": 25,
   "metadata": {},
   "outputs": [
    {
     "name": "stdout",
     "output_type": "stream",
     "text": [
      "Средний запас предсказанного сырья 68.728546895446\n",
      "RMSE модели 0.893099286775617\n"
     ]
    }
   ],
   "source": [
    "predictions_valid2 = res(features_train2, features_valid2, target_train2, target_valid2)"
   ]
  },
  {
   "cell_type": "markdown",
   "metadata": {},
   "source": [
    "3 регион"
   ]
  },
  {
   "cell_type": "code",
   "execution_count": 26,
   "metadata": {},
   "outputs": [
    {
     "name": "stdout",
     "output_type": "stream",
     "text": [
      "Средний запас предсказанного сырья 94.96504596800489\n",
      "RMSE модели 40.02970873393434\n"
     ]
    }
   ],
   "source": [
    "predictions_valid3 = res(features_train3, features_valid3, target_train3, target_valid3)"
   ]
  },
  {
   "cell_type": "markdown",
   "metadata": {},
   "source": [
    "**Вывод:** В первом и третьем регионе средний запас предсказанного сырья выше, чем во втором регионе. Однако показатель RMSE меньше, чем в первом и третьем регионе. Значит модель точнее построена для второго региона.   "
   ]
  },
  {
   "cell_type": "markdown",
   "metadata": {},
   "source": [
    "## Подготовка к расчёту прибыли"
   ]
  },
  {
   "cell_type": "markdown",
   "metadata": {},
   "source": [
    "Сохраним все ключевые значения для расчётов в отдельных переменных:\n",
    "\n",
    "`total_wells` - сколько исследовано точек при разведке региона\n",
    "\n",
    "`best_wells` - лучшие точки \n",
    "\n",
    "`budget` - бюджет на разработку скважин в регионе\n",
    "\n",
    "`barrel_income` - доход за баррель\n",
    "\n",
    "`unit_income` - доход за единицу продукта"
   ]
  },
  {
   "cell_type": "code",
   "execution_count": 27,
   "metadata": {},
   "outputs": [],
   "source": [
    "total_wells = 500\n",
    "best_wells = 200\n",
    "budget = 10**10\n",
    "barrel_income = 450\n",
    "unit_income = 450000"
   ]
  },
  {
   "cell_type": "markdown",
   "metadata": {},
   "source": [
    "Рассчитаем достаточный объём сырья для безубыточной разработки новой скважины. Для этого нужно поделить бюждет на доход за единицу продукта, но бюджет у нас на 200 скважин, поэтому поделим ещё на это число. "
   ]
  },
  {
   "cell_type": "code",
   "execution_count": 28,
   "metadata": {},
   "outputs": [
    {
     "name": "stdout",
     "output_type": "stream",
     "text": [
      "Достаточный объём сырья для безубыточной разработки новой скважины 111.11111111111111\n"
     ]
    }
   ],
   "source": [
    "avgmin_quantity = budget / unit_income / best_wells\n",
    "print('Достаточный объём сырья для безубыточной разработки новой скважины', avgmin_quantity)"
   ]
  },
  {
   "cell_type": "markdown",
   "metadata": {},
   "source": [
    "**Вывод:** Значение достаточного объёма сырья для безубыточной разработки - 111.11111111111111. Это значение превышает средние запасы предсказанного сырья для любого региона. "
   ]
  },
  {
   "cell_type": "markdown",
   "metadata": {},
   "source": [
    "## Расчёт прибыли и рисков "
   ]
  },
  {
   "cell_type": "markdown",
   "metadata": {},
   "source": [
    "Для дальнейшей работы переведём наши предсказания в тип `Series`. А у таргетов сбросим индексы.  "
   ]
  },
  {
   "cell_type": "code",
   "execution_count": 29,
   "metadata": {},
   "outputs": [],
   "source": [
    "predictions_valid1 = pd.Series(predictions_valid1)\n",
    "target_valid1 = target_valid1.reset_index(drop=True)\n",
    "\n",
    "predictions_valid2 = pd.Series(predictions_valid2)\n",
    "target_valid2 = target_valid2.reset_index(drop=True)\n",
    "\n",
    "predictions_valid3 = pd.Series(predictions_valid3)\n",
    "target_valid3 = target_valid3.reset_index(drop=True)"
   ]
  },
  {
   "cell_type": "markdown",
   "metadata": {},
   "source": [
    "Напишем функцию для расчёта прибыли в млн."
   ]
  },
  {
   "cell_type": "code",
   "execution_count": 30,
   "metadata": {},
   "outputs": [],
   "source": [
    "def revenue(target, probabilities, count):\n",
    "    probs_sorted = probabilities.sort_values(ascending=False)\n",
    "    selected = target[probs_sorted.index][:count] # выбираем count скважин с максимальными значениями предсказаний и просуммируем целевое значение с этим предсказанием\n",
    "    return (unit_income * selected.sum() - budget) / 10**6 # для расчёта прибыли умножаем просуммированный запас на цену за единицу продукта и вычитаем бюждет на разработку скважины"
   ]
  },
  {
   "cell_type": "markdown",
   "metadata": {},
   "source": [
    "Применяя технику Bootstrap, найдём среднюю прибыль, 95%-й доверительный интервал и риск убытков."
   ]
  },
  {
   "cell_type": "code",
   "execution_count": 31,
   "metadata": {},
   "outputs": [],
   "source": [
    "state = np.random.RandomState(12345)\n",
    "\n",
    "def revenue_bootstrap(target, probabilities):\n",
    "    values = []\n",
    "    for _ in range(1000):\n",
    "        target_subsample = target.sample(total_wells, replace=True, random_state=state)\n",
    "        probs_subsample = probabilities[target_subsample.index]  \n",
    "        values.append(revenue(target_subsample, probs_subsample, best_wells))\n",
    "\n",
    "    values = pd.Series(values)\n",
    "    # 95% доверительный интервал - 0.025-квантиль и 0.975-квантиль (97.5% - 2.5% = 95%)\n",
    "    lower = values.quantile(0.025)\n",
    "    upper = values.quantile(0.975)\n",
    "    \n",
    "    mean = values.mean()\n",
    "    print(\"Средняя прибыль, млн:\", mean)\n",
    "    print(f\"Доверительный интервал, млн: ({lower}, {upper})\")\n",
    "    print(f\"Риск убытков: {(sum(values < 0) / len(values)) * 100}%\") # доля отрицательных значений в векторе values"
   ]
  },
  {
   "cell_type": "markdown",
   "metadata": {},
   "source": [
    "1 регион"
   ]
  },
  {
   "cell_type": "code",
   "execution_count": 32,
   "metadata": {},
   "outputs": [
    {
     "name": "stdout",
     "output_type": "stream",
     "text": [
      "Средняя прибыль, млн: 425.9385269105924\n",
      "Доверительный интервал, млн: (-102.09009483793655, 947.9763533583689)\n",
      "Риск убытков: 6.0%\n"
     ]
    }
   ],
   "source": [
    "revenue_bootstrap(target_valid1, predictions_valid1)"
   ]
  },
  {
   "cell_type": "markdown",
   "metadata": {},
   "source": [
    "2 регион"
   ]
  },
  {
   "cell_type": "code",
   "execution_count": 33,
   "metadata": {},
   "outputs": [
    {
     "name": "stdout",
     "output_type": "stream",
     "text": [
      "Средняя прибыль, млн: 518.2594936973248\n",
      "Доверительный интервал, млн: (128.12323143308444, 953.6129820669086)\n",
      "Риск убытков: 0.3%\n"
     ]
    }
   ],
   "source": [
    "revenue_bootstrap(target_valid2, predictions_valid2)"
   ]
  },
  {
   "cell_type": "markdown",
   "metadata": {},
   "source": [
    "3 регион"
   ]
  },
  {
   "cell_type": "code",
   "execution_count": 34,
   "metadata": {},
   "outputs": [
    {
     "name": "stdout",
     "output_type": "stream",
     "text": [
      "Средняя прибыль, млн: 420.19400534405014\n",
      "Доверительный интервал, млн: (-115.85260916001143, 989.629939844574)\n",
      "Риск убытков: 6.2%\n"
     ]
    }
   ],
   "source": [
    "revenue_bootstrap(target_valid3, predictions_valid3)"
   ]
  },
  {
   "cell_type": "markdown",
   "metadata": {},
   "source": [
    "**Вывод:** Наиболее подходящим регионом для разработчки скважин является второй регион, риск убытков там самый минимальный - 0.3%. У остальных регионов риск убытков больше 2.5%, что противоречит условию задачи. "
   ]
  },
  {
   "cell_type": "code",
   "execution_count": null,
   "metadata": {},
   "outputs": [],
   "source": []
  }
 ],
 "metadata": {
  "ExecuteTimeLog": [
   {
    "duration": 610,
    "start_time": "2022-12-10T05:56:32.637Z"
   },
   {
    "duration": 524,
    "start_time": "2022-12-10T05:57:07.060Z"
   },
   {
    "duration": 18,
    "start_time": "2022-12-10T05:57:14.339Z"
   },
   {
    "duration": 11,
    "start_time": "2022-12-10T05:57:22.531Z"
   },
   {
    "duration": 14,
    "start_time": "2022-12-10T05:57:26.253Z"
   },
   {
    "duration": 53,
    "start_time": "2022-12-12T10:40:49.771Z"
   },
   {
    "duration": 448,
    "start_time": "2022-12-12T10:43:50.599Z"
   },
   {
    "duration": 818,
    "start_time": "2022-12-12T10:43:51.057Z"
   },
   {
    "duration": 20,
    "start_time": "2022-12-12T10:43:51.877Z"
   },
   {
    "duration": 11,
    "start_time": "2022-12-12T10:43:51.899Z"
   },
   {
    "duration": 16,
    "start_time": "2022-12-12T10:43:51.912Z"
   },
   {
    "duration": 30,
    "start_time": "2022-12-12T10:43:51.930Z"
   },
   {
    "duration": 24,
    "start_time": "2022-12-12T10:43:51.965Z"
   },
   {
    "duration": 18,
    "start_time": "2022-12-12T10:43:51.991Z"
   },
   {
    "duration": 36,
    "start_time": "2022-12-12T10:43:52.018Z"
   },
   {
    "duration": 15,
    "start_time": "2022-12-12T10:43:52.058Z"
   },
   {
    "duration": 33,
    "start_time": "2022-12-12T10:43:52.075Z"
   },
   {
    "duration": 8,
    "start_time": "2022-12-12T10:54:33.462Z"
   },
   {
    "duration": 34,
    "start_time": "2022-12-12T10:55:19.661Z"
   },
   {
    "duration": 728,
    "start_time": "2022-12-12T10:55:36.091Z"
   },
   {
    "duration": 55,
    "start_time": "2022-12-12T10:55:39.588Z"
   },
   {
    "duration": 16,
    "start_time": "2022-12-12T10:55:46.014Z"
   },
   {
    "duration": 34,
    "start_time": "2022-12-12T10:55:52.565Z"
   },
   {
    "duration": 38,
    "start_time": "2022-12-12T10:57:22.463Z"
   },
   {
    "duration": 3,
    "start_time": "2022-12-12T10:57:24.751Z"
   },
   {
    "duration": 439,
    "start_time": "2022-12-12T10:57:24.757Z"
   },
   {
    "duration": 11,
    "start_time": "2022-12-12T10:57:25.197Z"
   },
   {
    "duration": 60,
    "start_time": "2022-12-12T10:57:25.210Z"
   },
   {
    "duration": 27,
    "start_time": "2022-12-12T10:57:25.273Z"
   },
   {
    "duration": 56,
    "start_time": "2022-12-12T10:57:25.302Z"
   },
   {
    "duration": 39,
    "start_time": "2022-12-12T10:57:25.360Z"
   },
   {
    "duration": 51,
    "start_time": "2022-12-12T10:57:25.401Z"
   },
   {
    "duration": 53,
    "start_time": "2022-12-12T10:57:25.455Z"
   },
   {
    "duration": 29,
    "start_time": "2022-12-12T10:57:25.510Z"
   },
   {
    "duration": 46,
    "start_time": "2022-12-12T10:57:25.543Z"
   },
   {
    "duration": 59,
    "start_time": "2022-12-12T10:57:25.591Z"
   },
   {
    "duration": 30,
    "start_time": "2022-12-12T10:58:46.316Z"
   },
   {
    "duration": 32,
    "start_time": "2022-12-12T10:58:54.264Z"
   },
   {
    "duration": 24,
    "start_time": "2022-12-12T10:59:33.079Z"
   },
   {
    "duration": 4,
    "start_time": "2022-12-12T10:59:45.852Z"
   },
   {
    "duration": 5,
    "start_time": "2022-12-12T10:59:49.467Z"
   },
   {
    "duration": 5,
    "start_time": "2022-12-12T10:59:55.606Z"
   },
   {
    "duration": 24,
    "start_time": "2022-12-12T11:00:07.624Z"
   },
   {
    "duration": 5,
    "start_time": "2022-12-12T11:00:08.079Z"
   },
   {
    "duration": 6,
    "start_time": "2022-12-12T11:00:08.398Z"
   },
   {
    "duration": 22,
    "start_time": "2022-12-12T11:00:10.885Z"
   },
   {
    "duration": 4,
    "start_time": "2022-12-12T11:00:11.174Z"
   },
   {
    "duration": 5,
    "start_time": "2022-12-12T11:00:11.617Z"
   },
   {
    "duration": 28,
    "start_time": "2022-12-12T11:00:28.786Z"
   },
   {
    "duration": 5,
    "start_time": "2022-12-12T11:00:29.089Z"
   },
   {
    "duration": 4,
    "start_time": "2022-12-12T11:00:29.457Z"
   },
   {
    "duration": 4,
    "start_time": "2022-12-12T11:00:45.930Z"
   },
   {
    "duration": 23,
    "start_time": "2022-12-12T11:05:32.724Z"
   },
   {
    "duration": 40,
    "start_time": "2022-12-12T11:06:05.884Z"
   },
   {
    "duration": 5,
    "start_time": "2022-12-12T11:07:20.212Z"
   },
   {
    "duration": 15,
    "start_time": "2022-12-12T11:07:21.413Z"
   },
   {
    "duration": 10,
    "start_time": "2022-12-12T11:07:22.683Z"
   },
   {
    "duration": 4,
    "start_time": "2022-12-12T11:07:23.010Z"
   },
   {
    "duration": 208,
    "start_time": "2022-12-12T11:07:23.729Z"
   },
   {
    "duration": 3,
    "start_time": "2022-12-12T11:07:33.338Z"
   },
   {
    "duration": 19,
    "start_time": "2022-12-12T11:07:36.730Z"
   },
   {
    "duration": 4,
    "start_time": "2022-12-12T11:48:59.001Z"
   },
   {
    "duration": 638,
    "start_time": "2022-12-12T11:48:59.007Z"
   },
   {
    "duration": 18,
    "start_time": "2022-12-12T11:48:59.647Z"
   },
   {
    "duration": 56,
    "start_time": "2022-12-12T11:48:59.667Z"
   },
   {
    "duration": 34,
    "start_time": "2022-12-12T11:48:59.725Z"
   },
   {
    "duration": 60,
    "start_time": "2022-12-12T11:48:59.761Z"
   },
   {
    "duration": 38,
    "start_time": "2022-12-12T11:48:59.823Z"
   },
   {
    "duration": 35,
    "start_time": "2022-12-12T11:48:59.864Z"
   },
   {
    "duration": 16,
    "start_time": "2022-12-12T11:48:59.903Z"
   },
   {
    "duration": 45,
    "start_time": "2022-12-12T11:48:59.922Z"
   },
   {
    "duration": 25,
    "start_time": "2022-12-12T11:48:59.979Z"
   },
   {
    "duration": 17,
    "start_time": "2022-12-12T11:49:00.006Z"
   },
   {
    "duration": 74,
    "start_time": "2022-12-12T11:49:00.026Z"
   },
   {
    "duration": 25,
    "start_time": "2022-12-12T11:49:00.103Z"
   },
   {
    "duration": 44,
    "start_time": "2022-12-12T11:49:00.130Z"
   },
   {
    "duration": 45,
    "start_time": "2022-12-12T11:49:00.183Z"
   },
   {
    "duration": 184,
    "start_time": "2022-12-12T11:49:00.231Z"
   },
   {
    "duration": 15,
    "start_time": "2022-12-12T11:49:00.417Z"
   },
   {
    "duration": 54,
    "start_time": "2022-12-12T11:49:00.434Z"
   },
   {
    "duration": 66,
    "start_time": "2022-12-12T11:49:00.490Z"
   },
   {
    "duration": 0,
    "start_time": "2022-12-12T11:49:00.565Z"
   },
   {
    "duration": 0,
    "start_time": "2022-12-12T11:49:00.569Z"
   },
   {
    "duration": 0,
    "start_time": "2022-12-12T11:49:00.570Z"
   },
   {
    "duration": 0,
    "start_time": "2022-12-12T11:49:00.571Z"
   },
   {
    "duration": 37,
    "start_time": "2022-12-12T11:49:18.527Z"
   },
   {
    "duration": 5,
    "start_time": "2022-12-12T11:49:25.806Z"
   },
   {
    "duration": 736,
    "start_time": "2022-12-12T11:49:25.813Z"
   },
   {
    "duration": 21,
    "start_time": "2022-12-12T11:49:26.557Z"
   },
   {
    "duration": 121,
    "start_time": "2022-12-12T11:49:26.586Z"
   },
   {
    "duration": 109,
    "start_time": "2022-12-12T11:49:26.711Z"
   },
   {
    "duration": 140,
    "start_time": "2022-12-12T11:49:26.822Z"
   },
   {
    "duration": 61,
    "start_time": "2022-12-12T11:49:26.968Z"
   },
   {
    "duration": 72,
    "start_time": "2022-12-12T11:49:27.031Z"
   },
   {
    "duration": 42,
    "start_time": "2022-12-12T11:49:27.130Z"
   },
   {
    "duration": 153,
    "start_time": "2022-12-12T11:49:27.180Z"
   },
   {
    "duration": 68,
    "start_time": "2022-12-12T11:49:27.339Z"
   },
   {
    "duration": 14,
    "start_time": "2022-12-12T11:49:27.416Z"
   },
   {
    "duration": 140,
    "start_time": "2022-12-12T11:49:27.431Z"
   },
   {
    "duration": 36,
    "start_time": "2022-12-12T11:49:27.584Z"
   },
   {
    "duration": 65,
    "start_time": "2022-12-12T11:49:27.622Z"
   },
   {
    "duration": 67,
    "start_time": "2022-12-12T11:49:27.689Z"
   },
   {
    "duration": 111,
    "start_time": "2022-12-12T11:49:27.758Z"
   },
   {
    "duration": 50,
    "start_time": "2022-12-12T11:49:27.871Z"
   },
   {
    "duration": 72,
    "start_time": "2022-12-12T11:49:27.923Z"
   },
   {
    "duration": 72,
    "start_time": "2022-12-12T11:49:27.997Z"
   },
   {
    "duration": 99,
    "start_time": "2022-12-12T11:49:28.094Z"
   },
   {
    "duration": 33,
    "start_time": "2022-12-12T11:49:28.196Z"
   },
   {
    "duration": 94,
    "start_time": "2022-12-12T11:49:28.231Z"
   },
   {
    "duration": 105,
    "start_time": "2022-12-12T11:49:28.329Z"
   },
   {
    "duration": 16,
    "start_time": "2022-12-12T11:55:37.787Z"
   },
   {
    "duration": 87,
    "start_time": "2022-12-12T11:55:42.099Z"
   },
   {
    "duration": 17,
    "start_time": "2022-12-12T11:55:42.774Z"
   },
   {
    "duration": 12,
    "start_time": "2022-12-12T11:55:46.654Z"
   },
   {
    "duration": 75,
    "start_time": "2022-12-12T11:55:47.107Z"
   },
   {
    "duration": 96,
    "start_time": "2022-12-12T11:56:00.150Z"
   },
   {
    "duration": 62,
    "start_time": "2022-12-12T11:56:00.687Z"
   },
   {
    "duration": 94,
    "start_time": "2022-12-12T11:56:01.053Z"
   },
   {
    "duration": 5,
    "start_time": "2022-12-12T11:56:26.880Z"
   },
   {
    "duration": 105,
    "start_time": "2022-12-12T11:56:27.330Z"
   },
   {
    "duration": 70,
    "start_time": "2022-12-12T11:56:27.896Z"
   },
   {
    "duration": 81,
    "start_time": "2022-12-12T11:56:28.661Z"
   },
   {
    "duration": 4,
    "start_time": "2022-12-12T11:58:35.687Z"
   },
   {
    "duration": 481,
    "start_time": "2022-12-12T11:58:35.698Z"
   },
   {
    "duration": 16,
    "start_time": "2022-12-12T11:58:36.182Z"
   },
   {
    "duration": 45,
    "start_time": "2022-12-12T11:58:36.201Z"
   },
   {
    "duration": 21,
    "start_time": "2022-12-12T11:58:36.251Z"
   },
   {
    "duration": 40,
    "start_time": "2022-12-12T11:58:36.276Z"
   },
   {
    "duration": 24,
    "start_time": "2022-12-12T11:58:36.318Z"
   },
   {
    "duration": 34,
    "start_time": "2022-12-12T11:58:36.347Z"
   },
   {
    "duration": 12,
    "start_time": "2022-12-12T11:58:36.384Z"
   },
   {
    "duration": 11,
    "start_time": "2022-12-12T11:58:36.398Z"
   },
   {
    "duration": 44,
    "start_time": "2022-12-12T11:58:36.411Z"
   },
   {
    "duration": 21,
    "start_time": "2022-12-12T11:58:36.457Z"
   },
   {
    "duration": 12,
    "start_time": "2022-12-12T11:58:36.480Z"
   },
   {
    "duration": 73,
    "start_time": "2022-12-12T11:58:36.494Z"
   },
   {
    "duration": 114,
    "start_time": "2022-12-12T11:58:36.636Z"
   },
   {
    "duration": 177,
    "start_time": "2022-12-12T11:58:36.761Z"
   },
   {
    "duration": 62,
    "start_time": "2022-12-12T12:01:41.523Z"
   },
   {
    "duration": 4,
    "start_time": "2022-12-12T12:01:47.334Z"
   },
   {
    "duration": 35,
    "start_time": "2022-12-12T12:01:49.179Z"
   },
   {
    "duration": 21,
    "start_time": "2022-12-12T12:02:02.797Z"
   },
   {
    "duration": 23,
    "start_time": "2022-12-12T12:02:07.384Z"
   },
   {
    "duration": 18,
    "start_time": "2022-12-12T12:02:33.875Z"
   },
   {
    "duration": 26,
    "start_time": "2022-12-12T12:02:37.047Z"
   },
   {
    "duration": 4,
    "start_time": "2022-12-12T12:02:50.375Z"
   },
   {
    "duration": 22,
    "start_time": "2022-12-12T12:02:50.804Z"
   },
   {
    "duration": 25,
    "start_time": "2022-12-12T12:02:55.451Z"
   },
   {
    "duration": 16,
    "start_time": "2022-12-12T12:03:00.684Z"
   },
   {
    "duration": 22,
    "start_time": "2022-12-12T12:03:03.930Z"
   },
   {
    "duration": 4,
    "start_time": "2022-12-12T12:03:24.529Z"
   },
   {
    "duration": 12,
    "start_time": "2022-12-12T12:03:24.978Z"
   },
   {
    "duration": 13,
    "start_time": "2022-12-12T12:03:53.219Z"
   },
   {
    "duration": 16,
    "start_time": "2022-12-12T12:04:07.116Z"
   },
   {
    "duration": 4,
    "start_time": "2022-12-12T12:04:47.680Z"
   },
   {
    "duration": 6,
    "start_time": "2022-12-12T12:04:58.982Z"
   },
   {
    "duration": 20,
    "start_time": "2022-12-12T12:05:10.990Z"
   },
   {
    "duration": 36,
    "start_time": "2022-12-12T12:05:20.626Z"
   },
   {
    "duration": 17,
    "start_time": "2022-12-12T12:05:30.279Z"
   },
   {
    "duration": 20,
    "start_time": "2022-12-12T12:07:11.808Z"
   },
   {
    "duration": 32,
    "start_time": "2022-12-12T12:08:10.133Z"
   },
   {
    "duration": 6,
    "start_time": "2022-12-12T12:08:15.527Z"
   },
   {
    "duration": 17,
    "start_time": "2022-12-12T12:08:39.370Z"
   },
   {
    "duration": 4,
    "start_time": "2022-12-12T12:10:50.120Z"
   },
   {
    "duration": 30,
    "start_time": "2022-12-12T12:10:50.542Z"
   },
   {
    "duration": 172,
    "start_time": "2022-12-12T12:10:50.867Z"
   },
   {
    "duration": 3,
    "start_time": "2022-12-12T12:11:04.910Z"
   },
   {
    "duration": 34,
    "start_time": "2022-12-12T12:11:05.225Z"
   },
   {
    "duration": 14,
    "start_time": "2022-12-12T12:11:06.261Z"
   },
   {
    "duration": 16,
    "start_time": "2022-12-12T12:11:06.865Z"
   },
   {
    "duration": 10,
    "start_time": "2022-12-12T12:11:23.003Z"
   },
   {
    "duration": 16,
    "start_time": "2022-12-12T12:11:23.684Z"
   },
   {
    "duration": 5,
    "start_time": "2022-12-12T12:11:35.645Z"
   },
   {
    "duration": 103,
    "start_time": "2022-12-12T12:11:36.334Z"
   },
   {
    "duration": 4,
    "start_time": "2022-12-12T12:12:42.229Z"
   },
   {
    "duration": 19,
    "start_time": "2022-12-12T12:12:42.604Z"
   },
   {
    "duration": 4,
    "start_time": "2022-12-12T12:14:45.817Z"
   },
   {
    "duration": 21,
    "start_time": "2022-12-12T12:14:46.174Z"
   },
   {
    "duration": 4,
    "start_time": "2022-12-12T12:20:51.021Z"
   },
   {
    "duration": 6,
    "start_time": "2022-12-12T12:20:55.436Z"
   },
   {
    "duration": 117,
    "start_time": "2022-12-12T12:20:55.948Z"
   },
   {
    "duration": 63,
    "start_time": "2022-12-12T12:20:56.576Z"
   },
   {
    "duration": 18,
    "start_time": "2022-12-12T12:20:57.198Z"
   },
   {
    "duration": 3,
    "start_time": "2022-12-12T13:06:32.955Z"
   },
   {
    "duration": 3,
    "start_time": "2022-12-12T13:15:39.442Z"
   },
   {
    "duration": 4,
    "start_time": "2022-12-12T13:15:41.498Z"
   },
   {
    "duration": 4,
    "start_time": "2022-12-12T13:15:48.066Z"
   },
   {
    "duration": 4,
    "start_time": "2022-12-12T13:15:57.186Z"
   },
   {
    "duration": 3,
    "start_time": "2022-12-12T13:17:41.818Z"
   },
   {
    "duration": 16,
    "start_time": "2022-12-12T13:21:05.586Z"
   },
   {
    "duration": 4,
    "start_time": "2022-12-12T13:21:07.114Z"
   },
   {
    "duration": 14,
    "start_time": "2022-12-12T13:21:07.458Z"
   },
   {
    "duration": 15,
    "start_time": "2022-12-12T13:21:20.106Z"
   },
   {
    "duration": 14,
    "start_time": "2022-12-12T15:45:27.038Z"
   },
   {
    "duration": 14,
    "start_time": "2022-12-12T15:45:33.646Z"
   },
   {
    "duration": 3,
    "start_time": "2022-12-12T15:46:30.151Z"
   },
   {
    "duration": 52,
    "start_time": "2022-12-12T16:03:57.615Z"
   },
   {
    "duration": 4,
    "start_time": "2022-12-12T16:04:03.656Z"
   },
   {
    "duration": 9,
    "start_time": "2022-12-12T16:11:07.321Z"
   },
   {
    "duration": 4,
    "start_time": "2022-12-12T16:11:12.959Z"
   },
   {
    "duration": 11,
    "start_time": "2022-12-12T16:11:13.457Z"
   },
   {
    "duration": 4,
    "start_time": "2022-12-12T16:11:35.265Z"
   },
   {
    "duration": 4,
    "start_time": "2022-12-12T16:11:37.744Z"
   },
   {
    "duration": 5,
    "start_time": "2022-12-12T16:11:44.939Z"
   },
   {
    "duration": 12,
    "start_time": "2022-12-12T16:11:45.378Z"
   },
   {
    "duration": 3,
    "start_time": "2022-12-12T16:15:49.905Z"
   },
   {
    "duration": 4,
    "start_time": "2022-12-12T16:15:50.273Z"
   },
   {
    "duration": 21,
    "start_time": "2022-12-12T16:15:50.736Z"
   },
   {
    "duration": 3,
    "start_time": "2022-12-12T16:16:18.465Z"
   },
   {
    "duration": 4,
    "start_time": "2022-12-12T16:16:18.769Z"
   },
   {
    "duration": 13,
    "start_time": "2022-12-12T16:16:19.314Z"
   },
   {
    "duration": 4,
    "start_time": "2022-12-12T16:16:23.081Z"
   },
   {
    "duration": 4,
    "start_time": "2022-12-12T16:16:23.441Z"
   },
   {
    "duration": 5,
    "start_time": "2022-12-12T16:16:23.745Z"
   },
   {
    "duration": 1411,
    "start_time": "2022-12-12T16:16:24.169Z"
   },
   {
    "duration": 4,
    "start_time": "2022-12-12T16:19:18.194Z"
   },
   {
    "duration": 13,
    "start_time": "2022-12-12T16:19:18.609Z"
   },
   {
    "duration": 4,
    "start_time": "2022-12-12T16:19:32.099Z"
   },
   {
    "duration": 6,
    "start_time": "2022-12-12T16:19:32.801Z"
   },
   {
    "duration": 18,
    "start_time": "2022-12-12T16:19:33.145Z"
   },
   {
    "duration": 3,
    "start_time": "2022-12-12T16:21:07.161Z"
   },
   {
    "duration": 4,
    "start_time": "2022-12-12T16:21:07.507Z"
   },
   {
    "duration": 12,
    "start_time": "2022-12-12T16:21:07.912Z"
   },
   {
    "duration": 3,
    "start_time": "2022-12-12T16:21:11.113Z"
   },
   {
    "duration": 5,
    "start_time": "2022-12-12T16:21:11.377Z"
   },
   {
    "duration": 12,
    "start_time": "2022-12-12T16:21:11.674Z"
   },
   {
    "duration": 3,
    "start_time": "2022-12-12T16:21:15.024Z"
   },
   {
    "duration": 3,
    "start_time": "2022-12-12T16:21:15.225Z"
   },
   {
    "duration": 5,
    "start_time": "2022-12-12T16:21:15.505Z"
   },
   {
    "duration": 17,
    "start_time": "2022-12-12T16:21:15.849Z"
   },
   {
    "duration": 6,
    "start_time": "2022-12-12T16:21:19.450Z"
   },
   {
    "duration": 5,
    "start_time": "2022-12-12T16:21:23.242Z"
   },
   {
    "duration": 1381,
    "start_time": "2022-12-12T16:21:23.946Z"
   },
   {
    "duration": 3,
    "start_time": "2022-12-12T16:21:55.810Z"
   },
   {
    "duration": 5,
    "start_time": "2022-12-12T16:21:56.314Z"
   },
   {
    "duration": 1425,
    "start_time": "2022-12-12T16:21:56.678Z"
   },
   {
    "duration": 3,
    "start_time": "2022-12-12T16:22:06.665Z"
   },
   {
    "duration": 5,
    "start_time": "2022-12-12T16:22:07.610Z"
   },
   {
    "duration": 1351,
    "start_time": "2022-12-12T16:22:11.098Z"
   },
   {
    "duration": 3,
    "start_time": "2022-12-12T16:22:26.930Z"
   },
   {
    "duration": 6,
    "start_time": "2022-12-12T16:23:03.147Z"
   },
   {
    "duration": 1359,
    "start_time": "2022-12-12T16:23:03.610Z"
   },
   {
    "duration": 18,
    "start_time": "2022-12-12T16:23:04.971Z"
   },
   {
    "duration": 18,
    "start_time": "2022-12-12T16:23:05.104Z"
   },
   {
    "duration": 4,
    "start_time": "2022-12-12T16:23:30.338Z"
   },
   {
    "duration": 5,
    "start_time": "2022-12-12T16:23:30.818Z"
   },
   {
    "duration": 1546,
    "start_time": "2022-12-12T16:23:31.467Z"
   },
   {
    "duration": 25,
    "start_time": "2022-12-12T16:23:33.015Z"
   },
   {
    "duration": 0,
    "start_time": "2022-12-12T16:23:33.042Z"
   },
   {
    "duration": 21,
    "start_time": "2022-12-12T16:23:46.146Z"
   },
   {
    "duration": 4,
    "start_time": "2022-12-12T16:24:16.289Z"
   },
   {
    "duration": 5,
    "start_time": "2022-12-12T16:24:16.635Z"
   },
   {
    "duration": 3,
    "start_time": "2022-12-12T16:24:18.650Z"
   },
   {
    "duration": 4,
    "start_time": "2022-12-12T16:24:19.090Z"
   },
   {
    "duration": 4,
    "start_time": "2022-12-12T16:24:19.458Z"
   },
   {
    "duration": 1418,
    "start_time": "2022-12-12T16:24:20.163Z"
   },
   {
    "duration": 20,
    "start_time": "2022-12-12T16:24:22.922Z"
   },
   {
    "duration": 4,
    "start_time": "2022-12-12T16:24:51.387Z"
   },
   {
    "duration": 6,
    "start_time": "2022-12-12T16:24:56.242Z"
   },
   {
    "duration": 1383,
    "start_time": "2022-12-12T16:24:56.465Z"
   },
   {
    "duration": 19,
    "start_time": "2022-12-12T16:24:57.850Z"
   },
   {
    "duration": 18,
    "start_time": "2022-12-12T16:24:58.138Z"
   },
   {
    "duration": 3,
    "start_time": "2022-12-12T16:26:41.177Z"
   },
   {
    "duration": 5,
    "start_time": "2022-12-12T16:26:41.698Z"
   },
   {
    "duration": 1462,
    "start_time": "2022-12-12T16:26:42.186Z"
   },
   {
    "duration": 5,
    "start_time": "2022-12-12T16:26:56.121Z"
   },
   {
    "duration": 4,
    "start_time": "2022-12-12T16:26:56.441Z"
   },
   {
    "duration": 1411,
    "start_time": "2022-12-12T16:26:56.826Z"
   },
   {
    "duration": 1462,
    "start_time": "2022-12-12T16:26:58.239Z"
   },
   {
    "duration": 5,
    "start_time": "2022-12-12T16:27:11.450Z"
   },
   {
    "duration": 4,
    "start_time": "2022-12-12T16:27:11.850Z"
   },
   {
    "duration": 1430,
    "start_time": "2022-12-12T16:27:12.314Z"
   },
   {
    "duration": 1367,
    "start_time": "2022-12-12T16:27:13.746Z"
   },
   {
    "duration": 1386,
    "start_time": "2022-12-12T16:27:15.115Z"
   },
   {
    "duration": 4,
    "start_time": "2022-12-12T16:48:07.915Z"
   },
   {
    "duration": 67,
    "start_time": "2022-12-12T16:49:41.652Z"
   },
   {
    "duration": 4,
    "start_time": "2022-12-12T16:50:01.316Z"
   },
   {
    "duration": 4,
    "start_time": "2022-12-12T16:54:49.709Z"
   },
   {
    "duration": 7,
    "start_time": "2022-12-12T16:54:50.580Z"
   },
   {
    "duration": 1487,
    "start_time": "2022-12-12T16:54:51.043Z"
   },
   {
    "duration": 1443,
    "start_time": "2022-12-12T16:54:52.533Z"
   },
   {
    "duration": 1457,
    "start_time": "2022-12-12T16:54:53.978Z"
   },
   {
    "duration": 3,
    "start_time": "2022-12-12T16:55:33.316Z"
   },
   {
    "duration": 4,
    "start_time": "2022-12-12T16:55:34.084Z"
   },
   {
    "duration": 1453,
    "start_time": "2022-12-12T16:55:34.460Z"
   },
   {
    "duration": 1493,
    "start_time": "2022-12-12T16:55:35.916Z"
   },
   {
    "duration": 1442,
    "start_time": "2022-12-12T16:55:37.411Z"
   },
   {
    "duration": 3,
    "start_time": "2022-12-12T16:55:59.844Z"
   },
   {
    "duration": 4,
    "start_time": "2022-12-12T16:56:00.588Z"
   },
   {
    "duration": 1459,
    "start_time": "2022-12-12T16:56:01.012Z"
   },
   {
    "duration": 1521,
    "start_time": "2022-12-12T16:56:02.474Z"
   },
   {
    "duration": 1451,
    "start_time": "2022-12-12T16:56:03.997Z"
   },
   {
    "duration": 4,
    "start_time": "2022-12-12T16:56:21.828Z"
   },
   {
    "duration": 5,
    "start_time": "2022-12-12T16:56:22.628Z"
   },
   {
    "duration": 1402,
    "start_time": "2022-12-12T16:56:23.420Z"
   },
   {
    "duration": 1463,
    "start_time": "2022-12-12T16:56:24.825Z"
   },
   {
    "duration": 1519,
    "start_time": "2022-12-12T16:56:26.290Z"
   },
   {
    "duration": 4,
    "start_time": "2022-12-12T16:59:00.195Z"
   },
   {
    "duration": 9,
    "start_time": "2022-12-12T16:59:00.739Z"
   },
   {
    "duration": 1475,
    "start_time": "2022-12-12T16:59:01.043Z"
   },
   {
    "duration": 1427,
    "start_time": "2022-12-12T16:59:03.556Z"
   },
   {
    "duration": 1446,
    "start_time": "2022-12-12T16:59:04.986Z"
   },
   {
    "duration": 4,
    "start_time": "2022-12-12T16:59:26.963Z"
   },
   {
    "duration": 4,
    "start_time": "2022-12-12T16:59:27.681Z"
   },
   {
    "duration": 1475,
    "start_time": "2022-12-12T16:59:27.827Z"
   },
   {
    "duration": 1450,
    "start_time": "2022-12-12T16:59:29.304Z"
   },
   {
    "duration": 9,
    "start_time": "2022-12-12T17:02:26.156Z"
   },
   {
    "duration": 9,
    "start_time": "2022-12-12T17:02:49.100Z"
   },
   {
    "duration": 9,
    "start_time": "2022-12-12T17:04:06.604Z"
   },
   {
    "duration": 3,
    "start_time": "2022-12-12T17:05:20.317Z"
   },
   {
    "duration": 11,
    "start_time": "2022-12-12T17:05:20.676Z"
   },
   {
    "duration": 4,
    "start_time": "2022-12-12T17:05:33.364Z"
   },
   {
    "duration": 9,
    "start_time": "2022-12-12T17:05:33.691Z"
   },
   {
    "duration": 4,
    "start_time": "2022-12-12T17:05:40.844Z"
   },
   {
    "duration": 1457,
    "start_time": "2022-12-12T17:05:41.204Z"
   },
   {
    "duration": 4,
    "start_time": "2022-12-12T17:05:56.661Z"
   },
   {
    "duration": 5,
    "start_time": "2022-12-12T17:13:49.716Z"
   },
   {
    "duration": 1466,
    "start_time": "2022-12-12T17:13:50.084Z"
   },
   {
    "duration": 1562,
    "start_time": "2022-12-12T17:13:51.552Z"
   },
   {
    "duration": 1392,
    "start_time": "2022-12-12T17:13:53.116Z"
   },
   {
    "duration": 47,
    "start_time": "2022-12-12T17:14:31.932Z"
   },
   {
    "duration": 4,
    "start_time": "2022-12-12T17:14:35.501Z"
   },
   {
    "duration": 4,
    "start_time": "2022-12-12T17:15:11.037Z"
   },
   {
    "duration": 5,
    "start_time": "2022-12-12T17:15:40.870Z"
   },
   {
    "duration": 1460,
    "start_time": "2022-12-12T17:15:41.629Z"
   },
   {
    "duration": 1375,
    "start_time": "2022-12-12T17:15:43.091Z"
   },
   {
    "duration": 1381,
    "start_time": "2022-12-12T17:15:44.468Z"
   },
   {
    "duration": 7,
    "start_time": "2022-12-12T17:17:03.935Z"
   },
   {
    "duration": 1444,
    "start_time": "2022-12-12T17:17:04.237Z"
   },
   {
    "duration": 1483,
    "start_time": "2022-12-12T17:17:05.684Z"
   },
   {
    "duration": 1456,
    "start_time": "2022-12-12T17:17:07.169Z"
   },
   {
    "duration": 5,
    "start_time": "2022-12-12T17:25:39.710Z"
   },
   {
    "duration": 16,
    "start_time": "2022-12-12T17:25:40.014Z"
   },
   {
    "duration": 14,
    "start_time": "2022-12-12T17:25:40.311Z"
   },
   {
    "duration": 5,
    "start_time": "2022-12-12T17:25:55.407Z"
   },
   {
    "duration": 1508,
    "start_time": "2022-12-12T17:25:55.790Z"
   },
   {
    "duration": 1410,
    "start_time": "2022-12-12T17:25:57.301Z"
   },
   {
    "duration": 5,
    "start_time": "2022-12-12T17:26:28.895Z"
   },
   {
    "duration": 1391,
    "start_time": "2022-12-12T17:26:29.477Z"
   },
   {
    "duration": 6,
    "start_time": "2022-12-12T17:26:49.461Z"
   },
   {
    "duration": 1574,
    "start_time": "2022-12-12T17:26:50.006Z"
   },
   {
    "duration": 1548,
    "start_time": "2022-12-12T17:26:52.343Z"
   },
   {
    "duration": 1443,
    "start_time": "2022-12-12T17:26:53.894Z"
   },
   {
    "duration": 5,
    "start_time": "2022-12-12T17:38:19.413Z"
   },
   {
    "duration": 1390,
    "start_time": "2022-12-12T17:38:19.749Z"
   },
   {
    "duration": 1477,
    "start_time": "2022-12-12T17:38:21.141Z"
   },
   {
    "duration": 8,
    "start_time": "2022-12-12T17:38:24.884Z"
   },
   {
    "duration": 1438,
    "start_time": "2022-12-12T17:38:25.431Z"
   },
   {
    "duration": 5,
    "start_time": "2022-12-12T17:38:31.558Z"
   },
   {
    "duration": 6,
    "start_time": "2022-12-12T17:38:36.189Z"
   },
   {
    "duration": 1409,
    "start_time": "2022-12-12T17:38:36.550Z"
   },
   {
    "duration": 1386,
    "start_time": "2022-12-12T17:38:37.960Z"
   },
   {
    "duration": 1362,
    "start_time": "2022-12-12T17:38:39.347Z"
   },
   {
    "duration": 5,
    "start_time": "2022-12-12T17:39:40.565Z"
   },
   {
    "duration": 1479,
    "start_time": "2022-12-12T17:39:41.212Z"
   },
   {
    "duration": 5,
    "start_time": "2022-12-12T17:39:52.149Z"
   },
   {
    "duration": 6,
    "start_time": "2022-12-12T17:40:35.517Z"
   },
   {
    "duration": 1485,
    "start_time": "2022-12-12T17:40:35.821Z"
   },
   {
    "duration": 1410,
    "start_time": "2022-12-12T17:40:37.308Z"
   },
   {
    "duration": 1411,
    "start_time": "2022-12-12T17:40:38.720Z"
   },
   {
    "duration": 6,
    "start_time": "2022-12-12T17:40:56.741Z"
   },
   {
    "duration": 1414,
    "start_time": "2022-12-12T17:40:56.877Z"
   },
   {
    "duration": 1383,
    "start_time": "2022-12-12T17:40:58.292Z"
   },
   {
    "duration": 1355,
    "start_time": "2022-12-12T17:40:59.677Z"
   },
   {
    "duration": 6,
    "start_time": "2022-12-12T17:44:42.630Z"
   },
   {
    "duration": 13,
    "start_time": "2022-12-12T17:46:19.876Z"
   },
   {
    "duration": 5,
    "start_time": "2022-12-12T17:46:20.396Z"
   },
   {
    "duration": 4,
    "start_time": "2022-12-12T17:46:20.820Z"
   },
   {
    "duration": 4,
    "start_time": "2022-12-12T17:46:26.477Z"
   },
   {
    "duration": 4,
    "start_time": "2022-12-12T17:46:26.845Z"
   },
   {
    "duration": 64,
    "start_time": "2022-12-12T17:52:12.669Z"
   },
   {
    "duration": 6,
    "start_time": "2022-12-12T17:52:13.053Z"
   },
   {
    "duration": 7,
    "start_time": "2022-12-12T17:58:05.853Z"
   },
   {
    "duration": 9,
    "start_time": "2022-12-12T17:59:31.518Z"
   },
   {
    "duration": 6,
    "start_time": "2022-12-12T18:00:09.703Z"
   },
   {
    "duration": 1075,
    "start_time": "2022-12-12T18:01:08.289Z"
   },
   {
    "duration": 430,
    "start_time": "2022-12-12T18:01:09.366Z"
   },
   {
    "duration": 17,
    "start_time": "2022-12-12T18:01:09.799Z"
   },
   {
    "duration": 19,
    "start_time": "2022-12-12T18:01:09.818Z"
   },
   {
    "duration": 20,
    "start_time": "2022-12-12T18:01:09.839Z"
   },
   {
    "duration": 27,
    "start_time": "2022-12-12T18:01:09.861Z"
   },
   {
    "duration": 16,
    "start_time": "2022-12-12T18:01:09.890Z"
   },
   {
    "duration": 30,
    "start_time": "2022-12-12T18:01:09.908Z"
   },
   {
    "duration": 12,
    "start_time": "2022-12-12T18:01:09.940Z"
   },
   {
    "duration": 16,
    "start_time": "2022-12-12T18:01:09.954Z"
   },
   {
    "duration": 32,
    "start_time": "2022-12-12T18:01:09.971Z"
   },
   {
    "duration": 41,
    "start_time": "2022-12-12T18:01:10.005Z"
   },
   {
    "duration": 19,
    "start_time": "2022-12-12T18:01:10.048Z"
   },
   {
    "duration": 20,
    "start_time": "2022-12-12T18:01:10.070Z"
   },
   {
    "duration": 10,
    "start_time": "2022-12-12T18:01:10.092Z"
   },
   {
    "duration": 8,
    "start_time": "2022-12-12T18:01:10.104Z"
   },
   {
    "duration": 22,
    "start_time": "2022-12-12T18:01:10.113Z"
   },
   {
    "duration": 5,
    "start_time": "2022-12-12T18:01:10.137Z"
   },
   {
    "duration": 19,
    "start_time": "2022-12-12T18:01:10.144Z"
   },
   {
    "duration": 27,
    "start_time": "2022-12-12T18:01:10.165Z"
   },
   {
    "duration": 5,
    "start_time": "2022-12-12T18:01:10.194Z"
   },
   {
    "duration": 22,
    "start_time": "2022-12-12T18:01:10.201Z"
   },
   {
    "duration": 8,
    "start_time": "2022-12-12T18:01:10.224Z"
   },
   {
    "duration": 101,
    "start_time": "2022-12-12T18:01:10.234Z"
   },
   {
    "duration": 199,
    "start_time": "2022-12-12T18:01:10.338Z"
   },
   {
    "duration": 103,
    "start_time": "2022-12-12T18:01:10.539Z"
   },
   {
    "duration": 91,
    "start_time": "2022-12-12T18:01:10.647Z"
   },
   {
    "duration": 97,
    "start_time": "2022-12-12T18:01:10.740Z"
   },
   {
    "duration": 9,
    "start_time": "2022-12-12T18:01:10.839Z"
   },
   {
    "duration": 21,
    "start_time": "2022-12-12T18:01:10.850Z"
   },
   {
    "duration": 9,
    "start_time": "2022-12-12T18:01:10.873Z"
   },
   {
    "duration": 1431,
    "start_time": "2022-12-12T18:01:10.884Z"
   },
   {
    "duration": 1433,
    "start_time": "2022-12-12T18:01:12.317Z"
   },
   {
    "duration": 1323,
    "start_time": "2022-12-12T18:01:13.752Z"
   },
   {
    "duration": 1378,
    "start_time": "2022-12-12T18:05:50.000Z"
   },
   {
    "duration": 1402,
    "start_time": "2022-12-12T18:05:51.380Z"
   },
   {
    "duration": 1324,
    "start_time": "2022-12-12T18:06:07.064Z"
   },
   {
    "duration": 1348,
    "start_time": "2022-12-12T18:06:08.390Z"
   },
   {
    "duration": 1073,
    "start_time": "2022-12-12T18:06:20.943Z"
   },
   {
    "duration": 415,
    "start_time": "2022-12-12T18:06:22.019Z"
   },
   {
    "duration": 24,
    "start_time": "2022-12-12T18:06:22.436Z"
   },
   {
    "duration": 18,
    "start_time": "2022-12-12T18:06:22.463Z"
   },
   {
    "duration": 17,
    "start_time": "2022-12-12T18:06:22.485Z"
   },
   {
    "duration": 39,
    "start_time": "2022-12-12T18:06:22.504Z"
   },
   {
    "duration": 18,
    "start_time": "2022-12-12T18:06:22.546Z"
   },
   {
    "duration": 19,
    "start_time": "2022-12-12T18:06:22.566Z"
   },
   {
    "duration": 13,
    "start_time": "2022-12-12T18:06:22.587Z"
   },
   {
    "duration": 45,
    "start_time": "2022-12-12T18:06:22.603Z"
   },
   {
    "duration": 17,
    "start_time": "2022-12-12T18:06:22.650Z"
   },
   {
    "duration": 16,
    "start_time": "2022-12-12T18:06:22.668Z"
   },
   {
    "duration": 7,
    "start_time": "2022-12-12T18:06:22.686Z"
   },
   {
    "duration": 17,
    "start_time": "2022-12-12T18:06:22.695Z"
   },
   {
    "duration": 3,
    "start_time": "2022-12-12T18:06:22.714Z"
   },
   {
    "duration": 19,
    "start_time": "2022-12-12T18:06:22.719Z"
   },
   {
    "duration": 32,
    "start_time": "2022-12-12T18:06:22.740Z"
   },
   {
    "duration": 3,
    "start_time": "2022-12-12T18:06:22.774Z"
   },
   {
    "duration": 13,
    "start_time": "2022-12-12T18:06:22.779Z"
   },
   {
    "duration": 35,
    "start_time": "2022-12-12T18:06:22.794Z"
   },
   {
    "duration": 15,
    "start_time": "2022-12-12T18:06:22.831Z"
   },
   {
    "duration": 23,
    "start_time": "2022-12-12T18:06:22.847Z"
   },
   {
    "duration": 14,
    "start_time": "2022-12-12T18:06:22.872Z"
   },
   {
    "duration": 46,
    "start_time": "2022-12-12T18:06:22.888Z"
   },
   {
    "duration": 196,
    "start_time": "2022-12-12T18:06:22.941Z"
   },
   {
    "duration": 100,
    "start_time": "2022-12-12T18:06:23.140Z"
   },
   {
    "duration": 102,
    "start_time": "2022-12-12T18:06:23.243Z"
   },
   {
    "duration": 3,
    "start_time": "2022-12-12T18:06:23.438Z"
   },
   {
    "duration": 17,
    "start_time": "2022-12-12T18:06:23.443Z"
   },
   {
    "duration": 9,
    "start_time": "2022-12-12T18:06:23.462Z"
   },
   {
    "duration": 11,
    "start_time": "2022-12-12T18:06:23.473Z"
   },
   {
    "duration": 1408,
    "start_time": "2022-12-12T18:06:23.485Z"
   },
   {
    "duration": 1388,
    "start_time": "2022-12-12T18:06:24.894Z"
   },
   {
    "duration": 1426,
    "start_time": "2022-12-12T18:06:26.285Z"
   },
   {
    "duration": 5,
    "start_time": "2022-12-12T18:13:53.865Z"
   },
   {
    "duration": 1415,
    "start_time": "2022-12-12T18:13:54.224Z"
   },
   {
    "duration": 1448,
    "start_time": "2022-12-12T18:13:55.641Z"
   },
   {
    "duration": 1049,
    "start_time": "2022-12-12T18:14:28.382Z"
   },
   {
    "duration": 394,
    "start_time": "2022-12-12T18:14:29.433Z"
   },
   {
    "duration": 18,
    "start_time": "2022-12-12T18:14:29.829Z"
   },
   {
    "duration": 11,
    "start_time": "2022-12-12T18:14:29.849Z"
   },
   {
    "duration": 16,
    "start_time": "2022-12-12T18:14:29.861Z"
   },
   {
    "duration": 20,
    "start_time": "2022-12-12T18:14:29.879Z"
   },
   {
    "duration": 14,
    "start_time": "2022-12-12T18:14:29.900Z"
   },
   {
    "duration": 14,
    "start_time": "2022-12-12T18:14:29.936Z"
   },
   {
    "duration": 10,
    "start_time": "2022-12-12T18:14:29.952Z"
   },
   {
    "duration": 22,
    "start_time": "2022-12-12T18:14:29.965Z"
   },
   {
    "duration": 33,
    "start_time": "2022-12-12T18:14:29.988Z"
   },
   {
    "duration": 14,
    "start_time": "2022-12-12T18:14:30.022Z"
   },
   {
    "duration": 21,
    "start_time": "2022-12-12T18:14:30.039Z"
   },
   {
    "duration": 33,
    "start_time": "2022-12-12T18:14:30.061Z"
   },
   {
    "duration": 4,
    "start_time": "2022-12-12T18:14:30.096Z"
   },
   {
    "duration": 18,
    "start_time": "2022-12-12T18:14:30.102Z"
   },
   {
    "duration": 19,
    "start_time": "2022-12-12T18:14:30.122Z"
   },
   {
    "duration": 5,
    "start_time": "2022-12-12T18:14:30.143Z"
   },
   {
    "duration": 20,
    "start_time": "2022-12-12T18:14:30.150Z"
   },
   {
    "duration": 37,
    "start_time": "2022-12-12T18:14:30.172Z"
   },
   {
    "duration": 4,
    "start_time": "2022-12-12T18:14:30.210Z"
   },
   {
    "duration": 50,
    "start_time": "2022-12-12T18:14:30.216Z"
   },
   {
    "duration": 19,
    "start_time": "2022-12-12T18:14:30.267Z"
   },
   {
    "duration": 42,
    "start_time": "2022-12-12T18:14:30.288Z"
   },
   {
    "duration": 204,
    "start_time": "2022-12-12T18:14:30.337Z"
   },
   {
    "duration": 205,
    "start_time": "2022-12-12T18:14:30.544Z"
   },
   {
    "duration": 192,
    "start_time": "2022-12-12T18:14:30.769Z"
   },
   {
    "duration": 31,
    "start_time": "2022-12-12T18:14:30.965Z"
   },
   {
    "duration": 19,
    "start_time": "2022-12-12T18:14:30.998Z"
   },
   {
    "duration": 14,
    "start_time": "2022-12-12T18:14:31.019Z"
   },
   {
    "duration": 16,
    "start_time": "2022-12-12T18:14:31.035Z"
   },
   {
    "duration": 1489,
    "start_time": "2022-12-12T18:14:31.053Z"
   },
   {
    "duration": 1392,
    "start_time": "2022-12-12T18:14:32.544Z"
   },
   {
    "duration": 1363,
    "start_time": "2022-12-12T18:14:33.938Z"
   },
   {
    "duration": 1134,
    "start_time": "2022-12-12T18:24:48.129Z"
   },
   {
    "duration": 401,
    "start_time": "2022-12-12T18:24:49.266Z"
   },
   {
    "duration": 18,
    "start_time": "2022-12-12T18:24:49.669Z"
   },
   {
    "duration": 42,
    "start_time": "2022-12-12T18:24:49.689Z"
   },
   {
    "duration": 23,
    "start_time": "2022-12-12T18:24:49.734Z"
   },
   {
    "duration": 38,
    "start_time": "2022-12-12T18:24:49.759Z"
   },
   {
    "duration": 27,
    "start_time": "2022-12-12T18:24:49.799Z"
   },
   {
    "duration": 20,
    "start_time": "2022-12-12T18:24:49.828Z"
   },
   {
    "duration": 24,
    "start_time": "2022-12-12T18:24:49.850Z"
   },
   {
    "duration": 24,
    "start_time": "2022-12-12T18:24:49.876Z"
   },
   {
    "duration": 21,
    "start_time": "2022-12-12T18:24:49.902Z"
   },
   {
    "duration": 18,
    "start_time": "2022-12-12T18:24:49.925Z"
   },
   {
    "duration": 19,
    "start_time": "2022-12-12T18:24:49.945Z"
   },
   {
    "duration": 37,
    "start_time": "2022-12-12T18:24:49.967Z"
   },
   {
    "duration": 25,
    "start_time": "2022-12-12T18:24:50.006Z"
   },
   {
    "duration": 18,
    "start_time": "2022-12-12T18:24:50.033Z"
   },
   {
    "duration": 36,
    "start_time": "2022-12-12T18:24:50.053Z"
   },
   {
    "duration": 25,
    "start_time": "2022-12-12T18:24:50.091Z"
   },
   {
    "duration": 15,
    "start_time": "2022-12-12T18:24:50.117Z"
   },
   {
    "duration": 24,
    "start_time": "2022-12-12T18:24:50.134Z"
   },
   {
    "duration": 7,
    "start_time": "2022-12-12T18:24:50.160Z"
   },
   {
    "duration": 21,
    "start_time": "2022-12-12T18:24:50.169Z"
   },
   {
    "duration": 19,
    "start_time": "2022-12-12T18:24:50.191Z"
   },
   {
    "duration": 31,
    "start_time": "2022-12-12T18:24:50.212Z"
   },
   {
    "duration": 200,
    "start_time": "2022-12-12T18:24:50.244Z"
   },
   {
    "duration": 199,
    "start_time": "2022-12-12T18:24:50.448Z"
   },
   {
    "duration": 186,
    "start_time": "2022-12-12T18:24:50.650Z"
   },
   {
    "duration": 8,
    "start_time": "2022-12-12T18:24:50.838Z"
   },
   {
    "duration": 12,
    "start_time": "2022-12-12T18:24:50.847Z"
   },
   {
    "duration": 10,
    "start_time": "2022-12-12T18:24:50.861Z"
   },
   {
    "duration": 14,
    "start_time": "2022-12-12T18:24:50.873Z"
   },
   {
    "duration": 1444,
    "start_time": "2022-12-12T18:24:50.888Z"
   },
   {
    "duration": 1459,
    "start_time": "2022-12-12T18:24:52.333Z"
   },
   {
    "duration": 1395,
    "start_time": "2022-12-12T18:24:53.794Z"
   },
   {
    "duration": 1196,
    "start_time": "2022-12-12T18:31:16.427Z"
   },
   {
    "duration": 381,
    "start_time": "2022-12-12T18:31:17.625Z"
   },
   {
    "duration": 18,
    "start_time": "2022-12-12T18:31:18.008Z"
   },
   {
    "duration": 23,
    "start_time": "2022-12-12T18:31:18.029Z"
   },
   {
    "duration": 19,
    "start_time": "2022-12-12T18:31:18.054Z"
   },
   {
    "duration": 25,
    "start_time": "2022-12-12T18:31:18.075Z"
   },
   {
    "duration": 18,
    "start_time": "2022-12-12T18:31:18.102Z"
   },
   {
    "duration": 19,
    "start_time": "2022-12-12T18:31:18.121Z"
   },
   {
    "duration": 10,
    "start_time": "2022-12-12T18:31:18.141Z"
   },
   {
    "duration": 16,
    "start_time": "2022-12-12T18:31:18.154Z"
   },
   {
    "duration": 21,
    "start_time": "2022-12-12T18:31:18.172Z"
   },
   {
    "duration": 17,
    "start_time": "2022-12-12T18:31:18.195Z"
   },
   {
    "duration": 7,
    "start_time": "2022-12-12T18:31:18.213Z"
   },
   {
    "duration": 22,
    "start_time": "2022-12-12T18:31:18.221Z"
   },
   {
    "duration": 16,
    "start_time": "2022-12-12T18:31:18.244Z"
   },
   {
    "duration": 20,
    "start_time": "2022-12-12T18:31:18.261Z"
   },
   {
    "duration": 32,
    "start_time": "2022-12-12T18:31:18.282Z"
   },
   {
    "duration": 4,
    "start_time": "2022-12-12T18:31:18.316Z"
   },
   {
    "duration": 20,
    "start_time": "2022-12-12T18:31:18.321Z"
   },
   {
    "duration": 35,
    "start_time": "2022-12-12T18:31:18.343Z"
   },
   {
    "duration": 13,
    "start_time": "2022-12-12T18:31:18.380Z"
   },
   {
    "duration": 24,
    "start_time": "2022-12-12T18:31:18.394Z"
   },
   {
    "duration": 26,
    "start_time": "2022-12-12T18:31:18.420Z"
   },
   {
    "duration": 26,
    "start_time": "2022-12-12T18:31:18.448Z"
   },
   {
    "duration": 172,
    "start_time": "2022-12-12T18:31:18.476Z"
   },
   {
    "duration": 197,
    "start_time": "2022-12-12T18:31:18.650Z"
   },
   {
    "duration": 87,
    "start_time": "2022-12-12T18:31:18.850Z"
   },
   {
    "duration": 116,
    "start_time": "2022-12-12T18:31:18.943Z"
   },
   {
    "duration": 29,
    "start_time": "2022-12-12T18:31:19.061Z"
   },
   {
    "duration": 25,
    "start_time": "2022-12-12T18:31:19.092Z"
   },
   {
    "duration": 31,
    "start_time": "2022-12-12T18:31:19.119Z"
   },
   {
    "duration": 1443,
    "start_time": "2022-12-12T18:31:19.152Z"
   },
   {
    "duration": 1379,
    "start_time": "2022-12-12T18:31:20.596Z"
   },
   {
    "duration": 1457,
    "start_time": "2022-12-12T18:31:21.977Z"
   },
   {
    "duration": 42,
    "start_time": "2022-12-12T18:36:57.122Z"
   },
   {
    "duration": 4,
    "start_time": "2022-12-12T18:37:01.595Z"
   },
   {
    "duration": 5,
    "start_time": "2022-12-12T18:37:02.338Z"
   },
   {
    "duration": 1381,
    "start_time": "2022-12-12T18:37:03.081Z"
   },
   {
    "duration": 1385,
    "start_time": "2022-12-12T18:37:10.474Z"
   },
   {
    "duration": 5,
    "start_time": "2022-12-12T18:37:18.850Z"
   },
   {
    "duration": 1395,
    "start_time": "2022-12-12T18:37:19.314Z"
   },
   {
    "duration": 1407,
    "start_time": "2022-12-12T18:37:20.711Z"
   },
   {
    "duration": 1445,
    "start_time": "2022-12-12T18:37:22.120Z"
   },
   {
    "duration": 3,
    "start_time": "2022-12-12T18:37:32.291Z"
   },
   {
    "duration": 4,
    "start_time": "2022-12-12T18:37:33.130Z"
   },
   {
    "duration": 5,
    "start_time": "2022-12-12T18:37:33.882Z"
   },
   {
    "duration": 1372,
    "start_time": "2022-12-12T18:37:34.643Z"
   },
   {
    "duration": 1441,
    "start_time": "2022-12-12T18:37:36.017Z"
   },
   {
    "duration": 1075,
    "start_time": "2022-12-12T18:37:43.561Z"
   },
   {
    "duration": 402,
    "start_time": "2022-12-12T18:37:44.637Z"
   },
   {
    "duration": 18,
    "start_time": "2022-12-12T18:37:45.041Z"
   },
   {
    "duration": 21,
    "start_time": "2022-12-12T18:37:45.061Z"
   },
   {
    "duration": 48,
    "start_time": "2022-12-12T18:37:45.084Z"
   },
   {
    "duration": 37,
    "start_time": "2022-12-12T18:37:45.133Z"
   },
   {
    "duration": 14,
    "start_time": "2022-12-12T18:37:45.172Z"
   },
   {
    "duration": 30,
    "start_time": "2022-12-12T18:37:45.188Z"
   },
   {
    "duration": 22,
    "start_time": "2022-12-12T18:37:45.220Z"
   },
   {
    "duration": 11,
    "start_time": "2022-12-12T18:37:45.244Z"
   },
   {
    "duration": 17,
    "start_time": "2022-12-12T18:37:45.257Z"
   },
   {
    "duration": 15,
    "start_time": "2022-12-12T18:37:45.276Z"
   },
   {
    "duration": 11,
    "start_time": "2022-12-12T18:37:45.293Z"
   },
   {
    "duration": 36,
    "start_time": "2022-12-12T18:37:45.305Z"
   },
   {
    "duration": 15,
    "start_time": "2022-12-12T18:37:45.343Z"
   },
   {
    "duration": 12,
    "start_time": "2022-12-12T18:37:45.359Z"
   },
   {
    "duration": 23,
    "start_time": "2022-12-12T18:37:45.373Z"
   },
   {
    "duration": 4,
    "start_time": "2022-12-12T18:37:45.398Z"
   },
   {
    "duration": 11,
    "start_time": "2022-12-12T18:37:45.404Z"
   },
   {
    "duration": 30,
    "start_time": "2022-12-12T18:37:45.416Z"
   },
   {
    "duration": 5,
    "start_time": "2022-12-12T18:37:45.447Z"
   },
   {
    "duration": 11,
    "start_time": "2022-12-12T18:37:45.454Z"
   },
   {
    "duration": 11,
    "start_time": "2022-12-12T18:37:45.467Z"
   },
   {
    "duration": 57,
    "start_time": "2022-12-12T18:37:45.480Z"
   },
   {
    "duration": 108,
    "start_time": "2022-12-12T18:37:45.538Z"
   },
   {
    "duration": 189,
    "start_time": "2022-12-12T18:37:45.648Z"
   },
   {
    "duration": 107,
    "start_time": "2022-12-12T18:37:45.839Z"
   },
   {
    "duration": 17,
    "start_time": "2022-12-12T18:37:45.949Z"
   },
   {
    "duration": 11,
    "start_time": "2022-12-12T18:37:45.967Z"
   },
   {
    "duration": 7,
    "start_time": "2022-12-12T18:37:45.980Z"
   },
   {
    "duration": 31,
    "start_time": "2022-12-12T18:37:45.989Z"
   },
   {
    "duration": 126,
    "start_time": "2022-12-12T18:37:46.022Z"
   },
   {
    "duration": 0,
    "start_time": "2022-12-12T18:37:46.149Z"
   },
   {
    "duration": 0,
    "start_time": "2022-12-12T18:37:46.151Z"
   },
   {
    "duration": 1061,
    "start_time": "2022-12-12T18:39:42.887Z"
   },
   {
    "duration": 405,
    "start_time": "2022-12-12T18:39:43.950Z"
   },
   {
    "duration": 18,
    "start_time": "2022-12-12T18:39:44.357Z"
   },
   {
    "duration": 12,
    "start_time": "2022-12-12T18:39:44.377Z"
   },
   {
    "duration": 19,
    "start_time": "2022-12-12T18:39:44.390Z"
   },
   {
    "duration": 31,
    "start_time": "2022-12-12T18:39:44.411Z"
   },
   {
    "duration": 15,
    "start_time": "2022-12-12T18:39:44.444Z"
   },
   {
    "duration": 16,
    "start_time": "2022-12-12T18:39:44.461Z"
   },
   {
    "duration": 11,
    "start_time": "2022-12-12T18:39:44.479Z"
   },
   {
    "duration": 43,
    "start_time": "2022-12-12T18:39:44.493Z"
   },
   {
    "duration": 9,
    "start_time": "2022-12-12T18:39:44.538Z"
   },
   {
    "duration": 14,
    "start_time": "2022-12-12T18:39:44.549Z"
   },
   {
    "duration": 8,
    "start_time": "2022-12-12T18:39:44.565Z"
   },
   {
    "duration": 25,
    "start_time": "2022-12-12T18:39:44.574Z"
   },
   {
    "duration": 5,
    "start_time": "2022-12-12T18:39:44.601Z"
   },
   {
    "duration": 9,
    "start_time": "2022-12-12T18:39:44.608Z"
   },
   {
    "duration": 31,
    "start_time": "2022-12-12T18:39:44.618Z"
   },
   {
    "duration": 5,
    "start_time": "2022-12-12T18:39:44.650Z"
   },
   {
    "duration": 11,
    "start_time": "2022-12-12T18:39:44.656Z"
   },
   {
    "duration": 28,
    "start_time": "2022-12-12T18:39:44.669Z"
   },
   {
    "duration": 5,
    "start_time": "2022-12-12T18:39:44.698Z"
   },
   {
    "duration": 9,
    "start_time": "2022-12-12T18:39:44.704Z"
   },
   {
    "duration": 21,
    "start_time": "2022-12-12T18:39:44.714Z"
   },
   {
    "duration": 19,
    "start_time": "2022-12-12T18:39:44.737Z"
   },
   {
    "duration": 179,
    "start_time": "2022-12-12T18:39:44.759Z"
   },
   {
    "duration": 98,
    "start_time": "2022-12-12T18:39:44.940Z"
   },
   {
    "duration": 99,
    "start_time": "2022-12-12T18:39:45.040Z"
   },
   {
    "duration": 32,
    "start_time": "2022-12-12T18:39:45.143Z"
   },
   {
    "duration": 13,
    "start_time": "2022-12-12T18:39:45.176Z"
   },
   {
    "duration": 16,
    "start_time": "2022-12-12T18:39:45.191Z"
   },
   {
    "duration": 12,
    "start_time": "2022-12-12T18:39:45.209Z"
   },
   {
    "duration": 1440,
    "start_time": "2022-12-12T18:39:45.223Z"
   },
   {
    "duration": 1417,
    "start_time": "2022-12-12T18:39:46.666Z"
   },
   {
    "duration": 1459,
    "start_time": "2022-12-12T18:39:48.086Z"
   },
   {
    "duration": 1561,
    "start_time": "2022-12-13T11:48:03.697Z"
   },
   {
    "duration": 399,
    "start_time": "2022-12-13T11:48:05.260Z"
   },
   {
    "duration": 17,
    "start_time": "2022-12-13T11:48:05.661Z"
   },
   {
    "duration": 10,
    "start_time": "2022-12-13T11:48:05.680Z"
   },
   {
    "duration": 11,
    "start_time": "2022-12-13T11:48:05.692Z"
   },
   {
    "duration": 20,
    "start_time": "2022-12-13T11:48:05.705Z"
   },
   {
    "duration": 37,
    "start_time": "2022-12-13T11:48:05.726Z"
   },
   {
    "duration": 15,
    "start_time": "2022-12-13T11:48:05.765Z"
   },
   {
    "duration": 10,
    "start_time": "2022-12-13T11:48:05.782Z"
   },
   {
    "duration": 10,
    "start_time": "2022-12-13T11:48:05.795Z"
   },
   {
    "duration": 46,
    "start_time": "2022-12-13T11:48:05.806Z"
   },
   {
    "duration": 14,
    "start_time": "2022-12-13T11:48:05.854Z"
   },
   {
    "duration": 7,
    "start_time": "2022-12-13T11:48:05.870Z"
   },
   {
    "duration": 17,
    "start_time": "2022-12-13T11:48:05.879Z"
   },
   {
    "duration": 5,
    "start_time": "2022-12-13T11:48:05.897Z"
   },
   {
    "duration": 6,
    "start_time": "2022-12-13T11:48:05.903Z"
   },
   {
    "duration": 42,
    "start_time": "2022-12-13T11:48:05.911Z"
   },
   {
    "duration": 4,
    "start_time": "2022-12-13T11:48:05.955Z"
   },
   {
    "duration": 7,
    "start_time": "2022-12-13T11:48:05.960Z"
   },
   {
    "duration": 19,
    "start_time": "2022-12-13T11:48:05.968Z"
   },
   {
    "duration": 4,
    "start_time": "2022-12-13T11:48:05.988Z"
   },
   {
    "duration": 7,
    "start_time": "2022-12-13T11:48:05.993Z"
   },
   {
    "duration": 7,
    "start_time": "2022-12-13T11:48:06.002Z"
   },
   {
    "duration": 45,
    "start_time": "2022-12-13T11:48:06.010Z"
   },
   {
    "duration": 108,
    "start_time": "2022-12-13T11:48:06.057Z"
   },
   {
    "duration": 91,
    "start_time": "2022-12-13T11:48:06.167Z"
   },
   {
    "duration": 191,
    "start_time": "2022-12-13T11:48:06.260Z"
   },
   {
    "duration": 5,
    "start_time": "2022-12-13T11:48:06.454Z"
   },
   {
    "duration": 9,
    "start_time": "2022-12-13T11:48:06.461Z"
   },
   {
    "duration": 14,
    "start_time": "2022-12-13T11:48:06.471Z"
   },
   {
    "duration": 9,
    "start_time": "2022-12-13T11:48:06.487Z"
   },
   {
    "duration": 1379,
    "start_time": "2022-12-13T11:48:06.498Z"
   },
   {
    "duration": 1377,
    "start_time": "2022-12-13T11:48:07.879Z"
   },
   {
    "duration": 1420,
    "start_time": "2022-12-13T11:48:09.257Z"
   }
  ],
  "kernelspec": {
   "display_name": "Python 3 (ipykernel)",
   "language": "python",
   "name": "python3"
  },
  "language_info": {
   "codemirror_mode": {
    "name": "ipython",
    "version": 3
   },
   "file_extension": ".py",
   "mimetype": "text/x-python",
   "name": "python",
   "nbconvert_exporter": "python",
   "pygments_lexer": "ipython3",
   "version": "3.11.5"
  },
  "toc": {
   "base_numbering": 1,
   "nav_menu": {},
   "number_sections": true,
   "sideBar": true,
   "skip_h1_title": true,
   "title_cell": "Table of Contents",
   "title_sidebar": "Contents",
   "toc_cell": false,
   "toc_position": {
    "height": "calc(100% - 180px)",
    "left": "10px",
    "top": "150px",
    "width": "237.865px"
   },
   "toc_section_display": true,
   "toc_window_display": true
  }
 },
 "nbformat": 4,
 "nbformat_minor": 2
}
