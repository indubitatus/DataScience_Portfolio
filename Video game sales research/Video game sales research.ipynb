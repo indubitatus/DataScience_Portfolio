{
 "cells": [
  {
   "cell_type": "markdown",
   "metadata": {},
   "source": [
    "# Исследование продаж видеоигр\n",
    "\n",
    "В распоряжении данные о продажах видеоигр до 2016 года, оценки пользователей и экспертов, жанры и платформы. Нужно выявить определяющие успешность игры закономерность. Это позволит сделать ставку на потенциально популярный продукт и спланировать рекламные кампании.\n",
    "\n",
    "**Ход исследования**\n",
    "\n",
    "Получим данные из файла `games.csv`. Изучим общую информацию. На следующем этапе нужно проверить данные на пропуски, преобразовать данные в нужный тип, добавить дополнительный столбец для исследования. На третьем этапе изучим некоторые вопросы исследования. На четвёртом этапе составим портрет пользователя каждого региона. На последнем этапе проверим гипотызы.  \n",
    "\n",
    "Таким образом, исследование пройдёт в пять этапов:\n",
    "1. Обзор данных.\n",
    "2. Предобработка данных.\n",
    "3. Исследовательский анализ данных.\n",
    "4. Составление портрета пользователя каждого региона.\n",
    "5. Проверка гипотез."
   ]
  },
  {
   "cell_type": "markdown",
   "metadata": {},
   "source": [
    "<h1>Содержание<span class=\"tocSkip\"></span></h1>\n",
    "<div class=\"toc\"><ul class=\"toc-item\"><li><span><a href=\"#Изучение-общей-информации-из-файла\" data-toc-modified-id=\"Изучение-общей-информации-из-файла-1\"><span class=\"toc-item-num\">1&nbsp;&nbsp;</span>Изучение общей информации из файла</a></span></li><li><span><a href=\"#Предобработка-данных\" data-toc-modified-id=\"Предобработка-данных-2\"><span class=\"toc-item-num\">2&nbsp;&nbsp;</span>Предобработка данных</a></span></li><li><span><a href=\"#Исследовательский-анализ-данных\" data-toc-modified-id=\"Исследовательский-анализ-данных-3\"><span class=\"toc-item-num\">3&nbsp;&nbsp;</span>Исследовательский анализ данных</a></span></li><li><span><a href=\"#Портрет-пользователя-каждого-региона\" data-toc-modified-id=\"Портрет-пользователя-каждого-региона-4\"><span class=\"toc-item-num\">4&nbsp;&nbsp;</span>Портрет пользователя каждого региона</a></span></li><li><span><a href=\"#Проверка-гипотез\" data-toc-modified-id=\"Проверка-гипотез-5\"><span class=\"toc-item-num\">5&nbsp;&nbsp;</span>Проверка гипотез</a></span></li><li><span><a href=\"#Общий-вывод\" data-toc-modified-id=\"Общий-вывод-6\"><span class=\"toc-item-num\">6&nbsp;&nbsp;</span>Общий вывод</a></span></li></ul></div>"
   ]
  },
  {
   "cell_type": "markdown",
   "metadata": {},
   "source": [
    "### Изучение общей информации из файла"
   ]
  },
  {
   "cell_type": "markdown",
   "metadata": {},
   "source": [
    "Импортируем библиотеку `pandas`, `matplotlib` и `scipy`. Считаем данные из csv-файла в датафрейм и сохраним в переменную `data`."
   ]
  },
  {
   "cell_type": "code",
   "execution_count": 1,
   "metadata": {},
   "outputs": [],
   "source": [
    "import pandas as pd\n",
    "import matplotlib.pyplot as plt\n",
    "from scipy import stats as st\n",
    "\n",
    "data = pd.read_csv('/datasets/games.csv')"
   ]
  },
  {
   "cell_type": "markdown",
   "metadata": {},
   "source": [
    "Выведим первые 20 строчек датафрейма `data` на экран."
   ]
  },
  {
   "cell_type": "code",
   "execution_count": 2,
   "metadata": {},
   "outputs": [
    {
     "data": {
      "text/html": [
       "<div>\n",
       "<style scoped>\n",
       "    .dataframe tbody tr th:only-of-type {\n",
       "        vertical-align: middle;\n",
       "    }\n",
       "\n",
       "    .dataframe tbody tr th {\n",
       "        vertical-align: top;\n",
       "    }\n",
       "\n",
       "    .dataframe thead th {\n",
       "        text-align: right;\n",
       "    }\n",
       "</style>\n",
       "<table border=\"1\" class=\"dataframe\">\n",
       "  <thead>\n",
       "    <tr style=\"text-align: right;\">\n",
       "      <th></th>\n",
       "      <th>Name</th>\n",
       "      <th>Platform</th>\n",
       "      <th>Year_of_Release</th>\n",
       "      <th>Genre</th>\n",
       "      <th>NA_sales</th>\n",
       "      <th>EU_sales</th>\n",
       "      <th>JP_sales</th>\n",
       "      <th>Other_sales</th>\n",
       "      <th>Critic_Score</th>\n",
       "      <th>User_Score</th>\n",
       "      <th>Rating</th>\n",
       "    </tr>\n",
       "  </thead>\n",
       "  <tbody>\n",
       "    <tr>\n",
       "      <th>0</th>\n",
       "      <td>Wii Sports</td>\n",
       "      <td>Wii</td>\n",
       "      <td>2006.0</td>\n",
       "      <td>Sports</td>\n",
       "      <td>41.36</td>\n",
       "      <td>28.96</td>\n",
       "      <td>3.77</td>\n",
       "      <td>8.45</td>\n",
       "      <td>76.0</td>\n",
       "      <td>8</td>\n",
       "      <td>E</td>\n",
       "    </tr>\n",
       "    <tr>\n",
       "      <th>1</th>\n",
       "      <td>Super Mario Bros.</td>\n",
       "      <td>NES</td>\n",
       "      <td>1985.0</td>\n",
       "      <td>Platform</td>\n",
       "      <td>29.08</td>\n",
       "      <td>3.58</td>\n",
       "      <td>6.81</td>\n",
       "      <td>0.77</td>\n",
       "      <td>NaN</td>\n",
       "      <td>NaN</td>\n",
       "      <td>NaN</td>\n",
       "    </tr>\n",
       "    <tr>\n",
       "      <th>2</th>\n",
       "      <td>Mario Kart Wii</td>\n",
       "      <td>Wii</td>\n",
       "      <td>2008.0</td>\n",
       "      <td>Racing</td>\n",
       "      <td>15.68</td>\n",
       "      <td>12.76</td>\n",
       "      <td>3.79</td>\n",
       "      <td>3.29</td>\n",
       "      <td>82.0</td>\n",
       "      <td>8.3</td>\n",
       "      <td>E</td>\n",
       "    </tr>\n",
       "    <tr>\n",
       "      <th>3</th>\n",
       "      <td>Wii Sports Resort</td>\n",
       "      <td>Wii</td>\n",
       "      <td>2009.0</td>\n",
       "      <td>Sports</td>\n",
       "      <td>15.61</td>\n",
       "      <td>10.93</td>\n",
       "      <td>3.28</td>\n",
       "      <td>2.95</td>\n",
       "      <td>80.0</td>\n",
       "      <td>8</td>\n",
       "      <td>E</td>\n",
       "    </tr>\n",
       "    <tr>\n",
       "      <th>4</th>\n",
       "      <td>Pokemon Red/Pokemon Blue</td>\n",
       "      <td>GB</td>\n",
       "      <td>1996.0</td>\n",
       "      <td>Role-Playing</td>\n",
       "      <td>11.27</td>\n",
       "      <td>8.89</td>\n",
       "      <td>10.22</td>\n",
       "      <td>1.00</td>\n",
       "      <td>NaN</td>\n",
       "      <td>NaN</td>\n",
       "      <td>NaN</td>\n",
       "    </tr>\n",
       "    <tr>\n",
       "      <th>5</th>\n",
       "      <td>Tetris</td>\n",
       "      <td>GB</td>\n",
       "      <td>1989.0</td>\n",
       "      <td>Puzzle</td>\n",
       "      <td>23.20</td>\n",
       "      <td>2.26</td>\n",
       "      <td>4.22</td>\n",
       "      <td>0.58</td>\n",
       "      <td>NaN</td>\n",
       "      <td>NaN</td>\n",
       "      <td>NaN</td>\n",
       "    </tr>\n",
       "    <tr>\n",
       "      <th>6</th>\n",
       "      <td>New Super Mario Bros.</td>\n",
       "      <td>DS</td>\n",
       "      <td>2006.0</td>\n",
       "      <td>Platform</td>\n",
       "      <td>11.28</td>\n",
       "      <td>9.14</td>\n",
       "      <td>6.50</td>\n",
       "      <td>2.88</td>\n",
       "      <td>89.0</td>\n",
       "      <td>8.5</td>\n",
       "      <td>E</td>\n",
       "    </tr>\n",
       "    <tr>\n",
       "      <th>7</th>\n",
       "      <td>Wii Play</td>\n",
       "      <td>Wii</td>\n",
       "      <td>2006.0</td>\n",
       "      <td>Misc</td>\n",
       "      <td>13.96</td>\n",
       "      <td>9.18</td>\n",
       "      <td>2.93</td>\n",
       "      <td>2.84</td>\n",
       "      <td>58.0</td>\n",
       "      <td>6.6</td>\n",
       "      <td>E</td>\n",
       "    </tr>\n",
       "    <tr>\n",
       "      <th>8</th>\n",
       "      <td>New Super Mario Bros. Wii</td>\n",
       "      <td>Wii</td>\n",
       "      <td>2009.0</td>\n",
       "      <td>Platform</td>\n",
       "      <td>14.44</td>\n",
       "      <td>6.94</td>\n",
       "      <td>4.70</td>\n",
       "      <td>2.24</td>\n",
       "      <td>87.0</td>\n",
       "      <td>8.4</td>\n",
       "      <td>E</td>\n",
       "    </tr>\n",
       "    <tr>\n",
       "      <th>9</th>\n",
       "      <td>Duck Hunt</td>\n",
       "      <td>NES</td>\n",
       "      <td>1984.0</td>\n",
       "      <td>Shooter</td>\n",
       "      <td>26.93</td>\n",
       "      <td>0.63</td>\n",
       "      <td>0.28</td>\n",
       "      <td>0.47</td>\n",
       "      <td>NaN</td>\n",
       "      <td>NaN</td>\n",
       "      <td>NaN</td>\n",
       "    </tr>\n",
       "    <tr>\n",
       "      <th>10</th>\n",
       "      <td>Nintendogs</td>\n",
       "      <td>DS</td>\n",
       "      <td>2005.0</td>\n",
       "      <td>Simulation</td>\n",
       "      <td>9.05</td>\n",
       "      <td>10.95</td>\n",
       "      <td>1.93</td>\n",
       "      <td>2.74</td>\n",
       "      <td>NaN</td>\n",
       "      <td>NaN</td>\n",
       "      <td>NaN</td>\n",
       "    </tr>\n",
       "    <tr>\n",
       "      <th>11</th>\n",
       "      <td>Mario Kart DS</td>\n",
       "      <td>DS</td>\n",
       "      <td>2005.0</td>\n",
       "      <td>Racing</td>\n",
       "      <td>9.71</td>\n",
       "      <td>7.47</td>\n",
       "      <td>4.13</td>\n",
       "      <td>1.90</td>\n",
       "      <td>91.0</td>\n",
       "      <td>8.6</td>\n",
       "      <td>E</td>\n",
       "    </tr>\n",
       "    <tr>\n",
       "      <th>12</th>\n",
       "      <td>Pokemon Gold/Pokemon Silver</td>\n",
       "      <td>GB</td>\n",
       "      <td>1999.0</td>\n",
       "      <td>Role-Playing</td>\n",
       "      <td>9.00</td>\n",
       "      <td>6.18</td>\n",
       "      <td>7.20</td>\n",
       "      <td>0.71</td>\n",
       "      <td>NaN</td>\n",
       "      <td>NaN</td>\n",
       "      <td>NaN</td>\n",
       "    </tr>\n",
       "    <tr>\n",
       "      <th>13</th>\n",
       "      <td>Wii Fit</td>\n",
       "      <td>Wii</td>\n",
       "      <td>2007.0</td>\n",
       "      <td>Sports</td>\n",
       "      <td>8.92</td>\n",
       "      <td>8.03</td>\n",
       "      <td>3.60</td>\n",
       "      <td>2.15</td>\n",
       "      <td>80.0</td>\n",
       "      <td>7.7</td>\n",
       "      <td>E</td>\n",
       "    </tr>\n",
       "    <tr>\n",
       "      <th>14</th>\n",
       "      <td>Kinect Adventures!</td>\n",
       "      <td>X360</td>\n",
       "      <td>2010.0</td>\n",
       "      <td>Misc</td>\n",
       "      <td>15.00</td>\n",
       "      <td>4.89</td>\n",
       "      <td>0.24</td>\n",
       "      <td>1.69</td>\n",
       "      <td>61.0</td>\n",
       "      <td>6.3</td>\n",
       "      <td>E</td>\n",
       "    </tr>\n",
       "    <tr>\n",
       "      <th>15</th>\n",
       "      <td>Wii Fit Plus</td>\n",
       "      <td>Wii</td>\n",
       "      <td>2009.0</td>\n",
       "      <td>Sports</td>\n",
       "      <td>9.01</td>\n",
       "      <td>8.49</td>\n",
       "      <td>2.53</td>\n",
       "      <td>1.77</td>\n",
       "      <td>80.0</td>\n",
       "      <td>7.4</td>\n",
       "      <td>E</td>\n",
       "    </tr>\n",
       "    <tr>\n",
       "      <th>16</th>\n",
       "      <td>Grand Theft Auto V</td>\n",
       "      <td>PS3</td>\n",
       "      <td>2013.0</td>\n",
       "      <td>Action</td>\n",
       "      <td>7.02</td>\n",
       "      <td>9.09</td>\n",
       "      <td>0.98</td>\n",
       "      <td>3.96</td>\n",
       "      <td>97.0</td>\n",
       "      <td>8.2</td>\n",
       "      <td>M</td>\n",
       "    </tr>\n",
       "    <tr>\n",
       "      <th>17</th>\n",
       "      <td>Grand Theft Auto: San Andreas</td>\n",
       "      <td>PS2</td>\n",
       "      <td>2004.0</td>\n",
       "      <td>Action</td>\n",
       "      <td>9.43</td>\n",
       "      <td>0.40</td>\n",
       "      <td>0.41</td>\n",
       "      <td>10.57</td>\n",
       "      <td>95.0</td>\n",
       "      <td>9</td>\n",
       "      <td>M</td>\n",
       "    </tr>\n",
       "    <tr>\n",
       "      <th>18</th>\n",
       "      <td>Super Mario World</td>\n",
       "      <td>SNES</td>\n",
       "      <td>1990.0</td>\n",
       "      <td>Platform</td>\n",
       "      <td>12.78</td>\n",
       "      <td>3.75</td>\n",
       "      <td>3.54</td>\n",
       "      <td>0.55</td>\n",
       "      <td>NaN</td>\n",
       "      <td>NaN</td>\n",
       "      <td>NaN</td>\n",
       "    </tr>\n",
       "    <tr>\n",
       "      <th>19</th>\n",
       "      <td>Brain Age: Train Your Brain in Minutes a Day</td>\n",
       "      <td>DS</td>\n",
       "      <td>2005.0</td>\n",
       "      <td>Misc</td>\n",
       "      <td>4.74</td>\n",
       "      <td>9.20</td>\n",
       "      <td>4.16</td>\n",
       "      <td>2.04</td>\n",
       "      <td>77.0</td>\n",
       "      <td>7.9</td>\n",
       "      <td>E</td>\n",
       "    </tr>\n",
       "  </tbody>\n",
       "</table>\n",
       "</div>"
      ],
      "text/plain": [
       "                                            Name Platform  Year_of_Release  \\\n",
       "0                                     Wii Sports      Wii           2006.0   \n",
       "1                              Super Mario Bros.      NES           1985.0   \n",
       "2                                 Mario Kart Wii      Wii           2008.0   \n",
       "3                              Wii Sports Resort      Wii           2009.0   \n",
       "4                       Pokemon Red/Pokemon Blue       GB           1996.0   \n",
       "5                                         Tetris       GB           1989.0   \n",
       "6                          New Super Mario Bros.       DS           2006.0   \n",
       "7                                       Wii Play      Wii           2006.0   \n",
       "8                      New Super Mario Bros. Wii      Wii           2009.0   \n",
       "9                                      Duck Hunt      NES           1984.0   \n",
       "10                                    Nintendogs       DS           2005.0   \n",
       "11                                 Mario Kart DS       DS           2005.0   \n",
       "12                   Pokemon Gold/Pokemon Silver       GB           1999.0   \n",
       "13                                       Wii Fit      Wii           2007.0   \n",
       "14                            Kinect Adventures!     X360           2010.0   \n",
       "15                                  Wii Fit Plus      Wii           2009.0   \n",
       "16                            Grand Theft Auto V      PS3           2013.0   \n",
       "17                 Grand Theft Auto: San Andreas      PS2           2004.0   \n",
       "18                             Super Mario World     SNES           1990.0   \n",
       "19  Brain Age: Train Your Brain in Minutes a Day       DS           2005.0   \n",
       "\n",
       "           Genre  NA_sales  EU_sales  JP_sales  Other_sales  Critic_Score  \\\n",
       "0         Sports     41.36     28.96      3.77         8.45          76.0   \n",
       "1       Platform     29.08      3.58      6.81         0.77           NaN   \n",
       "2         Racing     15.68     12.76      3.79         3.29          82.0   \n",
       "3         Sports     15.61     10.93      3.28         2.95          80.0   \n",
       "4   Role-Playing     11.27      8.89     10.22         1.00           NaN   \n",
       "5         Puzzle     23.20      2.26      4.22         0.58           NaN   \n",
       "6       Platform     11.28      9.14      6.50         2.88          89.0   \n",
       "7           Misc     13.96      9.18      2.93         2.84          58.0   \n",
       "8       Platform     14.44      6.94      4.70         2.24          87.0   \n",
       "9        Shooter     26.93      0.63      0.28         0.47           NaN   \n",
       "10    Simulation      9.05     10.95      1.93         2.74           NaN   \n",
       "11        Racing      9.71      7.47      4.13         1.90          91.0   \n",
       "12  Role-Playing      9.00      6.18      7.20         0.71           NaN   \n",
       "13        Sports      8.92      8.03      3.60         2.15          80.0   \n",
       "14          Misc     15.00      4.89      0.24         1.69          61.0   \n",
       "15        Sports      9.01      8.49      2.53         1.77          80.0   \n",
       "16        Action      7.02      9.09      0.98         3.96          97.0   \n",
       "17        Action      9.43      0.40      0.41        10.57          95.0   \n",
       "18      Platform     12.78      3.75      3.54         0.55           NaN   \n",
       "19          Misc      4.74      9.20      4.16         2.04          77.0   \n",
       "\n",
       "   User_Score Rating  \n",
       "0           8      E  \n",
       "1         NaN    NaN  \n",
       "2         8.3      E  \n",
       "3           8      E  \n",
       "4         NaN    NaN  \n",
       "5         NaN    NaN  \n",
       "6         8.5      E  \n",
       "7         6.6      E  \n",
       "8         8.4      E  \n",
       "9         NaN    NaN  \n",
       "10        NaN    NaN  \n",
       "11        8.6      E  \n",
       "12        NaN    NaN  \n",
       "13        7.7      E  \n",
       "14        6.3      E  \n",
       "15        7.4      E  \n",
       "16        8.2      M  \n",
       "17          9      M  \n",
       "18        NaN    NaN  \n",
       "19        7.9      E  "
      ]
     },
     "execution_count": 2,
     "metadata": {},
     "output_type": "execute_result"
    }
   ],
   "source": [
    "data.head(20)"
   ]
  },
  {
   "cell_type": "markdown",
   "metadata": {},
   "source": [
    "Выведим основную информацию о датафрейме с помощью метода `info()`."
   ]
  },
  {
   "cell_type": "code",
   "execution_count": 3,
   "metadata": {},
   "outputs": [
    {
     "name": "stdout",
     "output_type": "stream",
     "text": [
      "<class 'pandas.core.frame.DataFrame'>\n",
      "RangeIndex: 16715 entries, 0 to 16714\n",
      "Data columns (total 11 columns):\n",
      " #   Column           Non-Null Count  Dtype  \n",
      "---  ------           --------------  -----  \n",
      " 0   Name             16713 non-null  object \n",
      " 1   Platform         16715 non-null  object \n",
      " 2   Year_of_Release  16446 non-null  float64\n",
      " 3   Genre            16713 non-null  object \n",
      " 4   NA_sales         16715 non-null  float64\n",
      " 5   EU_sales         16715 non-null  float64\n",
      " 6   JP_sales         16715 non-null  float64\n",
      " 7   Other_sales      16715 non-null  float64\n",
      " 8   Critic_Score     8137 non-null   float64\n",
      " 9   User_Score       10014 non-null  object \n",
      " 10  Rating           9949 non-null   object \n",
      "dtypes: float64(6), object(5)\n",
      "memory usage: 1.4+ MB\n"
     ]
    }
   ],
   "source": [
    "data.info()"
   ]
  },
  {
   "cell_type": "markdown",
   "metadata": {},
   "source": [
    "### Предобработка данных"
   ]
  },
  {
   "cell_type": "markdown",
   "metadata": {},
   "source": [
    "Приведём названия столбцов к нижнему регистру."
   ]
  },
  {
   "cell_type": "code",
   "execution_count": 4,
   "metadata": {},
   "outputs": [],
   "source": [
    "data.columns = data.columns.str.lower()"
   ]
  },
  {
   "cell_type": "markdown",
   "metadata": {},
   "source": [
    "Заменим значения `tbd` (to be determined) в столбце `user_score` на `NaN`. Для таких игр не хватает оценок пользователей, чтобы сформировать рейтинг."
   ]
  },
  {
   "cell_type": "code",
   "execution_count": 5,
   "metadata": {},
   "outputs": [],
   "source": [
    "data['user_score'] = data['user_score'].replace('tbd', None)"
   ]
  },
  {
   "cell_type": "markdown",
   "metadata": {},
   "source": [
    "Преобразуем данные в нужные типы. Столбец `user_score` лучше перевести в тип `float`. Столбец `year_of_release` в `Int64`"
   ]
  },
  {
   "cell_type": "code",
   "execution_count": 6,
   "metadata": {},
   "outputs": [],
   "source": [
    "data['user_score'] = data['user_score'].astype('float')\n",
    "data['year_of_release'] = data['year_of_release'].astype('Int64')"
   ]
  },
  {
   "cell_type": "markdown",
   "metadata": {},
   "source": [
    "Выведим количество пропущенных значений для каждого столбца."
   ]
  },
  {
   "cell_type": "code",
   "execution_count": 7,
   "metadata": {
    "scrolled": true
   },
   "outputs": [
    {
     "data": {
      "text/plain": [
       "name                  2\n",
       "platform              0\n",
       "year_of_release     269\n",
       "genre                 2\n",
       "na_sales              0\n",
       "eu_sales              0\n",
       "jp_sales              0\n",
       "other_sales           0\n",
       "critic_score       8578\n",
       "user_score         7955\n",
       "rating             6766\n",
       "dtype: int64"
      ]
     },
     "execution_count": 7,
     "metadata": {},
     "output_type": "execute_result"
    }
   ],
   "source": [
    "data.isna().sum()"
   ]
  },
  {
   "cell_type": "markdown",
   "metadata": {},
   "source": [
    "Мы не можем устранить пропуски в столбцах, так как оценки могут сильно отличаться на разных платформах. В других столбцах пропусков немного."
   ]
  },
  {
   "cell_type": "markdown",
   "metadata": {},
   "source": [
    "Запомним пропуски в столбце `rating` значением `unknown` "
   ]
  },
  {
   "cell_type": "code",
   "execution_count": 8,
   "metadata": {},
   "outputs": [],
   "source": [
    "data['rating'] = data['rating'].fillna('unknown')"
   ]
  },
  {
   "cell_type": "markdown",
   "metadata": {},
   "source": [
    "Посчитаем количество дубликатов."
   ]
  },
  {
   "cell_type": "code",
   "execution_count": 9,
   "metadata": {},
   "outputs": [
    {
     "data": {
      "text/plain": [
       "0"
      ]
     },
     "execution_count": 9,
     "metadata": {},
     "output_type": "execute_result"
    }
   ],
   "source": [
    "data.duplicated().sum()"
   ]
  },
  {
   "cell_type": "markdown",
   "metadata": {},
   "source": [
    "Посчитаем суммарные продажи во всех регионах и запишем в столбец `total_sales`."
   ]
  },
  {
   "cell_type": "code",
   "execution_count": 10,
   "metadata": {},
   "outputs": [],
   "source": [
    "data['total_sales'] = data['na_sales'] + data['eu_sales'] + data['jp_sales'] + data['other_sales']"
   ]
  },
  {
   "cell_type": "markdown",
   "metadata": {},
   "source": [
    "**Вывод:** Мы преобразовали данные в нужные типы. Проверили данные на пропуски и дубликаты. Добавили новый столбец суммарных продаж. Было обнаружено много пропусков в столбцах c оценками и возрастным рейтингом. В целом это может быть связано, как обычно со сбоем системы или в отсутствие каких-то данных. В столбцах с оценками это связано скорее всего, с малым количеством оценок, чтобы сформировать общий рейтинг или с отсутствием конкретной игры на агрегаторе оценок. В столбце с возрастным ограничением пропуски связаны с тем, что у игры может не быть рейтинга ESRB."
   ]
  },
  {
   "cell_type": "markdown",
   "metadata": {},
   "source": [
    "### Исследовательский анализ данных"
   ]
  },
  {
   "cell_type": "markdown",
   "metadata": {},
   "source": [
    "Посмотрим, сколько игр выпускалось в разные годы."
   ]
  },
  {
   "cell_type": "code",
   "execution_count": 11,
   "metadata": {
    "scrolled": false
   },
   "outputs": [
    {
     "data": {
      "text/plain": [
       "<AxesSubplot:xlabel='year_of_release'>"
      ]
     },
     "execution_count": 11,
     "metadata": {},
     "output_type": "execute_result"
    },
    {
     "data": {
      "image/png": "[encoded data removed]",
      "text/plain": [
       "<Figure size 1440x720 with 1 Axes>"
      ]
     },
     "metadata": {
      "needs_background": "light"
     },
     "output_type": "display_data"
    }
   ],
   "source": [
    "(\n",
    "    data.pivot_table(index='year_of_release', values='name', aggfunc='count')\n",
    "    .plot(grid=True, figsize=(20, 10)) \n",
    ")"
   ]
  },
  {
   "cell_type": "markdown",
   "metadata": {},
   "source": [
    "Как мы видим из графика, количество игр стремительно росло с 1990 по 2008 год. "
   ]
  },
  {
   "cell_type": "markdown",
   "metadata": {},
   "source": [
    "Найдём платформы с наибольшими суммарными продажами."
   ]
  },
  {
   "cell_type": "code",
   "execution_count": 12,
   "metadata": {},
   "outputs": [
    {
     "data": {
      "text/html": [
       "<div>\n",
       "<style scoped>\n",
       "    .dataframe tbody tr th:only-of-type {\n",
       "        vertical-align: middle;\n",
       "    }\n",
       "\n",
       "    .dataframe tbody tr th {\n",
       "        vertical-align: top;\n",
       "    }\n",
       "\n",
       "    .dataframe thead th {\n",
       "        text-align: right;\n",
       "    }\n",
       "</style>\n",
       "<table border=\"1\" class=\"dataframe\">\n",
       "  <thead>\n",
       "    <tr style=\"text-align: right;\">\n",
       "      <th></th>\n",
       "      <th>total_sales</th>\n",
       "    </tr>\n",
       "    <tr>\n",
       "      <th>platform</th>\n",
       "      <th></th>\n",
       "    </tr>\n",
       "  </thead>\n",
       "  <tbody>\n",
       "    <tr>\n",
       "      <th>PS2</th>\n",
       "      <td>1255.77</td>\n",
       "    </tr>\n",
       "    <tr>\n",
       "      <th>X360</th>\n",
       "      <td>971.42</td>\n",
       "    </tr>\n",
       "    <tr>\n",
       "      <th>PS3</th>\n",
       "      <td>939.65</td>\n",
       "    </tr>\n",
       "    <tr>\n",
       "      <th>Wii</th>\n",
       "      <td>907.51</td>\n",
       "    </tr>\n",
       "    <tr>\n",
       "      <th>DS</th>\n",
       "      <td>806.12</td>\n",
       "    </tr>\n",
       "    <tr>\n",
       "      <th>PS</th>\n",
       "      <td>730.86</td>\n",
       "    </tr>\n",
       "    <tr>\n",
       "      <th>GBA</th>\n",
       "      <td>317.85</td>\n",
       "    </tr>\n",
       "    <tr>\n",
       "      <th>PS4</th>\n",
       "      <td>314.14</td>\n",
       "    </tr>\n",
       "    <tr>\n",
       "      <th>PSP</th>\n",
       "      <td>294.05</td>\n",
       "    </tr>\n",
       "    <tr>\n",
       "      <th>PC</th>\n",
       "      <td>259.52</td>\n",
       "    </tr>\n",
       "  </tbody>\n",
       "</table>\n",
       "</div>"
      ],
      "text/plain": [
       "          total_sales\n",
       "platform             \n",
       "PS2           1255.77\n",
       "X360           971.42\n",
       "PS3            939.65\n",
       "Wii            907.51\n",
       "DS             806.12\n",
       "PS             730.86\n",
       "GBA            317.85\n",
       "PS4            314.14\n",
       "PSP            294.05\n",
       "PC             259.52"
      ]
     },
     "execution_count": 12,
     "metadata": {},
     "output_type": "execute_result"
    }
   ],
   "source": [
    "pivot_table_sales = data.pivot_table(index='platform', values='total_sales', aggfunc='sum')\n",
    "pivot_table_sales = pivot_table_sales.sort_values('total_sales', ascending=False).head(10)\n",
    "pivot_table_sales"
   ]
  },
  {
   "cell_type": "markdown",
   "metadata": {},
   "source": [
    "По суммарным продажам выделяются платформы PS2, Xbox 360, PS3, Wii, DS и PS. По этим платформам построим распределение по годам."
   ]
  },
  {
   "cell_type": "code",
   "execution_count": 13,
   "metadata": {
    "scrolled": false
   },
   "outputs": [
    {
     "data": {
      "text/plain": [
       "<AxesSubplot:xlabel='year_of_release'>"
      ]
     },
     "execution_count": 13,
     "metadata": {},
     "output_type": "execute_result"
    },
    {
     "data": {
      "image/png": "[encoded data removed]",
      "text/plain": [
       "<Figure size 1440x720 with 1 Axes>"
      ]
     },
     "metadata": {
      "needs_background": "light"
     },
     "output_type": "display_data"
    }
   ],
   "source": [
    "(\n",
    "    data.query('platform == \"PS2\" | platform == \"X360\" | platform == \"PS3\" | platform == \"Wii\" | platform == \"DS\" | platform == \"PS\"')\n",
    "    .pivot_table(index=['year_of_release'], columns='platform', values='total_sales', aggfunc='sum')\n",
    "    .plot(grid=True, figsize=(20, 10))\n",
    ")"
   ]
  },
  {
   "cell_type": "markdown",
   "metadata": {},
   "source": [
    "По графику видно, что новые платформы выпускаются примерно каждые 5-7 лет. Изучим подробнее спад продаж, который произошёл примерно с 2010 год."
   ]
  },
  {
   "cell_type": "code",
   "execution_count": 14,
   "metadata": {
    "scrolled": false
   },
   "outputs": [
    {
     "data": {
      "text/plain": [
       "<AxesSubplot:xlabel='year_of_release'>"
      ]
     },
     "execution_count": 14,
     "metadata": {},
     "output_type": "execute_result"
    },
    {
     "data": {
      "image/png": "[encoded data removed]",
      "text/plain": [
       "<Figure size 1440x720 with 1 Axes>"
      ]
     },
     "metadata": {
      "needs_background": "light"
     },
     "output_type": "display_data"
    }
   ],
   "source": [
    "(\n",
    "    data.query('year_of_release >= 2010')\n",
    "    .pivot_table(index='year_of_release', columns='platform', values='total_sales', aggfunc='sum')\n",
    "    .plot(grid=True, figsize=(20, 10))\n",
    ")"
   ]
  },
  {
   "cell_type": "markdown",
   "metadata": {},
   "source": [
    "По графику видно, что спад продаж, скорее всего, связан с окончанием цикла жизни платформ. В 2013 году выходят PS4 и Xbox One, которые с 2014 года лидируют по продажам, их можно считать потенциально прибыльными. Продажи на PS3 и Xbox 360 падают. Актульным периодом будем считать игры, которые вышли не ранее 2013 года. Выделим их в датафрейм `actual_games`, в дальнешем будем использовать только его."
   ]
  },
  {
   "cell_type": "code",
   "execution_count": 15,
   "metadata": {},
   "outputs": [],
   "source": [
    "actual_games = data[data['year_of_release'] >= 2013]"
   ]
  },
  {
   "cell_type": "markdown",
   "metadata": {},
   "source": [
    "Построим график \"ящик с усамми\" по глобальным продажам на актуальных платформах."
   ]
  },
  {
   "cell_type": "code",
   "execution_count": 16,
   "metadata": {},
   "outputs": [
    {
     "data": {
      "image/png": "[encoded data removed]",
      "text/plain": [
       "<Figure size 1080x1080 with 1 Axes>"
      ]
     },
     "metadata": {
      "needs_background": "light"
     },
     "output_type": "display_data"
    }
   ],
   "source": [
    "actual_games.boxplot('total_sales', by='platform', figsize=(15, 15))\n",
    "plt.ylim(0, 5)\n",
    "plt.show()"
   ]
  },
  {
   "cell_type": "markdown",
   "metadata": {},
   "source": [
    "Посмотрим, как влияют на продажи отзывы пользователей и критиков на платформе PS4. Построим диаграмму рассеяния и посчитаем корреляцию между отзывами и продажами. "
   ]
  },
  {
   "cell_type": "code",
   "execution_count": 17,
   "metadata": {},
   "outputs": [],
   "source": [
    "ps4 = actual_games.query('platform == \"PS4\"')"
   ]
  },
  {
   "cell_type": "code",
   "execution_count": 18,
   "metadata": {},
   "outputs": [
    {
     "name": "stdout",
     "output_type": "stream",
     "text": [
      "Корреляция: 0.406567902061781\n"
     ]
    },
    {
     "data": {
      "image/png": "[encoded data removed]",
      "text/plain": [
       "<Figure size 432x288 with 1 Axes>"
      ]
     },
     "metadata": {
      "needs_background": "light"
     },
     "output_type": "display_data"
    }
   ],
   "source": [
    "ps4.plot(x='total_sales', y='critic_score', kind='scatter')\n",
    "print('Корреляция:', ps4['total_sales'].corr(ps4['critic_score']))"
   ]
  },
  {
   "cell_type": "code",
   "execution_count": 19,
   "metadata": {
    "scrolled": true
   },
   "outputs": [
    {
     "name": "stdout",
     "output_type": "stream",
     "text": [
      "Корреляция: -0.027427851974847157\n"
     ]
    },
    {
     "data": {
      "image/png": "[encoded data removed]",
      "text/plain": [
       "<Figure size 432x288 with 1 Axes>"
      ]
     },
     "metadata": {
      "needs_background": "light"
     },
     "output_type": "display_data"
    }
   ],
   "source": [
    "ps4.plot(x='total_sales', y='user_score', kind='scatter')\n",
    "print('Корреляция:', ps4['total_sales'].corr(ps4['user_score']))"
   ]
  },
  {
   "cell_type": "markdown",
   "metadata": {},
   "source": [
    "Небольшое влияние оценок критиков на продажи. Оценки пользователей на продажи не влияют."
   ]
  },
  {
   "cell_type": "markdown",
   "metadata": {},
   "source": [
    "Посмотрим на общее распределение игр по жанрам."
   ]
  },
  {
   "cell_type": "code",
   "execution_count": 20,
   "metadata": {},
   "outputs": [
    {
     "data": {
      "text/html": [
       "<div>\n",
       "<style scoped>\n",
       "    .dataframe tbody tr th:only-of-type {\n",
       "        vertical-align: middle;\n",
       "    }\n",
       "\n",
       "    .dataframe tbody tr th {\n",
       "        vertical-align: top;\n",
       "    }\n",
       "\n",
       "    .dataframe thead th {\n",
       "        text-align: right;\n",
       "    }\n",
       "</style>\n",
       "<table border=\"1\" class=\"dataframe\">\n",
       "  <thead>\n",
       "    <tr style=\"text-align: right;\">\n",
       "      <th></th>\n",
       "      <th>total_sales</th>\n",
       "    </tr>\n",
       "    <tr>\n",
       "      <th>genre</th>\n",
       "      <th></th>\n",
       "    </tr>\n",
       "  </thead>\n",
       "  <tbody>\n",
       "    <tr>\n",
       "      <th>Shooter</th>\n",
       "      <td>0.450</td>\n",
       "    </tr>\n",
       "    <tr>\n",
       "      <th>Sports</th>\n",
       "      <td>0.240</td>\n",
       "    </tr>\n",
       "    <tr>\n",
       "      <th>Platform</th>\n",
       "      <td>0.225</td>\n",
       "    </tr>\n",
       "    <tr>\n",
       "      <th>Role-Playing</th>\n",
       "      <td>0.125</td>\n",
       "    </tr>\n",
       "    <tr>\n",
       "      <th>Fighting</th>\n",
       "      <td>0.125</td>\n",
       "    </tr>\n",
       "    <tr>\n",
       "      <th>Racing</th>\n",
       "      <td>0.120</td>\n",
       "    </tr>\n",
       "    <tr>\n",
       "      <th>Action</th>\n",
       "      <td>0.110</td>\n",
       "    </tr>\n",
       "    <tr>\n",
       "      <th>Simulation</th>\n",
       "      <td>0.100</td>\n",
       "    </tr>\n",
       "    <tr>\n",
       "      <th>Misc</th>\n",
       "      <td>0.100</td>\n",
       "    </tr>\n",
       "    <tr>\n",
       "      <th>Strategy</th>\n",
       "      <td>0.080</td>\n",
       "    </tr>\n",
       "    <tr>\n",
       "      <th>Puzzle</th>\n",
       "      <td>0.060</td>\n",
       "    </tr>\n",
       "    <tr>\n",
       "      <th>Adventure</th>\n",
       "      <td>0.030</td>\n",
       "    </tr>\n",
       "  </tbody>\n",
       "</table>\n",
       "</div>"
      ],
      "text/plain": [
       "              total_sales\n",
       "genre                    \n",
       "Shooter             0.450\n",
       "Sports              0.240\n",
       "Platform            0.225\n",
       "Role-Playing        0.125\n",
       "Fighting            0.125\n",
       "Racing              0.120\n",
       "Action              0.110\n",
       "Simulation          0.100\n",
       "Misc                0.100\n",
       "Strategy            0.080\n",
       "Puzzle              0.060\n",
       "Adventure           0.030"
      ]
     },
     "execution_count": 20,
     "metadata": {},
     "output_type": "execute_result"
    }
   ],
   "source": [
    "top_genre_sales = actual_games.pivot_table(index='genre', values='total_sales', aggfunc='median')\n",
    "top_genre_sales = top_genre_sales.sort_values('total_sales', ascending=False)\n",
    "top_genre_sales"
   ]
  },
  {
   "cell_type": "markdown",
   "metadata": {},
   "source": [
    "Построим столбчатую диаграмму."
   ]
  },
  {
   "cell_type": "code",
   "execution_count": 21,
   "metadata": {},
   "outputs": [
    {
     "data": {
      "text/plain": [
       "<AxesSubplot:xlabel='genre'>"
      ]
     },
     "execution_count": 21,
     "metadata": {},
     "output_type": "execute_result"
    },
    {
     "data": {
      "image/png": "[encoded data removed]",
      "text/plain": [
       "<Figure size 720x360 with 1 Axes>"
      ]
     },
     "metadata": {
      "needs_background": "light"
     },
     "output_type": "display_data"
    }
   ],
   "source": [
    "(\n",
    "    actual_games.pivot_table(index='genre', values='total_sales', aggfunc='median')\n",
    "    .sort_values('total_sales', ascending=True)\n",
    "    .plot(kind='bar', grid=True, figsize=(10, 5))\n",
    ")"
   ]
  },
  {
   "cell_type": "markdown",
   "metadata": {},
   "source": [
    "Шутер - самый прибыльный жанр. Самые низкие медианные продажи у приключенческих игр.   "
   ]
  },
  {
   "cell_type": "markdown",
   "metadata": {},
   "source": [
    "**Вывод:** \n",
    "* Мы определили платформы с наибольшими суммарными продажами за всё время - PS2, Xbox 360, PS3, Wii, DS и PS. \n",
    "* Также определили средний цикл жизни платформ - 5-7 лет, на основе которого определили актуальный период - с 2013 года. \n",
    "\n",
    "* Исследовали влияние оценок критиков и пользователей на продажи на платформе PS4: первые влияют, но не сильно, вторые вообще не влияют. \n",
    "\n",
    "* Нашли самый прибыльный жанр (шутер) и самый убыточный (приключенческие игры)."
   ]
  },
  {
   "cell_type": "markdown",
   "metadata": {},
   "source": [
    "### Портрет пользователя каждого региона"
   ]
  },
  {
   "cell_type": "markdown",
   "metadata": {},
   "source": [
    "Для каждого региона найдём самые популярные платформы, самые популярные жанры и узнаем влияет ли возрастной рейтинг на продажи. Посчитем также их доли от общих продаж."
   ]
  },
  {
   "cell_type": "markdown",
   "metadata": {},
   "source": [
    "#### Северная Америка"
   ]
  },
  {
   "cell_type": "markdown",
   "metadata": {},
   "source": [
    "Самые популярные платформы (топ-5)"
   ]
  },
  {
   "cell_type": "code",
   "execution_count": 22,
   "metadata": {},
   "outputs": [
    {
     "data": {
      "text/html": [
       "<div>\n",
       "<style scoped>\n",
       "    .dataframe tbody tr th:only-of-type {\n",
       "        vertical-align: middle;\n",
       "    }\n",
       "\n",
       "    .dataframe tbody tr th {\n",
       "        vertical-align: top;\n",
       "    }\n",
       "\n",
       "    .dataframe thead th {\n",
       "        text-align: right;\n",
       "    }\n",
       "</style>\n",
       "<table border=\"1\" class=\"dataframe\">\n",
       "  <thead>\n",
       "    <tr style=\"text-align: right;\">\n",
       "      <th></th>\n",
       "      <th>na_sales</th>\n",
       "      <th>ratio</th>\n",
       "    </tr>\n",
       "    <tr>\n",
       "      <th>platform</th>\n",
       "      <th></th>\n",
       "      <th></th>\n",
       "    </tr>\n",
       "  </thead>\n",
       "  <tbody>\n",
       "    <tr>\n",
       "      <th>PS4</th>\n",
       "      <td>108.74</td>\n",
       "      <td>0.248429</td>\n",
       "    </tr>\n",
       "    <tr>\n",
       "      <th>XOne</th>\n",
       "      <td>93.12</td>\n",
       "      <td>0.212744</td>\n",
       "    </tr>\n",
       "    <tr>\n",
       "      <th>X360</th>\n",
       "      <td>81.66</td>\n",
       "      <td>0.186562</td>\n",
       "    </tr>\n",
       "    <tr>\n",
       "      <th>PS3</th>\n",
       "      <td>63.50</td>\n",
       "      <td>0.145073</td>\n",
       "    </tr>\n",
       "    <tr>\n",
       "      <th>3DS</th>\n",
       "      <td>38.20</td>\n",
       "      <td>0.087272</td>\n",
       "    </tr>\n",
       "  </tbody>\n",
       "</table>\n",
       "</div>"
      ],
      "text/plain": [
       "          na_sales     ratio\n",
       "platform                    \n",
       "PS4         108.74  0.248429\n",
       "XOne         93.12  0.212744\n",
       "X360         81.66  0.186562\n",
       "PS3          63.50  0.145073\n",
       "3DS          38.20  0.087272"
      ]
     },
     "execution_count": 22,
     "metadata": {},
     "output_type": "execute_result"
    }
   ],
   "source": [
    "top5_platform_na = actual_games.pivot_table(index='platform', values='na_sales', aggfunc='sum')\n",
    "top5_platform_na = top5_platform_na.sort_values('na_sales', ascending=False)\n",
    "top5_platform_na['ratio'] = top5_platform_na['na_sales'] / top5_platform_na['na_sales'].sum() \n",
    "top5_platform_na.head()"
   ]
  },
  {
   "cell_type": "markdown",
   "metadata": {},
   "source": [
    "Самые популярные жанры (топ-5)"
   ]
  },
  {
   "cell_type": "code",
   "execution_count": 23,
   "metadata": {},
   "outputs": [
    {
     "data": {
      "text/html": [
       "<div>\n",
       "<style scoped>\n",
       "    .dataframe tbody tr th:only-of-type {\n",
       "        vertical-align: middle;\n",
       "    }\n",
       "\n",
       "    .dataframe tbody tr th {\n",
       "        vertical-align: top;\n",
       "    }\n",
       "\n",
       "    .dataframe thead th {\n",
       "        text-align: right;\n",
       "    }\n",
       "</style>\n",
       "<table border=\"1\" class=\"dataframe\">\n",
       "  <thead>\n",
       "    <tr style=\"text-align: right;\">\n",
       "      <th></th>\n",
       "      <th>na_sales</th>\n",
       "      <th>ratio</th>\n",
       "    </tr>\n",
       "    <tr>\n",
       "      <th>genre</th>\n",
       "      <th></th>\n",
       "      <th></th>\n",
       "    </tr>\n",
       "  </thead>\n",
       "  <tbody>\n",
       "    <tr>\n",
       "      <th>Action</th>\n",
       "      <td>126.05</td>\n",
       "      <td>0.287976</td>\n",
       "    </tr>\n",
       "    <tr>\n",
       "      <th>Shooter</th>\n",
       "      <td>109.74</td>\n",
       "      <td>0.250714</td>\n",
       "    </tr>\n",
       "    <tr>\n",
       "      <th>Sports</th>\n",
       "      <td>65.27</td>\n",
       "      <td>0.149117</td>\n",
       "    </tr>\n",
       "    <tr>\n",
       "      <th>Role-Playing</th>\n",
       "      <td>46.40</td>\n",
       "      <td>0.106006</td>\n",
       "    </tr>\n",
       "    <tr>\n",
       "      <th>Misc</th>\n",
       "      <td>27.49</td>\n",
       "      <td>0.062804</td>\n",
       "    </tr>\n",
       "  </tbody>\n",
       "</table>\n",
       "</div>"
      ],
      "text/plain": [
       "              na_sales     ratio\n",
       "genre                           \n",
       "Action          126.05  0.287976\n",
       "Shooter         109.74  0.250714\n",
       "Sports           65.27  0.149117\n",
       "Role-Playing     46.40  0.106006\n",
       "Misc             27.49  0.062804"
      ]
     },
     "execution_count": 23,
     "metadata": {},
     "output_type": "execute_result"
    }
   ],
   "source": [
    "top5_genre_na = actual_games.pivot_table(index='genre', values='na_sales', aggfunc='sum')\n",
    "top5_genre_na = top5_genre_na.sort_values('na_sales', ascending=False)\n",
    "top5_genre_na['ratio'] = top5_genre_na['na_sales'] / top5_genre_na['na_sales'].sum() \n",
    "top5_genre_na.head()"
   ]
  },
  {
   "cell_type": "code",
   "execution_count": 24,
   "metadata": {},
   "outputs": [
    {
     "data": {
      "text/html": [
       "<div>\n",
       "<style scoped>\n",
       "    .dataframe tbody tr th:only-of-type {\n",
       "        vertical-align: middle;\n",
       "    }\n",
       "\n",
       "    .dataframe tbody tr th {\n",
       "        vertical-align: top;\n",
       "    }\n",
       "\n",
       "    .dataframe thead th {\n",
       "        text-align: right;\n",
       "    }\n",
       "</style>\n",
       "<table border=\"1\" class=\"dataframe\">\n",
       "  <thead>\n",
       "    <tr style=\"text-align: right;\">\n",
       "      <th></th>\n",
       "      <th>na_sales</th>\n",
       "      <th>ratio</th>\n",
       "    </tr>\n",
       "    <tr>\n",
       "      <th>rating</th>\n",
       "      <th></th>\n",
       "      <th></th>\n",
       "    </tr>\n",
       "  </thead>\n",
       "  <tbody>\n",
       "    <tr>\n",
       "      <th>M</th>\n",
       "      <td>165.21</td>\n",
       "      <td>0.377442</td>\n",
       "    </tr>\n",
       "    <tr>\n",
       "      <th>unknown</th>\n",
       "      <td>89.42</td>\n",
       "      <td>0.204291</td>\n",
       "    </tr>\n",
       "    <tr>\n",
       "      <th>E</th>\n",
       "      <td>79.05</td>\n",
       "      <td>0.180599</td>\n",
       "    </tr>\n",
       "    <tr>\n",
       "      <th>E10+</th>\n",
       "      <td>54.24</td>\n",
       "      <td>0.123918</td>\n",
       "    </tr>\n",
       "    <tr>\n",
       "      <th>T</th>\n",
       "      <td>49.79</td>\n",
       "      <td>0.113751</td>\n",
       "    </tr>\n",
       "  </tbody>\n",
       "</table>\n",
       "</div>"
      ],
      "text/plain": [
       "         na_sales     ratio\n",
       "rating                     \n",
       "M          165.21  0.377442\n",
       "unknown     89.42  0.204291\n",
       "E           79.05  0.180599\n",
       "E10+        54.24  0.123918\n",
       "T           49.79  0.113751"
      ]
     },
     "execution_count": 24,
     "metadata": {},
     "output_type": "execute_result"
    }
   ],
   "source": [
    "top_rating_na = actual_games.pivot_table(index='rating', values='na_sales', aggfunc='sum')\n",
    "top_rating_na = top_rating_na.sort_values('na_sales', ascending=False)\n",
    "top_rating_na['ratio'] = top_rating_na['na_sales'] / top5_platform_na['na_sales'].sum()\n",
    "top_rating_na"
   ]
  },
  {
   "cell_type": "markdown",
   "metadata": {},
   "source": [
    "В Северной Америке разница в долях между самыми популярными платформами PS4 и XOne около 4%. Такая же разница между экшеном и шутерами. Возрастное ограничение не влияет на продажи в регионе, почти 40% продаж приходится на рейтинг `Для взрослых` "
   ]
  },
  {
   "cell_type": "markdown",
   "metadata": {},
   "source": [
    "#### Европа"
   ]
  },
  {
   "cell_type": "markdown",
   "metadata": {},
   "source": [
    "Самые популярные платформы (топ-5)"
   ]
  },
  {
   "cell_type": "code",
   "execution_count": 25,
   "metadata": {},
   "outputs": [
    {
     "data": {
      "text/html": [
       "<div>\n",
       "<style scoped>\n",
       "    .dataframe tbody tr th:only-of-type {\n",
       "        vertical-align: middle;\n",
       "    }\n",
       "\n",
       "    .dataframe tbody tr th {\n",
       "        vertical-align: top;\n",
       "    }\n",
       "\n",
       "    .dataframe thead th {\n",
       "        text-align: right;\n",
       "    }\n",
       "</style>\n",
       "<table border=\"1\" class=\"dataframe\">\n",
       "  <thead>\n",
       "    <tr style=\"text-align: right;\">\n",
       "      <th></th>\n",
       "      <th>eu_sales</th>\n",
       "      <th>ratio</th>\n",
       "    </tr>\n",
       "    <tr>\n",
       "      <th>platform</th>\n",
       "      <th></th>\n",
       "      <th></th>\n",
       "    </tr>\n",
       "  </thead>\n",
       "  <tbody>\n",
       "    <tr>\n",
       "      <th>PS4</th>\n",
       "      <td>141.09</td>\n",
       "      <td>0.359712</td>\n",
       "    </tr>\n",
       "    <tr>\n",
       "      <th>PS3</th>\n",
       "      <td>67.81</td>\n",
       "      <td>0.172883</td>\n",
       "    </tr>\n",
       "    <tr>\n",
       "      <th>XOne</th>\n",
       "      <td>51.59</td>\n",
       "      <td>0.131530</td>\n",
       "    </tr>\n",
       "    <tr>\n",
       "      <th>X360</th>\n",
       "      <td>42.52</td>\n",
       "      <td>0.108406</td>\n",
       "    </tr>\n",
       "    <tr>\n",
       "      <th>3DS</th>\n",
       "      <td>30.96</td>\n",
       "      <td>0.078933</td>\n",
       "    </tr>\n",
       "  </tbody>\n",
       "</table>\n",
       "</div>"
      ],
      "text/plain": [
       "          eu_sales     ratio\n",
       "platform                    \n",
       "PS4         141.09  0.359712\n",
       "PS3          67.81  0.172883\n",
       "XOne         51.59  0.131530\n",
       "X360         42.52  0.108406\n",
       "3DS          30.96  0.078933"
      ]
     },
     "execution_count": 25,
     "metadata": {},
     "output_type": "execute_result"
    }
   ],
   "source": [
    "top5_platform_eu = actual_games.pivot_table(index='platform', values='eu_sales', aggfunc='sum')\n",
    "top5_platform_eu = top5_platform_eu.sort_values('eu_sales', ascending=False)\n",
    "top5_platform_eu['ratio'] = top5_platform_eu['eu_sales'] / top5_platform_eu['eu_sales'].sum()\n",
    "top5_platform_eu.head()"
   ]
  },
  {
   "cell_type": "markdown",
   "metadata": {},
   "source": [
    "Самые популярные жанры (топ-5)"
   ]
  },
  {
   "cell_type": "code",
   "execution_count": 26,
   "metadata": {},
   "outputs": [
    {
     "data": {
      "text/html": [
       "<div>\n",
       "<style scoped>\n",
       "    .dataframe tbody tr th:only-of-type {\n",
       "        vertical-align: middle;\n",
       "    }\n",
       "\n",
       "    .dataframe tbody tr th {\n",
       "        vertical-align: top;\n",
       "    }\n",
       "\n",
       "    .dataframe thead th {\n",
       "        text-align: right;\n",
       "    }\n",
       "</style>\n",
       "<table border=\"1\" class=\"dataframe\">\n",
       "  <thead>\n",
       "    <tr style=\"text-align: right;\">\n",
       "      <th></th>\n",
       "      <th>eu_sales</th>\n",
       "      <th>ratio</th>\n",
       "    </tr>\n",
       "    <tr>\n",
       "      <th>genre</th>\n",
       "      <th></th>\n",
       "      <th></th>\n",
       "    </tr>\n",
       "  </thead>\n",
       "  <tbody>\n",
       "    <tr>\n",
       "      <th>Action</th>\n",
       "      <td>118.13</td>\n",
       "      <td>0.301175</td>\n",
       "    </tr>\n",
       "    <tr>\n",
       "      <th>Shooter</th>\n",
       "      <td>87.86</td>\n",
       "      <td>0.224001</td>\n",
       "    </tr>\n",
       "    <tr>\n",
       "      <th>Sports</th>\n",
       "      <td>60.52</td>\n",
       "      <td>0.154297</td>\n",
       "    </tr>\n",
       "    <tr>\n",
       "      <th>Role-Playing</th>\n",
       "      <td>36.97</td>\n",
       "      <td>0.094256</td>\n",
       "    </tr>\n",
       "    <tr>\n",
       "      <th>Racing</th>\n",
       "      <td>20.19</td>\n",
       "      <td>0.051475</td>\n",
       "    </tr>\n",
       "  </tbody>\n",
       "</table>\n",
       "</div>"
      ],
      "text/plain": [
       "              eu_sales     ratio\n",
       "genre                           \n",
       "Action          118.13  0.301175\n",
       "Shooter          87.86  0.224001\n",
       "Sports           60.52  0.154297\n",
       "Role-Playing     36.97  0.094256\n",
       "Racing           20.19  0.051475"
      ]
     },
     "execution_count": 26,
     "metadata": {},
     "output_type": "execute_result"
    }
   ],
   "source": [
    "top5_genre_eu = actual_games.pivot_table(index='genre', values='eu_sales', aggfunc='sum')\n",
    "top5_genre_eu = top5_genre_eu.sort_values('eu_sales', ascending=False)\n",
    "top5_genre_eu['ratio'] = top5_genre_eu['eu_sales'] / top5_genre_eu['eu_sales'].sum()\n",
    "top5_genre_eu.head()"
   ]
  },
  {
   "cell_type": "code",
   "execution_count": 27,
   "metadata": {},
   "outputs": [
    {
     "data": {
      "text/html": [
       "<div>\n",
       "<style scoped>\n",
       "    .dataframe tbody tr th:only-of-type {\n",
       "        vertical-align: middle;\n",
       "    }\n",
       "\n",
       "    .dataframe tbody tr th {\n",
       "        vertical-align: top;\n",
       "    }\n",
       "\n",
       "    .dataframe thead th {\n",
       "        text-align: right;\n",
       "    }\n",
       "</style>\n",
       "<table border=\"1\" class=\"dataframe\">\n",
       "  <thead>\n",
       "    <tr style=\"text-align: right;\">\n",
       "      <th></th>\n",
       "      <th>eu_sales</th>\n",
       "      <th>ratio</th>\n",
       "    </tr>\n",
       "    <tr>\n",
       "      <th>rating</th>\n",
       "      <th></th>\n",
       "      <th></th>\n",
       "    </tr>\n",
       "  </thead>\n",
       "  <tbody>\n",
       "    <tr>\n",
       "      <th>M</th>\n",
       "      <td>145.32</td>\n",
       "      <td>0.370497</td>\n",
       "    </tr>\n",
       "    <tr>\n",
       "      <th>E</th>\n",
       "      <td>83.36</td>\n",
       "      <td>0.212528</td>\n",
       "    </tr>\n",
       "    <tr>\n",
       "      <th>unknown</th>\n",
       "      <td>78.91</td>\n",
       "      <td>0.201183</td>\n",
       "    </tr>\n",
       "    <tr>\n",
       "      <th>E10+</th>\n",
       "      <td>42.69</td>\n",
       "      <td>0.108839</td>\n",
       "    </tr>\n",
       "    <tr>\n",
       "      <th>T</th>\n",
       "      <td>41.95</td>\n",
       "      <td>0.106953</td>\n",
       "    </tr>\n",
       "  </tbody>\n",
       "</table>\n",
       "</div>"
      ],
      "text/plain": [
       "         eu_sales     ratio\n",
       "rating                     \n",
       "M          145.32  0.370497\n",
       "E           83.36  0.212528\n",
       "unknown     78.91  0.201183\n",
       "E10+        42.69  0.108839\n",
       "T           41.95  0.106953"
      ]
     },
     "execution_count": 27,
     "metadata": {},
     "output_type": "execute_result"
    }
   ],
   "source": [
    "top_rating_eu = actual_games.pivot_table(index='rating', values='eu_sales', aggfunc='sum')\n",
    "top_rating_eu = top_rating_eu.sort_values('eu_sales', ascending=False)\n",
    "top_rating_eu['ratio'] = top_rating_eu['eu_sales'] / top5_platform_eu['eu_sales'].sum()\n",
    "top_rating_eu"
   ]
  },
  {
   "cell_type": "markdown",
   "metadata": {},
   "source": [
    "В Европе Xbox One менее популярный, чем в Северной Америке. Здесь больше половины продаж приходится на платформы Sony. В Европе также, как и в Северной Америке наиболее популярны экшены и шутеры, разница в продажах около 8%. Сводная таблица по возрастному рейтингу почти идентична Северной Америке."
   ]
  },
  {
   "cell_type": "markdown",
   "metadata": {},
   "source": [
    "#### Япония"
   ]
  },
  {
   "cell_type": "markdown",
   "metadata": {},
   "source": [
    "Самые популярные платформы (топ-5)"
   ]
  },
  {
   "cell_type": "code",
   "execution_count": 28,
   "metadata": {},
   "outputs": [
    {
     "data": {
      "text/html": [
       "<div>\n",
       "<style scoped>\n",
       "    .dataframe tbody tr th:only-of-type {\n",
       "        vertical-align: middle;\n",
       "    }\n",
       "\n",
       "    .dataframe tbody tr th {\n",
       "        vertical-align: top;\n",
       "    }\n",
       "\n",
       "    .dataframe thead th {\n",
       "        text-align: right;\n",
       "    }\n",
       "</style>\n",
       "<table border=\"1\" class=\"dataframe\">\n",
       "  <thead>\n",
       "    <tr style=\"text-align: right;\">\n",
       "      <th></th>\n",
       "      <th>jp_sales</th>\n",
       "      <th>ratio</th>\n",
       "    </tr>\n",
       "    <tr>\n",
       "      <th>platform</th>\n",
       "      <th></th>\n",
       "      <th></th>\n",
       "    </tr>\n",
       "  </thead>\n",
       "  <tbody>\n",
       "    <tr>\n",
       "      <th>3DS</th>\n",
       "      <td>67.81</td>\n",
       "      <td>0.481674</td>\n",
       "    </tr>\n",
       "    <tr>\n",
       "      <th>PS3</th>\n",
       "      <td>23.35</td>\n",
       "      <td>0.165862</td>\n",
       "    </tr>\n",
       "    <tr>\n",
       "      <th>PSV</th>\n",
       "      <td>18.59</td>\n",
       "      <td>0.132050</td>\n",
       "    </tr>\n",
       "    <tr>\n",
       "      <th>PS4</th>\n",
       "      <td>15.96</td>\n",
       "      <td>0.113368</td>\n",
       "    </tr>\n",
       "    <tr>\n",
       "      <th>WiiU</th>\n",
       "      <td>10.88</td>\n",
       "      <td>0.077284</td>\n",
       "    </tr>\n",
       "  </tbody>\n",
       "</table>\n",
       "</div>"
      ],
      "text/plain": [
       "          jp_sales     ratio\n",
       "platform                    \n",
       "3DS          67.81  0.481674\n",
       "PS3          23.35  0.165862\n",
       "PSV          18.59  0.132050\n",
       "PS4          15.96  0.113368\n",
       "WiiU         10.88  0.077284"
      ]
     },
     "execution_count": 28,
     "metadata": {},
     "output_type": "execute_result"
    }
   ],
   "source": [
    "top5_platform_jp = actual_games.pivot_table(index='platform', values='jp_sales', aggfunc='sum')\n",
    "top5_platform_jp = top5_platform_jp.sort_values('jp_sales', ascending=False)\n",
    "top5_platform_jp['ratio'] = top5_platform_jp['jp_sales'] / top5_platform_jp['jp_sales'].sum()\n",
    "top5_platform_jp.head()"
   ]
  },
  {
   "cell_type": "markdown",
   "metadata": {},
   "source": [
    "Самые популярные жанры (топ-5)"
   ]
  },
  {
   "cell_type": "code",
   "execution_count": 29,
   "metadata": {},
   "outputs": [
    {
     "data": {
      "text/html": [
       "<div>\n",
       "<style scoped>\n",
       "    .dataframe tbody tr th:only-of-type {\n",
       "        vertical-align: middle;\n",
       "    }\n",
       "\n",
       "    .dataframe tbody tr th {\n",
       "        vertical-align: top;\n",
       "    }\n",
       "\n",
       "    .dataframe thead th {\n",
       "        text-align: right;\n",
       "    }\n",
       "</style>\n",
       "<table border=\"1\" class=\"dataframe\">\n",
       "  <thead>\n",
       "    <tr style=\"text-align: right;\">\n",
       "      <th></th>\n",
       "      <th>jp_sales</th>\n",
       "      <th>ratio</th>\n",
       "    </tr>\n",
       "    <tr>\n",
       "      <th>genre</th>\n",
       "      <th></th>\n",
       "      <th></th>\n",
       "    </tr>\n",
       "  </thead>\n",
       "  <tbody>\n",
       "    <tr>\n",
       "      <th>Role-Playing</th>\n",
       "      <td>51.04</td>\n",
       "      <td>0.362551</td>\n",
       "    </tr>\n",
       "    <tr>\n",
       "      <th>Action</th>\n",
       "      <td>40.49</td>\n",
       "      <td>0.287612</td>\n",
       "    </tr>\n",
       "    <tr>\n",
       "      <th>Misc</th>\n",
       "      <td>9.20</td>\n",
       "      <td>0.065350</td>\n",
       "    </tr>\n",
       "    <tr>\n",
       "      <th>Fighting</th>\n",
       "      <td>7.65</td>\n",
       "      <td>0.054340</td>\n",
       "    </tr>\n",
       "    <tr>\n",
       "      <th>Shooter</th>\n",
       "      <td>6.61</td>\n",
       "      <td>0.046953</td>\n",
       "    </tr>\n",
       "  </tbody>\n",
       "</table>\n",
       "</div>"
      ],
      "text/plain": [
       "              jp_sales     ratio\n",
       "genre                           \n",
       "Role-Playing     51.04  0.362551\n",
       "Action           40.49  0.287612\n",
       "Misc              9.20  0.065350\n",
       "Fighting          7.65  0.054340\n",
       "Shooter           6.61  0.046953"
      ]
     },
     "execution_count": 29,
     "metadata": {},
     "output_type": "execute_result"
    }
   ],
   "source": [
    "top5_genre_jp = actual_games.pivot_table(index='genre', values='jp_sales', aggfunc='sum')\n",
    "top5_genre_jp = top5_genre_jp.sort_values('jp_sales', ascending=False)\n",
    "top5_genre_jp['ratio'] = top5_genre_jp['jp_sales'] / top5_genre_jp['jp_sales'].sum()\n",
    "top5_genre_jp.head()"
   ]
  },
  {
   "cell_type": "code",
   "execution_count": 30,
   "metadata": {},
   "outputs": [
    {
     "data": {
      "text/html": [
       "<div>\n",
       "<style scoped>\n",
       "    .dataframe tbody tr th:only-of-type {\n",
       "        vertical-align: middle;\n",
       "    }\n",
       "\n",
       "    .dataframe tbody tr th {\n",
       "        vertical-align: top;\n",
       "    }\n",
       "\n",
       "    .dataframe thead th {\n",
       "        text-align: right;\n",
       "    }\n",
       "</style>\n",
       "<table border=\"1\" class=\"dataframe\">\n",
       "  <thead>\n",
       "    <tr style=\"text-align: right;\">\n",
       "      <th></th>\n",
       "      <th>jp_sales</th>\n",
       "      <th>ratio</th>\n",
       "    </tr>\n",
       "    <tr>\n",
       "      <th>rating</th>\n",
       "      <th></th>\n",
       "      <th></th>\n",
       "    </tr>\n",
       "  </thead>\n",
       "  <tbody>\n",
       "    <tr>\n",
       "      <th>unknown</th>\n",
       "      <td>85.05</td>\n",
       "      <td>0.604134</td>\n",
       "    </tr>\n",
       "    <tr>\n",
       "      <th>T</th>\n",
       "      <td>20.59</td>\n",
       "      <td>0.146257</td>\n",
       "    </tr>\n",
       "    <tr>\n",
       "      <th>E</th>\n",
       "      <td>15.14</td>\n",
       "      <td>0.107544</td>\n",
       "    </tr>\n",
       "    <tr>\n",
       "      <th>M</th>\n",
       "      <td>14.11</td>\n",
       "      <td>0.100227</td>\n",
       "    </tr>\n",
       "    <tr>\n",
       "      <th>E10+</th>\n",
       "      <td>5.89</td>\n",
       "      <td>0.041838</td>\n",
       "    </tr>\n",
       "  </tbody>\n",
       "</table>\n",
       "</div>"
      ],
      "text/plain": [
       "         jp_sales     ratio\n",
       "rating                     \n",
       "unknown     85.05  0.604134\n",
       "T           20.59  0.146257\n",
       "E           15.14  0.107544\n",
       "M           14.11  0.100227\n",
       "E10+         5.89  0.041838"
      ]
     },
     "execution_count": 30,
     "metadata": {},
     "output_type": "execute_result"
    }
   ],
   "source": [
    "top5_rating_jp = actual_games.pivot_table(index='rating', values='jp_sales', aggfunc='sum')\n",
    "top5_rating_jp = top5_rating_jp.sort_values('jp_sales', ascending=False)\n",
    "top5_rating_jp['ratio'] = top5_rating_jp['jp_sales'] / top5_rating_jp['jp_sales'].sum()\n",
    "top5_rating_jp"
   ]
  },
  {
   "cell_type": "markdown",
   "metadata": {},
   "source": [
    "В Японии различия между Северной Америкой и Европой уже значительные. В топе популярных платформ только отечественные платформы, где около половины продаж приходится на Nintendo 3DS. В жанрах лидируют РПГ игры и экшены с разницей между друг другом в 8%. Большая сумма продаж (60%) приходится на категорию `unknown`. Это связано с тем в Японии много игр без рейтинга ESRB. В этой стране существует другая модель - CERO. В остальном больше продаж с игр `для подростков`"
   ]
  },
  {
   "cell_type": "markdown",
   "metadata": {},
   "source": [
    "**Вывод:** составим портрет пользователя для каждого региона:\n",
    "* Северная Америка: Владелец PS4 или Xbox One, играющий в экшен и шутеры, старше 17 лет\n",
    "* Европа: Владелец PS4, играющий в экшен и шутеры, старше 17 лет\n",
    "* Япония: Владелец Nintendo 3DS, который играет в РПГ, до 13 лет"
   ]
  },
  {
   "cell_type": "markdown",
   "metadata": {},
   "source": [
    "### Проверка гипотез"
   ]
  },
  {
   "cell_type": "markdown",
   "metadata": {},
   "source": [
    "**Средние пользовательские рейтинги платформ Xbox One и PC одинаковые**"
   ]
  },
  {
   "cell_type": "markdown",
   "metadata": {},
   "source": [
    "Сформулируем гипотезы:\n",
    "* Нулевая гипотеза $H_0$: Средние пользовательские рейтинги платформ Xbox One и PC одинаковые\n",
    "* Альтернативная гипотеза $H_1$: Средние пользовательские рейтинги платформ Xbox One и PC разные"
   ]
  },
  {
   "cell_type": "markdown",
   "metadata": {},
   "source": [
    "Это проверка гипотезы равенстве среднего двух генеральных совокупностей по взятым из них выборкам. Для этого там понадобится метод `ttest_ind` из библиотеки `scipy`"
   ]
  },
  {
   "cell_type": "code",
   "execution_count": 31,
   "metadata": {},
   "outputs": [],
   "source": [
    "alpha = .05"
   ]
  },
  {
   "cell_type": "code",
   "execution_count": 32,
   "metadata": {},
   "outputs": [
    {
     "name": "stdout",
     "output_type": "stream",
     "text": [
      "p-значение:  0.16097023533449153\n",
      "Не получилось отвергнуть нулевую гипотезу\n"
     ]
    }
   ],
   "source": [
    "xone = actual_games.query('platform == \"XOne\"')['user_score'] \n",
    "pc = actual_games.query('platform == \"PC\"')['user_score'] \n",
    "results = st.ttest_ind(xone.dropna(), pc.dropna(), equal_var=False)\n",
    "print('p-значение: ', results.pvalue)\n",
    "\n",
    "if results.pvalue < alpha:\n",
    "    print('Отвергаем нулевую гипотезу')\n",
    "else:\n",
    "    print('Не получилось отвергнуть нулевую гипотезу')"
   ]
  },
  {
   "cell_type": "markdown",
   "metadata": {},
   "source": [
    "Мы получили p-value около 16%, отвергнуть нулевую гипотезу не получилось. Значит с вероятностью 16% можно получить различные рейтинги, а это слишком много. Таким образом, средние пользовательские рейтинги платформ Xbox One и PC равны. "
   ]
  },
  {
   "cell_type": "markdown",
   "metadata": {},
   "source": [
    "**Средние пользовательские рейтинги жанров Action (англ. «действие», экшен-игры) и Sports (англ. «спортивные соревнования») разные.**"
   ]
  },
  {
   "cell_type": "markdown",
   "metadata": {},
   "source": [
    "Сформулируем гипотезы:\n",
    "* Нулевая гипотеза $H_0$: Средние пользовательские рейтинги жанров Action и Sports одинаковые\n",
    "* Альтернативная гипотеза $H_1$: Средние пользовательские рейтинги жанров Action и Sports разные"
   ]
  },
  {
   "cell_type": "code",
   "execution_count": 33,
   "metadata": {},
   "outputs": [
    {
     "name": "stdout",
     "output_type": "stream",
     "text": [
      "p-значение:  6.884181624404655e-19\n",
      "Отвергаем нулевую гипотезу\n"
     ]
    }
   ],
   "source": [
    "action = actual_games.query('genre == \"Action\"')['user_score'] \n",
    "sports = actual_games.query('genre == \"Sports\"')['user_score'] \n",
    "results = st.ttest_ind(action.dropna(), sports.dropna(), equal_var=False)\n",
    "print('p-значение: ', results.pvalue)\n",
    "\n",
    "if results.pvalue < alpha:\n",
    "    print('Отвергаем нулевую гипотезу')\n",
    "else:\n",
    "    print('Не получилось отвергнуть нулевую гипотезу')"
   ]
  },
  {
   "cell_type": "markdown",
   "metadata": {},
   "source": [
    "p-value получилось меньше 0.05, поэтому отвергаем нулевую гипотезу. Можно сделать вывод, что средние пользовательские рейтингки жанров Action и Sports разные."
   ]
  },
  {
   "cell_type": "markdown",
   "metadata": {},
   "source": [
    "### Общий вывод"
   ]
  },
  {
   "cell_type": "markdown",
   "metadata": {},
   "source": [
    "В исследовании мы изучали:\n",
    "1. **Cколько игр выпускалось в разные годы.**\n",
    "\n",
    "Количество игр стремительно росло с 1990, пик выпуска игр приходится на 2008 год. \n",
    "\n",
    "2. **Как менялись продажи по платформам.**\n",
    "\n",
    "Мы выяснили, что новые платформы выпускают каждые 5-7 лет. Пик продаж приходится примерно на 7 год после выпуска платформы. Определили актуальный период с 2013 года. \n",
    "\n",
    "3. **Какие платформы лидируют по продажам, растут или падают?**\n",
    "\n",
    "Растут и лидируют по продажа PS4 и Xbox One. Падают продажи на PS3 и Xbox 360\n",
    "\n",
    "4. **Как влияют на продажи внутри одной популярной платформы отзывы пользователей и критиков.**\n",
    "\n",
    "Для платформы PS4 выявили небольшое влияние оценок критиков на продажи. Пользовательские оценки на продажи не влияют.\n",
    "\n",
    "5. **Общее распределение игр по жанрам** \n",
    "\n",
    "Определили самые продаваемый жанр - шутеры. Хуже всего продаются приключенческие игры.   \n",
    "\n",
    "6. **Также мы составили потрет пользователя каждого региона**\n",
    "\n",
    "* Северная Америка: Владелец PS4 или Xbox One, играющий в экшен и шутеры, старше 17 лет\n",
    "* Европа: Владелец PS4, играющий в экшен и шутеры, старше 17 лет\n",
    "* Япония: Владелец Nintendo 3DS, который играет в РПГ, до 13 лет\n",
    "\n",
    "7. **Проверили гипотезы:**\n",
    "* Средние пользовательские рейтинги платформ Xbox One и PC одинаковые\n",
    "* Средние пользовательские рейтинги жанров Action и Sports разные.\n",
    "\n",
    "Обе гипотезы подтвердились."
   ]
  }
 ],
 "metadata": {
  "ExecuteTimeLog": [
   {
    "duration": 618,
    "start_time": "2022-10-17T10:53:46.491Z"
   },
   {
    "duration": 28,
    "start_time": "2022-10-17T10:53:48.986Z"
   },
   {
    "duration": 1227,
    "start_time": "2022-10-17T10:54:13.234Z"
   },
   {
    "duration": 1271,
    "start_time": "2022-10-17T10:54:23.554Z"
   },
   {
    "duration": 1311,
    "start_time": "2022-10-17T10:54:34.100Z"
   },
   {
    "duration": 1689,
    "start_time": "2022-10-17T10:54:50.930Z"
   },
   {
    "duration": 15,
    "start_time": "2022-10-17T10:54:59.530Z"
   },
   {
    "duration": 66,
    "start_time": "2022-10-17T10:55:08.770Z"
   },
   {
    "duration": 14,
    "start_time": "2022-10-17T10:55:12.858Z"
   },
   {
    "duration": 11,
    "start_time": "2022-10-17T10:55:16.785Z"
   },
   {
    "duration": 9,
    "start_time": "2022-10-17T10:55:20.186Z"
   },
   {
    "duration": 10,
    "start_time": "2022-10-17T10:55:22.850Z"
   },
   {
    "duration": 15,
    "start_time": "2022-10-17T10:55:25.866Z"
   },
   {
    "duration": 10,
    "start_time": "2022-10-17T10:55:44.762Z"
   },
   {
    "duration": 14,
    "start_time": "2022-10-17T10:56:02.778Z"
   },
   {
    "duration": 9,
    "start_time": "2022-10-17T10:56:05.682Z"
   },
   {
    "duration": 9,
    "start_time": "2022-10-17T10:56:09.346Z"
   },
   {
    "duration": 9,
    "start_time": "2022-10-17T10:56:20.450Z"
   },
   {
    "duration": 13,
    "start_time": "2022-10-17T10:56:35.409Z"
   },
   {
    "duration": 52,
    "start_time": "2022-10-18T06:30:04.921Z"
   },
   {
    "duration": 468,
    "start_time": "2022-10-18T06:30:15.526Z"
   },
   {
    "duration": 29,
    "start_time": "2022-10-18T06:30:15.996Z"
   },
   {
    "duration": 42,
    "start_time": "2022-10-18T06:30:16.026Z"
   },
   {
    "duration": 42,
    "start_time": "2022-10-18T06:30:16.070Z"
   },
   {
    "duration": 8,
    "start_time": "2022-10-18T06:31:37.373Z"
   },
   {
    "duration": 30,
    "start_time": "2022-10-18T06:34:40.510Z"
   },
   {
    "duration": 3,
    "start_time": "2022-10-18T06:35:21.514Z"
   },
   {
    "duration": 4,
    "start_time": "2022-10-18T06:35:24.550Z"
   },
   {
    "duration": 7,
    "start_time": "2022-10-18T06:35:36.449Z"
   },
   {
    "duration": 3,
    "start_time": "2022-10-18T06:35:36.982Z"
   },
   {
    "duration": 7,
    "start_time": "2022-10-18T06:35:41.190Z"
   },
   {
    "duration": 4,
    "start_time": "2022-10-18T06:35:41.734Z"
   },
   {
    "duration": 40,
    "start_time": "2022-10-18T06:35:46.354Z"
   },
   {
    "duration": 19,
    "start_time": "2022-10-18T06:35:46.396Z"
   },
   {
    "duration": 14,
    "start_time": "2022-10-18T06:35:46.416Z"
   },
   {
    "duration": 3,
    "start_time": "2022-10-18T06:35:46.432Z"
   },
   {
    "duration": 20,
    "start_time": "2022-10-18T06:35:46.437Z"
   },
   {
    "duration": 8,
    "start_time": "2022-10-18T06:35:46.459Z"
   },
   {
    "duration": 687,
    "start_time": "2022-10-18T06:48:10.981Z"
   },
   {
    "duration": 14,
    "start_time": "2022-10-18T06:48:31.469Z"
   },
   {
    "duration": 8,
    "start_time": "2022-10-18T06:49:54.405Z"
   },
   {
    "duration": 6,
    "start_time": "2022-10-18T06:49:57.365Z"
   },
   {
    "duration": 9,
    "start_time": "2022-10-18T06:50:03.525Z"
   },
   {
    "duration": 7,
    "start_time": "2022-10-18T06:50:06.509Z"
   },
   {
    "duration": 22,
    "start_time": "2022-10-18T06:50:17.669Z"
   },
   {
    "duration": 31,
    "start_time": "2022-10-18T06:50:22.381Z"
   },
   {
    "duration": 18,
    "start_time": "2022-10-18T06:50:28.741Z"
   },
   {
    "duration": 19,
    "start_time": "2022-10-18T06:50:34.590Z"
   },
   {
    "duration": 20,
    "start_time": "2022-10-18T06:50:38.093Z"
   },
   {
    "duration": 66,
    "start_time": "2022-10-18T06:50:41.717Z"
   },
   {
    "duration": 18,
    "start_time": "2022-10-18T06:50:44.415Z"
   },
   {
    "duration": 20,
    "start_time": "2022-10-18T06:50:46.789Z"
   },
   {
    "duration": 18,
    "start_time": "2022-10-18T06:50:50.462Z"
   },
   {
    "duration": 24,
    "start_time": "2022-10-18T06:50:52.589Z"
   },
   {
    "duration": 18,
    "start_time": "2022-10-18T06:50:56.094Z"
   },
   {
    "duration": 18,
    "start_time": "2022-10-18T06:51:01.013Z"
   },
   {
    "duration": 9,
    "start_time": "2022-10-18T06:51:52.694Z"
   },
   {
    "duration": 6,
    "start_time": "2022-10-18T06:52:19.662Z"
   },
   {
    "duration": 7,
    "start_time": "2022-10-18T06:53:11.501Z"
   },
   {
    "duration": 8,
    "start_time": "2022-10-18T06:53:35.069Z"
   },
   {
    "duration": 6,
    "start_time": "2022-10-18T06:53:43.005Z"
   },
   {
    "duration": 11,
    "start_time": "2022-10-18T06:54:30.749Z"
   },
   {
    "duration": 4,
    "start_time": "2022-10-18T06:54:47.141Z"
   },
   {
    "duration": 18,
    "start_time": "2022-10-18T06:54:56.949Z"
   },
   {
    "duration": 857,
    "start_time": "2022-10-18T07:04:13.133Z"
   },
   {
    "duration": 568,
    "start_time": "2022-10-18T07:04:25.620Z"
   },
   {
    "duration": 51,
    "start_time": "2022-10-18T07:04:32.563Z"
   },
   {
    "duration": 32,
    "start_time": "2022-10-18T07:04:32.617Z"
   },
   {
    "duration": 54,
    "start_time": "2022-10-18T07:04:32.651Z"
   },
   {
    "duration": 18,
    "start_time": "2022-10-18T07:04:32.707Z"
   },
   {
    "duration": 40,
    "start_time": "2022-10-18T07:04:32.727Z"
   },
   {
    "duration": 162,
    "start_time": "2022-10-18T07:04:32.769Z"
   },
   {
    "duration": 201,
    "start_time": "2022-10-18T07:05:44.228Z"
   },
   {
    "duration": 200,
    "start_time": "2022-10-18T07:08:46.197Z"
   },
   {
    "duration": 6,
    "start_time": "2022-10-18T07:09:32.284Z"
   },
   {
    "duration": 17,
    "start_time": "2022-10-18T07:09:44.533Z"
   },
   {
    "duration": 8,
    "start_time": "2022-10-18T07:09:48.661Z"
   },
   {
    "duration": 5,
    "start_time": "2022-10-18T07:10:00.924Z"
   },
   {
    "duration": 756,
    "start_time": "2022-10-18T07:10:22.757Z"
   },
   {
    "duration": 738,
    "start_time": "2022-10-18T07:10:31.077Z"
   },
   {
    "duration": 334,
    "start_time": "2022-10-18T07:10:36.188Z"
   },
   {
    "duration": 210,
    "start_time": "2022-10-18T07:10:40.404Z"
   },
   {
    "duration": 202,
    "start_time": "2022-10-18T07:11:00.444Z"
   },
   {
    "duration": 210,
    "start_time": "2022-10-18T07:11:11.102Z"
   },
   {
    "duration": 15,
    "start_time": "2022-10-18T07:11:49.684Z"
   },
   {
    "duration": 199,
    "start_time": "2022-10-18T07:12:02.212Z"
   },
   {
    "duration": 274,
    "start_time": "2022-10-18T07:12:07.612Z"
   },
   {
    "duration": 15,
    "start_time": "2022-10-18T07:13:46.332Z"
   },
   {
    "duration": 15,
    "start_time": "2022-10-18T07:13:50.965Z"
   },
   {
    "duration": 19,
    "start_time": "2022-10-18T07:13:54.685Z"
   },
   {
    "duration": 22,
    "start_time": "2022-10-18T07:13:57.548Z"
   },
   {
    "duration": 13,
    "start_time": "2022-10-18T07:14:18.380Z"
   },
   {
    "duration": 16,
    "start_time": "2022-10-18T07:14:26.900Z"
   },
   {
    "duration": 13,
    "start_time": "2022-10-18T07:15:04.845Z"
   },
   {
    "duration": 19,
    "start_time": "2022-10-18T07:15:11.452Z"
   },
   {
    "duration": 16,
    "start_time": "2022-10-18T07:15:35.117Z"
   },
   {
    "duration": 21,
    "start_time": "2022-10-18T07:15:38.828Z"
   },
   {
    "duration": 13,
    "start_time": "2022-10-18T07:16:20.268Z"
   },
   {
    "duration": 16,
    "start_time": "2022-10-18T07:16:43.172Z"
   },
   {
    "duration": 13,
    "start_time": "2022-10-18T07:16:49.541Z"
   },
   {
    "duration": 219,
    "start_time": "2022-10-18T07:18:51.272Z"
   },
   {
    "duration": 231,
    "start_time": "2022-10-18T07:19:12.404Z"
   },
   {
    "duration": 11,
    "start_time": "2022-10-18T07:19:14.156Z"
   },
   {
    "duration": 185,
    "start_time": "2022-10-18T07:19:14.924Z"
   },
   {
    "duration": 225,
    "start_time": "2022-10-18T07:21:16.108Z"
   },
   {
    "duration": 211,
    "start_time": "2022-10-18T07:21:28.141Z"
   },
   {
    "duration": 16,
    "start_time": "2022-10-18T07:23:05.172Z"
   },
   {
    "duration": 245,
    "start_time": "2022-10-18T07:23:17.859Z"
   },
   {
    "duration": 49,
    "start_time": "2022-10-18T07:24:34.884Z"
   },
   {
    "duration": 60,
    "start_time": "2022-10-18T07:27:37.276Z"
   },
   {
    "duration": 11,
    "start_time": "2022-10-18T07:27:44.427Z"
   },
   {
    "duration": 124,
    "start_time": "2022-10-18T07:28:44.539Z"
   },
   {
    "duration": 9,
    "start_time": "2022-10-18T07:28:57.413Z"
   },
   {
    "duration": 15,
    "start_time": "2022-10-18T07:29:01.156Z"
   },
   {
    "duration": 172,
    "start_time": "2022-10-18T07:29:25.950Z"
   },
   {
    "duration": 192,
    "start_time": "2022-10-18T07:29:33.764Z"
   },
   {
    "duration": 260,
    "start_time": "2022-10-18T07:31:10.581Z"
   },
   {
    "duration": 351,
    "start_time": "2022-10-18T07:31:25.317Z"
   },
   {
    "duration": 231,
    "start_time": "2022-10-18T07:31:29.204Z"
   },
   {
    "duration": 198,
    "start_time": "2022-10-18T07:36:54.717Z"
   },
   {
    "duration": 198,
    "start_time": "2022-10-18T07:37:01.380Z"
   },
   {
    "duration": 724,
    "start_time": "2022-10-18T07:37:24.156Z"
   },
   {
    "duration": 281,
    "start_time": "2022-10-18T07:37:36.404Z"
   },
   {
    "duration": 256,
    "start_time": "2022-10-18T07:37:42.492Z"
   },
   {
    "duration": 10071,
    "start_time": "2022-10-18T07:38:22.124Z"
   },
   {
    "duration": 48,
    "start_time": "2022-10-18T07:40:23.915Z"
   },
   {
    "duration": 10646,
    "start_time": "2022-10-18T07:40:26.916Z"
   },
   {
    "duration": 19,
    "start_time": "2022-10-18T07:40:37.564Z"
   },
   {
    "duration": 10555,
    "start_time": "2022-10-18T07:40:55.228Z"
   },
   {
    "duration": 14,
    "start_time": "2022-10-18T07:41:17.099Z"
   },
   {
    "duration": 28,
    "start_time": "2022-10-18T07:41:19.260Z"
   },
   {
    "duration": 17,
    "start_time": "2022-10-18T07:41:56.253Z"
   },
   {
    "duration": 10,
    "start_time": "2022-10-18T07:42:00.116Z"
   },
   {
    "duration": 10,
    "start_time": "2022-10-18T07:43:49.267Z"
   },
   {
    "duration": 32,
    "start_time": "2022-10-18T07:46:45.824Z"
   },
   {
    "duration": 26,
    "start_time": "2022-10-18T07:47:04.139Z"
   },
   {
    "duration": 27,
    "start_time": "2022-10-18T07:47:49.556Z"
   },
   {
    "duration": 10,
    "start_time": "2022-10-18T07:47:56.691Z"
   },
   {
    "duration": 27,
    "start_time": "2022-10-18T07:48:08.727Z"
   },
   {
    "duration": 1666,
    "start_time": "2022-10-18T07:48:30.427Z"
   },
   {
    "duration": 20,
    "start_time": "2022-10-18T07:50:18.571Z"
   },
   {
    "duration": 24,
    "start_time": "2022-10-18T07:53:00.979Z"
   },
   {
    "duration": 182,
    "start_time": "2022-10-18T07:53:33.084Z"
   },
   {
    "duration": 304,
    "start_time": "2022-10-18T07:55:18.322Z"
   },
   {
    "duration": 253,
    "start_time": "2022-10-18T07:56:24.023Z"
   },
   {
    "duration": 244,
    "start_time": "2022-10-18T07:57:09.899Z"
   },
   {
    "duration": 14,
    "start_time": "2022-10-18T08:00:56.628Z"
   },
   {
    "duration": 14,
    "start_time": "2022-10-18T08:01:02.290Z"
   },
   {
    "duration": 12,
    "start_time": "2022-10-18T08:01:44.731Z"
   },
   {
    "duration": 16,
    "start_time": "2022-10-18T08:02:10.331Z"
   },
   {
    "duration": 15,
    "start_time": "2022-10-18T08:02:12.491Z"
   },
   {
    "duration": 13,
    "start_time": "2022-10-18T08:02:20.018Z"
   },
   {
    "duration": 13,
    "start_time": "2022-10-18T08:02:26.746Z"
   },
   {
    "duration": 13,
    "start_time": "2022-10-18T08:04:46.186Z"
   },
   {
    "duration": 15,
    "start_time": "2022-10-18T08:04:50.210Z"
   },
   {
    "duration": 14,
    "start_time": "2022-10-18T08:04:57.306Z"
   },
   {
    "duration": 15,
    "start_time": "2022-10-18T08:08:07.970Z"
   },
   {
    "duration": 25,
    "start_time": "2022-10-18T08:08:09.898Z"
   },
   {
    "duration": 14,
    "start_time": "2022-10-18T08:08:13.022Z"
   },
   {
    "duration": 13,
    "start_time": "2022-10-18T08:08:23.715Z"
   },
   {
    "duration": 14,
    "start_time": "2022-10-18T08:08:25.226Z"
   },
   {
    "duration": 14,
    "start_time": "2022-10-18T08:08:26.722Z"
   },
   {
    "duration": 16,
    "start_time": "2022-10-18T08:08:43.338Z"
   },
   {
    "duration": 15,
    "start_time": "2022-10-18T08:08:48.609Z"
   },
   {
    "duration": 13,
    "start_time": "2022-10-18T08:09:07.858Z"
   },
   {
    "duration": 13,
    "start_time": "2022-10-18T08:09:13.409Z"
   },
   {
    "duration": 15,
    "start_time": "2022-10-18T08:09:23.826Z"
   },
   {
    "duration": 15,
    "start_time": "2022-10-18T08:11:30.875Z"
   },
   {
    "duration": 16,
    "start_time": "2022-10-18T08:11:36.634Z"
   },
   {
    "duration": 51,
    "start_time": "2022-10-18T16:26:15.234Z"
   },
   {
    "duration": 446,
    "start_time": "2022-10-18T16:26:24.302Z"
   },
   {
    "duration": 28,
    "start_time": "2022-10-18T16:26:24.749Z"
   },
   {
    "duration": 15,
    "start_time": "2022-10-18T16:26:24.779Z"
   },
   {
    "duration": 4,
    "start_time": "2022-10-18T16:26:24.797Z"
   },
   {
    "duration": 18,
    "start_time": "2022-10-18T16:26:24.804Z"
   },
   {
    "duration": 30,
    "start_time": "2022-10-18T16:26:24.824Z"
   },
   {
    "duration": 613,
    "start_time": "2022-10-18T16:26:24.856Z"
   },
   {
    "duration": 271,
    "start_time": "2022-10-18T16:26:25.470Z"
   },
   {
    "duration": 23,
    "start_time": "2022-10-18T16:26:25.743Z"
   },
   {
    "duration": 395,
    "start_time": "2022-10-18T16:26:25.768Z"
   },
   {
    "duration": 17,
    "start_time": "2022-10-18T16:26:26.164Z"
   },
   {
    "duration": 41,
    "start_time": "2022-10-18T16:26:26.182Z"
   },
   {
    "duration": 110,
    "start_time": "2022-10-18T16:26:26.225Z"
   },
   {
    "duration": 0,
    "start_time": "2022-10-18T16:26:26.337Z"
   },
   {
    "duration": 0,
    "start_time": "2022-10-18T16:26:26.338Z"
   },
   {
    "duration": 0,
    "start_time": "2022-10-18T16:26:26.339Z"
   },
   {
    "duration": 0,
    "start_time": "2022-10-18T16:26:26.354Z"
   },
   {
    "duration": 28,
    "start_time": "2022-10-18T16:26:37.404Z"
   },
   {
    "duration": 18,
    "start_time": "2022-10-18T16:29:07.084Z"
   },
   {
    "duration": 12,
    "start_time": "2022-10-18T16:30:04.340Z"
   },
   {
    "duration": 25,
    "start_time": "2022-10-18T16:30:07.803Z"
   },
   {
    "duration": 12,
    "start_time": "2022-10-18T16:34:55.032Z"
   },
   {
    "duration": 24,
    "start_time": "2022-10-18T16:35:01.301Z"
   },
   {
    "duration": 21,
    "start_time": "2022-10-18T16:35:09.596Z"
   },
   {
    "duration": 20,
    "start_time": "2022-10-18T16:35:14.308Z"
   },
   {
    "duration": 34,
    "start_time": "2022-10-18T16:35:40.652Z"
   },
   {
    "duration": 26,
    "start_time": "2022-10-18T16:36:22.756Z"
   },
   {
    "duration": 16,
    "start_time": "2022-10-18T16:36:39.645Z"
   },
   {
    "duration": 22,
    "start_time": "2022-10-18T16:36:50.860Z"
   },
   {
    "duration": 18,
    "start_time": "2022-10-18T16:38:38.764Z"
   },
   {
    "duration": 8,
    "start_time": "2022-10-18T16:46:54.741Z"
   },
   {
    "duration": 88,
    "start_time": "2022-10-18T16:47:01.180Z"
   },
   {
    "duration": 82,
    "start_time": "2022-10-18T16:47:04.147Z"
   },
   {
    "duration": 28,
    "start_time": "2022-10-18T16:49:11.924Z"
   },
   {
    "duration": 19,
    "start_time": "2022-10-18T16:49:59.404Z"
   },
   {
    "duration": 45,
    "start_time": "2022-10-18T16:50:05.572Z"
   },
   {
    "duration": 19,
    "start_time": "2022-10-18T16:50:09.837Z"
   },
   {
    "duration": 38,
    "start_time": "2022-10-18T16:50:31.900Z"
   },
   {
    "duration": 31,
    "start_time": "2022-10-18T16:51:56.507Z"
   },
   {
    "duration": 27,
    "start_time": "2022-10-18T16:52:51.028Z"
   },
   {
    "duration": 26,
    "start_time": "2022-10-18T16:53:05.364Z"
   },
   {
    "duration": 36,
    "start_time": "2022-10-18T16:53:22.845Z"
   },
   {
    "duration": 14,
    "start_time": "2022-10-18T16:53:56.836Z"
   },
   {
    "duration": 36,
    "start_time": "2022-10-18T16:54:04.827Z"
   },
   {
    "duration": 57,
    "start_time": "2022-10-18T16:54:31.900Z"
   },
   {
    "duration": 26,
    "start_time": "2022-10-18T16:54:35.404Z"
   },
   {
    "duration": 28,
    "start_time": "2022-10-18T16:54:59.677Z"
   },
   {
    "duration": 15,
    "start_time": "2022-10-18T16:56:33.564Z"
   },
   {
    "duration": 29,
    "start_time": "2022-10-18T16:56:42.933Z"
   },
   {
    "duration": 13,
    "start_time": "2022-10-18T16:56:52.980Z"
   },
   {
    "duration": 13,
    "start_time": "2022-10-18T16:56:58.020Z"
   },
   {
    "duration": 22,
    "start_time": "2022-10-18T16:57:03.676Z"
   },
   {
    "duration": 7995,
    "start_time": "2022-10-18T16:57:07.044Z"
   },
   {
    "duration": 52,
    "start_time": "2022-10-18T16:57:24.492Z"
   },
   {
    "duration": 536,
    "start_time": "2022-10-18T16:57:27.985Z"
   },
   {
    "duration": 28,
    "start_time": "2022-10-18T16:57:28.524Z"
   },
   {
    "duration": 15,
    "start_time": "2022-10-18T16:57:28.554Z"
   },
   {
    "duration": 7,
    "start_time": "2022-10-18T16:57:28.571Z"
   },
   {
    "duration": 44,
    "start_time": "2022-10-18T16:57:28.579Z"
   },
   {
    "duration": 0,
    "start_time": "2022-10-18T16:57:28.625Z"
   },
   {
    "duration": 0,
    "start_time": "2022-10-18T16:57:28.626Z"
   },
   {
    "duration": 0,
    "start_time": "2022-10-18T16:57:28.627Z"
   },
   {
    "duration": 0,
    "start_time": "2022-10-18T16:57:28.628Z"
   },
   {
    "duration": 0,
    "start_time": "2022-10-18T16:57:28.629Z"
   },
   {
    "duration": 0,
    "start_time": "2022-10-18T16:57:28.629Z"
   },
   {
    "duration": 0,
    "start_time": "2022-10-18T16:57:28.630Z"
   },
   {
    "duration": 0,
    "start_time": "2022-10-18T16:57:28.654Z"
   },
   {
    "duration": 0,
    "start_time": "2022-10-18T16:57:28.656Z"
   },
   {
    "duration": 0,
    "start_time": "2022-10-18T16:57:28.657Z"
   },
   {
    "duration": 0,
    "start_time": "2022-10-18T16:57:28.660Z"
   },
   {
    "duration": 0,
    "start_time": "2022-10-18T16:57:28.661Z"
   },
   {
    "duration": 0,
    "start_time": "2022-10-18T16:57:28.662Z"
   },
   {
    "duration": 15,
    "start_time": "2022-10-18T16:58:08.721Z"
   },
   {
    "duration": 13,
    "start_time": "2022-10-18T16:58:12.948Z"
   },
   {
    "duration": 22,
    "start_time": "2022-10-18T16:58:15.283Z"
   },
   {
    "duration": 24,
    "start_time": "2022-10-18T16:58:20.155Z"
   },
   {
    "duration": 27,
    "start_time": "2022-10-18T16:58:32.203Z"
   },
   {
    "duration": 7,
    "start_time": "2022-10-18T16:58:49.988Z"
   },
   {
    "duration": 10,
    "start_time": "2022-10-18T16:58:56.793Z"
   },
   {
    "duration": 9,
    "start_time": "2022-10-18T16:59:04.731Z"
   },
   {
    "duration": 9,
    "start_time": "2022-10-18T17:00:45.340Z"
   },
   {
    "duration": 468,
    "start_time": "2022-10-18T17:00:51.305Z"
   },
   {
    "duration": 31,
    "start_time": "2022-10-18T17:00:51.775Z"
   },
   {
    "duration": 17,
    "start_time": "2022-10-18T17:00:51.807Z"
   },
   {
    "duration": 4,
    "start_time": "2022-10-18T17:00:51.825Z"
   },
   {
    "duration": 46,
    "start_time": "2022-10-18T17:00:51.831Z"
   },
   {
    "duration": 11,
    "start_time": "2022-10-18T17:00:51.879Z"
   },
   {
    "duration": 8,
    "start_time": "2022-10-18T17:00:51.892Z"
   },
   {
    "duration": 443,
    "start_time": "2022-10-18T17:00:51.901Z"
   },
   {
    "duration": 264,
    "start_time": "2022-10-18T17:00:52.346Z"
   },
   {
    "duration": 16,
    "start_time": "2022-10-18T17:00:52.611Z"
   },
   {
    "duration": 383,
    "start_time": "2022-10-18T17:00:52.628Z"
   },
   {
    "duration": 15,
    "start_time": "2022-10-18T17:00:53.013Z"
   },
   {
    "duration": 31,
    "start_time": "2022-10-18T17:00:53.029Z"
   },
   {
    "duration": 102,
    "start_time": "2022-10-18T17:00:53.062Z"
   },
   {
    "duration": 0,
    "start_time": "2022-10-18T17:00:53.166Z"
   },
   {
    "duration": 0,
    "start_time": "2022-10-18T17:00:53.167Z"
   },
   {
    "duration": 0,
    "start_time": "2022-10-18T17:00:53.169Z"
   },
   {
    "duration": 0,
    "start_time": "2022-10-18T17:00:53.170Z"
   },
   {
    "duration": 25,
    "start_time": "2022-10-18T17:01:33.853Z"
   },
   {
    "duration": 25,
    "start_time": "2022-10-18T17:01:40.132Z"
   },
   {
    "duration": 24,
    "start_time": "2022-10-18T17:01:52.204Z"
   },
   {
    "duration": 28,
    "start_time": "2022-10-18T17:02:01.084Z"
   },
   {
    "duration": 55,
    "start_time": "2022-10-18T17:02:08.951Z"
   },
   {
    "duration": 454,
    "start_time": "2022-10-18T17:02:12.956Z"
   },
   {
    "duration": 28,
    "start_time": "2022-10-18T17:02:13.413Z"
   },
   {
    "duration": 20,
    "start_time": "2022-10-18T17:02:13.442Z"
   },
   {
    "duration": 3,
    "start_time": "2022-10-18T17:02:13.464Z"
   },
   {
    "duration": 30,
    "start_time": "2022-10-18T17:02:16.171Z"
   },
   {
    "duration": 22,
    "start_time": "2022-10-18T17:02:19.396Z"
   },
   {
    "duration": 16,
    "start_time": "2022-10-18T17:02:25.196Z"
   },
   {
    "duration": 17,
    "start_time": "2022-10-18T17:02:53.858Z"
   },
   {
    "duration": 22,
    "start_time": "2022-10-18T17:02:57.137Z"
   },
   {
    "duration": 1027,
    "start_time": "2022-10-18T17:03:25.779Z"
   },
   {
    "duration": 3,
    "start_time": "2022-10-18T17:03:41.188Z"
   },
   {
    "duration": 20,
    "start_time": "2022-10-18T17:03:43.468Z"
   },
   {
    "duration": 16,
    "start_time": "2022-10-18T17:03:49.492Z"
   },
   {
    "duration": 17,
    "start_time": "2022-10-18T17:03:55.307Z"
   },
   {
    "duration": 419,
    "start_time": "2022-10-18T17:04:03.507Z"
   },
   {
    "duration": 29,
    "start_time": "2022-10-18T17:04:03.929Z"
   },
   {
    "duration": 16,
    "start_time": "2022-10-18T17:04:03.960Z"
   },
   {
    "duration": 24,
    "start_time": "2022-10-18T17:04:03.978Z"
   },
   {
    "duration": 21,
    "start_time": "2022-10-18T17:04:04.005Z"
   },
   {
    "duration": 10,
    "start_time": "2022-10-18T17:04:04.028Z"
   },
   {
    "duration": 8,
    "start_time": "2022-10-18T17:04:04.054Z"
   },
   {
    "duration": 483,
    "start_time": "2022-10-18T17:04:04.064Z"
   },
   {
    "duration": 257,
    "start_time": "2022-10-18T17:04:04.553Z"
   },
   {
    "duration": 19,
    "start_time": "2022-10-18T17:04:04.812Z"
   },
   {
    "duration": 452,
    "start_time": "2022-10-18T17:04:04.833Z"
   },
   {
    "duration": 16,
    "start_time": "2022-10-18T17:04:05.287Z"
   },
   {
    "duration": 13,
    "start_time": "2022-10-18T17:04:05.304Z"
   },
   {
    "duration": 109,
    "start_time": "2022-10-18T17:04:05.320Z"
   },
   {
    "duration": 0,
    "start_time": "2022-10-18T17:04:05.430Z"
   },
   {
    "duration": 0,
    "start_time": "2022-10-18T17:04:05.432Z"
   },
   {
    "duration": 0,
    "start_time": "2022-10-18T17:04:05.434Z"
   },
   {
    "duration": 0,
    "start_time": "2022-10-18T17:04:05.435Z"
   },
   {
    "duration": 19,
    "start_time": "2022-10-18T17:04:19.947Z"
   },
   {
    "duration": 19,
    "start_time": "2022-10-18T17:04:24.435Z"
   },
   {
    "duration": 17,
    "start_time": "2022-10-18T17:04:27.604Z"
   },
   {
    "duration": 11,
    "start_time": "2022-10-18T17:04:28.042Z"
   },
   {
    "duration": 39,
    "start_time": "2022-10-18T17:04:31.962Z"
   },
   {
    "duration": 20,
    "start_time": "2022-10-18T17:04:32.004Z"
   },
   {
    "duration": 29,
    "start_time": "2022-10-18T17:04:32.026Z"
   },
   {
    "duration": 7,
    "start_time": "2022-10-18T17:04:32.056Z"
   },
   {
    "duration": 30,
    "start_time": "2022-10-18T17:04:32.065Z"
   },
   {
    "duration": 17,
    "start_time": "2022-10-18T17:04:32.096Z"
   },
   {
    "duration": 15,
    "start_time": "2022-10-18T17:04:32.115Z"
   },
   {
    "duration": 153,
    "start_time": "2022-10-18T17:04:32.132Z"
   },
   {
    "duration": 306,
    "start_time": "2022-10-18T17:04:32.288Z"
   },
   {
    "duration": 17,
    "start_time": "2022-10-18T17:04:32.596Z"
   },
   {
    "duration": 376,
    "start_time": "2022-10-18T17:04:32.614Z"
   },
   {
    "duration": 15,
    "start_time": "2022-10-18T17:04:32.991Z"
   },
   {
    "duration": 19,
    "start_time": "2022-10-18T17:04:33.009Z"
   },
   {
    "duration": 32,
    "start_time": "2022-10-18T17:04:33.030Z"
   },
   {
    "duration": 0,
    "start_time": "2022-10-18T17:04:33.063Z"
   },
   {
    "duration": 0,
    "start_time": "2022-10-18T17:04:33.064Z"
   },
   {
    "duration": 0,
    "start_time": "2022-10-18T17:04:33.066Z"
   },
   {
    "duration": 0,
    "start_time": "2022-10-18T17:04:33.067Z"
   },
   {
    "duration": 461,
    "start_time": "2022-10-18T17:04:42.146Z"
   },
   {
    "duration": 30,
    "start_time": "2022-10-18T17:04:42.609Z"
   },
   {
    "duration": 24,
    "start_time": "2022-10-18T17:04:42.641Z"
   },
   {
    "duration": 4,
    "start_time": "2022-10-18T17:04:42.667Z"
   },
   {
    "duration": 34,
    "start_time": "2022-10-18T17:04:42.672Z"
   },
   {
    "duration": 9,
    "start_time": "2022-10-18T17:04:42.708Z"
   },
   {
    "duration": 37,
    "start_time": "2022-10-18T17:04:42.718Z"
   },
   {
    "duration": 387,
    "start_time": "2022-10-18T17:04:42.757Z"
   },
   {
    "duration": 266,
    "start_time": "2022-10-18T17:04:43.146Z"
   },
   {
    "duration": 16,
    "start_time": "2022-10-18T17:04:43.415Z"
   },
   {
    "duration": 380,
    "start_time": "2022-10-18T17:04:43.433Z"
   },
   {
    "duration": 15,
    "start_time": "2022-10-18T17:04:43.815Z"
   },
   {
    "duration": 27,
    "start_time": "2022-10-18T17:04:43.831Z"
   },
   {
    "duration": 95,
    "start_time": "2022-10-18T17:04:43.859Z"
   },
   {
    "duration": 0,
    "start_time": "2022-10-18T17:04:43.956Z"
   },
   {
    "duration": 0,
    "start_time": "2022-10-18T17:04:43.957Z"
   },
   {
    "duration": 0,
    "start_time": "2022-10-18T17:04:43.959Z"
   },
   {
    "duration": 0,
    "start_time": "2022-10-18T17:04:43.960Z"
   },
   {
    "duration": 42,
    "start_time": "2022-10-18T17:04:56.514Z"
   },
   {
    "duration": 28,
    "start_time": "2022-10-18T17:04:56.558Z"
   },
   {
    "duration": 18,
    "start_time": "2022-10-18T17:04:56.588Z"
   },
   {
    "duration": 4,
    "start_time": "2022-10-18T17:04:56.608Z"
   },
   {
    "duration": 42,
    "start_time": "2022-10-18T17:04:56.613Z"
   },
   {
    "duration": 10,
    "start_time": "2022-10-18T17:04:56.657Z"
   },
   {
    "duration": 5,
    "start_time": "2022-10-18T17:04:56.669Z"
   },
   {
    "duration": 154,
    "start_time": "2022-10-18T17:04:56.676Z"
   },
   {
    "duration": 323,
    "start_time": "2022-10-18T17:04:56.831Z"
   },
   {
    "duration": 15,
    "start_time": "2022-10-18T17:04:57.157Z"
   },
   {
    "duration": 407,
    "start_time": "2022-10-18T17:04:57.173Z"
   },
   {
    "duration": 16,
    "start_time": "2022-10-18T17:04:57.582Z"
   },
   {
    "duration": 13,
    "start_time": "2022-10-18T17:04:57.600Z"
   },
   {
    "duration": 41,
    "start_time": "2022-10-18T17:04:57.614Z"
   },
   {
    "duration": 0,
    "start_time": "2022-10-18T17:04:57.657Z"
   },
   {
    "duration": 0,
    "start_time": "2022-10-18T17:04:57.658Z"
   },
   {
    "duration": 0,
    "start_time": "2022-10-18T17:04:57.659Z"
   },
   {
    "duration": 0,
    "start_time": "2022-10-18T17:04:57.660Z"
   },
   {
    "duration": 19,
    "start_time": "2022-10-18T17:05:04.394Z"
   },
   {
    "duration": 8,
    "start_time": "2022-10-18T17:05:09.353Z"
   },
   {
    "duration": 20,
    "start_time": "2022-10-18T17:08:21.267Z"
   },
   {
    "duration": 236,
    "start_time": "2022-10-18T17:08:26.425Z"
   },
   {
    "duration": 59,
    "start_time": "2022-10-18T17:11:56.927Z"
   },
   {
    "duration": 478,
    "start_time": "2022-10-18T17:12:39.593Z"
   },
   {
    "duration": 425,
    "start_time": "2022-10-18T17:12:44.389Z"
   },
   {
    "duration": 27,
    "start_time": "2022-10-18T17:12:44.816Z"
   },
   {
    "duration": 19,
    "start_time": "2022-10-18T17:12:44.845Z"
   },
   {
    "duration": 5,
    "start_time": "2022-10-18T17:12:44.867Z"
   },
   {
    "duration": 34,
    "start_time": "2022-10-18T17:12:44.874Z"
   },
   {
    "duration": 28,
    "start_time": "2022-10-18T17:12:44.911Z"
   },
   {
    "duration": 15,
    "start_time": "2022-10-18T17:12:44.941Z"
   },
   {
    "duration": 470,
    "start_time": "2022-10-18T17:12:44.958Z"
   },
   {
    "duration": 280,
    "start_time": "2022-10-18T17:12:45.429Z"
   },
   {
    "duration": 99,
    "start_time": "2022-10-18T17:12:45.713Z"
   },
   {
    "duration": 0,
    "start_time": "2022-10-18T17:12:45.814Z"
   },
   {
    "duration": 0,
    "start_time": "2022-10-18T17:12:45.815Z"
   },
   {
    "duration": 1,
    "start_time": "2022-10-18T17:12:45.816Z"
   },
   {
    "duration": 0,
    "start_time": "2022-10-18T17:12:45.817Z"
   },
   {
    "duration": 0,
    "start_time": "2022-10-18T17:12:45.818Z"
   },
   {
    "duration": 0,
    "start_time": "2022-10-18T17:12:45.819Z"
   },
   {
    "duration": 0,
    "start_time": "2022-10-18T17:12:45.820Z"
   },
   {
    "duration": 0,
    "start_time": "2022-10-18T17:12:45.821Z"
   },
   {
    "duration": 38,
    "start_time": "2022-10-18T17:12:51.681Z"
   },
   {
    "duration": 350,
    "start_time": "2022-10-18T17:15:54.433Z"
   },
   {
    "duration": 24,
    "start_time": "2022-10-18T17:16:39.039Z"
   },
   {
    "duration": 22,
    "start_time": "2022-10-18T17:16:59.935Z"
   },
   {
    "duration": 17,
    "start_time": "2022-10-18T17:17:06.422Z"
   },
   {
    "duration": 26,
    "start_time": "2022-10-18T17:18:50.832Z"
   },
   {
    "duration": 20,
    "start_time": "2022-10-18T17:19:08.536Z"
   },
   {
    "duration": 23,
    "start_time": "2022-10-18T17:19:14.601Z"
   },
   {
    "duration": 20,
    "start_time": "2022-10-18T17:19:21.104Z"
   },
   {
    "duration": 182,
    "start_time": "2022-10-18T17:20:31.601Z"
   },
   {
    "duration": 51,
    "start_time": "2022-10-18T17:21:12.273Z"
   },
   {
    "duration": 146,
    "start_time": "2022-10-18T17:21:15.975Z"
   },
   {
    "duration": 230,
    "start_time": "2022-10-18T17:21:24.441Z"
   },
   {
    "duration": 154,
    "start_time": "2022-10-18T17:22:14.816Z"
   },
   {
    "duration": 171,
    "start_time": "2022-10-18T17:22:35.161Z"
   },
   {
    "duration": 880,
    "start_time": "2022-10-18T17:30:31.127Z"
   },
   {
    "duration": 1329,
    "start_time": "2022-10-18T17:30:43.054Z"
   },
   {
    "duration": 1256,
    "start_time": "2022-10-18T17:30:56.722Z"
   },
   {
    "duration": 17,
    "start_time": "2022-10-18T17:38:12.310Z"
   },
   {
    "duration": 16,
    "start_time": "2022-10-18T17:38:23.127Z"
   },
   {
    "duration": 20,
    "start_time": "2022-10-18T17:38:41.175Z"
   },
   {
    "duration": 16,
    "start_time": "2022-10-18T17:38:57.735Z"
   },
   {
    "duration": 176,
    "start_time": "2022-10-18T17:39:11.648Z"
   },
   {
    "duration": 16,
    "start_time": "2022-10-18T17:40:44.366Z"
   },
   {
    "duration": 15,
    "start_time": "2022-10-18T17:41:03.639Z"
   },
   {
    "duration": 15,
    "start_time": "2022-10-18T17:53:43.614Z"
   },
   {
    "duration": 18,
    "start_time": "2022-10-18T17:54:32.030Z"
   },
   {
    "duration": 16,
    "start_time": "2022-10-18T17:54:36.931Z"
   },
   {
    "duration": 16,
    "start_time": "2022-10-18T17:55:08.222Z"
   },
   {
    "duration": 594,
    "start_time": "2022-10-19T10:43:29.599Z"
   },
   {
    "duration": 29,
    "start_time": "2022-10-19T10:43:30.195Z"
   },
   {
    "duration": 14,
    "start_time": "2022-10-19T10:43:30.225Z"
   },
   {
    "duration": 18,
    "start_time": "2022-10-19T10:43:30.241Z"
   },
   {
    "duration": 28,
    "start_time": "2022-10-19T10:43:30.261Z"
   },
   {
    "duration": 27,
    "start_time": "2022-10-19T10:43:30.291Z"
   },
   {
    "duration": 25,
    "start_time": "2022-10-19T10:43:30.319Z"
   },
   {
    "duration": 581,
    "start_time": "2022-10-19T10:43:30.346Z"
   },
   {
    "duration": 255,
    "start_time": "2022-10-19T10:43:30.928Z"
   },
   {
    "duration": 23,
    "start_time": "2022-10-19T10:43:31.185Z"
   },
   {
    "duration": 138,
    "start_time": "2022-10-19T10:43:31.210Z"
   },
   {
    "duration": 15,
    "start_time": "2022-10-19T10:43:31.350Z"
   },
   {
    "duration": 34,
    "start_time": "2022-10-19T10:43:31.366Z"
   },
   {
    "duration": 99,
    "start_time": "2022-10-19T10:43:31.403Z"
   },
   {
    "duration": 0,
    "start_time": "2022-10-19T10:43:31.504Z"
   },
   {
    "duration": 0,
    "start_time": "2022-10-19T10:43:31.505Z"
   },
   {
    "duration": 0,
    "start_time": "2022-10-19T10:43:31.506Z"
   },
   {
    "duration": 0,
    "start_time": "2022-10-19T10:43:31.507Z"
   },
   {
    "duration": 16,
    "start_time": "2022-10-19T10:43:43.739Z"
   },
   {
    "duration": 13,
    "start_time": "2022-10-19T10:43:49.675Z"
   },
   {
    "duration": 14,
    "start_time": "2022-10-19T10:43:52.579Z"
   },
   {
    "duration": 15,
    "start_time": "2022-10-19T10:43:58.563Z"
   },
   {
    "duration": 15,
    "start_time": "2022-10-19T10:44:00.899Z"
   },
   {
    "duration": 279,
    "start_time": "2022-10-19T10:48:03.257Z"
   },
   {
    "duration": 243,
    "start_time": "2022-10-19T10:48:12.507Z"
   },
   {
    "duration": 319,
    "start_time": "2022-10-19T10:48:22.954Z"
   },
   {
    "duration": 17,
    "start_time": "2022-10-19T10:48:53.347Z"
   },
   {
    "duration": 14,
    "start_time": "2022-10-19T10:55:10.983Z"
   },
   {
    "duration": 16,
    "start_time": "2022-10-19T10:55:19.193Z"
   },
   {
    "duration": 76,
    "start_time": "2022-10-19T10:59:09.176Z"
   },
   {
    "duration": 14,
    "start_time": "2022-10-19T11:00:05.882Z"
   },
   {
    "duration": 15,
    "start_time": "2022-10-19T11:00:23.291Z"
   },
   {
    "duration": 16,
    "start_time": "2022-10-19T11:00:30.713Z"
   },
   {
    "duration": 51,
    "start_time": "2022-10-19T11:06:02.136Z"
   },
   {
    "duration": 19,
    "start_time": "2022-10-19T11:06:02.189Z"
   },
   {
    "duration": 35,
    "start_time": "2022-10-19T11:06:02.210Z"
   },
   {
    "duration": 13,
    "start_time": "2022-10-19T11:06:02.248Z"
   },
   {
    "duration": 26,
    "start_time": "2022-10-19T11:06:02.263Z"
   },
   {
    "duration": 19,
    "start_time": "2022-10-19T11:06:02.290Z"
   },
   {
    "duration": 22,
    "start_time": "2022-10-19T11:06:02.310Z"
   },
   {
    "duration": 146,
    "start_time": "2022-10-19T11:06:02.333Z"
   },
   {
    "duration": 293,
    "start_time": "2022-10-19T11:06:02.480Z"
   },
   {
    "duration": 26,
    "start_time": "2022-10-19T11:06:02.776Z"
   },
   {
    "duration": 143,
    "start_time": "2022-10-19T11:06:02.803Z"
   },
   {
    "duration": 15,
    "start_time": "2022-10-19T11:06:02.948Z"
   },
   {
    "duration": 31,
    "start_time": "2022-10-19T11:06:02.965Z"
   },
   {
    "duration": 15,
    "start_time": "2022-10-19T11:06:02.998Z"
   },
   {
    "duration": 34,
    "start_time": "2022-10-19T11:06:03.014Z"
   },
   {
    "duration": 23,
    "start_time": "2022-10-19T11:06:03.049Z"
   },
   {
    "duration": 35,
    "start_time": "2022-10-19T11:06:03.073Z"
   },
   {
    "duration": 16,
    "start_time": "2022-10-19T11:06:03.109Z"
   },
   {
    "duration": 49,
    "start_time": "2022-10-19T11:29:04.095Z"
   },
   {
    "duration": 3,
    "start_time": "2022-10-19T11:55:03.824Z"
   },
   {
    "duration": 10,
    "start_time": "2022-10-19T11:55:05.455Z"
   },
   {
    "duration": 76,
    "start_time": "2022-10-19T12:00:28.696Z"
   },
   {
    "duration": 12,
    "start_time": "2022-10-19T12:02:44.967Z"
   },
   {
    "duration": 48,
    "start_time": "2022-10-19T12:02:54.695Z"
   },
   {
    "duration": 22,
    "start_time": "2022-10-19T12:02:54.745Z"
   },
   {
    "duration": 27,
    "start_time": "2022-10-19T12:02:54.768Z"
   },
   {
    "duration": 3,
    "start_time": "2022-10-19T12:02:54.797Z"
   },
   {
    "duration": 9,
    "start_time": "2022-10-19T12:02:54.802Z"
   },
   {
    "duration": 11,
    "start_time": "2022-10-19T12:02:54.812Z"
   },
   {
    "duration": 18,
    "start_time": "2022-10-19T12:02:54.825Z"
   },
   {
    "duration": 6,
    "start_time": "2022-10-19T12:02:54.845Z"
   },
   {
    "duration": 190,
    "start_time": "2022-10-19T12:02:54.853Z"
   },
   {
    "duration": 252,
    "start_time": "2022-10-19T12:02:55.045Z"
   },
   {
    "duration": 17,
    "start_time": "2022-10-19T12:02:55.299Z"
   },
   {
    "duration": 158,
    "start_time": "2022-10-19T12:02:55.317Z"
   },
   {
    "duration": 24,
    "start_time": "2022-10-19T12:02:55.477Z"
   },
   {
    "duration": 14,
    "start_time": "2022-10-19T12:02:55.504Z"
   },
   {
    "duration": 22,
    "start_time": "2022-10-19T12:02:55.520Z"
   },
   {
    "duration": 19,
    "start_time": "2022-10-19T12:02:55.544Z"
   },
   {
    "duration": 15,
    "start_time": "2022-10-19T12:02:55.594Z"
   },
   {
    "duration": 27,
    "start_time": "2022-10-19T12:02:55.611Z"
   },
   {
    "duration": 16,
    "start_time": "2022-10-19T12:02:55.640Z"
   },
   {
    "duration": 236,
    "start_time": "2022-10-19T12:03:22.160Z"
   },
   {
    "duration": 154,
    "start_time": "2022-10-19T12:05:42.151Z"
   },
   {
    "duration": 140,
    "start_time": "2022-10-19T12:05:55.296Z"
   },
   {
    "duration": 17,
    "start_time": "2022-10-19T12:06:14.496Z"
   },
   {
    "duration": 108,
    "start_time": "2022-10-19T12:06:24.640Z"
   },
   {
    "duration": 15,
    "start_time": "2022-10-19T12:06:32.448Z"
   },
   {
    "duration": 123,
    "start_time": "2022-10-19T12:06:54.343Z"
   },
   {
    "duration": 1169,
    "start_time": "2022-10-19T12:07:03.911Z"
   },
   {
    "duration": 1273,
    "start_time": "2022-10-19T12:07:21.761Z"
   },
   {
    "duration": 16,
    "start_time": "2022-10-19T12:07:39.880Z"
   },
   {
    "duration": 1229,
    "start_time": "2022-10-19T12:13:22.714Z"
   },
   {
    "duration": 21,
    "start_time": "2022-10-19T12:13:30.312Z"
   },
   {
    "duration": 11,
    "start_time": "2022-10-19T12:17:58.680Z"
   },
   {
    "duration": 13,
    "start_time": "2022-10-19T12:18:06.415Z"
   },
   {
    "duration": 26,
    "start_time": "2022-10-19T12:18:53.112Z"
   },
   {
    "duration": 2499,
    "start_time": "2022-10-19T12:18:58.088Z"
   },
   {
    "duration": 146,
    "start_time": "2022-10-19T12:20:15.687Z"
   },
   {
    "duration": 24,
    "start_time": "2022-10-19T12:20:41.472Z"
   },
   {
    "duration": 28,
    "start_time": "2022-10-19T12:20:46.448Z"
   },
   {
    "duration": 64,
    "start_time": "2022-10-19T12:20:59.428Z"
   },
   {
    "duration": 21,
    "start_time": "2022-10-19T12:22:34.672Z"
   },
   {
    "duration": 155,
    "start_time": "2022-10-19T12:22:45.631Z"
   },
   {
    "duration": 23,
    "start_time": "2022-10-19T12:23:36.543Z"
   },
   {
    "duration": 18,
    "start_time": "2022-10-19T12:24:16.935Z"
   },
   {
    "duration": 152,
    "start_time": "2022-10-19T12:24:23.055Z"
   },
   {
    "duration": 174,
    "start_time": "2022-10-19T13:17:17.869Z"
   },
   {
    "duration": 83,
    "start_time": "2022-10-19T13:17:26.668Z"
   },
   {
    "duration": 92,
    "start_time": "2022-10-19T13:17:39.155Z"
   },
   {
    "duration": 160,
    "start_time": "2022-10-19T13:17:46.484Z"
   },
   {
    "duration": 238,
    "start_time": "2022-10-19T13:18:29.773Z"
   },
   {
    "duration": 174,
    "start_time": "2022-10-19T13:18:30.357Z"
   },
   {
    "duration": 169,
    "start_time": "2022-10-19T13:18:40.997Z"
   },
   {
    "duration": 145,
    "start_time": "2022-10-19T13:18:55.437Z"
   },
   {
    "duration": 174,
    "start_time": "2022-10-19T13:19:24.461Z"
   },
   {
    "duration": 71,
    "start_time": "2022-10-19T13:24:52.848Z"
   },
   {
    "duration": 20,
    "start_time": "2022-10-19T13:24:57.332Z"
   },
   {
    "duration": 29,
    "start_time": "2022-10-19T13:25:38.972Z"
   },
   {
    "duration": 23,
    "start_time": "2022-10-19T13:25:41.916Z"
   },
   {
    "duration": 34,
    "start_time": "2022-10-19T13:25:45.868Z"
   },
   {
    "duration": 30,
    "start_time": "2022-10-19T13:25:50.134Z"
   },
   {
    "duration": 314,
    "start_time": "2022-10-19T13:26:35.917Z"
   },
   {
    "duration": 159,
    "start_time": "2022-10-19T13:28:40.016Z"
   },
   {
    "duration": 21,
    "start_time": "2022-10-19T13:28:46.205Z"
   },
   {
    "duration": 21,
    "start_time": "2022-10-19T13:29:00.460Z"
   },
   {
    "duration": 169,
    "start_time": "2022-10-19T13:29:09.852Z"
   },
   {
    "duration": 1063,
    "start_time": "2022-10-19T13:30:41.634Z"
   },
   {
    "duration": 131,
    "start_time": "2022-10-19T13:33:49.077Z"
   },
   {
    "duration": 151,
    "start_time": "2022-10-19T13:33:58.908Z"
   },
   {
    "duration": 150,
    "start_time": "2022-10-19T13:34:02.957Z"
   },
   {
    "duration": 168,
    "start_time": "2022-10-19T13:34:12.380Z"
   },
   {
    "duration": 105,
    "start_time": "2022-10-19T13:34:30.013Z"
   },
   {
    "duration": 160,
    "start_time": "2022-10-19T13:34:33.756Z"
   },
   {
    "duration": 69,
    "start_time": "2022-10-19T13:34:36.519Z"
   },
   {
    "duration": 71,
    "start_time": "2022-10-19T13:34:42.660Z"
   },
   {
    "duration": 501,
    "start_time": "2022-10-19T13:34:47.131Z"
   },
   {
    "duration": 98,
    "start_time": "2022-10-19T13:36:41.654Z"
   },
   {
    "duration": 74,
    "start_time": "2022-10-19T13:37:17.492Z"
   },
   {
    "duration": 4,
    "start_time": "2022-10-19T13:37:31.127Z"
   },
   {
    "duration": 966,
    "start_time": "2022-10-19T13:37:36.765Z"
   },
   {
    "duration": 190,
    "start_time": "2022-10-19T13:37:48.668Z"
   },
   {
    "duration": 63,
    "start_time": "2022-10-19T13:37:59.197Z"
   },
   {
    "duration": 345,
    "start_time": "2022-10-19T13:38:00.059Z"
   },
   {
    "duration": 11,
    "start_time": "2022-10-19T13:38:11.076Z"
   },
   {
    "duration": 206,
    "start_time": "2022-10-19T13:38:15.796Z"
   },
   {
    "duration": 298,
    "start_time": "2022-10-19T13:38:24.957Z"
   },
   {
    "duration": 249,
    "start_time": "2022-10-19T13:39:09.317Z"
   },
   {
    "duration": 38,
    "start_time": "2022-10-19T13:39:28.941Z"
   },
   {
    "duration": 11,
    "start_time": "2022-10-19T13:39:46.754Z"
   },
   {
    "duration": 34,
    "start_time": "2022-10-19T13:39:55.172Z"
   },
   {
    "duration": 34,
    "start_time": "2022-10-19T13:40:26.629Z"
   },
   {
    "duration": 23,
    "start_time": "2022-10-19T13:40:34.748Z"
   },
   {
    "duration": 25,
    "start_time": "2022-10-19T13:40:52.533Z"
   },
   {
    "duration": 31,
    "start_time": "2022-10-19T13:41:00.252Z"
   },
   {
    "duration": 26,
    "start_time": "2022-10-19T13:41:08.638Z"
   },
   {
    "duration": 24,
    "start_time": "2022-10-19T13:41:17.396Z"
   },
   {
    "duration": 232,
    "start_time": "2022-10-19T13:42:23.580Z"
   },
   {
    "duration": 219,
    "start_time": "2022-10-19T13:42:28.741Z"
   },
   {
    "duration": 225,
    "start_time": "2022-10-19T13:42:35.308Z"
   },
   {
    "duration": 25,
    "start_time": "2022-10-19T13:43:07.980Z"
   },
   {
    "duration": 14,
    "start_time": "2022-10-19T13:43:26.309Z"
   },
   {
    "duration": 23,
    "start_time": "2022-10-19T13:43:29.132Z"
   },
   {
    "duration": 13,
    "start_time": "2022-10-19T13:43:41.381Z"
   },
   {
    "duration": 34,
    "start_time": "2022-10-19T13:44:01.077Z"
   },
   {
    "duration": 17,
    "start_time": "2022-10-19T13:44:08.253Z"
   },
   {
    "duration": 153,
    "start_time": "2022-10-19T15:14:53.677Z"
   },
   {
    "duration": 207,
    "start_time": "2022-10-19T15:15:02.095Z"
   },
   {
    "duration": 215,
    "start_time": "2022-10-19T15:16:41.711Z"
   },
   {
    "duration": 199,
    "start_time": "2022-10-19T15:16:46.248Z"
   },
   {
    "duration": 334,
    "start_time": "2022-10-19T15:23:11.937Z"
   },
   {
    "duration": 309,
    "start_time": "2022-10-19T15:23:37.737Z"
   },
   {
    "duration": 24,
    "start_time": "2022-10-19T15:23:47.729Z"
   },
   {
    "duration": 376,
    "start_time": "2022-10-19T15:23:52.034Z"
   },
   {
    "duration": 273,
    "start_time": "2022-10-19T15:24:01.825Z"
   },
   {
    "duration": 202,
    "start_time": "2022-10-19T15:32:53.348Z"
   },
   {
    "duration": 107,
    "start_time": "2022-10-19T15:33:31.748Z"
   },
   {
    "duration": 24,
    "start_time": "2022-10-19T15:33:38.396Z"
   },
   {
    "duration": 10,
    "start_time": "2022-10-19T15:33:54.412Z"
   },
   {
    "duration": 8,
    "start_time": "2022-10-19T15:34:08.012Z"
   },
   {
    "duration": 5,
    "start_time": "2022-10-19T15:34:10.731Z"
   },
   {
    "duration": 62,
    "start_time": "2022-10-19T15:34:30.067Z"
   },
   {
    "duration": 32,
    "start_time": "2022-10-19T15:34:30.131Z"
   },
   {
    "duration": 32,
    "start_time": "2022-10-19T15:34:30.165Z"
   },
   {
    "duration": 4,
    "start_time": "2022-10-19T15:34:30.200Z"
   },
   {
    "duration": 11,
    "start_time": "2022-10-19T15:34:30.206Z"
   },
   {
    "duration": 14,
    "start_time": "2022-10-19T15:34:30.219Z"
   },
   {
    "duration": 32,
    "start_time": "2022-10-19T15:34:30.235Z"
   },
   {
    "duration": 30,
    "start_time": "2022-10-19T15:34:30.269Z"
   },
   {
    "duration": 252,
    "start_time": "2022-10-19T15:34:30.301Z"
   },
   {
    "duration": 20,
    "start_time": "2022-10-19T15:34:30.555Z"
   },
   {
    "duration": 27,
    "start_time": "2022-10-19T15:34:30.577Z"
   },
   {
    "duration": 235,
    "start_time": "2022-10-19T15:34:30.606Z"
   },
   {
    "duration": 5,
    "start_time": "2022-10-19T15:34:30.843Z"
   },
   {
    "duration": 1090,
    "start_time": "2022-10-19T15:34:30.849Z"
   },
   {
    "duration": 0,
    "start_time": "2022-10-19T15:34:31.942Z"
   },
   {
    "duration": 0,
    "start_time": "2022-10-19T15:34:31.943Z"
   },
   {
    "duration": 0,
    "start_time": "2022-10-19T15:34:31.945Z"
   },
   {
    "duration": 1,
    "start_time": "2022-10-19T15:34:31.946Z"
   },
   {
    "duration": 0,
    "start_time": "2022-10-19T15:34:31.949Z"
   },
   {
    "duration": 0,
    "start_time": "2022-10-19T15:34:31.950Z"
   },
   {
    "duration": 0,
    "start_time": "2022-10-19T15:34:31.952Z"
   },
   {
    "duration": 1967,
    "start_time": "2022-10-19T15:34:55.997Z"
   },
   {
    "duration": 1862,
    "start_time": "2022-10-19T15:35:33.389Z"
   },
   {
    "duration": 1725,
    "start_time": "2022-10-19T15:35:38.773Z"
   },
   {
    "duration": 1789,
    "start_time": "2022-10-19T15:36:10.030Z"
   },
   {
    "duration": 1610,
    "start_time": "2022-10-19T15:36:15.885Z"
   },
   {
    "duration": 792,
    "start_time": "2022-10-19T15:37:29.062Z"
   },
   {
    "duration": 985,
    "start_time": "2022-10-19T15:38:22.494Z"
   },
   {
    "duration": 24,
    "start_time": "2022-10-19T15:39:02.382Z"
   },
   {
    "duration": 847,
    "start_time": "2022-10-19T15:39:12.254Z"
   },
   {
    "duration": 1532,
    "start_time": "2022-10-19T15:40:02.398Z"
   },
   {
    "duration": 80,
    "start_time": "2022-10-19T15:42:43.278Z"
   },
   {
    "duration": 226,
    "start_time": "2022-10-19T15:42:47.222Z"
   },
   {
    "duration": 230,
    "start_time": "2022-10-19T15:42:53.070Z"
   },
   {
    "duration": 4,
    "start_time": "2022-10-19T15:44:01.360Z"
   },
   {
    "duration": 5,
    "start_time": "2022-10-19T15:44:07.542Z"
   },
   {
    "duration": 24,
    "start_time": "2022-10-19T15:44:11.513Z"
   },
   {
    "duration": 5,
    "start_time": "2022-10-19T15:44:44.876Z"
   },
   {
    "duration": 885,
    "start_time": "2022-10-19T15:44:51.918Z"
   },
   {
    "duration": 75,
    "start_time": "2022-10-19T15:46:26.568Z"
   },
   {
    "duration": 4,
    "start_time": "2022-10-19T15:46:48.383Z"
   },
   {
    "duration": 3,
    "start_time": "2022-10-19T15:46:52.655Z"
   },
   {
    "duration": 855,
    "start_time": "2022-10-19T15:47:07.719Z"
   },
   {
    "duration": 317,
    "start_time": "2022-10-19T15:48:35.136Z"
   },
   {
    "duration": 6,
    "start_time": "2022-10-19T16:02:59.355Z"
   },
   {
    "duration": 277,
    "start_time": "2022-10-19T16:03:01.083Z"
   },
   {
    "duration": 5,
    "start_time": "2022-10-19T16:03:10.763Z"
   },
   {
    "duration": 6,
    "start_time": "2022-10-19T16:03:15.156Z"
   },
   {
    "duration": 296,
    "start_time": "2022-10-19T16:03:16.931Z"
   },
   {
    "duration": 4,
    "start_time": "2022-10-19T16:03:20.131Z"
   },
   {
    "duration": 289,
    "start_time": "2022-10-19T16:03:20.555Z"
   },
   {
    "duration": 581,
    "start_time": "2022-10-19T16:11:06.836Z"
   },
   {
    "duration": 250,
    "start_time": "2022-10-19T16:11:30.907Z"
   },
   {
    "duration": 8,
    "start_time": "2022-10-19T16:12:38.706Z"
   },
   {
    "duration": 307,
    "start_time": "2022-10-19T16:12:44.523Z"
   },
   {
    "duration": 6,
    "start_time": "2022-10-19T16:13:16.025Z"
   },
   {
    "duration": 494,
    "start_time": "2022-10-19T16:13:17.232Z"
   },
   {
    "duration": 306,
    "start_time": "2022-10-19T16:15:26.006Z"
   },
   {
    "duration": 9,
    "start_time": "2022-10-19T16:19:55.371Z"
   },
   {
    "duration": 6,
    "start_time": "2022-10-19T16:20:07.580Z"
   },
   {
    "duration": 6,
    "start_time": "2022-10-19T16:20:21.940Z"
   },
   {
    "duration": 1244,
    "start_time": "2022-10-19T16:20:48.148Z"
   },
   {
    "duration": 276,
    "start_time": "2022-10-19T16:20:53.219Z"
   },
   {
    "duration": 8,
    "start_time": "2022-10-19T16:21:39.652Z"
   },
   {
    "duration": 1991,
    "start_time": "2022-10-19T16:21:46.195Z"
   },
   {
    "duration": 285,
    "start_time": "2022-10-19T16:22:09.116Z"
   },
   {
    "duration": 8,
    "start_time": "2022-10-19T16:22:36.139Z"
   },
   {
    "duration": 387,
    "start_time": "2022-10-19T16:22:36.686Z"
   },
   {
    "duration": 6,
    "start_time": "2022-10-19T16:22:56.603Z"
   },
   {
    "duration": 295,
    "start_time": "2022-10-19T16:22:57.219Z"
   },
   {
    "duration": 7,
    "start_time": "2022-10-19T16:27:43.808Z"
   },
   {
    "duration": 297,
    "start_time": "2022-10-19T16:27:44.249Z"
   },
   {
    "duration": 16,
    "start_time": "2022-10-19T16:48:15.100Z"
   },
   {
    "duration": 92,
    "start_time": "2022-10-19T16:48:44.265Z"
   },
   {
    "duration": 17,
    "start_time": "2022-10-19T16:49:30.257Z"
   },
   {
    "duration": 101,
    "start_time": "2022-10-19T16:49:30.721Z"
   },
   {
    "duration": 500,
    "start_time": "2022-10-19T16:58:35.229Z"
   },
   {
    "duration": 518,
    "start_time": "2022-10-19T16:58:47.269Z"
   },
   {
    "duration": 760,
    "start_time": "2022-10-19T16:58:52.903Z"
   },
   {
    "duration": 73,
    "start_time": "2022-10-19T17:01:04.956Z"
   },
   {
    "duration": 285,
    "start_time": "2022-10-19T17:01:11.501Z"
   },
   {
    "duration": 277,
    "start_time": "2022-10-19T17:02:38.699Z"
   },
   {
    "duration": 269,
    "start_time": "2022-10-19T17:02:48.731Z"
   },
   {
    "duration": 201,
    "start_time": "2022-10-19T17:09:09.979Z"
   },
   {
    "duration": 7,
    "start_time": "2022-10-19T17:09:49.234Z"
   },
   {
    "duration": 1164,
    "start_time": "2022-10-19T17:09:55.794Z"
   },
   {
    "duration": 4,
    "start_time": "2022-10-19T17:11:11.482Z"
   },
   {
    "duration": 3369,
    "start_time": "2022-10-19T17:11:15.065Z"
   },
   {
    "duration": 235,
    "start_time": "2022-10-19T17:11:43.009Z"
   },
   {
    "duration": 244,
    "start_time": "2022-10-19T17:14:01.473Z"
   },
   {
    "duration": 235,
    "start_time": "2022-10-19T17:14:28.016Z"
   },
   {
    "duration": 240,
    "start_time": "2022-10-19T17:15:01.042Z"
   },
   {
    "duration": 247,
    "start_time": "2022-10-19T17:16:18.681Z"
   },
   {
    "duration": 314,
    "start_time": "2022-10-19T17:16:27.841Z"
   },
   {
    "duration": 178,
    "start_time": "2022-10-19T17:18:36.322Z"
   },
   {
    "duration": 43,
    "start_time": "2022-10-19T17:18:50.522Z"
   },
   {
    "duration": 44,
    "start_time": "2022-10-19T17:19:01.226Z"
   },
   {
    "duration": 50,
    "start_time": "2022-10-19T17:19:10.810Z"
   },
   {
    "duration": 49,
    "start_time": "2022-10-19T17:19:16.508Z"
   },
   {
    "duration": 173,
    "start_time": "2022-10-19T17:19:23.274Z"
   },
   {
    "duration": 179,
    "start_time": "2022-10-19T17:20:45.788Z"
   },
   {
    "duration": 179,
    "start_time": "2022-10-19T17:20:53.579Z"
   },
   {
    "duration": 182,
    "start_time": "2022-10-19T17:21:01.154Z"
   },
   {
    "duration": 185,
    "start_time": "2022-10-19T17:21:20.922Z"
   },
   {
    "duration": 182,
    "start_time": "2022-10-19T17:22:37.186Z"
   },
   {
    "duration": 116,
    "start_time": "2022-10-19T17:23:20.139Z"
   },
   {
    "duration": 116,
    "start_time": "2022-10-19T17:23:32.362Z"
   },
   {
    "duration": 5,
    "start_time": "2022-10-19T17:28:11.098Z"
   },
   {
    "duration": 155,
    "start_time": "2022-10-19T17:29:52.023Z"
   },
   {
    "duration": 136,
    "start_time": "2022-10-19T17:30:31.530Z"
   },
   {
    "duration": 141,
    "start_time": "2022-10-19T17:31:00.124Z"
   },
   {
    "duration": 16,
    "start_time": "2022-10-19T17:32:28.818Z"
   },
   {
    "duration": 139,
    "start_time": "2022-10-19T17:32:34.175Z"
   },
   {
    "duration": 11,
    "start_time": "2022-10-19T17:32:40.354Z"
   },
   {
    "duration": 11,
    "start_time": "2022-10-19T17:32:44.891Z"
   },
   {
    "duration": 47,
    "start_time": "2022-10-19T17:32:48.664Z"
   },
   {
    "duration": 22,
    "start_time": "2022-10-19T17:32:48.713Z"
   },
   {
    "duration": 24,
    "start_time": "2022-10-19T17:32:48.737Z"
   },
   {
    "duration": 3,
    "start_time": "2022-10-19T17:32:48.764Z"
   },
   {
    "duration": 29,
    "start_time": "2022-10-19T17:32:48.769Z"
   },
   {
    "duration": 8,
    "start_time": "2022-10-19T17:32:48.800Z"
   },
   {
    "duration": 9,
    "start_time": "2022-10-19T17:32:48.810Z"
   },
   {
    "duration": 4,
    "start_time": "2022-10-19T17:32:48.821Z"
   },
   {
    "duration": 245,
    "start_time": "2022-10-19T17:32:48.827Z"
   },
   {
    "duration": 24,
    "start_time": "2022-10-19T17:32:49.075Z"
   },
   {
    "duration": 550,
    "start_time": "2022-10-19T17:32:49.100Z"
   },
   {
    "duration": 6,
    "start_time": "2022-10-19T17:32:49.652Z"
   },
   {
    "duration": 301,
    "start_time": "2022-10-19T17:32:49.659Z"
   },
   {
    "duration": 135,
    "start_time": "2022-10-19T17:32:49.962Z"
   },
   {
    "duration": 139,
    "start_time": "2022-10-19T17:32:50.099Z"
   },
   {
    "duration": 5,
    "start_time": "2022-10-19T17:32:50.240Z"
   },
   {
    "duration": 161,
    "start_time": "2022-10-19T17:32:50.246Z"
   },
   {
    "duration": 147,
    "start_time": "2022-10-19T17:32:50.408Z"
   },
   {
    "duration": 9,
    "start_time": "2022-10-19T17:32:50.557Z"
   },
   {
    "duration": 33,
    "start_time": "2022-10-19T17:32:50.568Z"
   },
   {
    "duration": 15,
    "start_time": "2022-10-19T17:32:50.603Z"
   },
   {
    "duration": 16,
    "start_time": "2022-10-19T17:32:50.620Z"
   },
   {
    "duration": 17,
    "start_time": "2022-10-19T17:32:50.638Z"
   },
   {
    "duration": 15,
    "start_time": "2022-10-19T17:32:50.694Z"
   },
   {
    "duration": 15,
    "start_time": "2022-10-19T17:32:50.711Z"
   },
   {
    "duration": 13,
    "start_time": "2022-10-19T17:32:50.728Z"
   },
   {
    "duration": 16,
    "start_time": "2022-10-19T17:32:57.739Z"
   },
   {
    "duration": 71,
    "start_time": "2022-10-19T17:34:31.483Z"
   },
   {
    "duration": 156,
    "start_time": "2022-10-19T17:34:34.154Z"
   },
   {
    "duration": 155,
    "start_time": "2022-10-19T17:35:58.835Z"
   },
   {
    "duration": 149,
    "start_time": "2022-10-19T17:36:06.187Z"
   },
   {
    "duration": 208,
    "start_time": "2022-10-19T17:36:57.379Z"
   },
   {
    "duration": 14,
    "start_time": "2022-10-19T17:37:16.899Z"
   },
   {
    "duration": 11,
    "start_time": "2022-10-19T17:40:51.135Z"
   },
   {
    "duration": 18,
    "start_time": "2022-10-19T17:40:55.018Z"
   },
   {
    "duration": 16,
    "start_time": "2022-10-19T17:42:10.371Z"
   },
   {
    "duration": 12,
    "start_time": "2022-10-19T17:43:25.106Z"
   },
   {
    "duration": 15,
    "start_time": "2022-10-19T17:43:29.610Z"
   },
   {
    "duration": 13,
    "start_time": "2022-10-19T17:43:34.409Z"
   },
   {
    "duration": 11,
    "start_time": "2022-10-19T17:43:42.602Z"
   },
   {
    "duration": 14,
    "start_time": "2022-10-19T17:43:45.842Z"
   },
   {
    "duration": 15,
    "start_time": "2022-10-19T17:44:17.898Z"
   },
   {
    "duration": 14,
    "start_time": "2022-10-19T17:44:43.627Z"
   },
   {
    "duration": 14,
    "start_time": "2022-10-19T17:44:45.417Z"
   },
   {
    "duration": 14,
    "start_time": "2022-10-19T17:45:10.666Z"
   },
   {
    "duration": 15,
    "start_time": "2022-10-19T17:45:16.130Z"
   },
   {
    "duration": 18,
    "start_time": "2022-10-19T17:45:22.385Z"
   },
   {
    "duration": 16,
    "start_time": "2022-10-19T17:45:35.579Z"
   },
   {
    "duration": 16,
    "start_time": "2022-10-19T17:45:43.314Z"
   },
   {
    "duration": 17,
    "start_time": "2022-10-19T17:45:55.242Z"
   },
   {
    "duration": 17,
    "start_time": "2022-10-19T17:46:52.042Z"
   },
   {
    "duration": 18,
    "start_time": "2022-10-19T17:47:11.834Z"
   },
   {
    "duration": 16,
    "start_time": "2022-10-19T17:47:15.057Z"
   },
   {
    "duration": 18,
    "start_time": "2022-10-19T17:47:21.930Z"
   },
   {
    "duration": 17,
    "start_time": "2022-10-19T17:48:00.402Z"
   },
   {
    "duration": 16,
    "start_time": "2022-10-19T17:50:09.139Z"
   },
   {
    "duration": 17,
    "start_time": "2022-10-19T17:51:48.627Z"
   },
   {
    "duration": 48,
    "start_time": "2022-10-20T06:49:53.951Z"
   },
   {
    "duration": 6,
    "start_time": "2022-10-20T06:50:15.957Z"
   },
   {
    "duration": 994,
    "start_time": "2022-10-20T06:50:19.868Z"
   },
   {
    "duration": 22,
    "start_time": "2022-10-20T06:50:20.864Z"
   },
   {
    "duration": 21,
    "start_time": "2022-10-20T06:50:20.887Z"
   },
   {
    "duration": 4,
    "start_time": "2022-10-20T06:50:20.915Z"
   },
   {
    "duration": 8,
    "start_time": "2022-10-20T06:50:20.920Z"
   },
   {
    "duration": 8,
    "start_time": "2022-10-20T06:50:20.929Z"
   },
   {
    "duration": 11,
    "start_time": "2022-10-20T06:50:20.938Z"
   },
   {
    "duration": 7,
    "start_time": "2022-10-20T06:50:20.950Z"
   },
   {
    "duration": 256,
    "start_time": "2022-10-20T06:50:20.958Z"
   },
   {
    "duration": 14,
    "start_time": "2022-10-20T06:50:21.217Z"
   },
   {
    "duration": 281,
    "start_time": "2022-10-20T06:50:21.233Z"
   },
   {
    "duration": 7,
    "start_time": "2022-10-20T06:50:21.515Z"
   },
   {
    "duration": 286,
    "start_time": "2022-10-20T06:50:21.523Z"
   },
   {
    "duration": 120,
    "start_time": "2022-10-20T06:50:21.813Z"
   },
   {
    "duration": 184,
    "start_time": "2022-10-20T06:50:21.935Z"
   },
   {
    "duration": 5,
    "start_time": "2022-10-20T06:50:22.120Z"
   },
   {
    "duration": 137,
    "start_time": "2022-10-20T06:50:22.127Z"
   },
   {
    "duration": 151,
    "start_time": "2022-10-20T06:50:22.266Z"
   },
   {
    "duration": 16,
    "start_time": "2022-10-20T06:50:22.419Z"
   },
   {
    "duration": 209,
    "start_time": "2022-10-20T06:50:22.436Z"
   },
   {
    "duration": 16,
    "start_time": "2022-10-20T06:50:22.647Z"
   },
   {
    "duration": 53,
    "start_time": "2022-10-20T06:50:22.664Z"
   },
   {
    "duration": 14,
    "start_time": "2022-10-20T06:50:22.720Z"
   },
   {
    "duration": 16,
    "start_time": "2022-10-20T06:50:22.736Z"
   },
   {
    "duration": 16,
    "start_time": "2022-10-20T06:50:22.754Z"
   },
   {
    "duration": 31,
    "start_time": "2022-10-20T06:50:22.771Z"
   },
   {
    "duration": 18,
    "start_time": "2022-10-20T06:50:22.809Z"
   },
   {
    "duration": 12,
    "start_time": "2022-10-20T06:50:22.830Z"
   },
   {
    "duration": 15,
    "start_time": "2022-10-20T06:50:56.661Z"
   },
   {
    "duration": 16,
    "start_time": "2022-10-20T06:51:11.357Z"
   },
   {
    "duration": 14,
    "start_time": "2022-10-20T06:51:21.581Z"
   },
   {
    "duration": 25,
    "start_time": "2022-10-20T06:51:29.998Z"
   },
   {
    "duration": 59,
    "start_time": "2022-10-20T06:53:22.183Z"
   },
   {
    "duration": 16,
    "start_time": "2022-10-20T06:53:30.955Z"
   },
   {
    "duration": 16,
    "start_time": "2022-10-20T06:54:20.769Z"
   },
   {
    "duration": 26,
    "start_time": "2022-10-20T06:55:01.890Z"
   },
   {
    "duration": 18,
    "start_time": "2022-10-20T06:55:09.943Z"
   },
   {
    "duration": 17,
    "start_time": "2022-10-20T06:56:03.612Z"
   },
   {
    "duration": 16,
    "start_time": "2022-10-20T06:56:59.137Z"
   },
   {
    "duration": 16,
    "start_time": "2022-10-20T06:57:05.554Z"
   },
   {
    "duration": 18,
    "start_time": "2022-10-20T06:58:14.942Z"
   },
   {
    "duration": 22,
    "start_time": "2022-10-20T06:58:19.995Z"
   },
   {
    "duration": 17,
    "start_time": "2022-10-20T06:58:32.896Z"
   },
   {
    "duration": 16,
    "start_time": "2022-10-20T06:58:50.037Z"
   },
   {
    "duration": 5,
    "start_time": "2022-10-20T07:09:25.878Z"
   },
   {
    "duration": 272,
    "start_time": "2022-10-20T07:09:27.352Z"
   },
   {
    "duration": 516,
    "start_time": "2022-10-20T07:36:23.311Z"
   },
   {
    "duration": 27,
    "start_time": "2022-10-20T07:36:40.711Z"
   },
   {
    "duration": 36,
    "start_time": "2022-10-20T07:36:48.725Z"
   },
   {
    "duration": 21,
    "start_time": "2022-10-20T07:36:48.763Z"
   },
   {
    "duration": 41,
    "start_time": "2022-10-20T07:36:48.786Z"
   },
   {
    "duration": 4,
    "start_time": "2022-10-20T07:36:48.828Z"
   },
   {
    "duration": 6,
    "start_time": "2022-10-20T07:36:48.834Z"
   },
   {
    "duration": 9,
    "start_time": "2022-10-20T07:36:48.842Z"
   },
   {
    "duration": 23,
    "start_time": "2022-10-20T07:36:48.852Z"
   },
   {
    "duration": 15,
    "start_time": "2022-10-20T07:36:48.876Z"
   },
   {
    "duration": 240,
    "start_time": "2022-10-20T07:36:48.892Z"
   },
   {
    "duration": 18,
    "start_time": "2022-10-20T07:36:49.134Z"
   },
   {
    "duration": 272,
    "start_time": "2022-10-20T07:36:49.153Z"
   },
   {
    "duration": 5,
    "start_time": "2022-10-20T07:36:49.427Z"
   },
   {
    "duration": 276,
    "start_time": "2022-10-20T07:36:49.434Z"
   },
   {
    "duration": 129,
    "start_time": "2022-10-20T07:36:49.712Z"
   },
   {
    "duration": 125,
    "start_time": "2022-10-20T07:36:49.843Z"
   },
   {
    "duration": 6,
    "start_time": "2022-10-20T07:36:49.969Z"
   },
   {
    "duration": 174,
    "start_time": "2022-10-20T07:36:49.976Z"
   },
   {
    "duration": 173,
    "start_time": "2022-10-20T07:36:50.151Z"
   },
   {
    "duration": 15,
    "start_time": "2022-10-20T07:36:50.325Z"
   },
   {
    "duration": 223,
    "start_time": "2022-10-20T07:36:50.342Z"
   },
   {
    "duration": 15,
    "start_time": "2022-10-20T07:36:50.567Z"
   },
   {
    "duration": 31,
    "start_time": "2022-10-20T07:36:50.583Z"
   },
   {
    "duration": 22,
    "start_time": "2022-10-20T07:36:50.615Z"
   },
   {
    "duration": 17,
    "start_time": "2022-10-20T07:36:50.639Z"
   },
   {
    "duration": 17,
    "start_time": "2022-10-20T07:36:50.658Z"
   },
   {
    "duration": 22,
    "start_time": "2022-10-20T07:36:50.701Z"
   },
   {
    "duration": 18,
    "start_time": "2022-10-20T07:36:50.725Z"
   },
   {
    "duration": 19,
    "start_time": "2022-10-20T07:36:50.744Z"
   },
   {
    "duration": 47,
    "start_time": "2022-10-20T07:36:50.765Z"
   },
   {
    "duration": 33,
    "start_time": "2022-10-20T07:36:50.815Z"
   },
   {
    "duration": 29,
    "start_time": "2022-10-20T07:36:58.739Z"
   },
   {
    "duration": 26,
    "start_time": "2022-10-20T07:37:03.526Z"
   },
   {
    "duration": 30,
    "start_time": "2022-10-20T07:37:13.903Z"
   },
   {
    "duration": 926,
    "start_time": "2022-10-20T07:37:58.325Z"
   },
   {
    "duration": 691,
    "start_time": "2022-10-20T07:38:07.881Z"
   },
   {
    "duration": 11,
    "start_time": "2022-10-20T07:38:26.854Z"
   },
   {
    "duration": 9,
    "start_time": "2022-10-20T07:38:40.171Z"
   },
   {
    "duration": 66,
    "start_time": "2022-10-20T07:39:02.857Z"
   },
   {
    "duration": 11,
    "start_time": "2022-10-20T07:39:05.944Z"
   },
   {
    "duration": 19,
    "start_time": "2022-10-20T07:39:59.302Z"
   },
   {
    "duration": 11,
    "start_time": "2022-10-20T07:40:03.624Z"
   },
   {
    "duration": 9,
    "start_time": "2022-10-20T07:41:13.634Z"
   },
   {
    "duration": 12,
    "start_time": "2022-10-20T07:41:26.507Z"
   },
   {
    "duration": 13,
    "start_time": "2022-10-20T08:45:46.103Z"
   },
   {
    "duration": 15,
    "start_time": "2022-10-20T08:59:53.612Z"
   },
   {
    "duration": 15,
    "start_time": "2022-10-20T08:59:56.718Z"
   },
   {
    "duration": 10,
    "start_time": "2022-10-20T09:00:00.659Z"
   },
   {
    "duration": 9,
    "start_time": "2022-10-20T09:00:04.987Z"
   },
   {
    "duration": 13,
    "start_time": "2022-10-20T09:00:18.162Z"
   },
   {
    "duration": 10,
    "start_time": "2022-10-20T09:00:20.153Z"
   },
   {
    "duration": 10,
    "start_time": "2022-10-20T09:03:10.427Z"
   },
   {
    "duration": 10,
    "start_time": "2022-10-20T09:03:12.274Z"
   },
   {
    "duration": 2,
    "start_time": "2022-10-20T09:04:09.291Z"
   },
   {
    "duration": 12,
    "start_time": "2022-10-20T09:04:14.676Z"
   },
   {
    "duration": 9,
    "start_time": "2022-10-20T09:04:16.566Z"
   },
   {
    "duration": 10,
    "start_time": "2022-10-20T09:04:48.330Z"
   },
   {
    "duration": 52,
    "start_time": "2022-10-20T09:18:15.344Z"
   },
   {
    "duration": 1847,
    "start_time": "2022-10-20T09:18:20.274Z"
   },
   {
    "duration": 21,
    "start_time": "2022-10-20T09:18:36.903Z"
   },
   {
    "duration": 890,
    "start_time": "2022-10-20T09:18:51.745Z"
   },
   {
    "duration": 976,
    "start_time": "2022-10-20T09:19:23.635Z"
   },
   {
    "duration": 950,
    "start_time": "2022-10-20T09:19:31.954Z"
   },
   {
    "duration": 12178,
    "start_time": "2022-10-20T09:20:52.601Z"
   },
   {
    "duration": 1075,
    "start_time": "2022-10-20T09:21:42.901Z"
   },
   {
    "duration": 22,
    "start_time": "2022-10-20T09:21:43.978Z"
   },
   {
    "duration": 12,
    "start_time": "2022-10-20T09:21:44.002Z"
   },
   {
    "duration": 5,
    "start_time": "2022-10-20T09:21:44.015Z"
   },
   {
    "duration": 6,
    "start_time": "2022-10-20T09:21:44.022Z"
   },
   {
    "duration": 8,
    "start_time": "2022-10-20T09:21:44.029Z"
   },
   {
    "duration": 17,
    "start_time": "2022-10-20T09:21:44.038Z"
   },
   {
    "duration": 11273,
    "start_time": "2022-10-20T09:21:44.056Z"
   },
   {
    "duration": 13,
    "start_time": "2022-10-20T09:21:55.330Z"
   },
   {
    "duration": 6,
    "start_time": "2022-10-20T09:21:55.344Z"
   },
   {
    "duration": 257,
    "start_time": "2022-10-20T09:21:55.352Z"
   },
   {
    "duration": 13,
    "start_time": "2022-10-20T09:21:55.610Z"
   },
   {
    "duration": 273,
    "start_time": "2022-10-20T09:21:55.624Z"
   },
   {
    "duration": 4,
    "start_time": "2022-10-20T09:21:55.902Z"
   },
   {
    "duration": 290,
    "start_time": "2022-10-20T09:21:55.907Z"
   },
   {
    "duration": 112,
    "start_time": "2022-10-20T09:21:56.199Z"
   },
   {
    "duration": 117,
    "start_time": "2022-10-20T09:21:56.313Z"
   },
   {
    "duration": 5,
    "start_time": "2022-10-20T09:21:56.432Z"
   },
   {
    "duration": 118,
    "start_time": "2022-10-20T09:21:56.438Z"
   },
   {
    "duration": 135,
    "start_time": "2022-10-20T09:21:56.558Z"
   },
   {
    "duration": 14,
    "start_time": "2022-10-20T09:21:56.700Z"
   },
   {
    "duration": 221,
    "start_time": "2022-10-20T09:21:56.715Z"
   },
   {
    "duration": 16,
    "start_time": "2022-10-20T09:21:56.938Z"
   },
   {
    "duration": 15,
    "start_time": "2022-10-20T09:21:56.955Z"
   },
   {
    "duration": 37,
    "start_time": "2022-10-20T09:21:56.972Z"
   },
   {
    "duration": 19,
    "start_time": "2022-10-20T09:21:57.010Z"
   },
   {
    "duration": 25,
    "start_time": "2022-10-20T09:21:57.030Z"
   },
   {
    "duration": 44,
    "start_time": "2022-10-20T09:21:57.057Z"
   },
   {
    "duration": 16,
    "start_time": "2022-10-20T09:21:57.103Z"
   },
   {
    "duration": 41,
    "start_time": "2022-10-20T09:21:57.120Z"
   },
   {
    "duration": 16,
    "start_time": "2022-10-20T09:21:57.163Z"
   },
   {
    "duration": 9,
    "start_time": "2022-10-20T09:21:57.180Z"
   },
   {
    "duration": 29,
    "start_time": "2022-10-20T09:21:57.190Z"
   },
   {
    "duration": 16,
    "start_time": "2022-10-20T09:21:57.220Z"
   },
   {
    "duration": 22712,
    "start_time": "2022-10-20T09:22:50.123Z"
   },
   {
    "duration": 87,
    "start_time": "2022-10-20T09:28:50.043Z"
   },
   {
    "duration": 10,
    "start_time": "2022-10-20T09:29:03.867Z"
   },
   {
    "duration": 12,
    "start_time": "2022-10-20T09:29:17.330Z"
   },
   {
    "duration": 54,
    "start_time": "2022-10-20T09:29:20.538Z"
   },
   {
    "duration": 8363,
    "start_time": "2022-10-20T09:29:41.483Z"
   },
   {
    "duration": 2803,
    "start_time": "2022-10-20T09:36:29.642Z"
   },
   {
    "duration": 3057,
    "start_time": "2022-10-20T09:36:49.043Z"
   },
   {
    "duration": 285,
    "start_time": "2022-10-20T09:37:06.363Z"
   },
   {
    "duration": 319,
    "start_time": "2022-10-20T09:39:47.379Z"
   },
   {
    "duration": 5,
    "start_time": "2022-10-20T09:43:05.498Z"
   },
   {
    "duration": 355,
    "start_time": "2022-10-20T09:43:23.963Z"
   },
   {
    "duration": 312,
    "start_time": "2022-10-20T09:44:21.026Z"
   },
   {
    "duration": 16,
    "start_time": "2022-10-20T09:44:52.978Z"
   },
   {
    "duration": 14,
    "start_time": "2022-10-20T09:44:54.955Z"
   },
   {
    "duration": 604,
    "start_time": "2022-10-20T09:44:55.882Z"
   },
   {
    "duration": 46,
    "start_time": "2022-10-20T09:44:58.475Z"
   },
   {
    "duration": 19,
    "start_time": "2022-10-20T09:44:58.523Z"
   },
   {
    "duration": 19,
    "start_time": "2022-10-20T09:44:58.543Z"
   },
   {
    "duration": 2,
    "start_time": "2022-10-20T09:44:58.564Z"
   },
   {
    "duration": 6,
    "start_time": "2022-10-20T09:44:58.568Z"
   },
   {
    "duration": 27,
    "start_time": "2022-10-20T09:44:58.576Z"
   },
   {
    "duration": 11,
    "start_time": "2022-10-20T09:44:58.604Z"
   },
   {
    "duration": 15,
    "start_time": "2022-10-20T09:44:58.616Z"
   },
   {
    "duration": 4,
    "start_time": "2022-10-20T09:44:58.632Z"
   },
   {
    "duration": 240,
    "start_time": "2022-10-20T09:44:58.638Z"
   },
   {
    "duration": 30,
    "start_time": "2022-10-20T09:44:58.880Z"
   },
   {
    "duration": 257,
    "start_time": "2022-10-20T09:44:58.912Z"
   },
   {
    "duration": 310,
    "start_time": "2022-10-20T09:44:59.171Z"
   },
   {
    "duration": 4,
    "start_time": "2022-10-20T09:44:59.482Z"
   },
   {
    "duration": 283,
    "start_time": "2022-10-20T09:44:59.488Z"
   },
   {
    "duration": 6,
    "start_time": "2022-10-20T09:44:59.772Z"
   },
   {
    "duration": 146,
    "start_time": "2022-10-20T09:44:59.780Z"
   },
   {
    "duration": 149,
    "start_time": "2022-10-20T09:44:59.927Z"
   },
   {
    "duration": 29,
    "start_time": "2022-10-20T09:45:00.078Z"
   },
   {
    "duration": 200,
    "start_time": "2022-10-20T09:45:00.109Z"
   },
   {
    "duration": 15,
    "start_time": "2022-10-20T09:45:00.310Z"
   },
   {
    "duration": 30,
    "start_time": "2022-10-20T09:45:00.326Z"
   },
   {
    "duration": 25,
    "start_time": "2022-10-20T09:45:00.358Z"
   },
   {
    "duration": 26,
    "start_time": "2022-10-20T09:45:00.385Z"
   },
   {
    "duration": 15,
    "start_time": "2022-10-20T09:45:00.413Z"
   },
   {
    "duration": 23,
    "start_time": "2022-10-20T09:45:00.429Z"
   },
   {
    "duration": 28,
    "start_time": "2022-10-20T09:45:00.454Z"
   },
   {
    "duration": 30,
    "start_time": "2022-10-20T09:45:00.484Z"
   },
   {
    "duration": 31,
    "start_time": "2022-10-20T09:45:00.515Z"
   },
   {
    "duration": 26,
    "start_time": "2022-10-20T09:45:00.548Z"
   },
   {
    "duration": 33,
    "start_time": "2022-10-20T09:45:00.576Z"
   },
   {
    "duration": 18,
    "start_time": "2022-10-20T09:45:00.611Z"
   },
   {
    "duration": 245,
    "start_time": "2022-10-20T09:49:42.675Z"
   },
   {
    "duration": 410,
    "start_time": "2022-10-20T09:49:50.123Z"
   },
   {
    "duration": 272,
    "start_time": "2022-10-20T09:50:17.714Z"
   },
   {
    "duration": 252,
    "start_time": "2022-10-20T09:50:23.419Z"
   },
   {
    "duration": 271,
    "start_time": "2022-10-20T09:50:27.122Z"
   },
   {
    "duration": 233,
    "start_time": "2022-10-20T09:50:31.051Z"
   },
   {
    "duration": 232,
    "start_time": "2022-10-20T09:50:36.292Z"
   },
   {
    "duration": 296,
    "start_time": "2022-10-20T09:50:40.210Z"
   },
   {
    "duration": 281,
    "start_time": "2022-10-20T09:50:46.962Z"
   },
   {
    "duration": 264,
    "start_time": "2022-10-20T09:50:52.938Z"
   },
   {
    "duration": 15,
    "start_time": "2022-10-20T09:54:12.026Z"
   },
   {
    "duration": 15,
    "start_time": "2022-10-20T09:58:55.571Z"
   },
   {
    "duration": 15,
    "start_time": "2022-10-20T09:59:05.723Z"
   },
   {
    "duration": 15,
    "start_time": "2022-10-20T09:59:08.655Z"
   },
   {
    "duration": 15,
    "start_time": "2022-10-20T09:59:36.530Z"
   },
   {
    "duration": 15,
    "start_time": "2022-10-20T09:59:41.518Z"
   },
   {
    "duration": 16,
    "start_time": "2022-10-20T10:02:13.906Z"
   },
   {
    "duration": 34,
    "start_time": "2022-10-20T10:02:16.699Z"
   },
   {
    "duration": 17,
    "start_time": "2022-10-20T10:02:16.735Z"
   },
   {
    "duration": 20,
    "start_time": "2022-10-20T10:02:16.754Z"
   },
   {
    "duration": 3,
    "start_time": "2022-10-20T10:02:16.776Z"
   },
   {
    "duration": 6,
    "start_time": "2022-10-20T10:02:16.801Z"
   },
   {
    "duration": 10,
    "start_time": "2022-10-20T10:02:16.808Z"
   },
   {
    "duration": 12,
    "start_time": "2022-10-20T10:02:16.820Z"
   },
   {
    "duration": 13,
    "start_time": "2022-10-20T10:02:16.834Z"
   },
   {
    "duration": 3,
    "start_time": "2022-10-20T10:02:16.849Z"
   },
   {
    "duration": 256,
    "start_time": "2022-10-20T10:02:16.855Z"
   },
   {
    "duration": 18,
    "start_time": "2022-10-20T10:02:17.113Z"
   },
   {
    "duration": 276,
    "start_time": "2022-10-20T10:02:17.133Z"
   },
   {
    "duration": 314,
    "start_time": "2022-10-20T10:02:17.411Z"
   },
   {
    "duration": 5,
    "start_time": "2022-10-20T10:02:17.727Z"
   },
   {
    "duration": 291,
    "start_time": "2022-10-20T10:02:17.734Z"
   },
   {
    "duration": 7,
    "start_time": "2022-10-20T10:02:18.027Z"
   },
   {
    "duration": 154,
    "start_time": "2022-10-20T10:02:18.036Z"
   },
   {
    "duration": 146,
    "start_time": "2022-10-20T10:02:18.192Z"
   },
   {
    "duration": 14,
    "start_time": "2022-10-20T10:02:18.340Z"
   },
   {
    "duration": 202,
    "start_time": "2022-10-20T10:02:18.355Z"
   },
   {
    "duration": 16,
    "start_time": "2022-10-20T10:02:18.558Z"
   },
   {
    "duration": 33,
    "start_time": "2022-10-20T10:02:18.576Z"
   },
   {
    "duration": 15,
    "start_time": "2022-10-20T10:02:18.611Z"
   },
   {
    "duration": 20,
    "start_time": "2022-10-20T10:02:18.628Z"
   },
   {
    "duration": 17,
    "start_time": "2022-10-20T10:02:18.650Z"
   },
   {
    "duration": 15,
    "start_time": "2022-10-20T10:02:18.701Z"
   },
   {
    "duration": 22,
    "start_time": "2022-10-20T10:02:18.718Z"
   },
   {
    "duration": 16,
    "start_time": "2022-10-20T10:02:18.743Z"
   },
   {
    "duration": 19,
    "start_time": "2022-10-20T10:02:18.761Z"
   },
   {
    "duration": 26,
    "start_time": "2022-10-20T10:02:18.781Z"
   },
   {
    "duration": 14,
    "start_time": "2022-10-20T10:02:18.808Z"
   },
   {
    "duration": 14,
    "start_time": "2022-10-20T10:02:18.823Z"
   },
   {
    "duration": 16,
    "start_time": "2022-10-20T10:04:34.811Z"
   },
   {
    "duration": 18,
    "start_time": "2022-10-20T10:04:44.419Z"
   },
   {
    "duration": 4,
    "start_time": "2022-10-20T10:32:24.604Z"
   },
   {
    "duration": 5,
    "start_time": "2022-10-20T10:32:34.956Z"
   },
   {
    "duration": 4,
    "start_time": "2022-10-20T10:32:39.652Z"
   },
   {
    "duration": 4,
    "start_time": "2022-10-20T10:32:47.020Z"
   },
   {
    "duration": 4,
    "start_time": "2022-10-20T10:32:55.820Z"
   },
   {
    "duration": 4,
    "start_time": "2022-10-20T10:33:02.148Z"
   },
   {
    "duration": 274,
    "start_time": "2022-10-20T10:41:34.430Z"
   },
   {
    "duration": 193,
    "start_time": "2022-10-20T10:41:39.421Z"
   },
   {
    "duration": 180,
    "start_time": "2022-10-20T10:42:09.085Z"
   },
   {
    "duration": 198,
    "start_time": "2022-10-20T10:42:15.445Z"
   },
   {
    "duration": 1071,
    "start_time": "2022-10-20T11:07:17.482Z"
   },
   {
    "duration": 21,
    "start_time": "2022-10-20T11:07:18.555Z"
   },
   {
    "duration": 12,
    "start_time": "2022-10-20T11:07:18.578Z"
   },
   {
    "duration": 10,
    "start_time": "2022-10-20T11:07:18.591Z"
   },
   {
    "duration": 6,
    "start_time": "2022-10-20T11:07:18.603Z"
   },
   {
    "duration": 11,
    "start_time": "2022-10-20T11:07:18.610Z"
   },
   {
    "duration": 11,
    "start_time": "2022-10-20T11:07:18.622Z"
   },
   {
    "duration": 16,
    "start_time": "2022-10-20T11:07:18.634Z"
   },
   {
    "duration": 5,
    "start_time": "2022-10-20T11:07:18.651Z"
   },
   {
    "duration": 261,
    "start_time": "2022-10-20T11:07:18.659Z"
   },
   {
    "duration": 14,
    "start_time": "2022-10-20T11:07:18.922Z"
   },
   {
    "duration": 284,
    "start_time": "2022-10-20T11:07:18.938Z"
   },
   {
    "duration": 308,
    "start_time": "2022-10-20T11:07:19.224Z"
   },
   {
    "duration": 3,
    "start_time": "2022-10-20T11:07:19.534Z"
   },
   {
    "duration": 280,
    "start_time": "2022-10-20T11:07:19.539Z"
   },
   {
    "duration": 5,
    "start_time": "2022-10-20T11:07:19.820Z"
   },
   {
    "duration": 140,
    "start_time": "2022-10-20T11:07:19.827Z"
   },
   {
    "duration": 151,
    "start_time": "2022-10-20T11:07:19.969Z"
   },
   {
    "duration": 13,
    "start_time": "2022-10-20T11:07:20.121Z"
   },
   {
    "duration": 201,
    "start_time": "2022-10-20T11:07:20.136Z"
   },
   {
    "duration": 15,
    "start_time": "2022-10-20T11:07:20.338Z"
   },
   {
    "duration": 17,
    "start_time": "2022-10-20T11:07:20.354Z"
   },
   {
    "duration": 39,
    "start_time": "2022-10-20T11:07:20.373Z"
   },
   {
    "duration": 17,
    "start_time": "2022-10-20T11:07:20.414Z"
   },
   {
    "duration": 14,
    "start_time": "2022-10-20T11:07:20.432Z"
   },
   {
    "duration": 14,
    "start_time": "2022-10-20T11:07:20.447Z"
   },
   {
    "duration": 51,
    "start_time": "2022-10-20T11:07:20.462Z"
   },
   {
    "duration": 17,
    "start_time": "2022-10-20T11:07:20.516Z"
   },
   {
    "duration": 23,
    "start_time": "2022-10-20T11:07:20.534Z"
   },
   {
    "duration": 10,
    "start_time": "2022-10-20T11:07:20.559Z"
   },
   {
    "duration": 33,
    "start_time": "2022-10-20T11:07:20.570Z"
   },
   {
    "duration": 10,
    "start_time": "2022-10-20T11:07:20.605Z"
   },
   {
    "duration": 14,
    "start_time": "2022-10-20T11:23:09.472Z"
   },
   {
    "duration": 15,
    "start_time": "2022-10-20T11:23:11.287Z"
   },
   {
    "duration": 1009,
    "start_time": "2022-10-20T11:36:56.162Z"
   },
   {
    "duration": 23,
    "start_time": "2022-10-20T11:36:57.174Z"
   },
   {
    "duration": 13,
    "start_time": "2022-10-20T11:36:57.198Z"
   },
   {
    "duration": 7,
    "start_time": "2022-10-20T11:36:57.212Z"
   },
   {
    "duration": 8,
    "start_time": "2022-10-20T11:36:57.220Z"
   },
   {
    "duration": 11,
    "start_time": "2022-10-20T11:36:57.230Z"
   },
   {
    "duration": 8,
    "start_time": "2022-10-20T11:36:57.243Z"
   },
   {
    "duration": 14,
    "start_time": "2022-10-20T11:36:57.252Z"
   },
   {
    "duration": 35,
    "start_time": "2022-10-20T11:36:57.268Z"
   },
   {
    "duration": 239,
    "start_time": "2022-10-20T11:36:57.305Z"
   },
   {
    "duration": 14,
    "start_time": "2022-10-20T11:36:57.546Z"
   },
   {
    "duration": 277,
    "start_time": "2022-10-20T11:36:57.562Z"
   },
   {
    "duration": 319,
    "start_time": "2022-10-20T11:36:57.840Z"
   },
   {
    "duration": 4,
    "start_time": "2022-10-20T11:36:58.161Z"
   },
   {
    "duration": 303,
    "start_time": "2022-10-20T11:36:58.167Z"
   },
   {
    "duration": 5,
    "start_time": "2022-10-20T11:36:58.472Z"
   },
   {
    "duration": 139,
    "start_time": "2022-10-20T11:36:58.479Z"
   },
   {
    "duration": 150,
    "start_time": "2022-10-20T11:36:58.619Z"
   },
   {
    "duration": 31,
    "start_time": "2022-10-20T11:36:58.770Z"
   },
   {
    "duration": 208,
    "start_time": "2022-10-20T11:36:58.804Z"
   },
   {
    "duration": 14,
    "start_time": "2022-10-20T11:36:59.014Z"
   },
   {
    "duration": 21,
    "start_time": "2022-10-20T11:36:59.030Z"
   },
   {
    "duration": 23,
    "start_time": "2022-10-20T11:36:59.052Z"
   },
   {
    "duration": 30,
    "start_time": "2022-10-20T11:36:59.077Z"
   },
   {
    "duration": 20,
    "start_time": "2022-10-20T11:36:59.108Z"
   },
   {
    "duration": 27,
    "start_time": "2022-10-20T11:36:59.129Z"
   },
   {
    "duration": 49,
    "start_time": "2022-10-20T11:36:59.158Z"
   },
   {
    "duration": 16,
    "start_time": "2022-10-20T11:36:59.210Z"
   },
   {
    "duration": 19,
    "start_time": "2022-10-20T11:36:59.227Z"
   },
   {
    "duration": 4,
    "start_time": "2022-10-20T11:36:59.247Z"
   },
   {
    "duration": 11,
    "start_time": "2022-10-20T11:36:59.252Z"
   },
   {
    "duration": 47,
    "start_time": "2022-10-20T11:36:59.265Z"
   },
   {
    "duration": 1145,
    "start_time": "2022-10-20T11:39:08.098Z"
   },
   {
    "duration": 21,
    "start_time": "2022-10-20T11:39:09.245Z"
   },
   {
    "duration": 13,
    "start_time": "2022-10-20T11:39:09.268Z"
   },
   {
    "duration": 3,
    "start_time": "2022-10-20T11:39:09.283Z"
   },
   {
    "duration": 4,
    "start_time": "2022-10-20T11:39:09.300Z"
   },
   {
    "duration": 9,
    "start_time": "2022-10-20T11:39:09.306Z"
   },
   {
    "duration": 14,
    "start_time": "2022-10-20T11:39:09.317Z"
   },
   {
    "duration": 25,
    "start_time": "2022-10-20T11:39:09.332Z"
   },
   {
    "duration": 5,
    "start_time": "2022-10-20T11:39:09.358Z"
   },
   {
    "duration": 263,
    "start_time": "2022-10-20T11:39:09.366Z"
   },
   {
    "duration": 17,
    "start_time": "2022-10-20T11:39:09.631Z"
   },
   {
    "duration": 270,
    "start_time": "2022-10-20T11:39:09.650Z"
   },
   {
    "duration": 303,
    "start_time": "2022-10-20T11:39:09.921Z"
   },
   {
    "duration": 4,
    "start_time": "2022-10-20T11:39:10.226Z"
   },
   {
    "duration": 281,
    "start_time": "2022-10-20T11:39:10.232Z"
   },
   {
    "duration": 6,
    "start_time": "2022-10-20T11:39:10.514Z"
   },
   {
    "duration": 145,
    "start_time": "2022-10-20T11:39:10.521Z"
   },
   {
    "duration": 147,
    "start_time": "2022-10-20T11:39:10.668Z"
   },
   {
    "duration": 12,
    "start_time": "2022-10-20T11:39:10.817Z"
   },
   {
    "duration": 192,
    "start_time": "2022-10-20T11:39:10.831Z"
   },
   {
    "duration": 15,
    "start_time": "2022-10-20T11:39:11.025Z"
   },
   {
    "duration": 17,
    "start_time": "2022-10-20T11:39:11.041Z"
   },
   {
    "duration": 13,
    "start_time": "2022-10-20T11:39:11.060Z"
   },
   {
    "duration": 13,
    "start_time": "2022-10-20T11:39:11.101Z"
   },
   {
    "duration": 16,
    "start_time": "2022-10-20T11:39:11.115Z"
   },
   {
    "duration": 13,
    "start_time": "2022-10-20T11:39:11.132Z"
   },
   {
    "duration": 14,
    "start_time": "2022-10-20T11:39:11.147Z"
   },
   {
    "duration": 14,
    "start_time": "2022-10-20T11:39:11.200Z"
   },
   {
    "duration": 13,
    "start_time": "2022-10-20T11:39:11.215Z"
   },
   {
    "duration": 5,
    "start_time": "2022-10-20T11:39:11.229Z"
   },
   {
    "duration": 16,
    "start_time": "2022-10-20T11:39:11.235Z"
   },
   {
    "duration": 8,
    "start_time": "2022-10-20T11:39:11.253Z"
   },
   {
    "duration": 44,
    "start_time": "2022-10-21T02:38:13.917Z"
   },
   {
    "duration": 1274,
    "start_time": "2022-10-21T02:38:24.975Z"
   },
   {
    "duration": 24,
    "start_time": "2022-10-21T02:38:26.251Z"
   },
   {
    "duration": 13,
    "start_time": "2022-10-21T02:38:26.277Z"
   },
   {
    "duration": 4,
    "start_time": "2022-10-21T02:38:26.292Z"
   },
   {
    "duration": 12,
    "start_time": "2022-10-21T02:38:26.298Z"
   },
   {
    "duration": 19,
    "start_time": "2022-10-21T02:38:26.311Z"
   },
   {
    "duration": 18,
    "start_time": "2022-10-21T02:38:26.332Z"
   },
   {
    "duration": 27,
    "start_time": "2022-10-21T02:38:26.351Z"
   },
   {
    "duration": 9,
    "start_time": "2022-10-21T02:38:26.379Z"
   },
   {
    "duration": 235,
    "start_time": "2022-10-21T02:38:26.389Z"
   },
   {
    "duration": 14,
    "start_time": "2022-10-21T02:38:26.626Z"
   },
   {
    "duration": 294,
    "start_time": "2022-10-21T02:38:26.642Z"
   },
   {
    "duration": 302,
    "start_time": "2022-10-21T02:38:26.938Z"
   },
   {
    "duration": 4,
    "start_time": "2022-10-21T02:38:27.243Z"
   },
   {
    "duration": 325,
    "start_time": "2022-10-21T02:38:27.248Z"
   },
   {
    "duration": 5,
    "start_time": "2022-10-21T02:38:27.574Z"
   },
   {
    "duration": 182,
    "start_time": "2022-10-21T02:38:27.581Z"
   },
   {
    "duration": 147,
    "start_time": "2022-10-21T02:38:27.764Z"
   },
   {
    "duration": 14,
    "start_time": "2022-10-21T02:38:27.921Z"
   },
   {
    "duration": 194,
    "start_time": "2022-10-21T02:38:27.937Z"
   },
   {
    "duration": 14,
    "start_time": "2022-10-21T02:38:28.133Z"
   },
   {
    "duration": 20,
    "start_time": "2022-10-21T02:38:28.149Z"
   },
   {
    "duration": 13,
    "start_time": "2022-10-21T02:38:28.170Z"
   },
   {
    "duration": 14,
    "start_time": "2022-10-21T02:38:28.185Z"
   },
   {
    "duration": 14,
    "start_time": "2022-10-21T02:38:28.222Z"
   },
   {
    "duration": 16,
    "start_time": "2022-10-21T02:38:28.238Z"
   },
   {
    "duration": 17,
    "start_time": "2022-10-21T02:38:28.255Z"
   },
   {
    "duration": 16,
    "start_time": "2022-10-21T02:38:28.274Z"
   },
   {
    "duration": 31,
    "start_time": "2022-10-21T02:38:28.292Z"
   },
   {
    "duration": 2,
    "start_time": "2022-10-21T02:38:28.325Z"
   },
   {
    "duration": 13,
    "start_time": "2022-10-21T02:38:28.329Z"
   },
   {
    "duration": 11,
    "start_time": "2022-10-21T02:38:28.343Z"
   },
   {
    "duration": 13,
    "start_time": "2022-10-21T02:46:08.158Z"
   },
   {
    "duration": 100,
    "start_time": "2022-10-21T02:46:16.023Z"
   },
   {
    "duration": 228,
    "start_time": "2022-10-21T02:46:19.031Z"
   },
   {
    "duration": 14,
    "start_time": "2022-10-21T02:46:47.420Z"
   },
   {
    "duration": 234,
    "start_time": "2022-10-21T02:46:51.656Z"
   },
   {
    "duration": 5,
    "start_time": "2022-10-21T02:49:35.222Z"
   },
   {
    "duration": 1059,
    "start_time": "2022-10-21T02:49:43.540Z"
   },
   {
    "duration": 22,
    "start_time": "2022-10-21T02:49:44.601Z"
   },
   {
    "duration": 15,
    "start_time": "2022-10-21T02:49:44.624Z"
   },
   {
    "duration": 2,
    "start_time": "2022-10-21T02:49:44.641Z"
   },
   {
    "duration": 7,
    "start_time": "2022-10-21T02:49:44.645Z"
   },
   {
    "duration": 8,
    "start_time": "2022-10-21T02:49:44.653Z"
   },
   {
    "duration": 8,
    "start_time": "2022-10-21T02:49:44.662Z"
   },
   {
    "duration": 4,
    "start_time": "2022-10-21T02:49:44.671Z"
   },
   {
    "duration": 18,
    "start_time": "2022-10-21T02:49:44.676Z"
   },
   {
    "duration": 27,
    "start_time": "2022-10-21T02:49:44.695Z"
   },
   {
    "duration": 222,
    "start_time": "2022-10-21T02:49:44.723Z"
   },
   {
    "duration": 14,
    "start_time": "2022-10-21T02:49:44.946Z"
   },
   {
    "duration": 288,
    "start_time": "2022-10-21T02:49:44.961Z"
   },
   {
    "duration": 298,
    "start_time": "2022-10-21T02:49:45.251Z"
   },
   {
    "duration": 5,
    "start_time": "2022-10-21T02:49:45.550Z"
   },
   {
    "duration": 324,
    "start_time": "2022-10-21T02:49:45.557Z"
   },
   {
    "duration": 6,
    "start_time": "2022-10-21T02:49:45.883Z"
   },
   {
    "duration": 161,
    "start_time": "2022-10-21T02:49:45.891Z"
   },
   {
    "duration": 127,
    "start_time": "2022-10-21T02:49:46.054Z"
   },
   {
    "duration": 12,
    "start_time": "2022-10-21T02:49:46.183Z"
   },
   {
    "duration": 185,
    "start_time": "2022-10-21T02:49:46.197Z"
   },
   {
    "duration": 15,
    "start_time": "2022-10-21T02:49:46.383Z"
   },
   {
    "duration": 39,
    "start_time": "2022-10-21T02:49:46.399Z"
   },
   {
    "duration": 24,
    "start_time": "2022-10-21T02:49:46.440Z"
   },
   {
    "duration": 34,
    "start_time": "2022-10-21T02:49:46.466Z"
   },
   {
    "duration": 29,
    "start_time": "2022-10-21T02:49:46.501Z"
   },
   {
    "duration": 15,
    "start_time": "2022-10-21T02:49:46.531Z"
   },
   {
    "duration": 28,
    "start_time": "2022-10-21T02:49:46.548Z"
   },
   {
    "duration": 16,
    "start_time": "2022-10-21T02:49:46.578Z"
   },
   {
    "duration": 43,
    "start_time": "2022-10-21T02:49:46.596Z"
   },
   {
    "duration": 31,
    "start_time": "2022-10-21T02:49:46.640Z"
   },
   {
    "duration": 36,
    "start_time": "2022-10-21T02:49:46.672Z"
   },
   {
    "duration": 18,
    "start_time": "2022-10-21T02:49:46.710Z"
   },
   {
    "duration": 96,
    "start_time": "2022-10-21T02:56:33.733Z"
   },
   {
    "duration": 15,
    "start_time": "2022-10-21T02:56:36.618Z"
   },
   {
    "duration": 21,
    "start_time": "2022-10-21T02:56:53.917Z"
   },
   {
    "duration": 48,
    "start_time": "2022-10-21T10:01:40.746Z"
   },
   {
    "duration": 1365,
    "start_time": "2022-10-21T10:01:44.289Z"
   },
   {
    "duration": 27,
    "start_time": "2022-10-21T10:01:45.656Z"
   },
   {
    "duration": 16,
    "start_time": "2022-10-21T10:01:45.684Z"
   },
   {
    "duration": 3,
    "start_time": "2022-10-21T10:01:45.701Z"
   },
   {
    "duration": 7,
    "start_time": "2022-10-21T10:01:45.706Z"
   },
   {
    "duration": 10,
    "start_time": "2022-10-21T10:01:45.715Z"
   },
   {
    "duration": 9,
    "start_time": "2022-10-21T10:01:45.733Z"
   },
   {
    "duration": 11,
    "start_time": "2022-10-21T10:01:45.743Z"
   },
   {
    "duration": 22,
    "start_time": "2022-10-21T10:01:45.756Z"
   },
   {
    "duration": 7,
    "start_time": "2022-10-21T10:01:45.782Z"
   },
   {
    "duration": 262,
    "start_time": "2022-10-21T10:01:45.791Z"
   },
   {
    "duration": 14,
    "start_time": "2022-10-21T10:01:46.054Z"
   },
   {
    "duration": 311,
    "start_time": "2022-10-21T10:01:46.070Z"
   },
   {
    "duration": 367,
    "start_time": "2022-10-21T10:01:46.383Z"
   },
   {
    "duration": 4,
    "start_time": "2022-10-21T10:01:46.751Z"
   },
   {
    "duration": 314,
    "start_time": "2022-10-21T10:01:46.757Z"
   },
   {
    "duration": 6,
    "start_time": "2022-10-21T10:01:47.072Z"
   },
   {
    "duration": 148,
    "start_time": "2022-10-21T10:01:47.079Z"
   },
   {
    "duration": 139,
    "start_time": "2022-10-21T10:01:47.229Z"
   },
   {
    "duration": 13,
    "start_time": "2022-10-21T10:01:47.370Z"
   },
   {
    "duration": 214,
    "start_time": "2022-10-21T10:01:47.384Z"
   },
   {
    "duration": 16,
    "start_time": "2022-10-21T10:01:47.600Z"
   },
   {
    "duration": 27,
    "start_time": "2022-10-21T10:01:47.618Z"
   },
   {
    "duration": 17,
    "start_time": "2022-10-21T10:01:47.647Z"
   },
   {
    "duration": 14,
    "start_time": "2022-10-21T10:01:47.665Z"
   },
   {
    "duration": 95,
    "start_time": "2022-10-21T10:01:47.681Z"
   },
   {
    "duration": 14,
    "start_time": "2022-10-21T10:01:47.778Z"
   },
   {
    "duration": 16,
    "start_time": "2022-10-21T10:01:47.794Z"
   },
   {
    "duration": 15,
    "start_time": "2022-10-21T10:01:47.833Z"
   },
   {
    "duration": 20,
    "start_time": "2022-10-21T10:01:47.849Z"
   },
   {
    "duration": 2,
    "start_time": "2022-10-21T10:01:47.870Z"
   },
   {
    "duration": 16,
    "start_time": "2022-10-21T10:01:47.874Z"
   },
   {
    "duration": 10,
    "start_time": "2022-10-21T10:01:47.892Z"
   },
   {
    "duration": 14,
    "start_time": "2022-10-21T12:37:35.523Z"
   },
   {
    "duration": 14,
    "start_time": "2022-10-21T12:37:39.452Z"
   },
   {
    "duration": 60,
    "start_time": "2022-10-21T13:16:08.852Z"
   },
   {
    "duration": 7,
    "start_time": "2022-10-21T13:16:12.301Z"
   },
   {
    "duration": 9,
    "start_time": "2022-10-21T13:16:15.116Z"
   },
   {
    "duration": 37,
    "start_time": "2022-10-21T13:16:21.265Z"
   },
   {
    "duration": 21,
    "start_time": "2022-10-21T13:16:21.304Z"
   },
   {
    "duration": 16,
    "start_time": "2022-10-21T13:16:21.326Z"
   },
   {
    "duration": 3,
    "start_time": "2022-10-21T13:16:21.344Z"
   },
   {
    "duration": 11,
    "start_time": "2022-10-21T13:16:21.348Z"
   },
   {
    "duration": 11,
    "start_time": "2022-10-21T13:16:21.361Z"
   },
   {
    "duration": 12,
    "start_time": "2022-10-21T13:16:21.374Z"
   },
   {
    "duration": 4,
    "start_time": "2022-10-21T13:16:21.388Z"
   },
   {
    "duration": 16,
    "start_time": "2022-10-21T13:16:21.394Z"
   },
   {
    "duration": 5,
    "start_time": "2022-10-21T13:16:21.412Z"
   },
   {
    "duration": 229,
    "start_time": "2022-10-21T13:16:21.433Z"
   },
   {
    "duration": 15,
    "start_time": "2022-10-21T13:16:21.663Z"
   },
   {
    "duration": 286,
    "start_time": "2022-10-21T13:16:21.679Z"
   },
   {
    "duration": 340,
    "start_time": "2022-10-21T13:16:21.967Z"
   },
   {
    "duration": 5,
    "start_time": "2022-10-21T13:16:22.309Z"
   },
   {
    "duration": 321,
    "start_time": "2022-10-21T13:16:22.315Z"
   },
   {
    "duration": 5,
    "start_time": "2022-10-21T13:16:22.637Z"
   },
   {
    "duration": 150,
    "start_time": "2022-10-21T13:16:22.644Z"
   },
   {
    "duration": 149,
    "start_time": "2022-10-21T13:16:22.796Z"
   },
   {
    "duration": 13,
    "start_time": "2022-10-21T13:16:22.947Z"
   },
   {
    "duration": 207,
    "start_time": "2022-10-21T13:16:22.961Z"
   },
   {
    "duration": 18,
    "start_time": "2022-10-21T13:16:23.170Z"
   },
   {
    "duration": 20,
    "start_time": "2022-10-21T13:16:23.189Z"
   },
   {
    "duration": 33,
    "start_time": "2022-10-21T13:16:23.211Z"
   },
   {
    "duration": 16,
    "start_time": "2022-10-21T13:16:23.246Z"
   },
   {
    "duration": 21,
    "start_time": "2022-10-21T13:16:23.264Z"
   },
   {
    "duration": 19,
    "start_time": "2022-10-21T13:16:23.287Z"
   },
   {
    "duration": 32,
    "start_time": "2022-10-21T13:16:23.309Z"
   },
   {
    "duration": 15,
    "start_time": "2022-10-21T13:16:23.343Z"
   },
   {
    "duration": 16,
    "start_time": "2022-10-21T13:16:23.360Z"
   },
   {
    "duration": 22,
    "start_time": "2022-10-21T13:16:23.378Z"
   },
   {
    "duration": 33,
    "start_time": "2022-10-21T13:16:23.402Z"
   },
   {
    "duration": 14,
    "start_time": "2022-10-21T13:16:23.437Z"
   },
   {
    "duration": 16,
    "start_time": "2022-10-21T13:16:23.452Z"
   },
   {
    "duration": 17,
    "start_time": "2022-10-21T13:16:50.037Z"
   },
   {
    "duration": 21,
    "start_time": "2022-10-21T13:17:03.548Z"
   },
   {
    "duration": 20,
    "start_time": "2022-10-21T13:17:36.357Z"
   },
   {
    "duration": 1111,
    "start_time": "2022-10-21T13:39:12.326Z"
   },
   {
    "duration": 23,
    "start_time": "2022-10-21T13:39:13.439Z"
   },
   {
    "duration": 13,
    "start_time": "2022-10-21T13:39:13.464Z"
   },
   {
    "duration": 2,
    "start_time": "2022-10-21T13:39:13.479Z"
   },
   {
    "duration": 7,
    "start_time": "2022-10-21T13:39:13.482Z"
   },
   {
    "duration": 9,
    "start_time": "2022-10-21T13:39:13.490Z"
   },
   {
    "duration": 34,
    "start_time": "2022-10-21T13:39:13.500Z"
   },
   {
    "duration": 4,
    "start_time": "2022-10-21T13:39:13.536Z"
   },
   {
    "duration": 19,
    "start_time": "2022-10-21T13:39:13.541Z"
   },
   {
    "duration": 5,
    "start_time": "2022-10-21T13:39:13.562Z"
   },
   {
    "duration": 259,
    "start_time": "2022-10-21T13:39:13.569Z"
   },
   {
    "duration": 15,
    "start_time": "2022-10-21T13:39:13.833Z"
   },
   {
    "duration": 299,
    "start_time": "2022-10-21T13:39:13.850Z"
   },
   {
    "duration": 339,
    "start_time": "2022-10-21T13:39:14.150Z"
   },
   {
    "duration": 5,
    "start_time": "2022-10-21T13:39:14.492Z"
   },
   {
    "duration": 299,
    "start_time": "2022-10-21T13:39:14.498Z"
   },
   {
    "duration": 7,
    "start_time": "2022-10-21T13:39:14.799Z"
   },
   {
    "duration": 155,
    "start_time": "2022-10-21T13:39:14.808Z"
   },
   {
    "duration": 142,
    "start_time": "2022-10-21T13:39:14.965Z"
   },
   {
    "duration": 13,
    "start_time": "2022-10-21T13:39:15.109Z"
   },
   {
    "duration": 207,
    "start_time": "2022-10-21T13:39:15.133Z"
   },
   {
    "duration": 20,
    "start_time": "2022-10-21T13:39:15.342Z"
   },
   {
    "duration": 16,
    "start_time": "2022-10-21T13:39:15.365Z"
   },
   {
    "duration": 17,
    "start_time": "2022-10-21T13:39:15.382Z"
   },
   {
    "duration": 43,
    "start_time": "2022-10-21T13:39:15.402Z"
   },
   {
    "duration": 16,
    "start_time": "2022-10-21T13:39:15.446Z"
   },
   {
    "duration": 20,
    "start_time": "2022-10-21T13:39:15.464Z"
   },
   {
    "duration": 17,
    "start_time": "2022-10-21T13:39:15.488Z"
   },
   {
    "duration": 18,
    "start_time": "2022-10-21T13:39:15.534Z"
   },
   {
    "duration": 24,
    "start_time": "2022-10-21T13:39:15.554Z"
   },
   {
    "duration": 6,
    "start_time": "2022-10-21T13:39:15.580Z"
   },
   {
    "duration": 14,
    "start_time": "2022-10-21T13:39:15.588Z"
   },
   {
    "duration": 34,
    "start_time": "2022-10-21T13:39:15.603Z"
   }
  ],
  "kernelspec": {
   "display_name": "Python 3 (ipykernel)",
   "language": "python",
   "name": "python3"
  },
  "language_info": {
   "codemirror_mode": {
    "name": "ipython",
    "version": 3
   },
   "file_extension": ".py",
   "mimetype": "text/x-python",
   "name": "python",
   "nbconvert_exporter": "python",
   "pygments_lexer": "ipython3",
   "version": "3.11.5"
  },
  "toc": {
   "base_numbering": 1,
   "nav_menu": {},
   "number_sections": true,
   "sideBar": true,
   "skip_h1_title": true,
   "title_cell": "Table of Contents",
   "title_sidebar": "Contents",
   "toc_cell": false,
   "toc_position": {},
   "toc_section_display": true,
   "toc_window_display": false
  }
 },
 "nbformat": 4,
 "nbformat_minor": 2
}
