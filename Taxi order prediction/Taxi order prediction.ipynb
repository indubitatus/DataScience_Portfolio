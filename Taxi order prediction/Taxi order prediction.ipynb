{
 "cells": [
  {
   "cell_type": "markdown",
   "metadata": {
    "toc": true
   },
   "source": [
    "<h1>Содержание<span class=\"tocSkip\"></span></h1>\n",
    "<div class=\"toc\"><ul class=\"toc-item\"></li></ul></li><li><span><a href=\"#Подготовка\" data-toc-modified-id=\"Подготовка-1\"><span class=\"toc-item-num\">1&nbsp;&nbsp;</span>Подготовка</a></span></li><li><span><a href=\"#Анализ\" data-toc-modified-id=\"Анализ-2\"><span class=\"toc-item-num\">2&nbsp;&nbsp;</span>Анализ</a></span></li><li><span><a href=\"#Обучение\" data-toc-modified-id=\"Обучение-3\"><span class=\"toc-item-num\">3&nbsp;&nbsp;</span>Обучение</a></span></li><li><span><a href=\"#Тестирование\" data-toc-modified-id=\"Тестирование-4\"><span class=\"toc-item-num\">4&nbsp;&nbsp;</span>Тестирование</a></span></li><li><span><a href=\"#Общий-вывод\" data-toc-modified-id=\"Общий-вывод-5\"><span class=\"toc-item-num\">5&nbsp;&nbsp;</span>Общий вывод</a></span></li></ul></div>"
   ]
  },
  {
   "cell_type": "markdown",
   "metadata": {},
   "source": [
    "# Прогнозирование количества заказов такси на следующий час"
   ]
  },
  {
   "cell_type": "markdown",
   "metadata": {},
   "source": [
    "Требуется спрогнозировать количество заказов такси на следующий час. Нужно построить модель для такого предсказания.\n",
    "\n",
    "Значение метрики *RMSE* на тестовой выборке должно быть не больше 48."
   ]
  },
  {
   "cell_type": "markdown",
   "metadata": {},
   "source": [
    "## Подготовка"
   ]
  },
  {
   "cell_type": "markdown",
   "metadata": {},
   "source": [
    "Импортируем нужные нам библиотеки."
   ]
  },
  {
   "cell_type": "code",
   "execution_count": 1,
   "metadata": {
    "collapsed": true
   },
   "outputs": [
    {
     "name": "stdout",
     "output_type": "stream",
     "text": [
      "Requirement already satisfied: lightgbm in c:\\users\\kalin\\anaconda3\\lib\\site-packages (3.3.5)\n",
      "Requirement already satisfied: scipy in c:\\users\\kalin\\anaconda3\\lib\\site-packages (from lightgbm) (1.9.1)\n",
      "Requirement already satisfied: numpy in c:\\users\\kalin\\anaconda3\\lib\\site-packages (from lightgbm) (1.21.5)\n",
      "Requirement already satisfied: wheel in c:\\users\\kalin\\anaconda3\\lib\\site-packages (from lightgbm) (0.37.1)\n",
      "Requirement already satisfied: scikit-learn!=0.22.0 in c:\\users\\kalin\\anaconda3\\lib\\site-packages (from lightgbm) (1.0.2)\n",
      "Requirement already satisfied: joblib>=0.11 in c:\\users\\kalin\\anaconda3\\lib\\site-packages (from scikit-learn!=0.22.0->lightgbm) (1.1.0)\n",
      "Requirement already satisfied: threadpoolctl>=2.0.0 in c:\\users\\kalin\\anaconda3\\lib\\site-packages (from scikit-learn!=0.22.0->lightgbm) (2.2.0)\n"
     ]
    }
   ],
   "source": [
    "!pip install lightgbm"
   ]
  },
  {
   "cell_type": "code",
   "execution_count": 2,
   "metadata": {},
   "outputs": [],
   "source": [
    "import pandas as pd\n",
    "import matplotlib.pyplot as plt\n",
    "\n",
    "from statsmodels.tsa.seasonal import seasonal_decompose\n",
    "from sklearn.model_selection import train_test_split\n",
    "from sklearn.linear_model import LinearRegression\n",
    "from sklearn.model_selection import GridSearchCV\n",
    "from lightgbm import LGBMRegressor\n",
    "from sklearn.metrics import mean_squared_error\n",
    "from sklearn.model_selection import TimeSeriesSplit\n",
    "from sklearn.model_selection import cross_val_score"
   ]
  },
  {
   "cell_type": "markdown",
   "metadata": {},
   "source": [
    "Считаем данные из csv-файла в датафрейм и сохраним в переменную `df`. Изменим типа данных `datetime` с `object` на `datetime64`. Также установим индекс таблицы равным столбцу `datetime`"
   ]
  },
  {
   "cell_type": "code",
   "execution_count": 3,
   "metadata": {},
   "outputs": [],
   "source": [
    "df = pd.read_csv('taxi.csv', index_col=[0], parse_dates=[0])"
   ]
  },
  {
   "cell_type": "markdown",
   "metadata": {},
   "source": [
    "Выведим первые 5 и последние 5 строчек датафрейма"
   ]
  },
  {
   "cell_type": "code",
   "execution_count": 4,
   "metadata": {},
   "outputs": [
    {
     "data": {
      "text/html": [
       "<div>\n",
       "<style scoped>\n",
       "    .dataframe tbody tr th:only-of-type {\n",
       "        vertical-align: middle;\n",
       "    }\n",
       "\n",
       "    .dataframe tbody tr th {\n",
       "        vertical-align: top;\n",
       "    }\n",
       "\n",
       "    .dataframe thead th {\n",
       "        text-align: right;\n",
       "    }\n",
       "</style>\n",
       "<table border=\"1\" class=\"dataframe\">\n",
       "  <thead>\n",
       "    <tr style=\"text-align: right;\">\n",
       "      <th></th>\n",
       "      <th>num_orders</th>\n",
       "    </tr>\n",
       "    <tr>\n",
       "      <th>datetime</th>\n",
       "      <th></th>\n",
       "    </tr>\n",
       "  </thead>\n",
       "  <tbody>\n",
       "    <tr>\n",
       "      <th>2018-03-01 00:00:00</th>\n",
       "      <td>9</td>\n",
       "    </tr>\n",
       "    <tr>\n",
       "      <th>2018-03-01 00:10:00</th>\n",
       "      <td>14</td>\n",
       "    </tr>\n",
       "    <tr>\n",
       "      <th>2018-03-01 00:20:00</th>\n",
       "      <td>28</td>\n",
       "    </tr>\n",
       "    <tr>\n",
       "      <th>2018-03-01 00:30:00</th>\n",
       "      <td>20</td>\n",
       "    </tr>\n",
       "    <tr>\n",
       "      <th>2018-03-01 00:40:00</th>\n",
       "      <td>32</td>\n",
       "    </tr>\n",
       "    <tr>\n",
       "      <th>...</th>\n",
       "      <td>...</td>\n",
       "    </tr>\n",
       "    <tr>\n",
       "      <th>2018-08-31 23:10:00</th>\n",
       "      <td>32</td>\n",
       "    </tr>\n",
       "    <tr>\n",
       "      <th>2018-08-31 23:20:00</th>\n",
       "      <td>24</td>\n",
       "    </tr>\n",
       "    <tr>\n",
       "      <th>2018-08-31 23:30:00</th>\n",
       "      <td>27</td>\n",
       "    </tr>\n",
       "    <tr>\n",
       "      <th>2018-08-31 23:40:00</th>\n",
       "      <td>39</td>\n",
       "    </tr>\n",
       "    <tr>\n",
       "      <th>2018-08-31 23:50:00</th>\n",
       "      <td>53</td>\n",
       "    </tr>\n",
       "  </tbody>\n",
       "</table>\n",
       "<p>26496 rows × 1 columns</p>\n",
       "</div>"
      ],
      "text/plain": [
       "                     num_orders\n",
       "datetime                       \n",
       "2018-03-01 00:00:00           9\n",
       "2018-03-01 00:10:00          14\n",
       "2018-03-01 00:20:00          28\n",
       "2018-03-01 00:30:00          20\n",
       "2018-03-01 00:40:00          32\n",
       "...                         ...\n",
       "2018-08-31 23:10:00          32\n",
       "2018-08-31 23:20:00          24\n",
       "2018-08-31 23:30:00          27\n",
       "2018-08-31 23:40:00          39\n",
       "2018-08-31 23:50:00          53\n",
       "\n",
       "[26496 rows x 1 columns]"
      ]
     },
     "execution_count": 4,
     "metadata": {},
     "output_type": "execute_result"
    }
   ],
   "source": [
    "df"
   ]
  },
  {
   "cell_type": "markdown",
   "metadata": {},
   "source": [
    "Проверим, что данных расположены в хронологическом порядке. "
   ]
  },
  {
   "cell_type": "code",
   "execution_count": 5,
   "metadata": {},
   "outputs": [
    {
     "data": {
      "text/plain": [
       "True"
      ]
     },
     "execution_count": 5,
     "metadata": {},
     "output_type": "execute_result"
    }
   ],
   "source": [
    "df.index.is_monotonic"
   ]
  },
  {
   "cell_type": "markdown",
   "metadata": {},
   "source": [
    "Выведим основную информацию о датафрейме с помощью метода `info()`."
   ]
  },
  {
   "cell_type": "code",
   "execution_count": 6,
   "metadata": {},
   "outputs": [
    {
     "name": "stdout",
     "output_type": "stream",
     "text": [
      "<class 'pandas.core.frame.DataFrame'>\n",
      "DatetimeIndex: 26496 entries, 2018-03-01 00:00:00 to 2018-08-31 23:50:00\n",
      "Data columns (total 1 columns):\n",
      " #   Column      Non-Null Count  Dtype\n",
      "---  ------      --------------  -----\n",
      " 0   num_orders  26496 non-null  int64\n",
      "dtypes: int64(1)\n",
      "memory usage: 414.0 KB\n"
     ]
    }
   ],
   "source": [
    "df.info()"
   ]
  },
  {
   "cell_type": "markdown",
   "metadata": {},
   "source": [
    "Выведим количество пропущенных значений в датафрейме."
   ]
  },
  {
   "cell_type": "code",
   "execution_count": 7,
   "metadata": {},
   "outputs": [
    {
     "data": {
      "text/plain": [
       "num_orders    0\n",
       "dtype: int64"
      ]
     },
     "execution_count": 7,
     "metadata": {},
     "output_type": "execute_result"
    }
   ],
   "source": [
    "df.isna().sum()"
   ]
  },
  {
   "cell_type": "markdown",
   "metadata": {},
   "source": [
    "**Вывод:** загрузили данные, установили индекс по дате времени. Проверили на пропуски и расположение в хронологическом порядке. С данными всё в порядке"
   ]
  },
  {
   "cell_type": "markdown",
   "metadata": {},
   "source": [
    "## Анализ"
   ]
  },
  {
   "cell_type": "markdown",
   "metadata": {},
   "source": [
    "Построим график временного ряда"
   ]
  },
  {
   "cell_type": "code",
   "execution_count": 8,
   "metadata": {},
   "outputs": [
    {
     "data": {
      "text/plain": [
       "<AxesSubplot:xlabel='datetime'>"
      ]
     },
     "execution_count": 8,
     "metadata": {},
     "output_type": "execute_result"
    },
    {
     "data": {
      "image/png": "[encoded data removed]",
      "text/plain": [
       "<Figure size 1500x500 with 1 Axes>"
      ]
     },
     "metadata": {},
     "output_type": "display_data"
    }
   ],
   "source": [
    "df.plot(figsize=(15, 5))"
   ]
  },
  {
   "cell_type": "markdown",
   "metadata": {},
   "source": [
    "Так как задача в прогнозировании заказов на следующий час, ресемплилурем данные по часу"
   ]
  },
  {
   "cell_type": "code",
   "execution_count": 9,
   "metadata": {},
   "outputs": [],
   "source": [
    "df = df.resample('1H').sum()"
   ]
  },
  {
   "cell_type": "code",
   "execution_count": 10,
   "metadata": {},
   "outputs": [
    {
     "data": {
      "text/plain": [
       "<AxesSubplot:xlabel='datetime'>"
      ]
     },
     "execution_count": 10,
     "metadata": {},
     "output_type": "execute_result"
    },
    {
     "data": {
      "image/png": "[encoded data removed]",
      "text/plain": [
       "<Figure size 1500x500 with 1 Axes>"
      ]
     },
     "metadata": {},
     "output_type": "display_data"
    }
   ],
   "source": [
    "df.plot(figsize=(15, 5))"
   ]
  },
  {
   "cell_type": "markdown",
   "metadata": {},
   "source": [
    "Проанализируем тренд"
   ]
  },
  {
   "cell_type": "code",
   "execution_count": 11,
   "metadata": {},
   "outputs": [
    {
     "data": {
      "text/plain": [
       "Text(0.5, 1.0, 'Trend')"
      ]
     },
     "execution_count": 11,
     "metadata": {},
     "output_type": "execute_result"
    },
    {
     "data": {
      "image/png": "[encoded data removed]",
      "text/plain": [
       "<Figure size 2000x1500 with 1 Axes>"
      ]
     },
     "metadata": {},
     "output_type": "display_data"
    }
   ],
   "source": [
    "plt.figure(figsize=(20, 15))\n",
    "plt.subplot(311)\n",
    "seasonal_decompose(df).trend.plot(ax=plt.gca())\n",
    "plt.title('Trend')"
   ]
  },
  {
   "cell_type": "markdown",
   "metadata": {},
   "source": [
    "Количество заказов увеличивается с июля "
   ]
  },
  {
   "cell_type": "markdown",
   "metadata": {},
   "source": [
    "Посмотрим на сезонность"
   ]
  },
  {
   "cell_type": "code",
   "execution_count": 12,
   "metadata": {},
   "outputs": [
    {
     "data": {
      "text/plain": [
       "Text(0.5, 1.0, 'Seasonality')"
      ]
     },
     "execution_count": 12,
     "metadata": {},
     "output_type": "execute_result"
    },
    {
     "data": {
      "image/png": "[encoded data removed]",
      "text/plain": [
       "<Figure size 2000x1500 with 1 Axes>"
      ]
     },
     "metadata": {},
     "output_type": "display_data"
    }
   ],
   "source": [
    "plt.figure(figsize=(20, 15))\n",
    "plt.subplot(312)\n",
    "seasonal_decompose(df['2018-03-01':'2018-03-5']).seasonal.plot(ax=plt.gca())\n",
    "plt.title('Seasonality')"
   ]
  },
  {
   "cell_type": "code",
   "execution_count": 13,
   "metadata": {},
   "outputs": [
    {
     "data": {
      "text/plain": [
       "Text(0.5, 1.0, 'Seasonality')"
      ]
     },
     "execution_count": 13,
     "metadata": {},
     "output_type": "execute_result"
    },
    {
     "data": {
      "image/png": "[encoded data removed]",
      "text/plain": [
       "<Figure size 2000x1500 with 1 Axes>"
      ]
     },
     "metadata": {},
     "output_type": "display_data"
    }
   ],
   "source": [
    "plt.figure(figsize=(20, 15))\n",
    "plt.subplot(312)\n",
    "seasonal_decompose(df['2018-03-01':'2018-03-2']).seasonal.plot(ax=plt.gca())\n",
    "plt.title('Seasonality')"
   ]
  },
  {
   "cell_type": "markdown",
   "metadata": {},
   "source": [
    "Можно увидеть, что количество заказов больше всего наблюдается с 00:00 по 02:00"
   ]
  },
  {
   "cell_type": "markdown",
   "metadata": {},
   "source": [
    "## Обучение"
   ]
  },
  {
   "cell_type": "markdown",
   "metadata": {},
   "source": [
    "Напишем функцию, которая создаёт календарные признаки, отстающие значения и скользящее среднее."
   ]
  },
  {
   "cell_type": "code",
   "execution_count": 14,
   "metadata": {},
   "outputs": [],
   "source": [
    "def make_features(df, max_lag, rolling_mean_size):\n",
    "    df['hour'] = df.index.hour\n",
    "    df['dayofweek'] = df.index.dayofweek\n",
    "    \n",
    "    for lag in range(1, max_lag + 1):\n",
    "        df['lag_{}'.format(lag)] = df['num_orders'].shift(lag)\n",
    "\n",
    "    df['rolling_mean'] = df['num_orders'].shift().rolling(rolling_mean_size).mean()\n",
    "    return df"
   ]
  },
  {
   "cell_type": "code",
   "execution_count": 15,
   "metadata": {},
   "outputs": [],
   "source": [
    "df = make_features(df, 20, 50)"
   ]
  },
  {
   "cell_type": "markdown",
   "metadata": {},
   "source": [
    "Разобъём данные, оставим на валидационную и тестовую выборки по 10%. "
   ]
  },
  {
   "cell_type": "code",
   "execution_count": 16,
   "metadata": {},
   "outputs": [],
   "source": [
    "df = df.dropna()\n",
    "train, test = train_test_split(df, shuffle=False, test_size=0.1)\n",
    "\n",
    "features_train = train.drop(['num_orders'], axis=1)\n",
    "target_train = train['num_orders']\n",
    "\n",
    "features_test = test.drop(['num_orders'], axis=1)\n",
    "target_test = test['num_orders']"
   ]
  },
  {
   "cell_type": "code",
   "execution_count": 17,
   "metadata": {},
   "outputs": [
    {
     "data": {
      "text/plain": [
       "((437, 23), (3929, 23))"
      ]
     },
     "execution_count": 17,
     "metadata": {},
     "output_type": "execute_result"
    }
   ],
   "source": [
    "features_test.shape, features_train.shape"
   ]
  },
  {
   "cell_type": "markdown",
   "metadata": {},
   "source": [
    "Обучим модель линейной регресии"
   ]
  },
  {
   "cell_type": "code",
   "execution_count": 18,
   "metadata": {},
   "outputs": [],
   "source": [
    "cv_time_series = TimeSeriesSplit()"
   ]
  },
  {
   "cell_type": "code",
   "execution_count": 19,
   "metadata": {},
   "outputs": [
    {
     "name": "stdout",
     "output_type": "stream",
     "text": [
      "Качество модели линейной регрессии RMSE: 32.74038425174412\n"
     ]
    }
   ],
   "source": [
    "features = df.drop(['num_orders'], axis=1)\n",
    "target = df['num_orders']\n",
    "\n",
    "model = LinearRegression()\n",
    "model.fit(features_train, target_train)\n",
    "scores = cross_val_score(model, features, target, cv=cv_time_series, scoring=\"neg_root_mean_squared_error\") \n",
    "final_score = scores.mean()\n",
    "print(f'Качество модели линейной регрессии RMSE:', -final_score)"
   ]
  },
  {
   "cell_type": "markdown",
   "metadata": {},
   "source": [
    "Обучим LGB модель и подберём лучшие параметры"
   ]
  },
  {
   "cell_type": "code",
   "execution_count": 20,
   "metadata": {},
   "outputs": [],
   "source": [
    "cv_time_series = TimeSeriesSplit()"
   ]
  },
  {
   "cell_type": "code",
   "execution_count": 21,
   "metadata": {},
   "outputs": [
    {
     "name": "stdout",
     "output_type": "stream",
     "text": [
      "Wall time: 2 s\n"
     ]
    },
    {
     "data": {
      "text/plain": [
       "GridSearchCV(cv=TimeSeriesSplit(gap=0, max_train_size=None, n_splits=5, test_size=None),\n",
       "             estimator=LGBMRegressor(),\n",
       "             param_grid={'learning_rate': [0.3, 0.2, 0.1],\n",
       "                         'max_depth': [6, 7, 8]},\n",
       "             scoring='neg_root_mean_squared_error')"
      ]
     },
     "execution_count": 21,
     "metadata": {},
     "output_type": "execute_result"
    }
   ],
   "source": [
    "%%time\n",
    "parametrs = { \n",
    "              'max_depth': [6, 7, 8],\n",
    "              'learning_rate': [0.3, 0.2, 0.1],          \n",
    "             }\n",
    "\n",
    "lgb_model = LGBMRegressor()\n",
    "grid_LGBM = GridSearchCV(lgb_model, parametrs, cv=cv_time_series, scoring=\"neg_root_mean_squared_error\")\n",
    "grid_LGBM.fit(features_train, target_train)"
   ]
  },
  {
   "cell_type": "code",
   "execution_count": 22,
   "metadata": {},
   "outputs": [
    {
     "name": "stdout",
     "output_type": "stream",
     "text": [
      "Качество LGBM модели RMSE: 25.914292896070453\n"
     ]
    }
   ],
   "source": [
    "print(f'Качество LGBM модели RMSE:', -grid_LGBM.cv_results_[\"mean_test_score\"][0])"
   ]
  },
  {
   "cell_type": "markdown",
   "metadata": {},
   "source": [
    "**Вывод:** Лучше качество у LGBM модели. Тестироваться будем на ней"
   ]
  },
  {
   "cell_type": "markdown",
   "metadata": {},
   "source": [
    "## Тестирование"
   ]
  },
  {
   "cell_type": "code",
   "execution_count": 23,
   "metadata": {},
   "outputs": [
    {
     "name": "stdout",
     "output_type": "stream",
     "text": [
      "Качество LGBM модели RMSE на тестовой выборке: 43.20933025496387\n"
     ]
    }
   ],
   "source": [
    "predictions = grid_LGBM.predict(features_test)\n",
    "print(f'Качество LGBM модели RMSE на тестовой выборке:', mean_squared_error(target_test, predictions) ** 0.5)"
   ]
  },
  {
   "cell_type": "markdown",
   "metadata": {},
   "source": [
    "Посмотрим на график исходного и предсказанного ряда"
   ]
  },
  {
   "cell_type": "code",
   "execution_count": 24,
   "metadata": {
    "scrolled": false
   },
   "outputs": [
    {
     "data": {
      "image/png": "[encoded data removed]",
      "text/plain": [
       "<Figure size 1500x500 with 1 Axes>"
      ]
     },
     "metadata": {},
     "output_type": "display_data"
    }
   ],
   "source": [
    "predictions = pd.DataFrame(predictions, index=features_test.index)\n",
    "plt.figure(figsize=(15, 5))\n",
    "plt.plot(predictions)\n",
    "plt.plot(target_test)\n",
    "plt.legend(['Исходный ряд', 'Предсказанный ряд'])\n",
    "plt.show()"
   ]
  },
  {
   "cell_type": "markdown",
   "metadata": {},
   "source": [
    "## Общий вывод\n",
    "\n",
    "1) Загрузили данные, проверили на пропуски и расположение в хронологическом порядке\n",
    "\n",
    "2) Проанализировали тренд и сезонность данных. Заметили, что больше всего заказывают такси с 00:00 по 02:00\n",
    "\n",
    "3) Добавили в данные новые признаки. \n",
    "\n",
    "4) Обучили модель линейной регресии и LGBM. \n",
    "\n",
    "5) Проверили модели на тестовой выборке. Лучший результат показала LGBM - значение RMSE 30.656439348754567"
   ]
  },
  {
   "cell_type": "code",
   "execution_count": null,
   "metadata": {},
   "outputs": [],
   "source": []
  }
 ],
 "metadata": {
  "ExecuteTimeLog": [
   {
    "duration": 412,
    "start_time": "2023-02-09T04:43:06.160Z"
   },
   {
    "duration": 137,
    "start_time": "2023-02-09T04:43:19.781Z"
   },
   {
    "duration": 340,
    "start_time": "2023-02-09T04:43:49.271Z"
   },
   {
    "duration": 14,
    "start_time": "2023-02-09T04:43:54.718Z"
   },
   {
    "duration": 9,
    "start_time": "2023-02-09T05:20:33.341Z"
   },
   {
    "duration": 3,
    "start_time": "2023-02-09T05:20:39.306Z"
   },
   {
    "duration": 38,
    "start_time": "2023-02-09T05:20:39.753Z"
   },
   {
    "duration": 11,
    "start_time": "2023-02-09T05:20:40.061Z"
   },
   {
    "duration": 7,
    "start_time": "2023-02-09T05:20:40.439Z"
   },
   {
    "duration": 10,
    "start_time": "2023-02-09T05:21:06.116Z"
   },
   {
    "duration": 8,
    "start_time": "2023-02-09T05:22:37.625Z"
   },
   {
    "duration": 10,
    "start_time": "2023-02-09T05:22:42.311Z"
   },
   {
    "duration": 10,
    "start_time": "2023-02-09T05:22:45.342Z"
   },
   {
    "duration": 42,
    "start_time": "2023-02-09T05:23:17.406Z"
   },
   {
    "duration": 7,
    "start_time": "2023-02-09T05:23:18.306Z"
   },
   {
    "duration": 10,
    "start_time": "2023-02-09T05:23:20.497Z"
   },
   {
    "duration": 50,
    "start_time": "2023-02-09T05:23:55.140Z"
   },
   {
    "duration": 6,
    "start_time": "2023-02-09T05:23:55.736Z"
   },
   {
    "duration": 36,
    "start_time": "2023-02-09T05:24:00.822Z"
   },
   {
    "duration": 6,
    "start_time": "2023-02-09T05:24:01.226Z"
   },
   {
    "duration": 7,
    "start_time": "2023-02-09T05:24:03.713Z"
   },
   {
    "duration": 27,
    "start_time": "2023-02-09T05:24:03.991Z"
   },
   {
    "duration": 273,
    "start_time": "2023-02-09T05:24:17.314Z"
   },
   {
    "duration": 41,
    "start_time": "2023-02-09T05:26:26.713Z"
   },
   {
    "duration": 7,
    "start_time": "2023-02-09T05:26:27.224Z"
   },
   {
    "duration": 8,
    "start_time": "2023-02-09T05:26:27.870Z"
   },
   {
    "duration": 8,
    "start_time": "2023-02-09T05:26:39.129Z"
   },
   {
    "duration": 12,
    "start_time": "2023-02-09T05:27:30.722Z"
   },
   {
    "duration": 6,
    "start_time": "2023-02-09T05:27:56.647Z"
   },
   {
    "duration": 11,
    "start_time": "2023-02-09T05:27:59.608Z"
   },
   {
    "duration": 5,
    "start_time": "2023-02-09T05:28:03.321Z"
   },
   {
    "duration": 6,
    "start_time": "2023-02-09T05:28:06.246Z"
   },
   {
    "duration": 57,
    "start_time": "2023-02-09T05:28:14.876Z"
   },
   {
    "duration": 10,
    "start_time": "2023-02-09T05:28:15.128Z"
   },
   {
    "duration": 7,
    "start_time": "2023-02-09T05:28:15.465Z"
   },
   {
    "duration": 789,
    "start_time": "2023-02-09T09:12:31.381Z"
   },
   {
    "duration": 667,
    "start_time": "2023-02-09T10:20:01.014Z"
   },
   {
    "duration": 1378,
    "start_time": "2023-02-09T10:20:48.096Z"
   },
   {
    "duration": 1334,
    "start_time": "2023-02-09T10:20:57.990Z"
   },
   {
    "duration": 1400,
    "start_time": "2023-02-09T10:21:03.667Z"
   },
   {
    "duration": 3,
    "start_time": "2023-02-09T10:22:31.014Z"
   },
   {
    "duration": 12,
    "start_time": "2023-02-09T10:22:36.990Z"
   },
   {
    "duration": 5,
    "start_time": "2023-02-09T10:22:50.162Z"
   },
   {
    "duration": 24,
    "start_time": "2023-02-09T10:23:07.188Z"
   },
   {
    "duration": 9,
    "start_time": "2023-02-09T10:23:29.965Z"
   },
   {
    "duration": 7,
    "start_time": "2023-02-09T10:23:33.470Z"
   },
   {
    "duration": 13,
    "start_time": "2023-02-09T10:23:41.063Z"
   },
   {
    "duration": 3,
    "start_time": "2023-02-09T10:24:07.964Z"
   },
   {
    "duration": 14,
    "start_time": "2023-02-09T10:24:08.961Z"
   },
   {
    "duration": 2,
    "start_time": "2023-02-09T10:24:20.689Z"
   },
   {
    "duration": 66,
    "start_time": "2023-02-09T10:24:20.988Z"
   },
   {
    "duration": 5,
    "start_time": "2023-02-09T10:24:21.431Z"
   },
   {
    "duration": 12,
    "start_time": "2023-02-09T10:24:21.811Z"
   },
   {
    "duration": 6,
    "start_time": "2023-02-09T10:24:22.473Z"
   },
   {
    "duration": 3,
    "start_time": "2023-02-09T10:24:22.960Z"
   },
   {
    "duration": 736,
    "start_time": "2023-02-09T10:24:23.887Z"
   },
   {
    "duration": 714,
    "start_time": "2023-02-09T10:24:30.664Z"
   },
   {
    "duration": 3,
    "start_time": "2023-02-09T10:24:56.963Z"
   },
   {
    "duration": 43,
    "start_time": "2023-02-09T10:24:57.131Z"
   },
   {
    "duration": 9,
    "start_time": "2023-02-09T10:24:57.290Z"
   },
   {
    "duration": 7,
    "start_time": "2023-02-09T10:24:57.461Z"
   },
   {
    "duration": 6,
    "start_time": "2023-02-09T10:24:57.634Z"
   },
   {
    "duration": 635,
    "start_time": "2023-02-09T10:24:58.435Z"
   },
   {
    "duration": 710,
    "start_time": "2023-02-09T10:25:30.064Z"
   },
   {
    "duration": 458,
    "start_time": "2023-02-09T10:25:35.033Z"
   },
   {
    "duration": 544,
    "start_time": "2023-02-09T10:25:43.585Z"
   },
   {
    "duration": 471,
    "start_time": "2023-02-09T10:26:10.011Z"
   },
   {
    "duration": 3,
    "start_time": "2023-02-09T10:26:21.729Z"
   },
   {
    "duration": 50,
    "start_time": "2023-02-09T10:26:21.890Z"
   },
   {
    "duration": 4,
    "start_time": "2023-02-09T10:26:22.073Z"
   },
   {
    "duration": 8,
    "start_time": "2023-02-09T10:26:22.210Z"
   },
   {
    "duration": 7,
    "start_time": "2023-02-09T10:26:22.369Z"
   },
   {
    "duration": 724,
    "start_time": "2023-02-09T10:26:23.205Z"
   },
   {
    "duration": 102,
    "start_time": "2023-02-09T10:59:26.509Z"
   },
   {
    "duration": 100,
    "start_time": "2023-02-09T10:59:37.860Z"
   },
   {
    "duration": 7,
    "start_time": "2023-02-09T10:59:52.147Z"
   },
   {
    "duration": 82,
    "start_time": "2023-02-09T11:00:01.685Z"
   },
   {
    "duration": 37,
    "start_time": "2023-02-09T11:01:13.053Z"
   },
   {
    "duration": 12,
    "start_time": "2023-02-09T11:01:27.357Z"
   },
   {
    "duration": 10,
    "start_time": "2023-02-09T11:03:42.062Z"
   },
   {
    "duration": 50,
    "start_time": "2023-02-09T11:03:46.359Z"
   },
   {
    "duration": 9,
    "start_time": "2023-02-09T11:03:46.790Z"
   },
   {
    "duration": 11,
    "start_time": "2023-02-09T11:03:48.829Z"
   },
   {
    "duration": 6,
    "start_time": "2023-02-09T11:06:33.546Z"
   },
   {
    "duration": 6,
    "start_time": "2023-02-09T11:21:55.521Z"
   },
   {
    "duration": 7,
    "start_time": "2023-02-09T11:22:06.514Z"
   },
   {
    "duration": 9,
    "start_time": "2023-02-09T11:22:13.745Z"
   },
   {
    "duration": 141,
    "start_time": "2023-02-09T11:23:22.659Z"
   },
   {
    "duration": 707,
    "start_time": "2023-02-09T11:24:18.554Z"
   },
   {
    "duration": 4,
    "start_time": "2023-02-09T11:25:54.172Z"
   },
   {
    "duration": 13,
    "start_time": "2023-02-09T11:26:02.715Z"
   },
   {
    "duration": 76,
    "start_time": "2023-02-09T11:26:10.346Z"
   },
   {
    "duration": 20,
    "start_time": "2023-02-09T11:26:13.546Z"
   },
   {
    "duration": 980,
    "start_time": "2023-02-09T11:26:43.908Z"
   },
   {
    "duration": 23,
    "start_time": "2023-02-09T11:26:44.890Z"
   },
   {
    "duration": 12,
    "start_time": "2023-02-09T11:28:17.931Z"
   },
   {
    "duration": 15,
    "start_time": "2023-02-09T11:28:20.291Z"
   },
   {
    "duration": 60,
    "start_time": "2023-02-09T11:28:42.154Z"
   },
   {
    "duration": 3,
    "start_time": "2023-02-09T11:28:56.119Z"
   },
   {
    "duration": 57,
    "start_time": "2023-02-09T11:28:56.124Z"
   },
   {
    "duration": 10,
    "start_time": "2023-02-09T11:28:56.184Z"
   },
   {
    "duration": 25,
    "start_time": "2023-02-09T11:28:56.196Z"
   },
   {
    "duration": 15,
    "start_time": "2023-02-09T11:28:56.223Z"
   },
   {
    "duration": 10,
    "start_time": "2023-02-09T11:28:56.240Z"
   },
   {
    "duration": 678,
    "start_time": "2023-02-09T11:28:56.251Z"
   },
   {
    "duration": 166,
    "start_time": "2023-02-09T11:28:56.931Z"
   },
   {
    "duration": 661,
    "start_time": "2023-02-09T11:28:57.100Z"
   },
   {
    "duration": 777,
    "start_time": "2023-02-09T11:28:57.764Z"
   },
   {
    "duration": 11,
    "start_time": "2023-02-09T11:28:58.543Z"
   },
   {
    "duration": 624,
    "start_time": "2023-02-09T11:29:04.451Z"
   },
   {
    "duration": 548,
    "start_time": "2023-02-09T11:29:07.201Z"
   },
   {
    "duration": 661,
    "start_time": "2023-02-09T11:29:13.291Z"
   },
   {
    "duration": 226,
    "start_time": "2023-02-09T11:41:12.790Z"
   },
   {
    "duration": 196,
    "start_time": "2023-02-09T11:41:31.607Z"
   },
   {
    "duration": 224,
    "start_time": "2023-02-09T11:42:05.742Z"
   },
   {
    "duration": 209,
    "start_time": "2023-02-09T11:43:41.031Z"
   },
   {
    "duration": 231,
    "start_time": "2023-02-09T11:43:42.521Z"
   },
   {
    "duration": 23,
    "start_time": "2023-02-09T11:43:43.691Z"
   },
   {
    "duration": 4,
    "start_time": "2023-02-09T11:43:48.739Z"
   },
   {
    "duration": 60,
    "start_time": "2023-02-09T11:43:48.746Z"
   },
   {
    "duration": 12,
    "start_time": "2023-02-09T11:43:48.808Z"
   },
   {
    "duration": 24,
    "start_time": "2023-02-09T11:43:48.821Z"
   },
   {
    "duration": 20,
    "start_time": "2023-02-09T11:43:48.847Z"
   },
   {
    "duration": 8,
    "start_time": "2023-02-09T11:43:48.869Z"
   },
   {
    "duration": 700,
    "start_time": "2023-02-09T11:43:48.879Z"
   },
   {
    "duration": 287,
    "start_time": "2023-02-09T11:43:49.581Z"
   },
   {
    "duration": 1010,
    "start_time": "2023-02-09T11:43:49.871Z"
   },
   {
    "duration": 22,
    "start_time": "2023-02-09T11:43:50.883Z"
   },
   {
    "duration": 0,
    "start_time": "2023-02-09T11:43:50.907Z"
   },
   {
    "duration": 12,
    "start_time": "2023-02-09T11:44:08.470Z"
   },
   {
    "duration": 3,
    "start_time": "2023-02-09T11:44:11.133Z"
   },
   {
    "duration": 50,
    "start_time": "2023-02-09T11:44:11.138Z"
   },
   {
    "duration": 16,
    "start_time": "2023-02-09T11:44:11.189Z"
   },
   {
    "duration": 28,
    "start_time": "2023-02-09T11:44:11.206Z"
   },
   {
    "duration": 12,
    "start_time": "2023-02-09T11:44:11.236Z"
   },
   {
    "duration": 6,
    "start_time": "2023-02-09T11:44:11.249Z"
   },
   {
    "duration": 696,
    "start_time": "2023-02-09T11:44:11.256Z"
   },
   {
    "duration": 283,
    "start_time": "2023-02-09T11:44:11.954Z"
   },
   {
    "duration": 712,
    "start_time": "2023-02-09T11:44:12.239Z"
   },
   {
    "duration": 16,
    "start_time": "2023-02-09T11:44:12.953Z"
   },
   {
    "duration": 0,
    "start_time": "2023-02-09T11:44:12.971Z"
   },
   {
    "duration": 168,
    "start_time": "2023-02-09T11:44:21.663Z"
   },
   {
    "duration": 23,
    "start_time": "2023-02-09T11:44:24.289Z"
   },
   {
    "duration": 4,
    "start_time": "2023-02-09T11:44:26.523Z"
   },
   {
    "duration": 48,
    "start_time": "2023-02-09T11:44:26.528Z"
   },
   {
    "duration": 9,
    "start_time": "2023-02-09T11:44:26.577Z"
   },
   {
    "duration": 11,
    "start_time": "2023-02-09T11:44:26.588Z"
   },
   {
    "duration": 38,
    "start_time": "2023-02-09T11:44:26.601Z"
   },
   {
    "duration": 7,
    "start_time": "2023-02-09T11:44:26.641Z"
   },
   {
    "duration": 684,
    "start_time": "2023-02-09T11:44:26.649Z"
   },
   {
    "duration": 169,
    "start_time": "2023-02-09T11:44:27.335Z"
   },
   {
    "duration": 924,
    "start_time": "2023-02-09T11:44:27.506Z"
   },
   {
    "duration": 15,
    "start_time": "2023-02-09T11:44:28.432Z"
   },
   {
    "duration": 0,
    "start_time": "2023-02-09T11:44:28.450Z"
   },
   {
    "duration": 256,
    "start_time": "2023-02-09T11:45:01.950Z"
   },
   {
    "duration": 271,
    "start_time": "2023-02-09T11:45:12.342Z"
   },
   {
    "duration": 5,
    "start_time": "2023-02-09T11:45:15.018Z"
   },
   {
    "duration": 12,
    "start_time": "2023-02-09T11:45:16.679Z"
   },
   {
    "duration": 10,
    "start_time": "2023-02-09T11:45:17.766Z"
   },
   {
    "duration": 9,
    "start_time": "2023-02-09T11:45:40.576Z"
   },
   {
    "duration": 5,
    "start_time": "2023-02-09T11:45:41.020Z"
   },
   {
    "duration": 12,
    "start_time": "2023-02-09T11:45:41.543Z"
   },
   {
    "duration": 5,
    "start_time": "2023-02-09T11:45:50.694Z"
   },
   {
    "duration": 91,
    "start_time": "2023-02-09T11:45:50.701Z"
   },
   {
    "duration": 18,
    "start_time": "2023-02-09T11:45:50.797Z"
   },
   {
    "duration": 18,
    "start_time": "2023-02-09T11:45:50.820Z"
   },
   {
    "duration": 16,
    "start_time": "2023-02-09T11:45:50.840Z"
   },
   {
    "duration": 6,
    "start_time": "2023-02-09T11:45:50.858Z"
   },
   {
    "duration": 692,
    "start_time": "2023-02-09T11:45:50.866Z"
   },
   {
    "duration": 7,
    "start_time": "2023-02-09T11:45:51.559Z"
   },
   {
    "duration": 293,
    "start_time": "2023-02-09T11:45:51.568Z"
   },
   {
    "duration": 754,
    "start_time": "2023-02-09T11:45:51.863Z"
   },
   {
    "duration": 11,
    "start_time": "2023-02-09T11:45:52.619Z"
   },
   {
    "duration": 823,
    "start_time": "2023-02-09T11:46:29.927Z"
   },
   {
    "duration": 1109,
    "start_time": "2023-02-09T11:46:43.891Z"
   },
   {
    "duration": 8,
    "start_time": "2023-02-09T12:04:24.840Z"
   },
   {
    "duration": 322,
    "start_time": "2023-02-09T12:05:00.914Z"
   },
   {
    "duration": 3,
    "start_time": "2023-02-09T12:05:17.741Z"
   },
   {
    "duration": 62,
    "start_time": "2023-02-09T12:05:17.747Z"
   },
   {
    "duration": 11,
    "start_time": "2023-02-09T12:05:17.813Z"
   },
   {
    "duration": 13,
    "start_time": "2023-02-09T12:05:17.826Z"
   },
   {
    "duration": 11,
    "start_time": "2023-02-09T12:05:17.841Z"
   },
   {
    "duration": 7,
    "start_time": "2023-02-09T12:05:17.854Z"
   },
   {
    "duration": 899,
    "start_time": "2023-02-09T12:05:17.863Z"
   },
   {
    "duration": 9,
    "start_time": "2023-02-09T12:05:18.764Z"
   },
   {
    "duration": 502,
    "start_time": "2023-02-09T12:05:18.776Z"
   },
   {
    "duration": 1042,
    "start_time": "2023-02-09T12:05:19.280Z"
   },
   {
    "duration": 13,
    "start_time": "2023-02-09T12:05:20.324Z"
   },
   {
    "duration": 5,
    "start_time": "2023-02-09T12:05:40.157Z"
   },
   {
    "duration": 14,
    "start_time": "2023-02-09T12:07:56.352Z"
   },
   {
    "duration": 7,
    "start_time": "2023-02-09T12:07:58.825Z"
   },
   {
    "duration": 46,
    "start_time": "2023-02-09T12:07:58.834Z"
   },
   {
    "duration": 8,
    "start_time": "2023-02-09T12:07:58.882Z"
   },
   {
    "duration": 41,
    "start_time": "2023-02-09T12:07:58.892Z"
   },
   {
    "duration": 15,
    "start_time": "2023-02-09T12:07:58.935Z"
   },
   {
    "duration": 6,
    "start_time": "2023-02-09T12:07:58.952Z"
   },
   {
    "duration": 777,
    "start_time": "2023-02-09T12:07:58.959Z"
   },
   {
    "duration": 8,
    "start_time": "2023-02-09T12:07:59.739Z"
   },
   {
    "duration": 412,
    "start_time": "2023-02-09T12:07:59.749Z"
   },
   {
    "duration": 15,
    "start_time": "2023-02-09T12:08:00.163Z"
   },
   {
    "duration": 0,
    "start_time": "2023-02-09T12:08:00.180Z"
   },
   {
    "duration": 368,
    "start_time": "2023-02-09T12:09:36.544Z"
   },
   {
    "duration": 23,
    "start_time": "2023-02-09T12:10:00.056Z"
   },
   {
    "duration": 19,
    "start_time": "2023-02-09T12:10:14.558Z"
   },
   {
    "duration": 3,
    "start_time": "2023-02-09T12:10:18.440Z"
   },
   {
    "duration": 70,
    "start_time": "2023-02-09T12:10:18.446Z"
   },
   {
    "duration": 11,
    "start_time": "2023-02-09T12:10:18.519Z"
   },
   {
    "duration": 13,
    "start_time": "2023-02-09T12:10:18.533Z"
   },
   {
    "duration": 15,
    "start_time": "2023-02-09T12:10:18.549Z"
   },
   {
    "duration": 8,
    "start_time": "2023-02-09T12:10:18.566Z"
   },
   {
    "duration": 749,
    "start_time": "2023-02-09T12:10:18.576Z"
   },
   {
    "duration": 7,
    "start_time": "2023-02-09T12:10:19.327Z"
   },
   {
    "duration": 20,
    "start_time": "2023-02-09T12:10:19.336Z"
   },
   {
    "duration": 0,
    "start_time": "2023-02-09T12:10:19.359Z"
   },
   {
    "duration": 0,
    "start_time": "2023-02-09T12:10:19.361Z"
   },
   {
    "duration": 273,
    "start_time": "2023-02-09T12:20:03.391Z"
   },
   {
    "duration": 10,
    "start_time": "2023-02-09T12:56:56.194Z"
   },
   {
    "duration": 16,
    "start_time": "2023-02-09T12:57:02.539Z"
   },
   {
    "duration": 8,
    "start_time": "2023-02-09T12:57:05.882Z"
   },
   {
    "duration": 45,
    "start_time": "2023-02-09T18:40:22.697Z"
   },
   {
    "duration": 1479,
    "start_time": "2023-02-09T18:40:26.314Z"
   },
   {
    "duration": 213,
    "start_time": "2023-02-09T18:40:27.795Z"
   },
   {
    "duration": 13,
    "start_time": "2023-02-09T18:40:28.010Z"
   },
   {
    "duration": 4,
    "start_time": "2023-02-09T18:40:28.024Z"
   },
   {
    "duration": 13,
    "start_time": "2023-02-09T18:40:28.030Z"
   },
   {
    "duration": 5,
    "start_time": "2023-02-09T18:40:28.044Z"
   },
   {
    "duration": 655,
    "start_time": "2023-02-09T18:40:28.051Z"
   },
   {
    "duration": 10,
    "start_time": "2023-02-09T18:40:28.708Z"
   },
   {
    "duration": 365,
    "start_time": "2023-02-09T18:40:28.720Z"
   },
   {
    "duration": 223,
    "start_time": "2023-02-09T18:40:29.089Z"
   },
   {
    "duration": 1039,
    "start_time": "2023-02-09T18:40:29.314Z"
   },
   {
    "duration": 9,
    "start_time": "2023-02-09T18:40:30.354Z"
   },
   {
    "duration": 246,
    "start_time": "2023-02-09T18:42:02.081Z"
   },
   {
    "duration": 258,
    "start_time": "2023-02-09T18:42:12.429Z"
   },
   {
    "duration": 95,
    "start_time": "2023-02-09T18:43:34.429Z"
   },
   {
    "duration": 72,
    "start_time": "2023-02-09T18:50:17.375Z"
   },
   {
    "duration": 2,
    "start_time": "2023-02-09T18:50:22.659Z"
   },
   {
    "duration": 47,
    "start_time": "2023-02-09T18:50:22.663Z"
   },
   {
    "duration": 8,
    "start_time": "2023-02-09T18:50:22.711Z"
   },
   {
    "duration": 12,
    "start_time": "2023-02-09T18:50:22.720Z"
   },
   {
    "duration": 25,
    "start_time": "2023-02-09T18:50:22.734Z"
   },
   {
    "duration": 5,
    "start_time": "2023-02-09T18:50:22.761Z"
   },
   {
    "duration": 578,
    "start_time": "2023-02-09T18:50:22.768Z"
   },
   {
    "duration": 6,
    "start_time": "2023-02-09T18:50:23.348Z"
   },
   {
    "duration": 224,
    "start_time": "2023-02-09T18:50:23.355Z"
   },
   {
    "duration": 285,
    "start_time": "2023-02-09T18:50:23.581Z"
   },
   {
    "duration": 11,
    "start_time": "2023-02-09T18:50:23.868Z"
   },
   {
    "duration": 0,
    "start_time": "2023-02-09T18:50:23.881Z"
   },
   {
    "duration": 0,
    "start_time": "2023-02-09T18:50:23.882Z"
   },
   {
    "duration": 0,
    "start_time": "2023-02-09T18:50:23.883Z"
   },
   {
    "duration": 12,
    "start_time": "2023-02-09T18:50:29.437Z"
   },
   {
    "duration": 1296,
    "start_time": "2023-02-09T18:50:41.322Z"
   },
   {
    "duration": 46,
    "start_time": "2023-02-09T18:50:42.620Z"
   },
   {
    "duration": 10,
    "start_time": "2023-02-09T18:50:42.668Z"
   },
   {
    "duration": 12,
    "start_time": "2023-02-09T18:50:42.680Z"
   },
   {
    "duration": 14,
    "start_time": "2023-02-09T18:50:42.693Z"
   },
   {
    "duration": 6,
    "start_time": "2023-02-09T18:50:42.708Z"
   },
   {
    "duration": 618,
    "start_time": "2023-02-09T18:50:42.715Z"
   },
   {
    "duration": 15,
    "start_time": "2023-02-09T18:50:43.334Z"
   },
   {
    "duration": 329,
    "start_time": "2023-02-09T18:50:43.351Z"
   },
   {
    "duration": 299,
    "start_time": "2023-02-09T18:50:43.682Z"
   },
   {
    "duration": 102,
    "start_time": "2023-02-09T18:50:43.983Z"
   },
   {
    "duration": 0,
    "start_time": "2023-02-09T18:50:44.086Z"
   },
   {
    "duration": 0,
    "start_time": "2023-02-09T18:50:44.088Z"
   },
   {
    "duration": 0,
    "start_time": "2023-02-09T18:50:44.088Z"
   },
   {
    "duration": 289,
    "start_time": "2023-02-09T18:51:05.881Z"
   },
   {
    "duration": 297,
    "start_time": "2023-02-09T18:51:10.583Z"
   },
   {
    "duration": 283,
    "start_time": "2023-02-09T18:51:21.585Z"
   },
   {
    "duration": 3,
    "start_time": "2023-02-09T18:51:25.304Z"
   },
   {
    "duration": 56,
    "start_time": "2023-02-09T18:51:25.309Z"
   },
   {
    "duration": 9,
    "start_time": "2023-02-09T18:51:25.367Z"
   },
   {
    "duration": 8,
    "start_time": "2023-02-09T18:51:25.378Z"
   },
   {
    "duration": 16,
    "start_time": "2023-02-09T18:51:25.387Z"
   },
   {
    "duration": 9,
    "start_time": "2023-02-09T18:51:25.405Z"
   },
   {
    "duration": 715,
    "start_time": "2023-02-09T18:51:25.415Z"
   },
   {
    "duration": 12,
    "start_time": "2023-02-09T18:51:26.132Z"
   },
   {
    "duration": 274,
    "start_time": "2023-02-09T18:51:26.145Z"
   },
   {
    "duration": 963,
    "start_time": "2023-02-09T18:51:26.421Z"
   },
   {
    "duration": 278,
    "start_time": "2023-02-09T18:51:27.385Z"
   },
   {
    "duration": 8,
    "start_time": "2023-02-09T18:51:27.665Z"
   },
   {
    "duration": 6,
    "start_time": "2023-02-09T18:51:27.674Z"
   },
   {
    "duration": 16,
    "start_time": "2023-02-09T18:51:27.682Z"
   },
   {
    "duration": 10,
    "start_time": "2023-02-09T18:51:38.621Z"
   },
   {
    "duration": 349,
    "start_time": "2023-02-09T18:51:42.813Z"
   },
   {
    "duration": 4,
    "start_time": "2023-02-09T18:51:44.695Z"
   },
   {
    "duration": 54,
    "start_time": "2023-02-09T18:51:44.700Z"
   },
   {
    "duration": 9,
    "start_time": "2023-02-09T18:51:44.757Z"
   },
   {
    "duration": 23,
    "start_time": "2023-02-09T18:51:44.768Z"
   },
   {
    "duration": 38,
    "start_time": "2023-02-09T18:51:44.793Z"
   },
   {
    "duration": 11,
    "start_time": "2023-02-09T18:51:44.833Z"
   },
   {
    "duration": 587,
    "start_time": "2023-02-09T18:51:44.846Z"
   },
   {
    "duration": 14,
    "start_time": "2023-02-09T18:51:45.434Z"
   },
   {
    "duration": 233,
    "start_time": "2023-02-09T18:51:45.450Z"
   },
   {
    "duration": 785,
    "start_time": "2023-02-09T18:51:45.685Z"
   },
   {
    "duration": 357,
    "start_time": "2023-02-09T18:51:46.471Z"
   },
   {
    "duration": 20,
    "start_time": "2023-02-09T18:51:46.829Z"
   },
   {
    "duration": 9,
    "start_time": "2023-02-09T18:51:46.851Z"
   },
   {
    "duration": 26,
    "start_time": "2023-02-09T18:51:46.862Z"
   },
   {
    "duration": 12,
    "start_time": "2023-02-09T18:52:02.477Z"
   },
   {
    "duration": 4,
    "start_time": "2023-02-09T18:52:11.048Z"
   },
   {
    "duration": 45,
    "start_time": "2023-02-09T18:52:11.054Z"
   },
   {
    "duration": 8,
    "start_time": "2023-02-09T18:52:11.101Z"
   },
   {
    "duration": 7,
    "start_time": "2023-02-09T18:52:11.111Z"
   },
   {
    "duration": 9,
    "start_time": "2023-02-09T18:52:11.120Z"
   },
   {
    "duration": 7,
    "start_time": "2023-02-09T18:52:11.131Z"
   },
   {
    "duration": 565,
    "start_time": "2023-02-09T18:52:11.139Z"
   },
   {
    "duration": 5,
    "start_time": "2023-02-09T18:52:11.706Z"
   },
   {
    "duration": 241,
    "start_time": "2023-02-09T18:52:11.713Z"
   },
   {
    "duration": 755,
    "start_time": "2023-02-09T18:52:17.376Z"
   },
   {
    "duration": 836,
    "start_time": "2023-02-09T18:52:34.534Z"
   },
   {
    "duration": 835,
    "start_time": "2023-02-09T18:52:37.413Z"
   },
   {
    "duration": 328,
    "start_time": "2023-02-09T18:52:52.054Z"
   },
   {
    "duration": 351,
    "start_time": "2023-02-09T18:53:04.712Z"
   },
   {
    "duration": 317,
    "start_time": "2023-02-09T18:53:35.778Z"
   },
   {
    "duration": 906,
    "start_time": "2023-02-09T18:53:46.952Z"
   },
   {
    "duration": 971,
    "start_time": "2023-02-09T18:53:58.903Z"
   },
   {
    "duration": 895,
    "start_time": "2023-02-09T18:54:05.343Z"
   },
   {
    "duration": 865,
    "start_time": "2023-02-09T18:54:18.599Z"
   },
   {
    "duration": 935,
    "start_time": "2023-02-09T18:54:21.319Z"
   },
   {
    "duration": 14,
    "start_time": "2023-02-09T18:54:28.272Z"
   },
   {
    "duration": 579,
    "start_time": "2023-02-09T18:54:54.333Z"
   },
   {
    "duration": 611,
    "start_time": "2023-02-09T18:55:11.424Z"
   },
   {
    "duration": 12,
    "start_time": "2023-02-09T18:55:18.871Z"
   },
   {
    "duration": 12,
    "start_time": "2023-02-09T18:55:21.855Z"
   },
   {
    "duration": 12,
    "start_time": "2023-02-09T18:55:27.485Z"
   },
   {
    "duration": 607,
    "start_time": "2023-02-09T18:55:30.271Z"
   },
   {
    "duration": 493,
    "start_time": "2023-02-09T18:55:40.821Z"
   },
   {
    "duration": 631,
    "start_time": "2023-02-09T18:56:11.151Z"
   },
   {
    "duration": 576,
    "start_time": "2023-02-09T18:56:32.320Z"
   },
   {
    "duration": 553,
    "start_time": "2023-02-09T18:56:38.488Z"
   },
   {
    "duration": 573,
    "start_time": "2023-02-09T18:56:46.385Z"
   },
   {
    "duration": 584,
    "start_time": "2023-02-09T18:57:55.407Z"
   },
   {
    "duration": 629,
    "start_time": "2023-02-09T18:58:01.031Z"
   },
   {
    "duration": 589,
    "start_time": "2023-02-09T18:58:18.944Z"
   },
   {
    "duration": 269,
    "start_time": "2023-02-09T18:59:56.511Z"
   },
   {
    "duration": 676,
    "start_time": "2023-02-09T19:00:40.163Z"
   },
   {
    "duration": 239,
    "start_time": "2023-02-09T19:01:37.024Z"
   },
   {
    "duration": 105,
    "start_time": "2023-02-09T19:01:49.693Z"
   },
   {
    "duration": 148,
    "start_time": "2023-02-09T19:01:58.076Z"
   },
   {
    "duration": 24,
    "start_time": "2023-02-09T19:08:42.967Z"
   },
   {
    "duration": 40,
    "start_time": "2023-02-09T19:08:42.993Z"
   },
   {
    "duration": 8,
    "start_time": "2023-02-09T19:08:43.035Z"
   },
   {
    "duration": 10,
    "start_time": "2023-02-09T19:08:43.044Z"
   },
   {
    "duration": 17,
    "start_time": "2023-02-09T19:08:43.056Z"
   },
   {
    "duration": 12,
    "start_time": "2023-02-09T19:08:43.075Z"
   },
   {
    "duration": 624,
    "start_time": "2023-02-09T19:08:43.088Z"
   },
   {
    "duration": 8,
    "start_time": "2023-02-09T19:08:43.713Z"
   },
   {
    "duration": 251,
    "start_time": "2023-02-09T19:08:43.722Z"
   },
   {
    "duration": 240,
    "start_time": "2023-02-09T19:08:43.974Z"
   },
   {
    "duration": 158,
    "start_time": "2023-02-09T19:08:44.215Z"
   },
   {
    "duration": 11,
    "start_time": "2023-02-09T19:08:44.374Z"
   },
   {
    "duration": 4,
    "start_time": "2023-02-09T19:08:44.387Z"
   },
   {
    "duration": 79,
    "start_time": "2023-02-09T19:08:44.394Z"
   },
   {
    "duration": 0,
    "start_time": "2023-02-09T19:08:44.475Z"
   },
   {
    "duration": 0,
    "start_time": "2023-02-09T19:08:44.476Z"
   },
   {
    "duration": 66,
    "start_time": "2023-02-09T19:08:53.788Z"
   },
   {
    "duration": 12,
    "start_time": "2023-02-09T19:09:25.254Z"
   },
   {
    "duration": 77,
    "start_time": "2023-02-09T19:09:26.256Z"
   },
   {
    "duration": 9,
    "start_time": "2023-02-09T19:09:55.381Z"
   },
   {
    "duration": 15,
    "start_time": "2023-02-09T19:10:02.537Z"
   },
   {
    "duration": 11,
    "start_time": "2023-02-09T19:10:09.092Z"
   },
   {
    "duration": 4,
    "start_time": "2023-02-09T19:10:43.094Z"
   },
   {
    "duration": 6,
    "start_time": "2023-02-09T19:10:46.563Z"
   },
   {
    "duration": 1335,
    "start_time": "2023-02-09T19:11:31.108Z"
   },
   {
    "duration": 51,
    "start_time": "2023-02-09T19:11:32.445Z"
   },
   {
    "duration": 12,
    "start_time": "2023-02-09T19:11:32.497Z"
   },
   {
    "duration": 4,
    "start_time": "2023-02-09T19:11:32.510Z"
   },
   {
    "duration": 13,
    "start_time": "2023-02-09T19:11:32.517Z"
   },
   {
    "duration": 19,
    "start_time": "2023-02-09T19:11:32.531Z"
   },
   {
    "duration": 646,
    "start_time": "2023-02-09T19:11:32.551Z"
   },
   {
    "duration": 8,
    "start_time": "2023-02-09T19:11:33.199Z"
   },
   {
    "duration": 309,
    "start_time": "2023-02-09T19:11:33.208Z"
   },
   {
    "duration": 275,
    "start_time": "2023-02-09T19:11:33.518Z"
   },
   {
    "duration": 153,
    "start_time": "2023-02-09T19:11:33.794Z"
   },
   {
    "duration": 3,
    "start_time": "2023-02-09T19:11:33.949Z"
   },
   {
    "duration": 20,
    "start_time": "2023-02-09T19:11:33.954Z"
   },
   {
    "duration": 8,
    "start_time": "2023-02-09T19:11:33.977Z"
   },
   {
    "duration": 8,
    "start_time": "2023-02-09T19:11:33.987Z"
   },
   {
    "duration": 77655,
    "start_time": "2023-02-09T19:11:33.996Z"
   },
   {
    "duration": 6,
    "start_time": "2023-02-09T19:12:51.653Z"
   },
   {
    "duration": 10,
    "start_time": "2023-02-09T19:13:05.884Z"
   },
   {
    "duration": 4,
    "start_time": "2023-02-09T19:16:26.718Z"
   },
   {
    "duration": 116,
    "start_time": "2023-02-09T19:16:27.107Z"
   },
   {
    "duration": 9,
    "start_time": "2023-02-09T19:16:27.421Z"
   },
   {
    "duration": 4,
    "start_time": "2023-02-09T19:16:37.429Z"
   },
   {
    "duration": 7,
    "start_time": "2023-02-09T19:16:38.156Z"
   },
   {
    "duration": 8,
    "start_time": "2023-02-09T19:16:38.749Z"
   },
   {
    "duration": 8,
    "start_time": "2023-02-09T19:16:39.429Z"
   },
   {
    "duration": 27182,
    "start_time": "2023-02-09T19:16:40.069Z"
   },
   {
    "duration": 95,
    "start_time": "2023-02-09T19:17:07.254Z"
   },
   {
    "duration": 7,
    "start_time": "2023-02-09T19:19:43.801Z"
   },
   {
    "duration": 272471,
    "start_time": "2023-02-09T19:20:04.283Z"
   },
   {
    "duration": 16,
    "start_time": "2023-02-09T19:24:52.365Z"
   },
   {
    "duration": 9,
    "start_time": "2023-02-09T19:24:56.835Z"
   },
   {
    "duration": 10,
    "start_time": "2023-02-09T19:24:57.262Z"
   },
   {
    "duration": 8,
    "start_time": "2023-02-09T19:24:59.162Z"
   },
   {
    "duration": 4,
    "start_time": "2023-02-09T19:25:01.803Z"
   },
   {
    "duration": 7,
    "start_time": "2023-02-09T19:25:02.003Z"
   },
   {
    "duration": 9,
    "start_time": "2023-02-09T19:25:02.203Z"
   },
   {
    "duration": 9,
    "start_time": "2023-02-09T19:25:02.526Z"
   },
   {
    "duration": 8,
    "start_time": "2023-02-09T19:25:04.964Z"
   },
   {
    "duration": 13,
    "start_time": "2023-02-09T19:26:03.605Z"
   },
   {
    "duration": 20,
    "start_time": "2023-02-09T19:26:06.760Z"
   },
   {
    "duration": 11,
    "start_time": "2023-02-09T19:26:23.093Z"
   },
   {
    "duration": 9,
    "start_time": "2023-02-09T19:26:23.794Z"
   },
   {
    "duration": 6,
    "start_time": "2023-02-09T19:26:26.188Z"
   },
   {
    "duration": 5,
    "start_time": "2023-02-09T19:28:09.966Z"
   },
   {
    "duration": 10,
    "start_time": "2023-02-09T19:28:10.562Z"
   },
   {
    "duration": 9,
    "start_time": "2023-02-09T19:28:11.099Z"
   },
   {
    "duration": 9,
    "start_time": "2023-02-09T19:28:11.717Z"
   },
   {
    "duration": 9,
    "start_time": "2023-02-09T19:28:14.211Z"
   },
   {
    "duration": 448325,
    "start_time": "2023-02-09T19:28:19.228Z"
   },
   {
    "duration": 10,
    "start_time": "2023-02-09T19:36:19.214Z"
   },
   {
    "duration": 11,
    "start_time": "2023-02-09T19:37:02.308Z"
   },
   {
    "duration": 1339,
    "start_time": "2023-02-09T19:38:07.521Z"
   },
   {
    "duration": 46,
    "start_time": "2023-02-09T19:38:08.862Z"
   },
   {
    "duration": 11,
    "start_time": "2023-02-09T19:38:08.910Z"
   },
   {
    "duration": 8,
    "start_time": "2023-02-09T19:38:08.922Z"
   },
   {
    "duration": 14,
    "start_time": "2023-02-09T19:38:08.932Z"
   },
   {
    "duration": 12,
    "start_time": "2023-02-09T19:38:08.947Z"
   },
   {
    "duration": 638,
    "start_time": "2023-02-09T19:38:08.960Z"
   },
   {
    "duration": 12,
    "start_time": "2023-02-09T19:38:09.600Z"
   },
   {
    "duration": 313,
    "start_time": "2023-02-09T19:38:09.614Z"
   },
   {
    "duration": 264,
    "start_time": "2023-02-09T19:38:09.929Z"
   },
   {
    "duration": 161,
    "start_time": "2023-02-09T19:38:10.195Z"
   },
   {
    "duration": 4,
    "start_time": "2023-02-09T19:38:10.358Z"
   },
   {
    "duration": 21,
    "start_time": "2023-02-09T19:38:10.364Z"
   },
   {
    "duration": 12,
    "start_time": "2023-02-09T19:38:10.388Z"
   },
   {
    "duration": 11,
    "start_time": "2023-02-09T19:38:10.402Z"
   },
   {
    "duration": 1284006,
    "start_time": "2023-02-09T19:38:10.445Z"
   },
   {
    "duration": 11,
    "start_time": "2023-02-09T19:59:34.453Z"
   },
   {
    "duration": 4,
    "start_time": "2023-02-09T20:00:46.333Z"
   },
   {
    "duration": 9,
    "start_time": "2023-02-09T20:00:47.177Z"
   },
   {
    "duration": 14,
    "start_time": "2023-02-09T20:00:48.276Z"
   },
   {
    "duration": 1498,
    "start_time": "2023-02-09T20:02:06.067Z"
   },
   {
    "duration": 50,
    "start_time": "2023-02-09T20:02:07.567Z"
   },
   {
    "duration": 12,
    "start_time": "2023-02-09T20:02:07.618Z"
   },
   {
    "duration": 9,
    "start_time": "2023-02-09T20:02:07.631Z"
   },
   {
    "duration": 26,
    "start_time": "2023-02-09T20:02:07.641Z"
   },
   {
    "duration": 6,
    "start_time": "2023-02-09T20:02:07.669Z"
   },
   {
    "duration": 672,
    "start_time": "2023-02-09T20:02:07.677Z"
   },
   {
    "duration": 9,
    "start_time": "2023-02-09T20:02:08.351Z"
   },
   {
    "duration": 325,
    "start_time": "2023-02-09T20:02:08.361Z"
   },
   {
    "duration": 294,
    "start_time": "2023-02-09T20:02:08.687Z"
   },
   {
    "duration": 164,
    "start_time": "2023-02-09T20:02:08.983Z"
   },
   {
    "duration": 5,
    "start_time": "2023-02-09T20:02:09.149Z"
   },
   {
    "duration": 22,
    "start_time": "2023-02-09T20:02:09.155Z"
   },
   {
    "duration": 10,
    "start_time": "2023-02-09T20:02:09.180Z"
   },
   {
    "duration": 8,
    "start_time": "2023-02-09T20:02:09.192Z"
   },
   {
    "duration": 1288,
    "start_time": "2023-02-09T20:05:30.799Z"
   },
   {
    "duration": 61,
    "start_time": "2023-02-09T20:05:32.090Z"
   },
   {
    "duration": 15,
    "start_time": "2023-02-09T20:05:32.153Z"
   },
   {
    "duration": 10,
    "start_time": "2023-02-09T20:05:32.170Z"
   },
   {
    "duration": 34,
    "start_time": "2023-02-09T20:05:32.182Z"
   },
   {
    "duration": 6,
    "start_time": "2023-02-09T20:05:32.219Z"
   },
   {
    "duration": 691,
    "start_time": "2023-02-09T20:05:32.227Z"
   },
   {
    "duration": 7,
    "start_time": "2023-02-09T20:05:32.919Z"
   },
   {
    "duration": 310,
    "start_time": "2023-02-09T20:05:32.928Z"
   },
   {
    "duration": 278,
    "start_time": "2023-02-09T20:05:33.239Z"
   },
   {
    "duration": 164,
    "start_time": "2023-02-09T20:05:33.519Z"
   },
   {
    "duration": 3,
    "start_time": "2023-02-09T20:05:33.685Z"
   },
   {
    "duration": 25,
    "start_time": "2023-02-09T20:05:33.690Z"
   },
   {
    "duration": 17,
    "start_time": "2023-02-09T20:05:33.718Z"
   },
   {
    "duration": 9,
    "start_time": "2023-02-09T20:05:33.737Z"
   },
   {
    "duration": 67997,
    "start_time": "2023-02-09T20:05:33.748Z"
   },
   {
    "duration": 19,
    "start_time": "2023-02-09T20:06:41.747Z"
   },
   {
    "duration": 28768,
    "start_time": "2023-02-09T20:06:53.183Z"
   },
   {
    "duration": 12,
    "start_time": "2023-02-09T20:07:21.952Z"
   },
   {
    "duration": 18,
    "start_time": "2023-02-09T20:09:39.772Z"
   },
   {
    "duration": 9,
    "start_time": "2023-02-09T20:09:41.766Z"
   },
   {
    "duration": 22,
    "start_time": "2023-02-09T20:09:43.598Z"
   },
   {
    "duration": 96,
    "start_time": "2023-02-09T20:09:46.582Z"
   },
   {
    "duration": 7,
    "start_time": "2023-02-09T20:09:49.318Z"
   },
   {
    "duration": 18,
    "start_time": "2023-02-09T20:09:51.174Z"
   },
   {
    "duration": 5,
    "start_time": "2023-02-09T20:09:56.392Z"
   },
   {
    "duration": 16,
    "start_time": "2023-02-09T20:09:58.474Z"
   },
   {
    "duration": 3,
    "start_time": "2023-02-09T20:10:00.413Z"
   },
   {
    "duration": 5,
    "start_time": "2023-02-09T20:10:00.679Z"
   },
   {
    "duration": 20,
    "start_time": "2023-02-09T20:10:01.972Z"
   },
   {
    "duration": 376,
    "start_time": "2023-02-09T20:10:05.376Z"
   },
   {
    "duration": 114,
    "start_time": "2023-02-09T20:10:07.669Z"
   },
   {
    "duration": 6,
    "start_time": "2023-02-09T20:10:24.485Z"
   },
   {
    "duration": 17,
    "start_time": "2023-02-09T20:10:25.191Z"
   },
   {
    "duration": 262,
    "start_time": "2023-02-09T20:10:26.981Z"
   },
   {
    "duration": 16,
    "start_time": "2023-02-09T20:10:29.061Z"
   },
   {
    "duration": 15,
    "start_time": "2023-02-09T20:10:40.079Z"
   },
   {
    "duration": 4,
    "start_time": "2023-02-09T20:10:51.574Z"
   },
   {
    "duration": 6,
    "start_time": "2023-02-09T20:10:51.860Z"
   },
   {
    "duration": 15,
    "start_time": "2023-02-09T20:10:52.765Z"
   },
   {
    "duration": 40,
    "start_time": "2023-02-09T20:10:54.916Z"
   },
   {
    "duration": 8,
    "start_time": "2023-02-09T20:10:56.790Z"
   },
   {
    "duration": 4,
    "start_time": "2023-02-09T20:11:04.301Z"
   },
   {
    "duration": 8,
    "start_time": "2023-02-09T20:11:04.565Z"
   },
   {
    "duration": 14,
    "start_time": "2023-02-09T20:11:05.166Z"
   },
   {
    "duration": 358,
    "start_time": "2023-02-09T20:11:05.789Z"
   },
   {
    "duration": 14,
    "start_time": "2023-02-09T20:11:08.029Z"
   },
   {
    "duration": 5,
    "start_time": "2023-02-09T20:11:17.533Z"
   },
   {
    "duration": 4,
    "start_time": "2023-02-09T20:11:19.509Z"
   },
   {
    "duration": 6,
    "start_time": "2023-02-09T20:11:19.751Z"
   },
   {
    "duration": 13,
    "start_time": "2023-02-09T20:11:20.363Z"
   },
   {
    "duration": 118,
    "start_time": "2023-02-09T20:11:21.237Z"
   },
   {
    "duration": 10,
    "start_time": "2023-02-09T20:11:23.134Z"
   },
   {
    "duration": 32,
    "start_time": "2023-02-09T20:11:43.373Z"
   },
   {
    "duration": 6,
    "start_time": "2023-02-09T20:11:48.294Z"
   },
   {
    "duration": 1307,
    "start_time": "2023-02-09T20:12:17.436Z"
   },
   {
    "duration": 47,
    "start_time": "2023-02-09T20:12:18.745Z"
   },
   {
    "duration": 11,
    "start_time": "2023-02-09T20:12:18.794Z"
   },
   {
    "duration": 4,
    "start_time": "2023-02-09T20:12:18.806Z"
   },
   {
    "duration": 12,
    "start_time": "2023-02-09T20:12:18.812Z"
   },
   {
    "duration": 4,
    "start_time": "2023-02-09T20:12:18.826Z"
   },
   {
    "duration": 662,
    "start_time": "2023-02-09T20:12:18.832Z"
   },
   {
    "duration": 7,
    "start_time": "2023-02-09T20:12:19.496Z"
   },
   {
    "duration": 294,
    "start_time": "2023-02-09T20:12:19.504Z"
   },
   {
    "duration": 245,
    "start_time": "2023-02-09T20:12:19.800Z"
   },
   {
    "duration": 160,
    "start_time": "2023-02-09T20:12:20.046Z"
   },
   {
    "duration": 4,
    "start_time": "2023-02-09T20:12:20.208Z"
   },
   {
    "duration": 18,
    "start_time": "2023-02-09T20:12:20.214Z"
   },
   {
    "duration": 11,
    "start_time": "2023-02-09T20:12:20.234Z"
   },
   {
    "duration": 8,
    "start_time": "2023-02-09T20:12:20.246Z"
   },
   {
    "duration": 11,
    "start_time": "2023-02-09T20:12:20.256Z"
   },
   {
    "duration": 1402,
    "start_time": "2023-02-09T20:12:46.222Z"
   },
   {
    "duration": 48,
    "start_time": "2023-02-09T20:12:47.626Z"
   },
   {
    "duration": 12,
    "start_time": "2023-02-09T20:12:47.675Z"
   },
   {
    "duration": 13,
    "start_time": "2023-02-09T20:12:47.688Z"
   },
   {
    "duration": 11,
    "start_time": "2023-02-09T20:12:47.703Z"
   },
   {
    "duration": 5,
    "start_time": "2023-02-09T20:12:47.715Z"
   },
   {
    "duration": 636,
    "start_time": "2023-02-09T20:12:47.721Z"
   },
   {
    "duration": 8,
    "start_time": "2023-02-09T20:12:48.359Z"
   },
   {
    "duration": 311,
    "start_time": "2023-02-09T20:12:48.368Z"
   },
   {
    "duration": 264,
    "start_time": "2023-02-09T20:12:48.681Z"
   },
   {
    "duration": 160,
    "start_time": "2023-02-09T20:12:48.946Z"
   },
   {
    "duration": 5,
    "start_time": "2023-02-09T20:12:49.108Z"
   },
   {
    "duration": 19,
    "start_time": "2023-02-09T20:12:49.114Z"
   },
   {
    "duration": 11,
    "start_time": "2023-02-09T20:12:49.145Z"
   },
   {
    "duration": 9,
    "start_time": "2023-02-09T20:12:49.158Z"
   },
   {
    "duration": 10,
    "start_time": "2023-02-09T20:12:49.168Z"
   },
   {
    "duration": 4,
    "start_time": "2023-02-09T20:12:55.717Z"
   },
   {
    "duration": 6,
    "start_time": "2023-02-09T20:12:55.904Z"
   },
   {
    "duration": 9,
    "start_time": "2023-02-09T20:12:56.403Z"
   },
   {
    "duration": 7,
    "start_time": "2023-02-09T20:12:56.959Z"
   },
   {
    "duration": 6,
    "start_time": "2023-02-09T20:12:57.404Z"
   },
   {
    "duration": 3,
    "start_time": "2023-02-09T20:13:01.409Z"
   },
   {
    "duration": 8,
    "start_time": "2023-02-09T20:13:01.837Z"
   },
   {
    "duration": 8,
    "start_time": "2023-02-09T20:13:02.445Z"
   },
   {
    "duration": 8,
    "start_time": "2023-02-09T20:13:03.109Z"
   },
   {
    "duration": 6,
    "start_time": "2023-02-09T20:13:03.457Z"
   },
   {
    "duration": 3,
    "start_time": "2023-02-09T20:13:07.539Z"
   },
   {
    "duration": 6,
    "start_time": "2023-02-09T20:13:07.853Z"
   },
   {
    "duration": 9,
    "start_time": "2023-02-09T20:13:08.557Z"
   },
   {
    "duration": 8,
    "start_time": "2023-02-09T20:13:09.212Z"
   },
   {
    "duration": 6,
    "start_time": "2023-02-09T20:13:09.708Z"
   },
   {
    "duration": 4,
    "start_time": "2023-02-09T20:13:30.117Z"
   },
   {
    "duration": 7,
    "start_time": "2023-02-09T20:13:30.408Z"
   },
   {
    "duration": 9,
    "start_time": "2023-02-09T20:13:31.105Z"
   },
   {
    "duration": 8,
    "start_time": "2023-02-09T20:13:31.924Z"
   },
   {
    "duration": 6,
    "start_time": "2023-02-09T20:13:32.297Z"
   },
   {
    "duration": 4,
    "start_time": "2023-02-09T20:13:36.800Z"
   },
   {
    "duration": 8,
    "start_time": "2023-02-09T20:13:37.027Z"
   },
   {
    "duration": 8,
    "start_time": "2023-02-09T20:13:37.708Z"
   },
   {
    "duration": 6,
    "start_time": "2023-02-09T20:13:38.373Z"
   },
   {
    "duration": 6,
    "start_time": "2023-02-09T20:13:38.733Z"
   },
   {
    "duration": 4,
    "start_time": "2023-02-09T20:13:43.406Z"
   },
   {
    "duration": 6,
    "start_time": "2023-02-09T20:13:43.659Z"
   },
   {
    "duration": 8,
    "start_time": "2023-02-09T20:13:44.156Z"
   },
   {
    "duration": 11,
    "start_time": "2023-02-09T20:13:44.802Z"
   },
   {
    "duration": 7,
    "start_time": "2023-02-09T20:13:45.188Z"
   },
   {
    "duration": 4,
    "start_time": "2023-02-09T20:13:49.109Z"
   },
   {
    "duration": 6,
    "start_time": "2023-02-09T20:13:49.268Z"
   },
   {
    "duration": 9,
    "start_time": "2023-02-09T20:13:49.732Z"
   },
   {
    "duration": 9,
    "start_time": "2023-02-09T20:13:50.332Z"
   },
   {
    "duration": 6,
    "start_time": "2023-02-09T20:13:50.696Z"
   },
   {
    "duration": 4,
    "start_time": "2023-02-09T20:13:54.701Z"
   },
   {
    "duration": 7,
    "start_time": "2023-02-09T20:13:54.904Z"
   },
   {
    "duration": 8,
    "start_time": "2023-02-09T20:13:55.227Z"
   },
   {
    "duration": 9,
    "start_time": "2023-02-09T20:13:55.667Z"
   },
   {
    "duration": 7,
    "start_time": "2023-02-09T20:13:56.104Z"
   },
   {
    "duration": 4,
    "start_time": "2023-02-09T20:13:59.724Z"
   },
   {
    "duration": 6,
    "start_time": "2023-02-09T20:13:59.923Z"
   },
   {
    "duration": 9,
    "start_time": "2023-02-09T20:14:00.303Z"
   },
   {
    "duration": 8,
    "start_time": "2023-02-09T20:14:00.949Z"
   },
   {
    "duration": 7,
    "start_time": "2023-02-09T20:14:03.325Z"
   },
   {
    "duration": 7,
    "start_time": "2023-02-09T20:15:24.208Z"
   },
   {
    "duration": 10,
    "start_time": "2023-02-09T20:15:24.828Z"
   },
   {
    "duration": 9,
    "start_time": "2023-02-09T20:15:25.414Z"
   },
   {
    "duration": 8,
    "start_time": "2023-02-09T20:15:25.800Z"
   },
   {
    "duration": 3,
    "start_time": "2023-02-09T20:15:28.436Z"
   },
   {
    "duration": 12,
    "start_time": "2023-02-09T20:15:28.613Z"
   },
   {
    "duration": 9,
    "start_time": "2023-02-09T20:15:28.904Z"
   },
   {
    "duration": 10,
    "start_time": "2023-02-09T20:15:29.459Z"
   },
   {
    "duration": 6,
    "start_time": "2023-02-09T20:15:29.867Z"
   },
   {
    "duration": 52823,
    "start_time": "2023-02-09T20:15:36.532Z"
   },
   {
    "duration": 90,
    "start_time": "2023-02-09T20:16:29.356Z"
   },
   {
    "duration": 12,
    "start_time": "2023-02-09T20:16:33.700Z"
   },
   {
    "duration": 3,
    "start_time": "2023-02-09T20:16:54.355Z"
   },
   {
    "duration": 13,
    "start_time": "2023-02-09T20:16:54.622Z"
   },
   {
    "duration": 9,
    "start_time": "2023-02-09T20:16:55.105Z"
   },
   {
    "duration": 9,
    "start_time": "2023-02-09T20:16:55.564Z"
   },
   {
    "duration": 88,
    "start_time": "2023-02-09T20:16:56.356Z"
   },
   {
    "duration": 207,
    "start_time": "2023-02-09T20:27:11.117Z"
   },
   {
    "duration": 121,
    "start_time": "2023-02-09T20:29:41.690Z"
   },
   {
    "duration": 3,
    "start_time": "2023-02-09T20:29:45.767Z"
   },
   {
    "duration": 52,
    "start_time": "2023-02-09T20:29:45.772Z"
   },
   {
    "duration": 8,
    "start_time": "2023-02-09T20:29:45.826Z"
   },
   {
    "duration": 6,
    "start_time": "2023-02-09T20:29:45.835Z"
   },
   {
    "duration": 18,
    "start_time": "2023-02-09T20:29:45.842Z"
   },
   {
    "duration": 8,
    "start_time": "2023-02-09T20:29:45.862Z"
   },
   {
    "duration": 577,
    "start_time": "2023-02-09T20:29:45.871Z"
   },
   {
    "duration": 6,
    "start_time": "2023-02-09T20:29:46.449Z"
   },
   {
    "duration": 301,
    "start_time": "2023-02-09T20:29:46.456Z"
   },
   {
    "duration": 223,
    "start_time": "2023-02-09T20:29:46.758Z"
   },
   {
    "duration": 163,
    "start_time": "2023-02-09T20:29:46.983Z"
   },
   {
    "duration": 173,
    "start_time": "2023-02-09T20:29:47.148Z"
   },
   {
    "duration": 4,
    "start_time": "2023-02-09T20:29:47.323Z"
   },
   {
    "duration": 49,
    "start_time": "2023-02-09T20:29:47.329Z"
   },
   {
    "duration": 8,
    "start_time": "2023-02-09T20:29:47.380Z"
   },
   {
    "duration": 8,
    "start_time": "2023-02-09T20:29:47.390Z"
   },
   {
    "duration": 1337,
    "start_time": "2023-02-09T20:30:41.625Z"
   },
   {
    "duration": 46,
    "start_time": "2023-02-09T20:30:42.964Z"
   },
   {
    "duration": 11,
    "start_time": "2023-02-09T20:30:43.011Z"
   },
   {
    "duration": 12,
    "start_time": "2023-02-09T20:30:43.023Z"
   },
   {
    "duration": 25,
    "start_time": "2023-02-09T20:30:43.037Z"
   },
   {
    "duration": 4,
    "start_time": "2023-02-09T20:30:43.064Z"
   },
   {
    "duration": 688,
    "start_time": "2023-02-09T20:30:43.070Z"
   },
   {
    "duration": 8,
    "start_time": "2023-02-09T20:30:43.760Z"
   },
   {
    "duration": 296,
    "start_time": "2023-02-09T20:30:43.770Z"
   },
   {
    "duration": 249,
    "start_time": "2023-02-09T20:30:44.068Z"
   },
   {
    "duration": 159,
    "start_time": "2023-02-09T20:30:44.318Z"
   },
   {
    "duration": 246,
    "start_time": "2023-02-09T20:30:44.478Z"
   },
   {
    "duration": 0,
    "start_time": "2023-02-09T20:30:44.727Z"
   },
   {
    "duration": 0,
    "start_time": "2023-02-09T20:30:44.728Z"
   },
   {
    "duration": 0,
    "start_time": "2023-02-09T20:30:44.729Z"
   },
   {
    "duration": 0,
    "start_time": "2023-02-09T20:30:44.731Z"
   },
   {
    "duration": 1,
    "start_time": "2023-02-09T20:30:44.743Z"
   },
   {
    "duration": 0,
    "start_time": "2023-02-09T20:30:44.745Z"
   },
   {
    "duration": 160,
    "start_time": "2023-02-09T20:30:48.886Z"
   },
   {
    "duration": 177,
    "start_time": "2023-02-09T20:31:28.733Z"
   },
   {
    "duration": 193,
    "start_time": "2023-02-09T20:31:33.086Z"
   },
   {
    "duration": 159,
    "start_time": "2023-02-09T20:31:36.960Z"
   },
   {
    "duration": 1348,
    "start_time": "2023-02-09T20:36:35.587Z"
   },
   {
    "duration": 48,
    "start_time": "2023-02-09T20:36:36.937Z"
   },
   {
    "duration": 11,
    "start_time": "2023-02-09T20:36:36.986Z"
   },
   {
    "duration": 7,
    "start_time": "2023-02-09T20:36:36.999Z"
   },
   {
    "duration": 13,
    "start_time": "2023-02-09T20:36:37.008Z"
   },
   {
    "duration": 5,
    "start_time": "2023-02-09T20:36:37.022Z"
   },
   {
    "duration": 688,
    "start_time": "2023-02-09T20:36:37.029Z"
   },
   {
    "duration": 11,
    "start_time": "2023-02-09T20:36:37.718Z"
   },
   {
    "duration": 325,
    "start_time": "2023-02-09T20:36:37.732Z"
   },
   {
    "duration": 302,
    "start_time": "2023-02-09T20:36:38.059Z"
   },
   {
    "duration": 153,
    "start_time": "2023-02-09T20:36:38.362Z"
   },
   {
    "duration": 170,
    "start_time": "2023-02-09T20:36:38.516Z"
   },
   {
    "duration": 4,
    "start_time": "2023-02-09T20:36:38.688Z"
   },
   {
    "duration": 19,
    "start_time": "2023-02-09T20:36:38.694Z"
   },
   {
    "duration": 9,
    "start_time": "2023-02-09T20:36:38.715Z"
   },
   {
    "duration": 12,
    "start_time": "2023-02-09T20:36:38.743Z"
   },
   {
    "duration": 282596,
    "start_time": "2023-02-09T20:36:38.757Z"
   },
   {
    "duration": 93,
    "start_time": "2023-02-09T20:41:21.355Z"
   },
   {
    "duration": 1275,
    "start_time": "2023-02-09T20:43:22.459Z"
   },
   {
    "duration": 45,
    "start_time": "2023-02-09T20:43:23.736Z"
   },
   {
    "duration": 10,
    "start_time": "2023-02-09T20:43:23.783Z"
   },
   {
    "duration": 5,
    "start_time": "2023-02-09T20:43:23.795Z"
   },
   {
    "duration": 12,
    "start_time": "2023-02-09T20:43:23.801Z"
   },
   {
    "duration": 4,
    "start_time": "2023-02-09T20:43:23.815Z"
   },
   {
    "duration": 619,
    "start_time": "2023-02-09T20:43:23.820Z"
   },
   {
    "duration": 7,
    "start_time": "2023-02-09T20:43:24.443Z"
   },
   {
    "duration": 358,
    "start_time": "2023-02-09T20:43:24.452Z"
   },
   {
    "duration": 273,
    "start_time": "2023-02-09T20:43:24.812Z"
   },
   {
    "duration": 151,
    "start_time": "2023-02-09T20:43:25.086Z"
   },
   {
    "duration": 180,
    "start_time": "2023-02-09T20:43:25.238Z"
   },
   {
    "duration": 4,
    "start_time": "2023-02-09T20:43:25.419Z"
   },
   {
    "duration": 27,
    "start_time": "2023-02-09T20:43:25.424Z"
   },
   {
    "duration": 10,
    "start_time": "2023-02-09T20:43:25.452Z"
   },
   {
    "duration": 10,
    "start_time": "2023-02-09T20:43:25.463Z"
   },
   {
    "duration": 35889,
    "start_time": "2023-02-09T20:43:25.474Z"
   },
   {
    "duration": 180,
    "start_time": "2023-02-09T20:44:01.364Z"
   },
   {
    "duration": 1328,
    "start_time": "2023-02-09T20:46:07.413Z"
   },
   {
    "duration": 46,
    "start_time": "2023-02-09T20:46:08.743Z"
   },
   {
    "duration": 11,
    "start_time": "2023-02-09T20:46:08.791Z"
   },
   {
    "duration": 4,
    "start_time": "2023-02-09T20:46:08.804Z"
   },
   {
    "duration": 12,
    "start_time": "2023-02-09T20:46:08.810Z"
   },
   {
    "duration": 5,
    "start_time": "2023-02-09T20:46:08.823Z"
   },
   {
    "duration": 624,
    "start_time": "2023-02-09T20:46:08.830Z"
   },
   {
    "duration": 8,
    "start_time": "2023-02-09T20:46:09.456Z"
   },
   {
    "duration": 316,
    "start_time": "2023-02-09T20:46:09.465Z"
   },
   {
    "duration": 251,
    "start_time": "2023-02-09T20:46:09.782Z"
   },
   {
    "duration": 161,
    "start_time": "2023-02-09T20:46:10.034Z"
   },
   {
    "duration": 170,
    "start_time": "2023-02-09T20:46:10.196Z"
   },
   {
    "duration": 4,
    "start_time": "2023-02-09T20:46:10.368Z"
   },
   {
    "duration": 20,
    "start_time": "2023-02-09T20:46:10.375Z"
   },
   {
    "duration": 17,
    "start_time": "2023-02-09T20:46:10.396Z"
   },
   {
    "duration": 16,
    "start_time": "2023-02-09T20:46:10.415Z"
   },
   {
    "duration": 33516,
    "start_time": "2023-02-09T20:46:10.432Z"
   },
   {
    "duration": 15,
    "start_time": "2023-02-09T20:46:43.950Z"
   },
   {
    "duration": 1448,
    "start_time": "2023-02-10T18:01:56.297Z"
   },
   {
    "duration": 1292,
    "start_time": "2023-02-10T18:03:20.146Z"
   },
   {
    "duration": 143,
    "start_time": "2023-02-10T18:03:21.440Z"
   },
   {
    "duration": 11,
    "start_time": "2023-02-10T18:03:21.585Z"
   },
   {
    "duration": 4,
    "start_time": "2023-02-10T18:03:21.598Z"
   },
   {
    "duration": 11,
    "start_time": "2023-02-10T18:03:21.605Z"
   },
   {
    "duration": 5,
    "start_time": "2023-02-10T18:03:21.618Z"
   },
   {
    "duration": 641,
    "start_time": "2023-02-10T18:03:21.625Z"
   },
   {
    "duration": 9,
    "start_time": "2023-02-10T18:03:22.268Z"
   },
   {
    "duration": 382,
    "start_time": "2023-02-10T18:03:22.278Z"
   },
   {
    "duration": 282,
    "start_time": "2023-02-10T18:03:22.661Z"
   },
   {
    "duration": 165,
    "start_time": "2023-02-10T18:03:22.945Z"
   },
   {
    "duration": 177,
    "start_time": "2023-02-10T18:03:23.112Z"
   },
   {
    "duration": 4,
    "start_time": "2023-02-10T18:03:23.290Z"
   },
   {
    "duration": 20,
    "start_time": "2023-02-10T18:03:23.296Z"
   },
   {
    "duration": 25,
    "start_time": "2023-02-10T18:03:23.318Z"
   },
   {
    "duration": 12,
    "start_time": "2023-02-10T18:03:23.345Z"
   },
   {
    "duration": 77,
    "start_time": "2023-02-10T18:03:23.361Z"
   },
   {
    "duration": 203005,
    "start_time": "2023-02-10T18:03:23.441Z"
   },
   {
    "duration": 95,
    "start_time": "2023-02-10T18:06:46.448Z"
   },
   {
    "duration": 4,
    "start_time": "2023-02-10T18:25:44.653Z"
   },
   {
    "duration": 109,
    "start_time": "2023-02-10T18:28:42.277Z"
   },
   {
    "duration": 8,
    "start_time": "2023-02-10T18:29:13.123Z"
   },
   {
    "duration": 3,
    "start_time": "2023-02-10T18:30:38.548Z"
   },
   {
    "duration": 10,
    "start_time": "2023-02-10T18:30:38.932Z"
   },
   {
    "duration": 8,
    "start_time": "2023-02-10T18:30:40.261Z"
   },
   {
    "duration": 8,
    "start_time": "2023-02-10T18:30:41.405Z"
   },
   {
    "duration": 14,
    "start_time": "2023-02-10T18:30:44.147Z"
   },
   {
    "duration": 57,
    "start_time": "2023-02-11T06:43:31.608Z"
   },
   {
    "duration": 7,
    "start_time": "2023-02-11T06:43:42.503Z"
   },
   {
    "duration": 1562,
    "start_time": "2023-02-11T06:43:44.571Z"
   },
   {
    "duration": 130,
    "start_time": "2023-02-11T06:43:46.135Z"
   },
   {
    "duration": 15,
    "start_time": "2023-02-11T06:43:46.268Z"
   },
   {
    "duration": 8,
    "start_time": "2023-02-11T06:43:46.285Z"
   },
   {
    "duration": 14,
    "start_time": "2023-02-11T06:43:46.295Z"
   },
   {
    "duration": 6,
    "start_time": "2023-02-11T06:43:46.311Z"
   },
   {
    "duration": 862,
    "start_time": "2023-02-11T06:43:46.319Z"
   },
   {
    "duration": 9,
    "start_time": "2023-02-11T06:43:47.183Z"
   },
   {
    "duration": 348,
    "start_time": "2023-02-11T06:43:47.193Z"
   },
   {
    "duration": 367,
    "start_time": "2023-02-11T06:43:47.545Z"
   },
   {
    "duration": 216,
    "start_time": "2023-02-11T06:43:47.914Z"
   },
   {
    "duration": 265,
    "start_time": "2023-02-11T06:43:48.137Z"
   },
   {
    "duration": 4,
    "start_time": "2023-02-11T06:43:48.403Z"
   },
   {
    "duration": 61,
    "start_time": "2023-02-11T06:43:48.409Z"
   },
   {
    "duration": 20,
    "start_time": "2023-02-11T06:43:48.472Z"
   },
   {
    "duration": 12,
    "start_time": "2023-02-11T06:43:48.494Z"
   },
   {
    "duration": 138,
    "start_time": "2023-02-11T06:43:48.508Z"
   },
   {
    "duration": 28,
    "start_time": "2023-02-11T06:43:48.649Z"
   },
   {
    "duration": 49,
    "start_time": "2023-02-11T06:44:00.767Z"
   },
   {
    "duration": 1420,
    "start_time": "2023-02-11T06:44:05.086Z"
   },
   {
    "duration": 49,
    "start_time": "2023-02-11T06:44:06.508Z"
   },
   {
    "duration": 13,
    "start_time": "2023-02-11T06:44:06.558Z"
   },
   {
    "duration": 9,
    "start_time": "2023-02-11T06:44:06.572Z"
   },
   {
    "duration": 13,
    "start_time": "2023-02-11T06:44:06.584Z"
   },
   {
    "duration": 5,
    "start_time": "2023-02-11T06:44:06.600Z"
   },
   {
    "duration": 771,
    "start_time": "2023-02-11T06:44:06.607Z"
   },
   {
    "duration": 9,
    "start_time": "2023-02-11T06:44:07.380Z"
   },
   {
    "duration": 343,
    "start_time": "2023-02-11T06:44:07.391Z"
   },
   {
    "duration": 322,
    "start_time": "2023-02-11T06:44:07.739Z"
   },
   {
    "duration": 229,
    "start_time": "2023-02-11T06:44:08.063Z"
   },
   {
    "duration": 197,
    "start_time": "2023-02-11T06:44:08.294Z"
   },
   {
    "duration": 5,
    "start_time": "2023-02-11T06:44:08.492Z"
   },
   {
    "duration": 40,
    "start_time": "2023-02-11T06:44:08.499Z"
   },
   {
    "duration": 21,
    "start_time": "2023-02-11T06:44:08.540Z"
   },
   {
    "duration": 5,
    "start_time": "2023-02-11T06:44:08.564Z"
   },
   {
    "duration": 13,
    "start_time": "2023-02-11T06:44:08.570Z"
   },
   {
    "duration": 5,
    "start_time": "2023-02-11T06:44:14.143Z"
   },
   {
    "duration": 56,
    "start_time": "2023-02-11T06:44:29.055Z"
   },
   {
    "duration": 4,
    "start_time": "2023-02-11T06:44:31.799Z"
   },
   {
    "duration": 19,
    "start_time": "2023-02-11T06:44:39.991Z"
   },
   {
    "duration": 4,
    "start_time": "2023-02-11T06:44:41.302Z"
   },
   {
    "duration": 4,
    "start_time": "2023-02-11T06:44:41.647Z"
   },
   {
    "duration": 4,
    "start_time": "2023-02-11T06:44:42.086Z"
   },
   {
    "duration": 4,
    "start_time": "2023-02-11T06:44:49.502Z"
   },
   {
    "duration": 173,
    "start_time": "2023-02-11T06:45:41.077Z"
   },
   {
    "duration": 3,
    "start_time": "2023-02-11T06:45:43.045Z"
   },
   {
    "duration": 177,
    "start_time": "2023-02-11T06:46:28.670Z"
   },
   {
    "duration": 99,
    "start_time": "2023-02-11T06:46:47.557Z"
   },
   {
    "duration": 212,
    "start_time": "2023-02-11T06:46:59.828Z"
   },
   {
    "duration": 18,
    "start_time": "2023-02-11T06:47:43.141Z"
   },
   {
    "duration": 17,
    "start_time": "2023-02-11T06:47:48.492Z"
   },
   {
    "duration": 162,
    "start_time": "2023-02-11T06:47:49.379Z"
   },
   {
    "duration": 45,
    "start_time": "2023-02-11T06:47:59.693Z"
   },
   {
    "duration": 34,
    "start_time": "2023-02-11T06:48:11.115Z"
   },
   {
    "duration": 101,
    "start_time": "2023-02-11T06:48:20.743Z"
   },
   {
    "duration": 82,
    "start_time": "2023-02-11T06:48:28.236Z"
   },
   {
    "duration": 1449,
    "start_time": "2023-02-11T06:48:35.957Z"
   },
   {
    "duration": 51,
    "start_time": "2023-02-11T06:48:37.408Z"
   },
   {
    "duration": 16,
    "start_time": "2023-02-11T06:48:37.460Z"
   },
   {
    "duration": 5,
    "start_time": "2023-02-11T06:48:37.479Z"
   },
   {
    "duration": 15,
    "start_time": "2023-02-11T06:48:37.485Z"
   },
   {
    "duration": 6,
    "start_time": "2023-02-11T06:48:37.501Z"
   },
   {
    "duration": 791,
    "start_time": "2023-02-11T06:48:37.509Z"
   },
   {
    "duration": 9,
    "start_time": "2023-02-11T06:48:38.302Z"
   },
   {
    "duration": 334,
    "start_time": "2023-02-11T06:48:38.313Z"
   },
   {
    "duration": 317,
    "start_time": "2023-02-11T06:48:38.650Z"
   },
   {
    "duration": 218,
    "start_time": "2023-02-11T06:48:38.969Z"
   },
   {
    "duration": 213,
    "start_time": "2023-02-11T06:48:39.189Z"
   },
   {
    "duration": 4,
    "start_time": "2023-02-11T06:48:39.405Z"
   },
   {
    "duration": 44,
    "start_time": "2023-02-11T06:48:39.411Z"
   },
   {
    "duration": 21,
    "start_time": "2023-02-11T06:48:39.457Z"
   },
   {
    "duration": 59,
    "start_time": "2023-02-11T06:48:39.481Z"
   },
   {
    "duration": 97,
    "start_time": "2023-02-11T06:48:39.542Z"
   },
   {
    "duration": 1446,
    "start_time": "2023-02-11T06:59:16.710Z"
   },
   {
    "duration": 49,
    "start_time": "2023-02-11T06:59:18.158Z"
   },
   {
    "duration": 11,
    "start_time": "2023-02-11T06:59:18.209Z"
   },
   {
    "duration": 4,
    "start_time": "2023-02-11T06:59:18.222Z"
   },
   {
    "duration": 13,
    "start_time": "2023-02-11T06:59:18.228Z"
   },
   {
    "duration": 6,
    "start_time": "2023-02-11T06:59:18.243Z"
   },
   {
    "duration": 693,
    "start_time": "2023-02-11T06:59:18.251Z"
   },
   {
    "duration": 8,
    "start_time": "2023-02-11T06:59:18.946Z"
   },
   {
    "duration": 334,
    "start_time": "2023-02-11T06:59:18.956Z"
   },
   {
    "duration": 304,
    "start_time": "2023-02-11T06:59:19.292Z"
   },
   {
    "duration": 169,
    "start_time": "2023-02-11T06:59:19.597Z"
   },
   {
    "duration": 210,
    "start_time": "2023-02-11T06:59:19.767Z"
   },
   {
    "duration": 4,
    "start_time": "2023-02-11T06:59:19.978Z"
   },
   {
    "duration": 25,
    "start_time": "2023-02-11T06:59:19.985Z"
   },
   {
    "duration": 36,
    "start_time": "2023-02-11T06:59:20.012Z"
   },
   {
    "duration": 99,
    "start_time": "2023-02-11T06:59:20.049Z"
   },
   {
    "duration": 13,
    "start_time": "2023-02-11T06:59:20.237Z"
   },
   {
    "duration": 540390,
    "start_time": "2023-02-11T06:59:20.253Z"
   },
   {
    "duration": 94,
    "start_time": "2023-02-11T07:08:20.645Z"
   },
   {
    "duration": 19,
    "start_time": "2023-02-11T07:08:20.741Z"
   },
   {
    "duration": 3,
    "start_time": "2023-02-11T07:16:07.070Z"
   },
   {
    "duration": 241,
    "start_time": "2023-02-11T07:16:18.430Z"
   },
   {
    "duration": 265,
    "start_time": "2023-02-11T07:16:38.438Z"
   },
   {
    "duration": 369,
    "start_time": "2023-02-11T07:17:39.958Z"
   },
   {
    "duration": 287,
    "start_time": "2023-02-11T07:17:54.334Z"
   },
   {
    "duration": 287,
    "start_time": "2023-02-11T07:17:58.221Z"
   },
   {
    "duration": 398,
    "start_time": "2023-02-11T07:18:39.269Z"
   },
   {
    "duration": 301,
    "start_time": "2023-02-11T07:18:46.957Z"
   },
   {
    "duration": 251,
    "start_time": "2023-02-11T07:18:50.046Z"
   },
   {
    "duration": 227,
    "start_time": "2023-02-11T07:18:52.718Z"
   },
   {
    "duration": 196,
    "start_time": "2023-02-11T07:19:09.869Z"
   },
   {
    "duration": 4,
    "start_time": "2023-02-11T07:20:14.725Z"
   },
   {
    "duration": 1481,
    "start_time": "2023-02-11T07:25:06.830Z"
   },
   {
    "duration": 49,
    "start_time": "2023-02-11T07:25:08.313Z"
   },
   {
    "duration": 12,
    "start_time": "2023-02-11T07:25:08.365Z"
   },
   {
    "duration": 10,
    "start_time": "2023-02-11T07:25:08.379Z"
   },
   {
    "duration": 22,
    "start_time": "2023-02-11T07:25:08.391Z"
   },
   {
    "duration": 6,
    "start_time": "2023-02-11T07:25:08.414Z"
   },
   {
    "duration": 711,
    "start_time": "2023-02-11T07:25:08.421Z"
   },
   {
    "duration": 10,
    "start_time": "2023-02-11T07:25:09.134Z"
   },
   {
    "duration": 333,
    "start_time": "2023-02-11T07:25:09.145Z"
   },
   {
    "duration": 297,
    "start_time": "2023-02-11T07:25:09.479Z"
   },
   {
    "duration": 173,
    "start_time": "2023-02-11T07:25:09.778Z"
   },
   {
    "duration": 205,
    "start_time": "2023-02-11T07:25:09.953Z"
   },
   {
    "duration": 4,
    "start_time": "2023-02-11T07:25:10.160Z"
   },
   {
    "duration": 25,
    "start_time": "2023-02-11T07:25:10.166Z"
   },
   {
    "duration": 13,
    "start_time": "2023-02-11T07:25:10.193Z"
   },
   {
    "duration": 137,
    "start_time": "2023-02-11T07:25:10.208Z"
   },
   {
    "duration": 92,
    "start_time": "2023-02-11T07:25:10.347Z"
   },
   {
    "duration": 33405,
    "start_time": "2023-02-11T07:25:10.441Z"
   },
   {
    "duration": 3,
    "start_time": "2023-02-11T07:25:43.848Z"
   },
   {
    "duration": 85,
    "start_time": "2023-02-11T07:25:43.853Z"
   },
   {
    "duration": 304,
    "start_time": "2023-02-11T07:25:43.940Z"
   },
   {
    "duration": 4,
    "start_time": "2023-02-11T07:28:10.884Z"
   },
   {
    "duration": 4,
    "start_time": "2023-02-11T07:28:17.893Z"
   },
   {
    "duration": 4,
    "start_time": "2023-02-11T07:28:24.581Z"
   },
   {
    "duration": 1460,
    "start_time": "2023-02-11T07:28:32.178Z"
   },
   {
    "duration": 48,
    "start_time": "2023-02-11T07:28:33.640Z"
   },
   {
    "duration": 13,
    "start_time": "2023-02-11T07:28:33.689Z"
   },
   {
    "duration": 7,
    "start_time": "2023-02-11T07:28:33.703Z"
   },
   {
    "duration": 21,
    "start_time": "2023-02-11T07:28:33.713Z"
   },
   {
    "duration": 18,
    "start_time": "2023-02-11T07:28:33.736Z"
   },
   {
    "duration": 685,
    "start_time": "2023-02-11T07:28:33.755Z"
   },
   {
    "duration": 8,
    "start_time": "2023-02-11T07:28:34.442Z"
   },
   {
    "duration": 341,
    "start_time": "2023-02-11T07:28:34.452Z"
   },
   {
    "duration": 298,
    "start_time": "2023-02-11T07:28:34.794Z"
   },
   {
    "duration": 178,
    "start_time": "2023-02-11T07:28:35.093Z"
   },
   {
    "duration": 212,
    "start_time": "2023-02-11T07:28:35.273Z"
   },
   {
    "duration": 4,
    "start_time": "2023-02-11T07:28:35.488Z"
   },
   {
    "duration": 25,
    "start_time": "2023-02-11T07:28:35.496Z"
   },
   {
    "duration": 27,
    "start_time": "2023-02-11T07:28:35.522Z"
   },
   {
    "duration": 35,
    "start_time": "2023-02-11T07:28:35.551Z"
   },
   {
    "duration": 56,
    "start_time": "2023-02-11T07:28:35.588Z"
   },
   {
    "duration": 107,
    "start_time": "2023-02-11T07:28:35.747Z"
   },
   {
    "duration": 31783,
    "start_time": "2023-02-11T07:28:35.856Z"
   },
   {
    "duration": 4,
    "start_time": "2023-02-11T07:29:07.640Z"
   },
   {
    "duration": 26,
    "start_time": "2023-02-11T07:29:07.645Z"
   },
   {
    "duration": 300,
    "start_time": "2023-02-11T07:29:07.672Z"
   }
  ],
  "kernelspec": {
   "display_name": "Python 3 (ipykernel)",
   "language": "python",
   "name": "python3"
  },
  "language_info": {
   "codemirror_mode": {
    "name": "ipython",
    "version": 3
   },
   "file_extension": ".py",
   "mimetype": "text/x-python",
   "name": "python",
   "nbconvert_exporter": "python",
   "pygments_lexer": "ipython3",
   "version": "3.11.5"
  },
  "toc": {
   "base_numbering": 1,
   "nav_menu": {},
   "number_sections": true,
   "sideBar": true,
   "skip_h1_title": true,
   "title_cell": "Содержание",
   "title_sidebar": "Contents",
   "toc_cell": true,
   "toc_position": {
    "height": "calc(100% - 180px)",
    "left": "10px",
    "top": "150px",
    "width": "165px"
   },
   "toc_section_display": true,
   "toc_window_display": false
  },
  "vscode": {
   "interpreter": {
    "hash": "a7702ffefebca05d71855339143fd895a8377081b225f602ac1b7cb069098277"
   }
  }
 },
 "nbformat": 4,
 "nbformat_minor": 2
}
